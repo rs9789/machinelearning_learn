{
 "cells": [
  {
   "cell_type": "code",
   "execution_count": 1,
   "metadata": {},
   "outputs": [],
   "source": [
    "import pandas as pd\n",
    "import numpy as np"
   ]
  },
  {
   "cell_type": "code",
   "execution_count": 5,
   "metadata": {},
   "outputs": [],
   "source": [
    "dados = pd.read_csv('../dados/music/Dados_totais.csv')\n",
    "dados_generos = pd.read_csv('../dados/music/data_by_genres.csv')\n",
    "dados_anos = pd.read_csv('../dados/music/data_by_year.csv')"
   ]
  },
  {
   "cell_type": "code",
   "execution_count": 6,
   "metadata": {},
   "outputs": [
    {
     "data": {
      "text/html": [
       "<div>\n",
       "<style scoped>\n",
       "    .dataframe tbody tr th:only-of-type {\n",
       "        vertical-align: middle;\n",
       "    }\n",
       "\n",
       "    .dataframe tbody tr th {\n",
       "        vertical-align: top;\n",
       "    }\n",
       "\n",
       "    .dataframe thead th {\n",
       "        text-align: right;\n",
       "    }\n",
       "</style>\n",
       "<table border=\"1\" class=\"dataframe\">\n",
       "  <thead>\n",
       "    <tr style=\"text-align: right;\">\n",
       "      <th></th>\n",
       "      <th>valence</th>\n",
       "      <th>year</th>\n",
       "      <th>acousticness</th>\n",
       "      <th>artists</th>\n",
       "      <th>danceability</th>\n",
       "      <th>duration_ms</th>\n",
       "      <th>energy</th>\n",
       "      <th>explicit</th>\n",
       "      <th>id</th>\n",
       "      <th>instrumentalness</th>\n",
       "      <th>key</th>\n",
       "      <th>liveness</th>\n",
       "      <th>loudness</th>\n",
       "      <th>mode</th>\n",
       "      <th>name</th>\n",
       "      <th>popularity</th>\n",
       "      <th>speechiness</th>\n",
       "      <th>tempo</th>\n",
       "      <th>artists_song</th>\n",
       "    </tr>\n",
       "  </thead>\n",
       "  <tbody>\n",
       "    <tr>\n",
       "      <th>0</th>\n",
       "      <td>0.285</td>\n",
       "      <td>2000</td>\n",
       "      <td>0.002390</td>\n",
       "      <td>Coldplay</td>\n",
       "      <td>0.429</td>\n",
       "      <td>266773</td>\n",
       "      <td>0.661</td>\n",
       "      <td>0</td>\n",
       "      <td>3AJwUDP919kvQ9QcozQPxg</td>\n",
       "      <td>0.000121</td>\n",
       "      <td>11</td>\n",
       "      <td>0.2340</td>\n",
       "      <td>-7.227</td>\n",
       "      <td>1</td>\n",
       "      <td>Yellow</td>\n",
       "      <td>84</td>\n",
       "      <td>0.0281</td>\n",
       "      <td>173.372</td>\n",
       "      <td>Coldplay - Yellow</td>\n",
       "    </tr>\n",
       "    <tr>\n",
       "      <th>1</th>\n",
       "      <td>0.613</td>\n",
       "      <td>2000</td>\n",
       "      <td>0.143000</td>\n",
       "      <td>OutKast</td>\n",
       "      <td>0.843</td>\n",
       "      <td>270507</td>\n",
       "      <td>0.806</td>\n",
       "      <td>1</td>\n",
       "      <td>0I3q5fE6wg7LIfHGngUTnV</td>\n",
       "      <td>0.000000</td>\n",
       "      <td>4</td>\n",
       "      <td>0.0771</td>\n",
       "      <td>-5.946</td>\n",
       "      <td>0</td>\n",
       "      <td>Ms. Jackson</td>\n",
       "      <td>80</td>\n",
       "      <td>0.2690</td>\n",
       "      <td>94.948</td>\n",
       "      <td>OutKast - Ms. Jackson</td>\n",
       "    </tr>\n",
       "    <tr>\n",
       "      <th>2</th>\n",
       "      <td>0.400</td>\n",
       "      <td>2000</td>\n",
       "      <td>0.009580</td>\n",
       "      <td>Linkin Park</td>\n",
       "      <td>0.556</td>\n",
       "      <td>216880</td>\n",
       "      <td>0.864</td>\n",
       "      <td>0</td>\n",
       "      <td>60a0Rd6pjrkxjPbaKzXjfq</td>\n",
       "      <td>0.000000</td>\n",
       "      <td>3</td>\n",
       "      <td>0.2090</td>\n",
       "      <td>-5.870</td>\n",
       "      <td>0</td>\n",
       "      <td>In the End</td>\n",
       "      <td>84</td>\n",
       "      <td>0.0584</td>\n",
       "      <td>105.143</td>\n",
       "      <td>Linkin Park - In the End</td>\n",
       "    </tr>\n",
       "    <tr>\n",
       "      <th>3</th>\n",
       "      <td>0.543</td>\n",
       "      <td>2000</td>\n",
       "      <td>0.006640</td>\n",
       "      <td>3 Doors Down</td>\n",
       "      <td>0.545</td>\n",
       "      <td>233933</td>\n",
       "      <td>0.865</td>\n",
       "      <td>0</td>\n",
       "      <td>6ZOBP3NvffbU4SZcrnt1k6</td>\n",
       "      <td>0.000011</td>\n",
       "      <td>11</td>\n",
       "      <td>0.1680</td>\n",
       "      <td>-5.708</td>\n",
       "      <td>0</td>\n",
       "      <td>Kryptonite</td>\n",
       "      <td>78</td>\n",
       "      <td>0.0286</td>\n",
       "      <td>99.009</td>\n",
       "      <td>3 Doors Down - Kryptonite</td>\n",
       "    </tr>\n",
       "    <tr>\n",
       "      <th>4</th>\n",
       "      <td>0.760</td>\n",
       "      <td>2000</td>\n",
       "      <td>0.030200</td>\n",
       "      <td>Eminem</td>\n",
       "      <td>0.949</td>\n",
       "      <td>284200</td>\n",
       "      <td>0.661</td>\n",
       "      <td>1</td>\n",
       "      <td>3yfqSUWxFvZELEM4PmlwIR</td>\n",
       "      <td>0.000000</td>\n",
       "      <td>5</td>\n",
       "      <td>0.0454</td>\n",
       "      <td>-4.244</td>\n",
       "      <td>0</td>\n",
       "      <td>The Real Slim Shady</td>\n",
       "      <td>80</td>\n",
       "      <td>0.0572</td>\n",
       "      <td>104.504</td>\n",
       "      <td>Eminem - The Real Slim Shady</td>\n",
       "    </tr>\n",
       "    <tr>\n",
       "      <th>5</th>\n",
       "      <td>0.941</td>\n",
       "      <td>2000</td>\n",
       "      <td>0.000996</td>\n",
       "      <td>Disturbed</td>\n",
       "      <td>0.695</td>\n",
       "      <td>279213</td>\n",
       "      <td>0.876</td>\n",
       "      <td>1</td>\n",
       "      <td>40rvBMQizxkIqnjPdEWY1v</td>\n",
       "      <td>0.000007</td>\n",
       "      <td>3</td>\n",
       "      <td>0.1060</td>\n",
       "      <td>-4.262</td>\n",
       "      <td>0</td>\n",
       "      <td>Down with the Sickness</td>\n",
       "      <td>76</td>\n",
       "      <td>0.0553</td>\n",
       "      <td>89.954</td>\n",
       "      <td>Disturbed - Down with the Sickness</td>\n",
       "    </tr>\n",
       "    <tr>\n",
       "      <th>6</th>\n",
       "      <td>0.722</td>\n",
       "      <td>2000</td>\n",
       "      <td>0.061600</td>\n",
       "      <td>Nelly</td>\n",
       "      <td>0.850</td>\n",
       "      <td>291782</td>\n",
       "      <td>0.700</td>\n",
       "      <td>1</td>\n",
       "      <td>3Gf5nttwcX9aaSQXRWidEZ</td>\n",
       "      <td>0.000002</td>\n",
       "      <td>7</td>\n",
       "      <td>0.2440</td>\n",
       "      <td>-6.490</td>\n",
       "      <td>1</td>\n",
       "      <td>Ride Wit Me</td>\n",
       "      <td>74</td>\n",
       "      <td>0.0478</td>\n",
       "      <td>101.875</td>\n",
       "      <td>Nelly - Ride Wit Me</td>\n",
       "    </tr>\n",
       "    <tr>\n",
       "      <th>7</th>\n",
       "      <td>0.507</td>\n",
       "      <td>2000</td>\n",
       "      <td>0.037100</td>\n",
       "      <td>Eminem</td>\n",
       "      <td>0.780</td>\n",
       "      <td>404107</td>\n",
       "      <td>0.768</td>\n",
       "      <td>1</td>\n",
       "      <td>3UmaczJpikHgJFyBTAJVoz</td>\n",
       "      <td>0.000002</td>\n",
       "      <td>6</td>\n",
       "      <td>0.5180</td>\n",
       "      <td>-4.325</td>\n",
       "      <td>0</td>\n",
       "      <td>Stan</td>\n",
       "      <td>78</td>\n",
       "      <td>0.2380</td>\n",
       "      <td>80.063</td>\n",
       "      <td>Eminem - Stan</td>\n",
       "    </tr>\n",
       "    <tr>\n",
       "      <th>8</th>\n",
       "      <td>0.861</td>\n",
       "      <td>2000</td>\n",
       "      <td>0.031000</td>\n",
       "      <td>*NSYNC</td>\n",
       "      <td>0.610</td>\n",
       "      <td>200400</td>\n",
       "      <td>0.926</td>\n",
       "      <td>0</td>\n",
       "      <td>62bOmKYxYg7dhrC6gH9vFn</td>\n",
       "      <td>0.001200</td>\n",
       "      <td>8</td>\n",
       "      <td>0.0821</td>\n",
       "      <td>-4.843</td>\n",
       "      <td>0</td>\n",
       "      <td>Bye Bye Bye</td>\n",
       "      <td>71</td>\n",
       "      <td>0.0479</td>\n",
       "      <td>172.638</td>\n",
       "      <td>*NSYNC - Bye Bye Bye</td>\n",
       "    </tr>\n",
       "    <tr>\n",
       "      <th>9</th>\n",
       "      <td>0.894</td>\n",
       "      <td>2000</td>\n",
       "      <td>0.300000</td>\n",
       "      <td>Britney Spears</td>\n",
       "      <td>0.751</td>\n",
       "      <td>211160</td>\n",
       "      <td>0.834</td>\n",
       "      <td>0</td>\n",
       "      <td>6naxalmIoLFWR0siv8dnQQ</td>\n",
       "      <td>0.000018</td>\n",
       "      <td>1</td>\n",
       "      <td>0.3550</td>\n",
       "      <td>-5.444</td>\n",
       "      <td>0</td>\n",
       "      <td>Oops!...I Did It Again</td>\n",
       "      <td>78</td>\n",
       "      <td>0.0437</td>\n",
       "      <td>95.053</td>\n",
       "      <td>Britney Spears - Oops!...I Did It Again</td>\n",
       "    </tr>\n",
       "  </tbody>\n",
       "</table>\n",
       "</div>"
      ],
      "text/plain": [
       "   valence  year  acousticness         artists  danceability  duration_ms  \\\n",
       "0    0.285  2000      0.002390        Coldplay         0.429       266773   \n",
       "1    0.613  2000      0.143000         OutKast         0.843       270507   \n",
       "2    0.400  2000      0.009580     Linkin Park         0.556       216880   \n",
       "3    0.543  2000      0.006640    3 Doors Down         0.545       233933   \n",
       "4    0.760  2000      0.030200          Eminem         0.949       284200   \n",
       "5    0.941  2000      0.000996       Disturbed         0.695       279213   \n",
       "6    0.722  2000      0.061600           Nelly         0.850       291782   \n",
       "7    0.507  2000      0.037100          Eminem         0.780       404107   \n",
       "8    0.861  2000      0.031000          *NSYNC         0.610       200400   \n",
       "9    0.894  2000      0.300000  Britney Spears         0.751       211160   \n",
       "\n",
       "   energy  explicit                      id  instrumentalness  key  liveness  \\\n",
       "0   0.661         0  3AJwUDP919kvQ9QcozQPxg          0.000121   11    0.2340   \n",
       "1   0.806         1  0I3q5fE6wg7LIfHGngUTnV          0.000000    4    0.0771   \n",
       "2   0.864         0  60a0Rd6pjrkxjPbaKzXjfq          0.000000    3    0.2090   \n",
       "3   0.865         0  6ZOBP3NvffbU4SZcrnt1k6          0.000011   11    0.1680   \n",
       "4   0.661         1  3yfqSUWxFvZELEM4PmlwIR          0.000000    5    0.0454   \n",
       "5   0.876         1  40rvBMQizxkIqnjPdEWY1v          0.000007    3    0.1060   \n",
       "6   0.700         1  3Gf5nttwcX9aaSQXRWidEZ          0.000002    7    0.2440   \n",
       "7   0.768         1  3UmaczJpikHgJFyBTAJVoz          0.000002    6    0.5180   \n",
       "8   0.926         0  62bOmKYxYg7dhrC6gH9vFn          0.001200    8    0.0821   \n",
       "9   0.834         0  6naxalmIoLFWR0siv8dnQQ          0.000018    1    0.3550   \n",
       "\n",
       "   loudness  mode                    name  popularity  speechiness    tempo  \\\n",
       "0    -7.227     1                  Yellow          84       0.0281  173.372   \n",
       "1    -5.946     0             Ms. Jackson          80       0.2690   94.948   \n",
       "2    -5.870     0              In the End          84       0.0584  105.143   \n",
       "3    -5.708     0              Kryptonite          78       0.0286   99.009   \n",
       "4    -4.244     0     The Real Slim Shady          80       0.0572  104.504   \n",
       "5    -4.262     0  Down with the Sickness          76       0.0553   89.954   \n",
       "6    -6.490     1             Ride Wit Me          74       0.0478  101.875   \n",
       "7    -4.325     0                    Stan          78       0.2380   80.063   \n",
       "8    -4.843     0             Bye Bye Bye          71       0.0479  172.638   \n",
       "9    -5.444     0  Oops!...I Did It Again          78       0.0437   95.053   \n",
       "\n",
       "                              artists_song  \n",
       "0                        Coldplay - Yellow  \n",
       "1                    OutKast - Ms. Jackson  \n",
       "2                 Linkin Park - In the End  \n",
       "3                3 Doors Down - Kryptonite  \n",
       "4             Eminem - The Real Slim Shady  \n",
       "5       Disturbed - Down with the Sickness  \n",
       "6                      Nelly - Ride Wit Me  \n",
       "7                            Eminem - Stan  \n",
       "8                     *NSYNC - Bye Bye Bye  \n",
       "9  Britney Spears - Oops!...I Did It Again  "
      ]
     },
     "execution_count": 6,
     "metadata": {},
     "output_type": "execute_result"
    }
   ],
   "source": [
    "dados.head(10)"
   ]
  },
  {
   "cell_type": "code",
   "execution_count": 7,
   "metadata": {},
   "outputs": [
    {
     "data": {
      "text/plain": [
       "array([2000, 2001, 2002, 2003, 2004, 2005, 2006, 2007, 2008, 2009, 2010,\n",
       "       2011, 2012, 2013, 2014, 2015, 2016, 2017, 2018, 2019, 2020])"
      ]
     },
     "execution_count": 7,
     "metadata": {},
     "output_type": "execute_result"
    }
   ],
   "source": [
    "dados.year.unique()"
   ]
  },
  {
   "cell_type": "code",
   "execution_count": 8,
   "metadata": {},
   "outputs": [
    {
     "data": {
      "text/plain": [
       "(20311, 19)"
      ]
     },
     "execution_count": 8,
     "metadata": {},
     "output_type": "execute_result"
    }
   ],
   "source": [
    "dados.shape"
   ]
  },
  {
   "cell_type": "code",
   "execution_count": 9,
   "metadata": {},
   "outputs": [
    {
     "data": {
      "text/html": [
       "<div>\n",
       "<style scoped>\n",
       "    .dataframe tbody tr th:only-of-type {\n",
       "        vertical-align: middle;\n",
       "    }\n",
       "\n",
       "    .dataframe tbody tr th {\n",
       "        vertical-align: top;\n",
       "    }\n",
       "\n",
       "    .dataframe thead th {\n",
       "        text-align: right;\n",
       "    }\n",
       "</style>\n",
       "<table border=\"1\" class=\"dataframe\">\n",
       "  <thead>\n",
       "    <tr style=\"text-align: right;\">\n",
       "      <th></th>\n",
       "      <th>valence</th>\n",
       "      <th>year</th>\n",
       "      <th>acousticness</th>\n",
       "      <th>artists</th>\n",
       "      <th>danceability</th>\n",
       "      <th>duration_ms</th>\n",
       "      <th>energy</th>\n",
       "      <th>id</th>\n",
       "      <th>instrumentalness</th>\n",
       "      <th>liveness</th>\n",
       "      <th>loudness</th>\n",
       "      <th>name</th>\n",
       "      <th>popularity</th>\n",
       "      <th>speechiness</th>\n",
       "      <th>tempo</th>\n",
       "      <th>artists_song</th>\n",
       "    </tr>\n",
       "  </thead>\n",
       "  <tbody>\n",
       "    <tr>\n",
       "      <th>0</th>\n",
       "      <td>0.285</td>\n",
       "      <td>2000</td>\n",
       "      <td>0.00239</td>\n",
       "      <td>Coldplay</td>\n",
       "      <td>0.429</td>\n",
       "      <td>266773</td>\n",
       "      <td>0.661</td>\n",
       "      <td>3AJwUDP919kvQ9QcozQPxg</td>\n",
       "      <td>0.000121</td>\n",
       "      <td>0.2340</td>\n",
       "      <td>-7.227</td>\n",
       "      <td>Yellow</td>\n",
       "      <td>84</td>\n",
       "      <td>0.0281</td>\n",
       "      <td>173.372</td>\n",
       "      <td>Coldplay - Yellow</td>\n",
       "    </tr>\n",
       "    <tr>\n",
       "      <th>1</th>\n",
       "      <td>0.613</td>\n",
       "      <td>2000</td>\n",
       "      <td>0.14300</td>\n",
       "      <td>OutKast</td>\n",
       "      <td>0.843</td>\n",
       "      <td>270507</td>\n",
       "      <td>0.806</td>\n",
       "      <td>0I3q5fE6wg7LIfHGngUTnV</td>\n",
       "      <td>0.000000</td>\n",
       "      <td>0.0771</td>\n",
       "      <td>-5.946</td>\n",
       "      <td>Ms. Jackson</td>\n",
       "      <td>80</td>\n",
       "      <td>0.2690</td>\n",
       "      <td>94.948</td>\n",
       "      <td>OutKast - Ms. Jackson</td>\n",
       "    </tr>\n",
       "    <tr>\n",
       "      <th>2</th>\n",
       "      <td>0.400</td>\n",
       "      <td>2000</td>\n",
       "      <td>0.00958</td>\n",
       "      <td>Linkin Park</td>\n",
       "      <td>0.556</td>\n",
       "      <td>216880</td>\n",
       "      <td>0.864</td>\n",
       "      <td>60a0Rd6pjrkxjPbaKzXjfq</td>\n",
       "      <td>0.000000</td>\n",
       "      <td>0.2090</td>\n",
       "      <td>-5.870</td>\n",
       "      <td>In the End</td>\n",
       "      <td>84</td>\n",
       "      <td>0.0584</td>\n",
       "      <td>105.143</td>\n",
       "      <td>Linkin Park - In the End</td>\n",
       "    </tr>\n",
       "    <tr>\n",
       "      <th>3</th>\n",
       "      <td>0.543</td>\n",
       "      <td>2000</td>\n",
       "      <td>0.00664</td>\n",
       "      <td>3 Doors Down</td>\n",
       "      <td>0.545</td>\n",
       "      <td>233933</td>\n",
       "      <td>0.865</td>\n",
       "      <td>6ZOBP3NvffbU4SZcrnt1k6</td>\n",
       "      <td>0.000011</td>\n",
       "      <td>0.1680</td>\n",
       "      <td>-5.708</td>\n",
       "      <td>Kryptonite</td>\n",
       "      <td>78</td>\n",
       "      <td>0.0286</td>\n",
       "      <td>99.009</td>\n",
       "      <td>3 Doors Down - Kryptonite</td>\n",
       "    </tr>\n",
       "    <tr>\n",
       "      <th>4</th>\n",
       "      <td>0.760</td>\n",
       "      <td>2000</td>\n",
       "      <td>0.03020</td>\n",
       "      <td>Eminem</td>\n",
       "      <td>0.949</td>\n",
       "      <td>284200</td>\n",
       "      <td>0.661</td>\n",
       "      <td>3yfqSUWxFvZELEM4PmlwIR</td>\n",
       "      <td>0.000000</td>\n",
       "      <td>0.0454</td>\n",
       "      <td>-4.244</td>\n",
       "      <td>The Real Slim Shady</td>\n",
       "      <td>80</td>\n",
       "      <td>0.0572</td>\n",
       "      <td>104.504</td>\n",
       "      <td>Eminem - The Real Slim Shady</td>\n",
       "    </tr>\n",
       "  </tbody>\n",
       "</table>\n",
       "</div>"
      ],
      "text/plain": [
       "   valence  year  acousticness       artists  danceability  duration_ms  \\\n",
       "0    0.285  2000       0.00239      Coldplay         0.429       266773   \n",
       "1    0.613  2000       0.14300       OutKast         0.843       270507   \n",
       "2    0.400  2000       0.00958   Linkin Park         0.556       216880   \n",
       "3    0.543  2000       0.00664  3 Doors Down         0.545       233933   \n",
       "4    0.760  2000       0.03020        Eminem         0.949       284200   \n",
       "\n",
       "   energy                      id  instrumentalness  liveness  loudness  \\\n",
       "0   0.661  3AJwUDP919kvQ9QcozQPxg          0.000121    0.2340    -7.227   \n",
       "1   0.806  0I3q5fE6wg7LIfHGngUTnV          0.000000    0.0771    -5.946   \n",
       "2   0.864  60a0Rd6pjrkxjPbaKzXjfq          0.000000    0.2090    -5.870   \n",
       "3   0.865  6ZOBP3NvffbU4SZcrnt1k6          0.000011    0.1680    -5.708   \n",
       "4   0.661  3yfqSUWxFvZELEM4PmlwIR          0.000000    0.0454    -4.244   \n",
       "\n",
       "                  name  popularity  speechiness    tempo  \\\n",
       "0               Yellow          84       0.0281  173.372   \n",
       "1          Ms. Jackson          80       0.2690   94.948   \n",
       "2           In the End          84       0.0584  105.143   \n",
       "3           Kryptonite          78       0.0286   99.009   \n",
       "4  The Real Slim Shady          80       0.0572  104.504   \n",
       "\n",
       "                   artists_song  \n",
       "0             Coldplay - Yellow  \n",
       "1         OutKast - Ms. Jackson  \n",
       "2      Linkin Park - In the End  \n",
       "3     3 Doors Down - Kryptonite  \n",
       "4  Eminem - The Real Slim Shady  "
      ]
     },
     "execution_count": 9,
     "metadata": {},
     "output_type": "execute_result"
    }
   ],
   "source": [
    "dados = dados.drop(columns=['explicit', 'key', 'mode'], axis =1)\n",
    "dados.head()"
   ]
  },
  {
   "cell_type": "code",
   "execution_count": 10,
   "metadata": {},
   "outputs": [
    {
     "data": {
      "text/plain": [
       "valence             0\n",
       "year                0\n",
       "acousticness        0\n",
       "artists             0\n",
       "danceability        0\n",
       "duration_ms         0\n",
       "energy              0\n",
       "id                  0\n",
       "instrumentalness    0\n",
       "liveness            0\n",
       "loudness            0\n",
       "name                0\n",
       "popularity          0\n",
       "speechiness         0\n",
       "tempo               0\n",
       "artists_song        0\n",
       "dtype: int64"
      ]
     },
     "execution_count": 10,
     "metadata": {},
     "output_type": "execute_result"
    }
   ],
   "source": [
    "dados.isnull().sum()"
   ]
  },
  {
   "cell_type": "code",
   "execution_count": 11,
   "metadata": {},
   "outputs": [
    {
     "data": {
      "text/plain": [
       "valence             0\n",
       "year                0\n",
       "acousticness        0\n",
       "artists             0\n",
       "danceability        0\n",
       "duration_ms         0\n",
       "energy              0\n",
       "id                  0\n",
       "instrumentalness    0\n",
       "liveness            0\n",
       "loudness            0\n",
       "name                0\n",
       "popularity          0\n",
       "speechiness         0\n",
       "tempo               0\n",
       "artists_song        0\n",
       "dtype: int64"
      ]
     },
     "execution_count": 11,
     "metadata": {},
     "output_type": "execute_result"
    }
   ],
   "source": [
    "dados.isna().sum()"
   ]
  },
  {
   "cell_type": "markdown",
   "metadata": {},
   "source": [
    "# Visualizando dados_generos"
   ]
  },
  {
   "cell_type": "code",
   "execution_count": 12,
   "metadata": {},
   "outputs": [
    {
     "data": {
      "text/html": [
       "<div>\n",
       "<style scoped>\n",
       "    .dataframe tbody tr th:only-of-type {\n",
       "        vertical-align: middle;\n",
       "    }\n",
       "\n",
       "    .dataframe tbody tr th {\n",
       "        vertical-align: top;\n",
       "    }\n",
       "\n",
       "    .dataframe thead th {\n",
       "        text-align: right;\n",
       "    }\n",
       "</style>\n",
       "<table border=\"1\" class=\"dataframe\">\n",
       "  <thead>\n",
       "    <tr style=\"text-align: right;\">\n",
       "      <th></th>\n",
       "      <th>mode</th>\n",
       "      <th>genres</th>\n",
       "      <th>acousticness</th>\n",
       "      <th>danceability</th>\n",
       "      <th>duration_ms</th>\n",
       "      <th>energy</th>\n",
       "      <th>instrumentalness</th>\n",
       "      <th>liveness</th>\n",
       "      <th>loudness</th>\n",
       "      <th>speechiness</th>\n",
       "      <th>tempo</th>\n",
       "      <th>valence</th>\n",
       "      <th>popularity</th>\n",
       "      <th>key</th>\n",
       "    </tr>\n",
       "  </thead>\n",
       "  <tbody>\n",
       "    <tr>\n",
       "      <th>0</th>\n",
       "      <td>1</td>\n",
       "      <td>21st century classical</td>\n",
       "      <td>0.979333</td>\n",
       "      <td>0.162883</td>\n",
       "      <td>1.602977e+05</td>\n",
       "      <td>0.071317</td>\n",
       "      <td>0.606834</td>\n",
       "      <td>0.361600</td>\n",
       "      <td>-31.514333</td>\n",
       "      <td>0.040567</td>\n",
       "      <td>75.336500</td>\n",
       "      <td>0.103783</td>\n",
       "      <td>27.833333</td>\n",
       "      <td>6</td>\n",
       "    </tr>\n",
       "    <tr>\n",
       "      <th>1</th>\n",
       "      <td>1</td>\n",
       "      <td>432hz</td>\n",
       "      <td>0.494780</td>\n",
       "      <td>0.299333</td>\n",
       "      <td>1.048887e+06</td>\n",
       "      <td>0.450678</td>\n",
       "      <td>0.477762</td>\n",
       "      <td>0.131000</td>\n",
       "      <td>-16.854000</td>\n",
       "      <td>0.076817</td>\n",
       "      <td>120.285667</td>\n",
       "      <td>0.221750</td>\n",
       "      <td>52.500000</td>\n",
       "      <td>5</td>\n",
       "    </tr>\n",
       "    <tr>\n",
       "      <th>2</th>\n",
       "      <td>1</td>\n",
       "      <td>8-bit</td>\n",
       "      <td>0.762000</td>\n",
       "      <td>0.712000</td>\n",
       "      <td>1.151770e+05</td>\n",
       "      <td>0.818000</td>\n",
       "      <td>0.876000</td>\n",
       "      <td>0.126000</td>\n",
       "      <td>-9.180000</td>\n",
       "      <td>0.047000</td>\n",
       "      <td>133.444000</td>\n",
       "      <td>0.975000</td>\n",
       "      <td>48.000000</td>\n",
       "      <td>7</td>\n",
       "    </tr>\n",
       "    <tr>\n",
       "      <th>3</th>\n",
       "      <td>1</td>\n",
       "      <td>[]</td>\n",
       "      <td>0.651417</td>\n",
       "      <td>0.529093</td>\n",
       "      <td>2.328809e+05</td>\n",
       "      <td>0.419146</td>\n",
       "      <td>0.205309</td>\n",
       "      <td>0.218696</td>\n",
       "      <td>-12.288965</td>\n",
       "      <td>0.107872</td>\n",
       "      <td>112.857352</td>\n",
       "      <td>0.513604</td>\n",
       "      <td>20.859882</td>\n",
       "      <td>7</td>\n",
       "    </tr>\n",
       "    <tr>\n",
       "      <th>4</th>\n",
       "      <td>1</td>\n",
       "      <td>a cappella</td>\n",
       "      <td>0.676557</td>\n",
       "      <td>0.538961</td>\n",
       "      <td>1.906285e+05</td>\n",
       "      <td>0.316434</td>\n",
       "      <td>0.003003</td>\n",
       "      <td>0.172254</td>\n",
       "      <td>-12.479387</td>\n",
       "      <td>0.082851</td>\n",
       "      <td>112.110362</td>\n",
       "      <td>0.448249</td>\n",
       "      <td>45.820071</td>\n",
       "      <td>7</td>\n",
       "    </tr>\n",
       "    <tr>\n",
       "      <th>5</th>\n",
       "      <td>1</td>\n",
       "      <td>abstract</td>\n",
       "      <td>0.459210</td>\n",
       "      <td>0.516167</td>\n",
       "      <td>3.431965e+05</td>\n",
       "      <td>0.442417</td>\n",
       "      <td>0.849667</td>\n",
       "      <td>0.118067</td>\n",
       "      <td>-15.472083</td>\n",
       "      <td>0.046517</td>\n",
       "      <td>127.885750</td>\n",
       "      <td>0.307325</td>\n",
       "      <td>43.500000</td>\n",
       "      <td>1</td>\n",
       "    </tr>\n",
       "    <tr>\n",
       "      <th>6</th>\n",
       "      <td>1</td>\n",
       "      <td>abstract beats</td>\n",
       "      <td>0.342147</td>\n",
       "      <td>0.623000</td>\n",
       "      <td>2.299362e+05</td>\n",
       "      <td>0.527800</td>\n",
       "      <td>0.333603</td>\n",
       "      <td>0.099653</td>\n",
       "      <td>-7.918000</td>\n",
       "      <td>0.116373</td>\n",
       "      <td>112.413800</td>\n",
       "      <td>0.493507</td>\n",
       "      <td>58.933333</td>\n",
       "      <td>10</td>\n",
       "    </tr>\n",
       "    <tr>\n",
       "      <th>7</th>\n",
       "      <td>1</td>\n",
       "      <td>abstract hip hop</td>\n",
       "      <td>0.243854</td>\n",
       "      <td>0.694571</td>\n",
       "      <td>2.318492e+05</td>\n",
       "      <td>0.646235</td>\n",
       "      <td>0.024231</td>\n",
       "      <td>0.168543</td>\n",
       "      <td>-7.349328</td>\n",
       "      <td>0.214258</td>\n",
       "      <td>108.244987</td>\n",
       "      <td>0.571391</td>\n",
       "      <td>39.790702</td>\n",
       "      <td>2</td>\n",
       "    </tr>\n",
       "    <tr>\n",
       "      <th>8</th>\n",
       "      <td>0</td>\n",
       "      <td>accordeon</td>\n",
       "      <td>0.323000</td>\n",
       "      <td>0.588000</td>\n",
       "      <td>1.640000e+05</td>\n",
       "      <td>0.392000</td>\n",
       "      <td>0.441000</td>\n",
       "      <td>0.079400</td>\n",
       "      <td>-14.899000</td>\n",
       "      <td>0.072700</td>\n",
       "      <td>109.131000</td>\n",
       "      <td>0.709000</td>\n",
       "      <td>39.000000</td>\n",
       "      <td>2</td>\n",
       "    </tr>\n",
       "    <tr>\n",
       "      <th>9</th>\n",
       "      <td>1</td>\n",
       "      <td>accordion</td>\n",
       "      <td>0.446125</td>\n",
       "      <td>0.624812</td>\n",
       "      <td>1.670616e+05</td>\n",
       "      <td>0.373437</td>\n",
       "      <td>0.193738</td>\n",
       "      <td>0.160300</td>\n",
       "      <td>-14.487063</td>\n",
       "      <td>0.078537</td>\n",
       "      <td>112.872438</td>\n",
       "      <td>0.658688</td>\n",
       "      <td>21.937500</td>\n",
       "      <td>2</td>\n",
       "    </tr>\n",
       "  </tbody>\n",
       "</table>\n",
       "</div>"
      ],
      "text/plain": [
       "   mode                  genres  acousticness  danceability   duration_ms  \\\n",
       "0     1  21st century classical      0.979333      0.162883  1.602977e+05   \n",
       "1     1                   432hz      0.494780      0.299333  1.048887e+06   \n",
       "2     1                   8-bit      0.762000      0.712000  1.151770e+05   \n",
       "3     1                      []      0.651417      0.529093  2.328809e+05   \n",
       "4     1              a cappella      0.676557      0.538961  1.906285e+05   \n",
       "5     1                abstract      0.459210      0.516167  3.431965e+05   \n",
       "6     1          abstract beats      0.342147      0.623000  2.299362e+05   \n",
       "7     1        abstract hip hop      0.243854      0.694571  2.318492e+05   \n",
       "8     0               accordeon      0.323000      0.588000  1.640000e+05   \n",
       "9     1               accordion      0.446125      0.624812  1.670616e+05   \n",
       "\n",
       "     energy  instrumentalness  liveness   loudness  speechiness       tempo  \\\n",
       "0  0.071317          0.606834  0.361600 -31.514333     0.040567   75.336500   \n",
       "1  0.450678          0.477762  0.131000 -16.854000     0.076817  120.285667   \n",
       "2  0.818000          0.876000  0.126000  -9.180000     0.047000  133.444000   \n",
       "3  0.419146          0.205309  0.218696 -12.288965     0.107872  112.857352   \n",
       "4  0.316434          0.003003  0.172254 -12.479387     0.082851  112.110362   \n",
       "5  0.442417          0.849667  0.118067 -15.472083     0.046517  127.885750   \n",
       "6  0.527800          0.333603  0.099653  -7.918000     0.116373  112.413800   \n",
       "7  0.646235          0.024231  0.168543  -7.349328     0.214258  108.244987   \n",
       "8  0.392000          0.441000  0.079400 -14.899000     0.072700  109.131000   \n",
       "9  0.373437          0.193738  0.160300 -14.487063     0.078537  112.872438   \n",
       "\n",
       "    valence  popularity  key  \n",
       "0  0.103783   27.833333    6  \n",
       "1  0.221750   52.500000    5  \n",
       "2  0.975000   48.000000    7  \n",
       "3  0.513604   20.859882    7  \n",
       "4  0.448249   45.820071    7  \n",
       "5  0.307325   43.500000    1  \n",
       "6  0.493507   58.933333   10  \n",
       "7  0.571391   39.790702    2  \n",
       "8  0.709000   39.000000    2  \n",
       "9  0.658688   21.937500    2  "
      ]
     },
     "execution_count": 12,
     "metadata": {},
     "output_type": "execute_result"
    }
   ],
   "source": [
    "dados_generos.head(10)"
   ]
  },
  {
   "cell_type": "code",
   "execution_count": 13,
   "metadata": {},
   "outputs": [
    {
     "data": {
      "text/html": [
       "<div>\n",
       "<style scoped>\n",
       "    .dataframe tbody tr th:only-of-type {\n",
       "        vertical-align: middle;\n",
       "    }\n",
       "\n",
       "    .dataframe tbody tr th {\n",
       "        vertical-align: top;\n",
       "    }\n",
       "\n",
       "    .dataframe thead th {\n",
       "        text-align: right;\n",
       "    }\n",
       "</style>\n",
       "<table border=\"1\" class=\"dataframe\">\n",
       "  <thead>\n",
       "    <tr style=\"text-align: right;\">\n",
       "      <th></th>\n",
       "      <th>genres</th>\n",
       "      <th>acousticness</th>\n",
       "      <th>danceability</th>\n",
       "      <th>duration_ms</th>\n",
       "      <th>energy</th>\n",
       "      <th>instrumentalness</th>\n",
       "      <th>liveness</th>\n",
       "      <th>loudness</th>\n",
       "      <th>speechiness</th>\n",
       "      <th>tempo</th>\n",
       "      <th>valence</th>\n",
       "      <th>popularity</th>\n",
       "    </tr>\n",
       "  </thead>\n",
       "  <tbody>\n",
       "    <tr>\n",
       "      <th>0</th>\n",
       "      <td>21st century classical</td>\n",
       "      <td>0.979333</td>\n",
       "      <td>0.162883</td>\n",
       "      <td>1.602977e+05</td>\n",
       "      <td>0.071317</td>\n",
       "      <td>0.606834</td>\n",
       "      <td>0.361600</td>\n",
       "      <td>-31.514333</td>\n",
       "      <td>0.040567</td>\n",
       "      <td>75.336500</td>\n",
       "      <td>0.103783</td>\n",
       "      <td>27.833333</td>\n",
       "    </tr>\n",
       "    <tr>\n",
       "      <th>1</th>\n",
       "      <td>432hz</td>\n",
       "      <td>0.494780</td>\n",
       "      <td>0.299333</td>\n",
       "      <td>1.048887e+06</td>\n",
       "      <td>0.450678</td>\n",
       "      <td>0.477762</td>\n",
       "      <td>0.131000</td>\n",
       "      <td>-16.854000</td>\n",
       "      <td>0.076817</td>\n",
       "      <td>120.285667</td>\n",
       "      <td>0.221750</td>\n",
       "      <td>52.500000</td>\n",
       "    </tr>\n",
       "    <tr>\n",
       "      <th>2</th>\n",
       "      <td>8-bit</td>\n",
       "      <td>0.762000</td>\n",
       "      <td>0.712000</td>\n",
       "      <td>1.151770e+05</td>\n",
       "      <td>0.818000</td>\n",
       "      <td>0.876000</td>\n",
       "      <td>0.126000</td>\n",
       "      <td>-9.180000</td>\n",
       "      <td>0.047000</td>\n",
       "      <td>133.444000</td>\n",
       "      <td>0.975000</td>\n",
       "      <td>48.000000</td>\n",
       "    </tr>\n",
       "    <tr>\n",
       "      <th>3</th>\n",
       "      <td>[]</td>\n",
       "      <td>0.651417</td>\n",
       "      <td>0.529093</td>\n",
       "      <td>2.328809e+05</td>\n",
       "      <td>0.419146</td>\n",
       "      <td>0.205309</td>\n",
       "      <td>0.218696</td>\n",
       "      <td>-12.288965</td>\n",
       "      <td>0.107872</td>\n",
       "      <td>112.857352</td>\n",
       "      <td>0.513604</td>\n",
       "      <td>20.859882</td>\n",
       "    </tr>\n",
       "    <tr>\n",
       "      <th>4</th>\n",
       "      <td>a cappella</td>\n",
       "      <td>0.676557</td>\n",
       "      <td>0.538961</td>\n",
       "      <td>1.906285e+05</td>\n",
       "      <td>0.316434</td>\n",
       "      <td>0.003003</td>\n",
       "      <td>0.172254</td>\n",
       "      <td>-12.479387</td>\n",
       "      <td>0.082851</td>\n",
       "      <td>112.110362</td>\n",
       "      <td>0.448249</td>\n",
       "      <td>45.820071</td>\n",
       "    </tr>\n",
       "  </tbody>\n",
       "</table>\n",
       "</div>"
      ],
      "text/plain": [
       "                   genres  acousticness  danceability   duration_ms    energy  \\\n",
       "0  21st century classical      0.979333      0.162883  1.602977e+05  0.071317   \n",
       "1                   432hz      0.494780      0.299333  1.048887e+06  0.450678   \n",
       "2                   8-bit      0.762000      0.712000  1.151770e+05  0.818000   \n",
       "3                      []      0.651417      0.529093  2.328809e+05  0.419146   \n",
       "4              a cappella      0.676557      0.538961  1.906285e+05  0.316434   \n",
       "\n",
       "   instrumentalness  liveness   loudness  speechiness       tempo   valence  \\\n",
       "0          0.606834  0.361600 -31.514333     0.040567   75.336500  0.103783   \n",
       "1          0.477762  0.131000 -16.854000     0.076817  120.285667  0.221750   \n",
       "2          0.876000  0.126000  -9.180000     0.047000  133.444000  0.975000   \n",
       "3          0.205309  0.218696 -12.288965     0.107872  112.857352  0.513604   \n",
       "4          0.003003  0.172254 -12.479387     0.082851  112.110362  0.448249   \n",
       "\n",
       "   popularity  \n",
       "0   27.833333  \n",
       "1   52.500000  \n",
       "2   48.000000  \n",
       "3   20.859882  \n",
       "4   45.820071  "
      ]
     },
     "execution_count": 13,
     "metadata": {},
     "output_type": "execute_result"
    }
   ],
   "source": [
    "dados_generos = dados_generos.drop(columns=['mode', 'key'], axis =1)\n",
    "dados_generos.head()"
   ]
  },
  {
   "cell_type": "code",
   "execution_count": 14,
   "metadata": {},
   "outputs": [
    {
     "data": {
      "text/plain": [
       "genres              0\n",
       "acousticness        0\n",
       "danceability        0\n",
       "duration_ms         0\n",
       "energy              0\n",
       "instrumentalness    0\n",
       "liveness            0\n",
       "loudness            0\n",
       "speechiness         0\n",
       "tempo               0\n",
       "valence             0\n",
       "popularity          0\n",
       "dtype: int64"
      ]
     },
     "execution_count": 14,
     "metadata": {},
     "output_type": "execute_result"
    }
   ],
   "source": [
    "dados_generos.isnull().sum()"
   ]
  },
  {
   "cell_type": "code",
   "execution_count": 15,
   "metadata": {},
   "outputs": [
    {
     "data": {
      "text/plain": [
       "genres              0\n",
       "acousticness        0\n",
       "danceability        0\n",
       "duration_ms         0\n",
       "energy              0\n",
       "instrumentalness    0\n",
       "liveness            0\n",
       "loudness            0\n",
       "speechiness         0\n",
       "tempo               0\n",
       "valence             0\n",
       "popularity          0\n",
       "dtype: int64"
      ]
     },
     "execution_count": 15,
     "metadata": {},
     "output_type": "execute_result"
    }
   ],
   "source": [
    "dados_generos.isna().sum()"
   ]
  },
  {
   "cell_type": "markdown",
   "metadata": {},
   "source": [
    "# Visualizando dados_anos"
   ]
  },
  {
   "cell_type": "code",
   "execution_count": 16,
   "metadata": {},
   "outputs": [
    {
     "data": {
      "text/html": [
       "<div>\n",
       "<style scoped>\n",
       "    .dataframe tbody tr th:only-of-type {\n",
       "        vertical-align: middle;\n",
       "    }\n",
       "\n",
       "    .dataframe tbody tr th {\n",
       "        vertical-align: top;\n",
       "    }\n",
       "\n",
       "    .dataframe thead th {\n",
       "        text-align: right;\n",
       "    }\n",
       "</style>\n",
       "<table border=\"1\" class=\"dataframe\">\n",
       "  <thead>\n",
       "    <tr style=\"text-align: right;\">\n",
       "      <th></th>\n",
       "      <th>mode</th>\n",
       "      <th>year</th>\n",
       "      <th>acousticness</th>\n",
       "      <th>danceability</th>\n",
       "      <th>duration_ms</th>\n",
       "      <th>energy</th>\n",
       "      <th>instrumentalness</th>\n",
       "      <th>liveness</th>\n",
       "      <th>loudness</th>\n",
       "      <th>speechiness</th>\n",
       "      <th>tempo</th>\n",
       "      <th>valence</th>\n",
       "      <th>popularity</th>\n",
       "      <th>key</th>\n",
       "    </tr>\n",
       "  </thead>\n",
       "  <tbody>\n",
       "    <tr>\n",
       "      <th>0</th>\n",
       "      <td>1</td>\n",
       "      <td>1921</td>\n",
       "      <td>0.886896</td>\n",
       "      <td>0.418597</td>\n",
       "      <td>260537.166667</td>\n",
       "      <td>0.231815</td>\n",
       "      <td>0.344878</td>\n",
       "      <td>0.205710</td>\n",
       "      <td>-17.048667</td>\n",
       "      <td>0.073662</td>\n",
       "      <td>101.531493</td>\n",
       "      <td>0.379327</td>\n",
       "      <td>0.653333</td>\n",
       "      <td>2</td>\n",
       "    </tr>\n",
       "    <tr>\n",
       "      <th>1</th>\n",
       "      <td>1</td>\n",
       "      <td>1922</td>\n",
       "      <td>0.938592</td>\n",
       "      <td>0.482042</td>\n",
       "      <td>165469.746479</td>\n",
       "      <td>0.237815</td>\n",
       "      <td>0.434195</td>\n",
       "      <td>0.240720</td>\n",
       "      <td>-19.275282</td>\n",
       "      <td>0.116655</td>\n",
       "      <td>100.884521</td>\n",
       "      <td>0.535549</td>\n",
       "      <td>0.140845</td>\n",
       "      <td>10</td>\n",
       "    </tr>\n",
       "    <tr>\n",
       "      <th>2</th>\n",
       "      <td>1</td>\n",
       "      <td>1923</td>\n",
       "      <td>0.957247</td>\n",
       "      <td>0.577341</td>\n",
       "      <td>177942.362162</td>\n",
       "      <td>0.262406</td>\n",
       "      <td>0.371733</td>\n",
       "      <td>0.227462</td>\n",
       "      <td>-14.129211</td>\n",
       "      <td>0.093949</td>\n",
       "      <td>114.010730</td>\n",
       "      <td>0.625492</td>\n",
       "      <td>5.389189</td>\n",
       "      <td>0</td>\n",
       "    </tr>\n",
       "    <tr>\n",
       "      <th>3</th>\n",
       "      <td>1</td>\n",
       "      <td>1924</td>\n",
       "      <td>0.940200</td>\n",
       "      <td>0.549894</td>\n",
       "      <td>191046.707627</td>\n",
       "      <td>0.344347</td>\n",
       "      <td>0.581701</td>\n",
       "      <td>0.235219</td>\n",
       "      <td>-14.231343</td>\n",
       "      <td>0.092089</td>\n",
       "      <td>120.689572</td>\n",
       "      <td>0.663725</td>\n",
       "      <td>0.661017</td>\n",
       "      <td>10</td>\n",
       "    </tr>\n",
       "    <tr>\n",
       "      <th>4</th>\n",
       "      <td>1</td>\n",
       "      <td>1925</td>\n",
       "      <td>0.962607</td>\n",
       "      <td>0.573863</td>\n",
       "      <td>184986.924460</td>\n",
       "      <td>0.278594</td>\n",
       "      <td>0.418297</td>\n",
       "      <td>0.237668</td>\n",
       "      <td>-14.146414</td>\n",
       "      <td>0.111918</td>\n",
       "      <td>115.521921</td>\n",
       "      <td>0.621929</td>\n",
       "      <td>2.604317</td>\n",
       "      <td>5</td>\n",
       "    </tr>\n",
       "    <tr>\n",
       "      <th>5</th>\n",
       "      <td>1</td>\n",
       "      <td>1926</td>\n",
       "      <td>0.660817</td>\n",
       "      <td>0.599880</td>\n",
       "      <td>156881.657475</td>\n",
       "      <td>0.211467</td>\n",
       "      <td>0.333093</td>\n",
       "      <td>0.232370</td>\n",
       "      <td>-18.492538</td>\n",
       "      <td>0.483704</td>\n",
       "      <td>109.648033</td>\n",
       "      <td>0.436910</td>\n",
       "      <td>1.422351</td>\n",
       "      <td>9</td>\n",
       "    </tr>\n",
       "    <tr>\n",
       "      <th>6</th>\n",
       "      <td>1</td>\n",
       "      <td>1927</td>\n",
       "      <td>0.936179</td>\n",
       "      <td>0.648268</td>\n",
       "      <td>184993.598374</td>\n",
       "      <td>0.264321</td>\n",
       "      <td>0.391328</td>\n",
       "      <td>0.168450</td>\n",
       "      <td>-14.422374</td>\n",
       "      <td>0.113610</td>\n",
       "      <td>114.846524</td>\n",
       "      <td>0.659700</td>\n",
       "      <td>0.801626</td>\n",
       "      <td>7</td>\n",
       "    </tr>\n",
       "    <tr>\n",
       "      <th>7</th>\n",
       "      <td>1</td>\n",
       "      <td>1928</td>\n",
       "      <td>0.938617</td>\n",
       "      <td>0.534288</td>\n",
       "      <td>214827.906423</td>\n",
       "      <td>0.207948</td>\n",
       "      <td>0.494835</td>\n",
       "      <td>0.175289</td>\n",
       "      <td>-17.191983</td>\n",
       "      <td>0.159911</td>\n",
       "      <td>106.772262</td>\n",
       "      <td>0.495713</td>\n",
       "      <td>1.525773</td>\n",
       "      <td>1</td>\n",
       "    </tr>\n",
       "    <tr>\n",
       "      <th>8</th>\n",
       "      <td>1</td>\n",
       "      <td>1929</td>\n",
       "      <td>0.601427</td>\n",
       "      <td>0.647670</td>\n",
       "      <td>168999.412815</td>\n",
       "      <td>0.241801</td>\n",
       "      <td>0.215204</td>\n",
       "      <td>0.236000</td>\n",
       "      <td>-16.530376</td>\n",
       "      <td>0.490001</td>\n",
       "      <td>110.948357</td>\n",
       "      <td>0.636530</td>\n",
       "      <td>0.340336</td>\n",
       "      <td>7</td>\n",
       "    </tr>\n",
       "    <tr>\n",
       "      <th>9</th>\n",
       "      <td>1</td>\n",
       "      <td>1930</td>\n",
       "      <td>0.936715</td>\n",
       "      <td>0.518176</td>\n",
       "      <td>195150.285343</td>\n",
       "      <td>0.333524</td>\n",
       "      <td>0.352206</td>\n",
       "      <td>0.221311</td>\n",
       "      <td>-12.869221</td>\n",
       "      <td>0.119910</td>\n",
       "      <td>109.871194</td>\n",
       "      <td>0.616238</td>\n",
       "      <td>0.926715</td>\n",
       "      <td>2</td>\n",
       "    </tr>\n",
       "  </tbody>\n",
       "</table>\n",
       "</div>"
      ],
      "text/plain": [
       "   mode  year  acousticness  danceability    duration_ms    energy  \\\n",
       "0     1  1921      0.886896      0.418597  260537.166667  0.231815   \n",
       "1     1  1922      0.938592      0.482042  165469.746479  0.237815   \n",
       "2     1  1923      0.957247      0.577341  177942.362162  0.262406   \n",
       "3     1  1924      0.940200      0.549894  191046.707627  0.344347   \n",
       "4     1  1925      0.962607      0.573863  184986.924460  0.278594   \n",
       "5     1  1926      0.660817      0.599880  156881.657475  0.211467   \n",
       "6     1  1927      0.936179      0.648268  184993.598374  0.264321   \n",
       "7     1  1928      0.938617      0.534288  214827.906423  0.207948   \n",
       "8     1  1929      0.601427      0.647670  168999.412815  0.241801   \n",
       "9     1  1930      0.936715      0.518176  195150.285343  0.333524   \n",
       "\n",
       "   instrumentalness  liveness   loudness  speechiness       tempo   valence  \\\n",
       "0          0.344878  0.205710 -17.048667     0.073662  101.531493  0.379327   \n",
       "1          0.434195  0.240720 -19.275282     0.116655  100.884521  0.535549   \n",
       "2          0.371733  0.227462 -14.129211     0.093949  114.010730  0.625492   \n",
       "3          0.581701  0.235219 -14.231343     0.092089  120.689572  0.663725   \n",
       "4          0.418297  0.237668 -14.146414     0.111918  115.521921  0.621929   \n",
       "5          0.333093  0.232370 -18.492538     0.483704  109.648033  0.436910   \n",
       "6          0.391328  0.168450 -14.422374     0.113610  114.846524  0.659700   \n",
       "7          0.494835  0.175289 -17.191983     0.159911  106.772262  0.495713   \n",
       "8          0.215204  0.236000 -16.530376     0.490001  110.948357  0.636530   \n",
       "9          0.352206  0.221311 -12.869221     0.119910  109.871194  0.616238   \n",
       "\n",
       "   popularity  key  \n",
       "0    0.653333    2  \n",
       "1    0.140845   10  \n",
       "2    5.389189    0  \n",
       "3    0.661017   10  \n",
       "4    2.604317    5  \n",
       "5    1.422351    9  \n",
       "6    0.801626    7  \n",
       "7    1.525773    1  \n",
       "8    0.340336    7  \n",
       "9    0.926715    2  "
      ]
     },
     "execution_count": 16,
     "metadata": {},
     "output_type": "execute_result"
    }
   ],
   "source": [
    "dados_anos.head(10)"
   ]
  },
  {
   "cell_type": "code",
   "execution_count": 17,
   "metadata": {},
   "outputs": [
    {
     "data": {
      "text/html": [
       "<div>\n",
       "<style scoped>\n",
       "    .dataframe tbody tr th:only-of-type {\n",
       "        vertical-align: middle;\n",
       "    }\n",
       "\n",
       "    .dataframe tbody tr th {\n",
       "        vertical-align: top;\n",
       "    }\n",
       "\n",
       "    .dataframe thead th {\n",
       "        text-align: right;\n",
       "    }\n",
       "</style>\n",
       "<table border=\"1\" class=\"dataframe\">\n",
       "  <thead>\n",
       "    <tr style=\"text-align: right;\">\n",
       "      <th></th>\n",
       "      <th>year</th>\n",
       "      <th>acousticness</th>\n",
       "      <th>danceability</th>\n",
       "      <th>duration_ms</th>\n",
       "      <th>energy</th>\n",
       "      <th>instrumentalness</th>\n",
       "      <th>liveness</th>\n",
       "      <th>loudness</th>\n",
       "      <th>speechiness</th>\n",
       "      <th>tempo</th>\n",
       "      <th>valence</th>\n",
       "      <th>popularity</th>\n",
       "    </tr>\n",
       "  </thead>\n",
       "  <tbody>\n",
       "    <tr>\n",
       "      <th>0</th>\n",
       "      <td>1921</td>\n",
       "      <td>0.886896</td>\n",
       "      <td>0.418597</td>\n",
       "      <td>260537.166667</td>\n",
       "      <td>0.231815</td>\n",
       "      <td>0.344878</td>\n",
       "      <td>0.205710</td>\n",
       "      <td>-17.048667</td>\n",
       "      <td>0.073662</td>\n",
       "      <td>101.531493</td>\n",
       "      <td>0.379327</td>\n",
       "      <td>0.653333</td>\n",
       "    </tr>\n",
       "    <tr>\n",
       "      <th>1</th>\n",
       "      <td>1922</td>\n",
       "      <td>0.938592</td>\n",
       "      <td>0.482042</td>\n",
       "      <td>165469.746479</td>\n",
       "      <td>0.237815</td>\n",
       "      <td>0.434195</td>\n",
       "      <td>0.240720</td>\n",
       "      <td>-19.275282</td>\n",
       "      <td>0.116655</td>\n",
       "      <td>100.884521</td>\n",
       "      <td>0.535549</td>\n",
       "      <td>0.140845</td>\n",
       "    </tr>\n",
       "    <tr>\n",
       "      <th>2</th>\n",
       "      <td>1923</td>\n",
       "      <td>0.957247</td>\n",
       "      <td>0.577341</td>\n",
       "      <td>177942.362162</td>\n",
       "      <td>0.262406</td>\n",
       "      <td>0.371733</td>\n",
       "      <td>0.227462</td>\n",
       "      <td>-14.129211</td>\n",
       "      <td>0.093949</td>\n",
       "      <td>114.010730</td>\n",
       "      <td>0.625492</td>\n",
       "      <td>5.389189</td>\n",
       "    </tr>\n",
       "    <tr>\n",
       "      <th>3</th>\n",
       "      <td>1924</td>\n",
       "      <td>0.940200</td>\n",
       "      <td>0.549894</td>\n",
       "      <td>191046.707627</td>\n",
       "      <td>0.344347</td>\n",
       "      <td>0.581701</td>\n",
       "      <td>0.235219</td>\n",
       "      <td>-14.231343</td>\n",
       "      <td>0.092089</td>\n",
       "      <td>120.689572</td>\n",
       "      <td>0.663725</td>\n",
       "      <td>0.661017</td>\n",
       "    </tr>\n",
       "    <tr>\n",
       "      <th>4</th>\n",
       "      <td>1925</td>\n",
       "      <td>0.962607</td>\n",
       "      <td>0.573863</td>\n",
       "      <td>184986.924460</td>\n",
       "      <td>0.278594</td>\n",
       "      <td>0.418297</td>\n",
       "      <td>0.237668</td>\n",
       "      <td>-14.146414</td>\n",
       "      <td>0.111918</td>\n",
       "      <td>115.521921</td>\n",
       "      <td>0.621929</td>\n",
       "      <td>2.604317</td>\n",
       "    </tr>\n",
       "  </tbody>\n",
       "</table>\n",
       "</div>"
      ],
      "text/plain": [
       "   year  acousticness  danceability    duration_ms    energy  \\\n",
       "0  1921      0.886896      0.418597  260537.166667  0.231815   \n",
       "1  1922      0.938592      0.482042  165469.746479  0.237815   \n",
       "2  1923      0.957247      0.577341  177942.362162  0.262406   \n",
       "3  1924      0.940200      0.549894  191046.707627  0.344347   \n",
       "4  1925      0.962607      0.573863  184986.924460  0.278594   \n",
       "\n",
       "   instrumentalness  liveness   loudness  speechiness       tempo   valence  \\\n",
       "0          0.344878  0.205710 -17.048667     0.073662  101.531493  0.379327   \n",
       "1          0.434195  0.240720 -19.275282     0.116655  100.884521  0.535549   \n",
       "2          0.371733  0.227462 -14.129211     0.093949  114.010730  0.625492   \n",
       "3          0.581701  0.235219 -14.231343     0.092089  120.689572  0.663725   \n",
       "4          0.418297  0.237668 -14.146414     0.111918  115.521921  0.621929   \n",
       "\n",
       "   popularity  \n",
       "0    0.653333  \n",
       "1    0.140845  \n",
       "2    5.389189  \n",
       "3    0.661017  \n",
       "4    2.604317  "
      ]
     },
     "execution_count": 17,
     "metadata": {},
     "output_type": "execute_result"
    }
   ],
   "source": [
    "dados_anos = dados_anos.drop(columns=['mode', 'key'], axis=1)\n",
    "dados_anos.head()"
   ]
  },
  {
   "cell_type": "code",
   "execution_count": 18,
   "metadata": {},
   "outputs": [
    {
     "data": {
      "text/html": [
       "<div>\n",
       "<style scoped>\n",
       "    .dataframe tbody tr th:only-of-type {\n",
       "        vertical-align: middle;\n",
       "    }\n",
       "\n",
       "    .dataframe tbody tr th {\n",
       "        vertical-align: top;\n",
       "    }\n",
       "\n",
       "    .dataframe thead th {\n",
       "        text-align: right;\n",
       "    }\n",
       "</style>\n",
       "<table border=\"1\" class=\"dataframe\">\n",
       "  <thead>\n",
       "    <tr style=\"text-align: right;\">\n",
       "      <th></th>\n",
       "      <th>year</th>\n",
       "      <th>acousticness</th>\n",
       "      <th>danceability</th>\n",
       "      <th>duration_ms</th>\n",
       "      <th>energy</th>\n",
       "      <th>instrumentalness</th>\n",
       "      <th>liveness</th>\n",
       "      <th>loudness</th>\n",
       "      <th>speechiness</th>\n",
       "      <th>tempo</th>\n",
       "      <th>valence</th>\n",
       "      <th>popularity</th>\n",
       "    </tr>\n",
       "  </thead>\n",
       "  <tbody>\n",
       "    <tr>\n",
       "      <th>79</th>\n",
       "      <td>2000</td>\n",
       "      <td>0.289323</td>\n",
       "      <td>0.590918</td>\n",
       "      <td>242724.642638</td>\n",
       "      <td>0.625413</td>\n",
       "      <td>0.101168</td>\n",
       "      <td>0.197686</td>\n",
       "      <td>-8.247766</td>\n",
       "      <td>0.089205</td>\n",
       "      <td>118.999323</td>\n",
       "      <td>0.559475</td>\n",
       "      <td>46.684049</td>\n",
       "    </tr>\n",
       "    <tr>\n",
       "      <th>80</th>\n",
       "      <td>2001</td>\n",
       "      <td>0.286842</td>\n",
       "      <td>0.583318</td>\n",
       "      <td>240307.796010</td>\n",
       "      <td>0.626986</td>\n",
       "      <td>0.107214</td>\n",
       "      <td>0.187026</td>\n",
       "      <td>-8.305095</td>\n",
       "      <td>0.089182</td>\n",
       "      <td>117.765399</td>\n",
       "      <td>0.541479</td>\n",
       "      <td>48.750125</td>\n",
       "    </tr>\n",
       "    <tr>\n",
       "      <th>81</th>\n",
       "      <td>2002</td>\n",
       "      <td>0.282624</td>\n",
       "      <td>0.576160</td>\n",
       "      <td>239503.283000</td>\n",
       "      <td>0.641270</td>\n",
       "      <td>0.088048</td>\n",
       "      <td>0.193911</td>\n",
       "      <td>-7.686640</td>\n",
       "      <td>0.084308</td>\n",
       "      <td>119.239738</td>\n",
       "      <td>0.542397</td>\n",
       "      <td>48.655500</td>\n",
       "    </tr>\n",
       "    <tr>\n",
       "      <th>82</th>\n",
       "      <td>2003</td>\n",
       "      <td>0.256471</td>\n",
       "      <td>0.575763</td>\n",
       "      <td>244670.575230</td>\n",
       "      <td>0.660165</td>\n",
       "      <td>0.083049</td>\n",
       "      <td>0.196976</td>\n",
       "      <td>-7.485545</td>\n",
       "      <td>0.093926</td>\n",
       "      <td>120.914622</td>\n",
       "      <td>0.530504</td>\n",
       "      <td>48.626407</td>\n",
       "    </tr>\n",
       "    <tr>\n",
       "      <th>83</th>\n",
       "      <td>2004</td>\n",
       "      <td>0.280559</td>\n",
       "      <td>0.567680</td>\n",
       "      <td>237378.708037</td>\n",
       "      <td>0.648868</td>\n",
       "      <td>0.077934</td>\n",
       "      <td>0.202199</td>\n",
       "      <td>-7.601655</td>\n",
       "      <td>0.094239</td>\n",
       "      <td>121.290346</td>\n",
       "      <td>0.524489</td>\n",
       "      <td>49.273143</td>\n",
       "    </tr>\n",
       "  </tbody>\n",
       "</table>\n",
       "</div>"
      ],
      "text/plain": [
       "    year  acousticness  danceability    duration_ms    energy  \\\n",
       "79  2000      0.289323      0.590918  242724.642638  0.625413   \n",
       "80  2001      0.286842      0.583318  240307.796010  0.626986   \n",
       "81  2002      0.282624      0.576160  239503.283000  0.641270   \n",
       "82  2003      0.256471      0.575763  244670.575230  0.660165   \n",
       "83  2004      0.280559      0.567680  237378.708037  0.648868   \n",
       "\n",
       "    instrumentalness  liveness  loudness  speechiness       tempo   valence  \\\n",
       "79          0.101168  0.197686 -8.247766     0.089205  118.999323  0.559475   \n",
       "80          0.107214  0.187026 -8.305095     0.089182  117.765399  0.541479   \n",
       "81          0.088048  0.193911 -7.686640     0.084308  119.239738  0.542397   \n",
       "82          0.083049  0.196976 -7.485545     0.093926  120.914622  0.530504   \n",
       "83          0.077934  0.202199 -7.601655     0.094239  121.290346  0.524489   \n",
       "\n",
       "    popularity  \n",
       "79   46.684049  \n",
       "80   48.750125  \n",
       "81   48.655500  \n",
       "82   48.626407  \n",
       "83   49.273143  "
      ]
     },
     "execution_count": 18,
     "metadata": {},
     "output_type": "execute_result"
    }
   ],
   "source": [
    "# pegando somente os dados dos anos que são maiores ou iguais a 2000\n",
    "dados_anos = dados_anos[dados_anos['year'] >=2000]\n",
    "dados_anos.head()"
   ]
  },
  {
   "cell_type": "code",
   "execution_count": 19,
   "metadata": {},
   "outputs": [],
   "source": [
    "#resetando o index dos dados_anos\n",
    "dados_anos.reset_index(inplace=True)"
   ]
  },
  {
   "cell_type": "code",
   "execution_count": 20,
   "metadata": {},
   "outputs": [
    {
     "data": {
      "text/html": [
       "<div>\n",
       "<style scoped>\n",
       "    .dataframe tbody tr th:only-of-type {\n",
       "        vertical-align: middle;\n",
       "    }\n",
       "\n",
       "    .dataframe tbody tr th {\n",
       "        vertical-align: top;\n",
       "    }\n",
       "\n",
       "    .dataframe thead th {\n",
       "        text-align: right;\n",
       "    }\n",
       "</style>\n",
       "<table border=\"1\" class=\"dataframe\">\n",
       "  <thead>\n",
       "    <tr style=\"text-align: right;\">\n",
       "      <th></th>\n",
       "      <th>index</th>\n",
       "      <th>year</th>\n",
       "      <th>acousticness</th>\n",
       "      <th>danceability</th>\n",
       "      <th>duration_ms</th>\n",
       "      <th>energy</th>\n",
       "      <th>instrumentalness</th>\n",
       "      <th>liveness</th>\n",
       "      <th>loudness</th>\n",
       "      <th>speechiness</th>\n",
       "      <th>tempo</th>\n",
       "      <th>valence</th>\n",
       "      <th>popularity</th>\n",
       "    </tr>\n",
       "  </thead>\n",
       "  <tbody>\n",
       "    <tr>\n",
       "      <th>0</th>\n",
       "      <td>79</td>\n",
       "      <td>2000</td>\n",
       "      <td>0.289323</td>\n",
       "      <td>0.590918</td>\n",
       "      <td>242724.642638</td>\n",
       "      <td>0.625413</td>\n",
       "      <td>0.101168</td>\n",
       "      <td>0.197686</td>\n",
       "      <td>-8.247766</td>\n",
       "      <td>0.089205</td>\n",
       "      <td>118.999323</td>\n",
       "      <td>0.559475</td>\n",
       "      <td>46.684049</td>\n",
       "    </tr>\n",
       "    <tr>\n",
       "      <th>1</th>\n",
       "      <td>80</td>\n",
       "      <td>2001</td>\n",
       "      <td>0.286842</td>\n",
       "      <td>0.583318</td>\n",
       "      <td>240307.796010</td>\n",
       "      <td>0.626986</td>\n",
       "      <td>0.107214</td>\n",
       "      <td>0.187026</td>\n",
       "      <td>-8.305095</td>\n",
       "      <td>0.089182</td>\n",
       "      <td>117.765399</td>\n",
       "      <td>0.541479</td>\n",
       "      <td>48.750125</td>\n",
       "    </tr>\n",
       "    <tr>\n",
       "      <th>2</th>\n",
       "      <td>81</td>\n",
       "      <td>2002</td>\n",
       "      <td>0.282624</td>\n",
       "      <td>0.576160</td>\n",
       "      <td>239503.283000</td>\n",
       "      <td>0.641270</td>\n",
       "      <td>0.088048</td>\n",
       "      <td>0.193911</td>\n",
       "      <td>-7.686640</td>\n",
       "      <td>0.084308</td>\n",
       "      <td>119.239738</td>\n",
       "      <td>0.542397</td>\n",
       "      <td>48.655500</td>\n",
       "    </tr>\n",
       "    <tr>\n",
       "      <th>3</th>\n",
       "      <td>82</td>\n",
       "      <td>2003</td>\n",
       "      <td>0.256471</td>\n",
       "      <td>0.575763</td>\n",
       "      <td>244670.575230</td>\n",
       "      <td>0.660165</td>\n",
       "      <td>0.083049</td>\n",
       "      <td>0.196976</td>\n",
       "      <td>-7.485545</td>\n",
       "      <td>0.093926</td>\n",
       "      <td>120.914622</td>\n",
       "      <td>0.530504</td>\n",
       "      <td>48.626407</td>\n",
       "    </tr>\n",
       "    <tr>\n",
       "      <th>4</th>\n",
       "      <td>83</td>\n",
       "      <td>2004</td>\n",
       "      <td>0.280559</td>\n",
       "      <td>0.567680</td>\n",
       "      <td>237378.708037</td>\n",
       "      <td>0.648868</td>\n",
       "      <td>0.077934</td>\n",
       "      <td>0.202199</td>\n",
       "      <td>-7.601655</td>\n",
       "      <td>0.094239</td>\n",
       "      <td>121.290346</td>\n",
       "      <td>0.524489</td>\n",
       "      <td>49.273143</td>\n",
       "    </tr>\n",
       "  </tbody>\n",
       "</table>\n",
       "</div>"
      ],
      "text/plain": [
       "   index  year  acousticness  danceability    duration_ms    energy  \\\n",
       "0     79  2000      0.289323      0.590918  242724.642638  0.625413   \n",
       "1     80  2001      0.286842      0.583318  240307.796010  0.626986   \n",
       "2     81  2002      0.282624      0.576160  239503.283000  0.641270   \n",
       "3     82  2003      0.256471      0.575763  244670.575230  0.660165   \n",
       "4     83  2004      0.280559      0.567680  237378.708037  0.648868   \n",
       "\n",
       "   instrumentalness  liveness  loudness  speechiness       tempo   valence  \\\n",
       "0          0.101168  0.197686 -8.247766     0.089205  118.999323  0.559475   \n",
       "1          0.107214  0.187026 -8.305095     0.089182  117.765399  0.541479   \n",
       "2          0.088048  0.193911 -7.686640     0.084308  119.239738  0.542397   \n",
       "3          0.083049  0.196976 -7.485545     0.093926  120.914622  0.530504   \n",
       "4          0.077934  0.202199 -7.601655     0.094239  121.290346  0.524489   \n",
       "\n",
       "   popularity  \n",
       "0   46.684049  \n",
       "1   48.750125  \n",
       "2   48.655500  \n",
       "3   48.626407  \n",
       "4   49.273143  "
      ]
     },
     "execution_count": 20,
     "metadata": {},
     "output_type": "execute_result"
    }
   ],
   "source": [
    "dados_anos.head()"
   ]
  },
  {
   "cell_type": "code",
   "execution_count": 21,
   "metadata": {},
   "outputs": [
    {
     "data": {
      "text/plain": [
       "index               0\n",
       "year                0\n",
       "acousticness        0\n",
       "danceability        0\n",
       "duration_ms         0\n",
       "energy              0\n",
       "instrumentalness    0\n",
       "liveness            0\n",
       "loudness            0\n",
       "speechiness         0\n",
       "tempo               0\n",
       "valence             0\n",
       "popularity          0\n",
       "dtype: int64"
      ]
     },
     "execution_count": 21,
     "metadata": {},
     "output_type": "execute_result"
    }
   ],
   "source": [
    "dados_anos.isnull().sum()"
   ]
  },
  {
   "cell_type": "code",
   "execution_count": 22,
   "metadata": {},
   "outputs": [
    {
     "data": {
      "text/plain": [
       "index               0\n",
       "year                0\n",
       "acousticness        0\n",
       "danceability        0\n",
       "duration_ms         0\n",
       "energy              0\n",
       "instrumentalness    0\n",
       "liveness            0\n",
       "loudness            0\n",
       "speechiness         0\n",
       "tempo               0\n",
       "valence             0\n",
       "popularity          0\n",
       "dtype: int64"
      ]
     },
     "execution_count": 22,
     "metadata": {},
     "output_type": "execute_result"
    }
   ],
   "source": [
    "dados_anos.isna().sum()"
   ]
  },
  {
   "cell_type": "markdown",
   "metadata": {},
   "source": [
    "# Visualização gráfica"
   ]
  },
  {
   "cell_type": "code",
   "execution_count": 23,
   "metadata": {},
   "outputs": [],
   "source": [
    "import plotly.express as px"
   ]
  },
  {
   "cell_type": "code",
   "execution_count": 24,
   "metadata": {},
   "outputs": [
    {
     "data": {
      "application/vnd.plotly.v1+json": {
       "config": {
        "plotlyServerURL": "https://plot.ly"
       },
       "data": [
        {
         "hovertemplate": "year=%{x}<br>loudness=%{y}<extra></extra>",
         "legendgroup": "",
         "line": {
          "color": "#636efa",
          "dash": "solid"
         },
         "marker": {
          "symbol": "circle"
         },
         "mode": "markers+lines",
         "name": "",
         "orientation": "v",
         "showlegend": false,
         "type": "scatter",
         "x": [
          2000,
          2001,
          2002,
          2003,
          2004,
          2005,
          2006,
          2007,
          2008,
          2009,
          2010,
          2011,
          2012,
          2013,
          2014,
          2015,
          2016,
          2017,
          2018,
          2019,
          2020
         ],
         "xaxis": "x",
         "y": [
          -8.247765848670758,
          -8.305095261845384,
          -7.686639500000013,
          -7.485545035823955,
          -7.601655137334684,
          -7.46615897435897,
          -7.265500512820514,
          -7.044535897435892,
          -6.8438040920716166,
          -7.0460147959183645,
          -6.9099042658730125,
          -7.574986117997006,
          -7.260549614395888,
          -7.472039473684207,
          -7.06743990024938,
          -7.625639311043569,
          -8.061056204785759,
          -8.31262951807228,
          -7.168785068949124,
          -7.722191893278596,
          -6.595066995073878
         ],
         "yaxis": "y"
        }
       ],
       "layout": {
        "legend": {
         "tracegroupgap": 0
        },
        "template": {
         "data": {
          "bar": [
           {
            "error_x": {
             "color": "#2a3f5f"
            },
            "error_y": {
             "color": "#2a3f5f"
            },
            "marker": {
             "line": {
              "color": "#E5ECF6",
              "width": 0.5
             },
             "pattern": {
              "fillmode": "overlay",
              "size": 10,
              "solidity": 0.2
             }
            },
            "type": "bar"
           }
          ],
          "barpolar": [
           {
            "marker": {
             "line": {
              "color": "#E5ECF6",
              "width": 0.5
             },
             "pattern": {
              "fillmode": "overlay",
              "size": 10,
              "solidity": 0.2
             }
            },
            "type": "barpolar"
           }
          ],
          "carpet": [
           {
            "aaxis": {
             "endlinecolor": "#2a3f5f",
             "gridcolor": "white",
             "linecolor": "white",
             "minorgridcolor": "white",
             "startlinecolor": "#2a3f5f"
            },
            "baxis": {
             "endlinecolor": "#2a3f5f",
             "gridcolor": "white",
             "linecolor": "white",
             "minorgridcolor": "white",
             "startlinecolor": "#2a3f5f"
            },
            "type": "carpet"
           }
          ],
          "choropleth": [
           {
            "colorbar": {
             "outlinewidth": 0,
             "ticks": ""
            },
            "type": "choropleth"
           }
          ],
          "contour": [
           {
            "colorbar": {
             "outlinewidth": 0,
             "ticks": ""
            },
            "colorscale": [
             [
              0,
              "#0d0887"
             ],
             [
              0.1111111111111111,
              "#46039f"
             ],
             [
              0.2222222222222222,
              "#7201a8"
             ],
             [
              0.3333333333333333,
              "#9c179e"
             ],
             [
              0.4444444444444444,
              "#bd3786"
             ],
             [
              0.5555555555555556,
              "#d8576b"
             ],
             [
              0.6666666666666666,
              "#ed7953"
             ],
             [
              0.7777777777777778,
              "#fb9f3a"
             ],
             [
              0.8888888888888888,
              "#fdca26"
             ],
             [
              1,
              "#f0f921"
             ]
            ],
            "type": "contour"
           }
          ],
          "contourcarpet": [
           {
            "colorbar": {
             "outlinewidth": 0,
             "ticks": ""
            },
            "type": "contourcarpet"
           }
          ],
          "heatmap": [
           {
            "colorbar": {
             "outlinewidth": 0,
             "ticks": ""
            },
            "colorscale": [
             [
              0,
              "#0d0887"
             ],
             [
              0.1111111111111111,
              "#46039f"
             ],
             [
              0.2222222222222222,
              "#7201a8"
             ],
             [
              0.3333333333333333,
              "#9c179e"
             ],
             [
              0.4444444444444444,
              "#bd3786"
             ],
             [
              0.5555555555555556,
              "#d8576b"
             ],
             [
              0.6666666666666666,
              "#ed7953"
             ],
             [
              0.7777777777777778,
              "#fb9f3a"
             ],
             [
              0.8888888888888888,
              "#fdca26"
             ],
             [
              1,
              "#f0f921"
             ]
            ],
            "type": "heatmap"
           }
          ],
          "heatmapgl": [
           {
            "colorbar": {
             "outlinewidth": 0,
             "ticks": ""
            },
            "colorscale": [
             [
              0,
              "#0d0887"
             ],
             [
              0.1111111111111111,
              "#46039f"
             ],
             [
              0.2222222222222222,
              "#7201a8"
             ],
             [
              0.3333333333333333,
              "#9c179e"
             ],
             [
              0.4444444444444444,
              "#bd3786"
             ],
             [
              0.5555555555555556,
              "#d8576b"
             ],
             [
              0.6666666666666666,
              "#ed7953"
             ],
             [
              0.7777777777777778,
              "#fb9f3a"
             ],
             [
              0.8888888888888888,
              "#fdca26"
             ],
             [
              1,
              "#f0f921"
             ]
            ],
            "type": "heatmapgl"
           }
          ],
          "histogram": [
           {
            "marker": {
             "pattern": {
              "fillmode": "overlay",
              "size": 10,
              "solidity": 0.2
             }
            },
            "type": "histogram"
           }
          ],
          "histogram2d": [
           {
            "colorbar": {
             "outlinewidth": 0,
             "ticks": ""
            },
            "colorscale": [
             [
              0,
              "#0d0887"
             ],
             [
              0.1111111111111111,
              "#46039f"
             ],
             [
              0.2222222222222222,
              "#7201a8"
             ],
             [
              0.3333333333333333,
              "#9c179e"
             ],
             [
              0.4444444444444444,
              "#bd3786"
             ],
             [
              0.5555555555555556,
              "#d8576b"
             ],
             [
              0.6666666666666666,
              "#ed7953"
             ],
             [
              0.7777777777777778,
              "#fb9f3a"
             ],
             [
              0.8888888888888888,
              "#fdca26"
             ],
             [
              1,
              "#f0f921"
             ]
            ],
            "type": "histogram2d"
           }
          ],
          "histogram2dcontour": [
           {
            "colorbar": {
             "outlinewidth": 0,
             "ticks": ""
            },
            "colorscale": [
             [
              0,
              "#0d0887"
             ],
             [
              0.1111111111111111,
              "#46039f"
             ],
             [
              0.2222222222222222,
              "#7201a8"
             ],
             [
              0.3333333333333333,
              "#9c179e"
             ],
             [
              0.4444444444444444,
              "#bd3786"
             ],
             [
              0.5555555555555556,
              "#d8576b"
             ],
             [
              0.6666666666666666,
              "#ed7953"
             ],
             [
              0.7777777777777778,
              "#fb9f3a"
             ],
             [
              0.8888888888888888,
              "#fdca26"
             ],
             [
              1,
              "#f0f921"
             ]
            ],
            "type": "histogram2dcontour"
           }
          ],
          "mesh3d": [
           {
            "colorbar": {
             "outlinewidth": 0,
             "ticks": ""
            },
            "type": "mesh3d"
           }
          ],
          "parcoords": [
           {
            "line": {
             "colorbar": {
              "outlinewidth": 0,
              "ticks": ""
             }
            },
            "type": "parcoords"
           }
          ],
          "pie": [
           {
            "automargin": true,
            "type": "pie"
           }
          ],
          "scatter": [
           {
            "fillpattern": {
             "fillmode": "overlay",
             "size": 10,
             "solidity": 0.2
            },
            "type": "scatter"
           }
          ],
          "scatter3d": [
           {
            "line": {
             "colorbar": {
              "outlinewidth": 0,
              "ticks": ""
             }
            },
            "marker": {
             "colorbar": {
              "outlinewidth": 0,
              "ticks": ""
             }
            },
            "type": "scatter3d"
           }
          ],
          "scattercarpet": [
           {
            "marker": {
             "colorbar": {
              "outlinewidth": 0,
              "ticks": ""
             }
            },
            "type": "scattercarpet"
           }
          ],
          "scattergeo": [
           {
            "marker": {
             "colorbar": {
              "outlinewidth": 0,
              "ticks": ""
             }
            },
            "type": "scattergeo"
           }
          ],
          "scattergl": [
           {
            "marker": {
             "colorbar": {
              "outlinewidth": 0,
              "ticks": ""
             }
            },
            "type": "scattergl"
           }
          ],
          "scattermapbox": [
           {
            "marker": {
             "colorbar": {
              "outlinewidth": 0,
              "ticks": ""
             }
            },
            "type": "scattermapbox"
           }
          ],
          "scatterpolar": [
           {
            "marker": {
             "colorbar": {
              "outlinewidth": 0,
              "ticks": ""
             }
            },
            "type": "scatterpolar"
           }
          ],
          "scatterpolargl": [
           {
            "marker": {
             "colorbar": {
              "outlinewidth": 0,
              "ticks": ""
             }
            },
            "type": "scatterpolargl"
           }
          ],
          "scatterternary": [
           {
            "marker": {
             "colorbar": {
              "outlinewidth": 0,
              "ticks": ""
             }
            },
            "type": "scatterternary"
           }
          ],
          "surface": [
           {
            "colorbar": {
             "outlinewidth": 0,
             "ticks": ""
            },
            "colorscale": [
             [
              0,
              "#0d0887"
             ],
             [
              0.1111111111111111,
              "#46039f"
             ],
             [
              0.2222222222222222,
              "#7201a8"
             ],
             [
              0.3333333333333333,
              "#9c179e"
             ],
             [
              0.4444444444444444,
              "#bd3786"
             ],
             [
              0.5555555555555556,
              "#d8576b"
             ],
             [
              0.6666666666666666,
              "#ed7953"
             ],
             [
              0.7777777777777778,
              "#fb9f3a"
             ],
             [
              0.8888888888888888,
              "#fdca26"
             ],
             [
              1,
              "#f0f921"
             ]
            ],
            "type": "surface"
           }
          ],
          "table": [
           {
            "cells": {
             "fill": {
              "color": "#EBF0F8"
             },
             "line": {
              "color": "white"
             }
            },
            "header": {
             "fill": {
              "color": "#C8D4E3"
             },
             "line": {
              "color": "white"
             }
            },
            "type": "table"
           }
          ]
         },
         "layout": {
          "annotationdefaults": {
           "arrowcolor": "#2a3f5f",
           "arrowhead": 0,
           "arrowwidth": 1
          },
          "autotypenumbers": "strict",
          "coloraxis": {
           "colorbar": {
            "outlinewidth": 0,
            "ticks": ""
           }
          },
          "colorscale": {
           "diverging": [
            [
             0,
             "#8e0152"
            ],
            [
             0.1,
             "#c51b7d"
            ],
            [
             0.2,
             "#de77ae"
            ],
            [
             0.3,
             "#f1b6da"
            ],
            [
             0.4,
             "#fde0ef"
            ],
            [
             0.5,
             "#f7f7f7"
            ],
            [
             0.6,
             "#e6f5d0"
            ],
            [
             0.7,
             "#b8e186"
            ],
            [
             0.8,
             "#7fbc41"
            ],
            [
             0.9,
             "#4d9221"
            ],
            [
             1,
             "#276419"
            ]
           ],
           "sequential": [
            [
             0,
             "#0d0887"
            ],
            [
             0.1111111111111111,
             "#46039f"
            ],
            [
             0.2222222222222222,
             "#7201a8"
            ],
            [
             0.3333333333333333,
             "#9c179e"
            ],
            [
             0.4444444444444444,
             "#bd3786"
            ],
            [
             0.5555555555555556,
             "#d8576b"
            ],
            [
             0.6666666666666666,
             "#ed7953"
            ],
            [
             0.7777777777777778,
             "#fb9f3a"
            ],
            [
             0.8888888888888888,
             "#fdca26"
            ],
            [
             1,
             "#f0f921"
            ]
           ],
           "sequentialminus": [
            [
             0,
             "#0d0887"
            ],
            [
             0.1111111111111111,
             "#46039f"
            ],
            [
             0.2222222222222222,
             "#7201a8"
            ],
            [
             0.3333333333333333,
             "#9c179e"
            ],
            [
             0.4444444444444444,
             "#bd3786"
            ],
            [
             0.5555555555555556,
             "#d8576b"
            ],
            [
             0.6666666666666666,
             "#ed7953"
            ],
            [
             0.7777777777777778,
             "#fb9f3a"
            ],
            [
             0.8888888888888888,
             "#fdca26"
            ],
            [
             1,
             "#f0f921"
            ]
           ]
          },
          "colorway": [
           "#636efa",
           "#EF553B",
           "#00cc96",
           "#ab63fa",
           "#FFA15A",
           "#19d3f3",
           "#FF6692",
           "#B6E880",
           "#FF97FF",
           "#FECB52"
          ],
          "font": {
           "color": "#2a3f5f"
          },
          "geo": {
           "bgcolor": "white",
           "lakecolor": "white",
           "landcolor": "#E5ECF6",
           "showlakes": true,
           "showland": true,
           "subunitcolor": "white"
          },
          "hoverlabel": {
           "align": "left"
          },
          "hovermode": "closest",
          "mapbox": {
           "style": "light"
          },
          "paper_bgcolor": "white",
          "plot_bgcolor": "#E5ECF6",
          "polar": {
           "angularaxis": {
            "gridcolor": "white",
            "linecolor": "white",
            "ticks": ""
           },
           "bgcolor": "#E5ECF6",
           "radialaxis": {
            "gridcolor": "white",
            "linecolor": "white",
            "ticks": ""
           }
          },
          "scene": {
           "xaxis": {
            "backgroundcolor": "#E5ECF6",
            "gridcolor": "white",
            "gridwidth": 2,
            "linecolor": "white",
            "showbackground": true,
            "ticks": "",
            "zerolinecolor": "white"
           },
           "yaxis": {
            "backgroundcolor": "#E5ECF6",
            "gridcolor": "white",
            "gridwidth": 2,
            "linecolor": "white",
            "showbackground": true,
            "ticks": "",
            "zerolinecolor": "white"
           },
           "zaxis": {
            "backgroundcolor": "#E5ECF6",
            "gridcolor": "white",
            "gridwidth": 2,
            "linecolor": "white",
            "showbackground": true,
            "ticks": "",
            "zerolinecolor": "white"
           }
          },
          "shapedefaults": {
           "line": {
            "color": "#2a3f5f"
           }
          },
          "ternary": {
           "aaxis": {
            "gridcolor": "white",
            "linecolor": "white",
            "ticks": ""
           },
           "baxis": {
            "gridcolor": "white",
            "linecolor": "white",
            "ticks": ""
           },
           "bgcolor": "#E5ECF6",
           "caxis": {
            "gridcolor": "white",
            "linecolor": "white",
            "ticks": ""
           }
          },
          "title": {
           "x": 0.05
          },
          "xaxis": {
           "automargin": true,
           "gridcolor": "white",
           "linecolor": "white",
           "ticks": "",
           "title": {
            "standoff": 15
           },
           "zerolinecolor": "white",
           "zerolinewidth": 2
          },
          "yaxis": {
           "automargin": true,
           "gridcolor": "white",
           "linecolor": "white",
           "ticks": "",
           "title": {
            "standoff": 15
           },
           "zerolinecolor": "white",
           "zerolinewidth": 2
          }
         }
        },
        "title": {
         "text": "Variaão do loudness através dos anos"
        },
        "xaxis": {
         "anchor": "y",
         "domain": [
          0,
          1
         ],
         "title": {
          "text": "year"
         }
        },
        "yaxis": {
         "anchor": "x",
         "domain": [
          0,
          1
         ],
         "title": {
          "text": "loudness"
         }
        }
       }
      }
     },
     "metadata": {},
     "output_type": "display_data"
    }
   ],
   "source": [
    "fig = px.line(dados_anos, x='year', y='loudness', markers=True, title='Variaão do loudness através dos anos')\n",
    "fig.show()"
   ]
  },
  {
   "cell_type": "code",
   "execution_count": 25,
   "metadata": {},
   "outputs": [],
   "source": [
    "import plotly.graph_objects as go"
   ]
  },
  {
   "cell_type": "code",
   "execution_count": 26,
   "metadata": {},
   "outputs": [
    {
     "data": {
      "application/vnd.plotly.v1+json": {
       "config": {
        "plotlyServerURL": "https://plot.ly"
       },
       "data": [
        {
         "name": "Acousticness",
         "type": "scatter",
         "x": [
          2000,
          2001,
          2002,
          2003,
          2004,
          2005,
          2006,
          2007,
          2008,
          2009,
          2010,
          2011,
          2012,
          2013,
          2014,
          2015,
          2016,
          2017,
          2018,
          2019,
          2020
         ],
         "y": [
          0.2893227005163599,
          0.2868424748428934,
          0.282624289885001,
          0.2564705181729783,
          0.2805589466225845,
          0.2557635068666665,
          0.2799863520256408,
          0.2540809575538463,
          0.2491917627212275,
          0.261928619096939,
          0.2426866435515872,
          0.2731826625185919,
          0.2499530443804624,
          0.2574880859564779,
          0.249312645880299,
          0.2539522577102332,
          0.2841710299554814,
          0.2860990665261043,
          0.2676329907750836,
          0.2782985863365824,
          0.2199308880935964
         ]
        },
        {
         "name": "Valence",
         "type": "scatter",
         "x": [
          2000,
          2001,
          2002,
          2003,
          2004,
          2005,
          2006,
          2007,
          2008,
          2009,
          2010,
          2011,
          2012,
          2013,
          2014,
          2015,
          2016,
          2017,
          2018,
          2019,
          2020
         ],
         "y": [
          0.5594754601226991,
          0.541479107231919,
          0.5423971500000008,
          0.5305042476970324,
          0.5244885554425227,
          0.5325309230769236,
          0.5200283076923078,
          0.5167938461538473,
          0.5275418925831203,
          0.5071696617346935,
          0.5208951587301589,
          0.4724536787307882,
          0.4627090128534706,
          0.4547411943319834,
          0.4630487780548628,
          0.4320983687943254,
          0.4315320589872012,
          0.4164763112449793,
          0.4479212743699474,
          0.4588176295536167,
          0.5010478078817729
         ]
        },
        {
         "name": "Danceability",
         "type": "scatter",
         "x": [
          2000,
          2001,
          2002,
          2003,
          2004,
          2005,
          2006,
          2007,
          2008,
          2009,
          2010,
          2011,
          2012,
          2013,
          2014,
          2015,
          2016,
          2017,
          2018,
          2019,
          2020
         ],
         "y": [
          0.590918047034764,
          0.5833178553615969,
          0.5761602999999997,
          0.5757633060388944,
          0.5676803662258397,
          0.5722805641025652,
          0.5682301538461539,
          0.5634143589743592,
          0.5791928388746803,
          0.5641903571428577,
          0.5724883432539687,
          0.5528669806643526,
          0.5708818508997433,
          0.5711480263157896,
          0.5899476807980057,
          0.5937740628166152,
          0.6002023928770179,
          0.6122170180722886,
          0.6635004755111744,
          0.6448141097998967,
          0.6929043349753701
         ]
        },
        {
         "name": "Energy",
         "type": "scatter",
         "x": [
          2000,
          2001,
          2002,
          2003,
          2004,
          2005,
          2006,
          2007,
          2008,
          2009,
          2010,
          2011,
          2012,
          2013,
          2014,
          2015,
          2016,
          2017,
          2018,
          2019,
          2020
         ],
         "y": [
          0.6254128323108387,
          0.6269855221945144,
          0.6412697960000012,
          0.6601652610030712,
          0.6488679450661226,
          0.653208511282051,
          0.6503262820512825,
          0.6683047743589737,
          0.6714608207672623,
          0.6707487551020408,
          0.6817778026289684,
          0.6483008934060499,
          0.6565714601542408,
          0.6455968914473688,
          0.6487954437905223,
          0.6270642715298895,
          0.5928552316082347,
          0.5904210208835337,
          0.6024346220161672,
          0.5932240360184717,
          0.6312316354679793
         ]
        },
        {
         "name": "Instrumentalness",
         "type": "scatter",
         "x": [
          2000,
          2001,
          2002,
          2003,
          2004,
          2005,
          2006,
          2007,
          2008,
          2009,
          2010,
          2011,
          2012,
          2013,
          2014,
          2015,
          2016,
          2017,
          2018,
          2019,
          2020
         ],
         "y": [
          0.1011677687934559,
          0.1072140189925186,
          0.0880483503149999,
          0.0830492746673491,
          0.0779340349084435,
          0.0901943611846154,
          0.0777014718769231,
          0.0729572680512819,
          0.0636620903171356,
          0.0758720736836735,
          0.0829805682192461,
          0.103772332166584,
          0.0852055206786631,
          0.0983650539170038,
          0.0765695548379051,
          0.1067868780547114,
          0.0939843871174179,
          0.0970906090662649,
          0.0542171216690441,
          0.0776402469728064,
          0.0163755243054187
         ]
        },
        {
         "name": "Liveness",
         "type": "scatter",
         "x": [
          2000,
          2001,
          2002,
          2003,
          2004,
          2005,
          2006,
          2007,
          2008,
          2009,
          2010,
          2011,
          2012,
          2013,
          2014,
          2015,
          2016,
          2017,
          2018,
          2019,
          2020
         ],
         "y": [
          0.1976860429447853,
          0.1870256359102248,
          0.1939111999999998,
          0.196976305015353,
          0.2021994404883014,
          0.1900816256410258,
          0.1882892820512821,
          0.1961265641025642,
          0.1984314066496162,
          0.2052522959183674,
          0.1997006448412699,
          0.2033088249876056,
          0.1897330077120824,
          0.1996308198380571,
          0.1918215960099752,
          0.1888564336372847,
          0.181169894268225,
          0.1917126004016064,
          0.1763255349500711,
          0.1726164186762446,
          0.1785354187192117
         ]
        },
        {
         "name": "Speechiness",
         "type": "scatter",
         "x": [
          2000,
          2001,
          2002,
          2003,
          2004,
          2005,
          2006,
          2007,
          2008,
          2009,
          2010,
          2011,
          2012,
          2013,
          2014,
          2015,
          2016,
          2017,
          2018,
          2019,
          2020
         ],
         "y": [
          0.0892054192229039,
          0.0891822942643391,
          0.0843075999999999,
          0.0939257420675538,
          0.0942388097660224,
          0.093333692307692,
          0.0858467692307692,
          0.0843473333333333,
          0.077356368286445,
          0.0854578061224489,
          0.0810314980158731,
          0.087479276152702,
          0.081742467866324,
          0.0938488866396761,
          0.0840605486284289,
          0.0967792299898684,
          0.1043132999443518,
          0.1105364959839356,
          0.1271755587256302,
          0.1210433555669573,
          0.1413836945812805
         ]
        }
       ],
       "layout": {
        "template": {
         "data": {
          "bar": [
           {
            "error_x": {
             "color": "#2a3f5f"
            },
            "error_y": {
             "color": "#2a3f5f"
            },
            "marker": {
             "line": {
              "color": "#E5ECF6",
              "width": 0.5
             },
             "pattern": {
              "fillmode": "overlay",
              "size": 10,
              "solidity": 0.2
             }
            },
            "type": "bar"
           }
          ],
          "barpolar": [
           {
            "marker": {
             "line": {
              "color": "#E5ECF6",
              "width": 0.5
             },
             "pattern": {
              "fillmode": "overlay",
              "size": 10,
              "solidity": 0.2
             }
            },
            "type": "barpolar"
           }
          ],
          "carpet": [
           {
            "aaxis": {
             "endlinecolor": "#2a3f5f",
             "gridcolor": "white",
             "linecolor": "white",
             "minorgridcolor": "white",
             "startlinecolor": "#2a3f5f"
            },
            "baxis": {
             "endlinecolor": "#2a3f5f",
             "gridcolor": "white",
             "linecolor": "white",
             "minorgridcolor": "white",
             "startlinecolor": "#2a3f5f"
            },
            "type": "carpet"
           }
          ],
          "choropleth": [
           {
            "colorbar": {
             "outlinewidth": 0,
             "ticks": ""
            },
            "type": "choropleth"
           }
          ],
          "contour": [
           {
            "colorbar": {
             "outlinewidth": 0,
             "ticks": ""
            },
            "colorscale": [
             [
              0,
              "#0d0887"
             ],
             [
              0.1111111111111111,
              "#46039f"
             ],
             [
              0.2222222222222222,
              "#7201a8"
             ],
             [
              0.3333333333333333,
              "#9c179e"
             ],
             [
              0.4444444444444444,
              "#bd3786"
             ],
             [
              0.5555555555555556,
              "#d8576b"
             ],
             [
              0.6666666666666666,
              "#ed7953"
             ],
             [
              0.7777777777777778,
              "#fb9f3a"
             ],
             [
              0.8888888888888888,
              "#fdca26"
             ],
             [
              1,
              "#f0f921"
             ]
            ],
            "type": "contour"
           }
          ],
          "contourcarpet": [
           {
            "colorbar": {
             "outlinewidth": 0,
             "ticks": ""
            },
            "type": "contourcarpet"
           }
          ],
          "heatmap": [
           {
            "colorbar": {
             "outlinewidth": 0,
             "ticks": ""
            },
            "colorscale": [
             [
              0,
              "#0d0887"
             ],
             [
              0.1111111111111111,
              "#46039f"
             ],
             [
              0.2222222222222222,
              "#7201a8"
             ],
             [
              0.3333333333333333,
              "#9c179e"
             ],
             [
              0.4444444444444444,
              "#bd3786"
             ],
             [
              0.5555555555555556,
              "#d8576b"
             ],
             [
              0.6666666666666666,
              "#ed7953"
             ],
             [
              0.7777777777777778,
              "#fb9f3a"
             ],
             [
              0.8888888888888888,
              "#fdca26"
             ],
             [
              1,
              "#f0f921"
             ]
            ],
            "type": "heatmap"
           }
          ],
          "heatmapgl": [
           {
            "colorbar": {
             "outlinewidth": 0,
             "ticks": ""
            },
            "colorscale": [
             [
              0,
              "#0d0887"
             ],
             [
              0.1111111111111111,
              "#46039f"
             ],
             [
              0.2222222222222222,
              "#7201a8"
             ],
             [
              0.3333333333333333,
              "#9c179e"
             ],
             [
              0.4444444444444444,
              "#bd3786"
             ],
             [
              0.5555555555555556,
              "#d8576b"
             ],
             [
              0.6666666666666666,
              "#ed7953"
             ],
             [
              0.7777777777777778,
              "#fb9f3a"
             ],
             [
              0.8888888888888888,
              "#fdca26"
             ],
             [
              1,
              "#f0f921"
             ]
            ],
            "type": "heatmapgl"
           }
          ],
          "histogram": [
           {
            "marker": {
             "pattern": {
              "fillmode": "overlay",
              "size": 10,
              "solidity": 0.2
             }
            },
            "type": "histogram"
           }
          ],
          "histogram2d": [
           {
            "colorbar": {
             "outlinewidth": 0,
             "ticks": ""
            },
            "colorscale": [
             [
              0,
              "#0d0887"
             ],
             [
              0.1111111111111111,
              "#46039f"
             ],
             [
              0.2222222222222222,
              "#7201a8"
             ],
             [
              0.3333333333333333,
              "#9c179e"
             ],
             [
              0.4444444444444444,
              "#bd3786"
             ],
             [
              0.5555555555555556,
              "#d8576b"
             ],
             [
              0.6666666666666666,
              "#ed7953"
             ],
             [
              0.7777777777777778,
              "#fb9f3a"
             ],
             [
              0.8888888888888888,
              "#fdca26"
             ],
             [
              1,
              "#f0f921"
             ]
            ],
            "type": "histogram2d"
           }
          ],
          "histogram2dcontour": [
           {
            "colorbar": {
             "outlinewidth": 0,
             "ticks": ""
            },
            "colorscale": [
             [
              0,
              "#0d0887"
             ],
             [
              0.1111111111111111,
              "#46039f"
             ],
             [
              0.2222222222222222,
              "#7201a8"
             ],
             [
              0.3333333333333333,
              "#9c179e"
             ],
             [
              0.4444444444444444,
              "#bd3786"
             ],
             [
              0.5555555555555556,
              "#d8576b"
             ],
             [
              0.6666666666666666,
              "#ed7953"
             ],
             [
              0.7777777777777778,
              "#fb9f3a"
             ],
             [
              0.8888888888888888,
              "#fdca26"
             ],
             [
              1,
              "#f0f921"
             ]
            ],
            "type": "histogram2dcontour"
           }
          ],
          "mesh3d": [
           {
            "colorbar": {
             "outlinewidth": 0,
             "ticks": ""
            },
            "type": "mesh3d"
           }
          ],
          "parcoords": [
           {
            "line": {
             "colorbar": {
              "outlinewidth": 0,
              "ticks": ""
             }
            },
            "type": "parcoords"
           }
          ],
          "pie": [
           {
            "automargin": true,
            "type": "pie"
           }
          ],
          "scatter": [
           {
            "fillpattern": {
             "fillmode": "overlay",
             "size": 10,
             "solidity": 0.2
            },
            "type": "scatter"
           }
          ],
          "scatter3d": [
           {
            "line": {
             "colorbar": {
              "outlinewidth": 0,
              "ticks": ""
             }
            },
            "marker": {
             "colorbar": {
              "outlinewidth": 0,
              "ticks": ""
             }
            },
            "type": "scatter3d"
           }
          ],
          "scattercarpet": [
           {
            "marker": {
             "colorbar": {
              "outlinewidth": 0,
              "ticks": ""
             }
            },
            "type": "scattercarpet"
           }
          ],
          "scattergeo": [
           {
            "marker": {
             "colorbar": {
              "outlinewidth": 0,
              "ticks": ""
             }
            },
            "type": "scattergeo"
           }
          ],
          "scattergl": [
           {
            "marker": {
             "colorbar": {
              "outlinewidth": 0,
              "ticks": ""
             }
            },
            "type": "scattergl"
           }
          ],
          "scattermapbox": [
           {
            "marker": {
             "colorbar": {
              "outlinewidth": 0,
              "ticks": ""
             }
            },
            "type": "scattermapbox"
           }
          ],
          "scatterpolar": [
           {
            "marker": {
             "colorbar": {
              "outlinewidth": 0,
              "ticks": ""
             }
            },
            "type": "scatterpolar"
           }
          ],
          "scatterpolargl": [
           {
            "marker": {
             "colorbar": {
              "outlinewidth": 0,
              "ticks": ""
             }
            },
            "type": "scatterpolargl"
           }
          ],
          "scatterternary": [
           {
            "marker": {
             "colorbar": {
              "outlinewidth": 0,
              "ticks": ""
             }
            },
            "type": "scatterternary"
           }
          ],
          "surface": [
           {
            "colorbar": {
             "outlinewidth": 0,
             "ticks": ""
            },
            "colorscale": [
             [
              0,
              "#0d0887"
             ],
             [
              0.1111111111111111,
              "#46039f"
             ],
             [
              0.2222222222222222,
              "#7201a8"
             ],
             [
              0.3333333333333333,
              "#9c179e"
             ],
             [
              0.4444444444444444,
              "#bd3786"
             ],
             [
              0.5555555555555556,
              "#d8576b"
             ],
             [
              0.6666666666666666,
              "#ed7953"
             ],
             [
              0.7777777777777778,
              "#fb9f3a"
             ],
             [
              0.8888888888888888,
              "#fdca26"
             ],
             [
              1,
              "#f0f921"
             ]
            ],
            "type": "surface"
           }
          ],
          "table": [
           {
            "cells": {
             "fill": {
              "color": "#EBF0F8"
             },
             "line": {
              "color": "white"
             }
            },
            "header": {
             "fill": {
              "color": "#C8D4E3"
             },
             "line": {
              "color": "white"
             }
            },
            "type": "table"
           }
          ]
         },
         "layout": {
          "annotationdefaults": {
           "arrowcolor": "#2a3f5f",
           "arrowhead": 0,
           "arrowwidth": 1
          },
          "autotypenumbers": "strict",
          "coloraxis": {
           "colorbar": {
            "outlinewidth": 0,
            "ticks": ""
           }
          },
          "colorscale": {
           "diverging": [
            [
             0,
             "#8e0152"
            ],
            [
             0.1,
             "#c51b7d"
            ],
            [
             0.2,
             "#de77ae"
            ],
            [
             0.3,
             "#f1b6da"
            ],
            [
             0.4,
             "#fde0ef"
            ],
            [
             0.5,
             "#f7f7f7"
            ],
            [
             0.6,
             "#e6f5d0"
            ],
            [
             0.7,
             "#b8e186"
            ],
            [
             0.8,
             "#7fbc41"
            ],
            [
             0.9,
             "#4d9221"
            ],
            [
             1,
             "#276419"
            ]
           ],
           "sequential": [
            [
             0,
             "#0d0887"
            ],
            [
             0.1111111111111111,
             "#46039f"
            ],
            [
             0.2222222222222222,
             "#7201a8"
            ],
            [
             0.3333333333333333,
             "#9c179e"
            ],
            [
             0.4444444444444444,
             "#bd3786"
            ],
            [
             0.5555555555555556,
             "#d8576b"
            ],
            [
             0.6666666666666666,
             "#ed7953"
            ],
            [
             0.7777777777777778,
             "#fb9f3a"
            ],
            [
             0.8888888888888888,
             "#fdca26"
            ],
            [
             1,
             "#f0f921"
            ]
           ],
           "sequentialminus": [
            [
             0,
             "#0d0887"
            ],
            [
             0.1111111111111111,
             "#46039f"
            ],
            [
             0.2222222222222222,
             "#7201a8"
            ],
            [
             0.3333333333333333,
             "#9c179e"
            ],
            [
             0.4444444444444444,
             "#bd3786"
            ],
            [
             0.5555555555555556,
             "#d8576b"
            ],
            [
             0.6666666666666666,
             "#ed7953"
            ],
            [
             0.7777777777777778,
             "#fb9f3a"
            ],
            [
             0.8888888888888888,
             "#fdca26"
            ],
            [
             1,
             "#f0f921"
            ]
           ]
          },
          "colorway": [
           "#636efa",
           "#EF553B",
           "#00cc96",
           "#ab63fa",
           "#FFA15A",
           "#19d3f3",
           "#FF6692",
           "#B6E880",
           "#FF97FF",
           "#FECB52"
          ],
          "font": {
           "color": "#2a3f5f"
          },
          "geo": {
           "bgcolor": "white",
           "lakecolor": "white",
           "landcolor": "#E5ECF6",
           "showlakes": true,
           "showland": true,
           "subunitcolor": "white"
          },
          "hoverlabel": {
           "align": "left"
          },
          "hovermode": "closest",
          "mapbox": {
           "style": "light"
          },
          "paper_bgcolor": "white",
          "plot_bgcolor": "#E5ECF6",
          "polar": {
           "angularaxis": {
            "gridcolor": "white",
            "linecolor": "white",
            "ticks": ""
           },
           "bgcolor": "#E5ECF6",
           "radialaxis": {
            "gridcolor": "white",
            "linecolor": "white",
            "ticks": ""
           }
          },
          "scene": {
           "xaxis": {
            "backgroundcolor": "#E5ECF6",
            "gridcolor": "white",
            "gridwidth": 2,
            "linecolor": "white",
            "showbackground": true,
            "ticks": "",
            "zerolinecolor": "white"
           },
           "yaxis": {
            "backgroundcolor": "#E5ECF6",
            "gridcolor": "white",
            "gridwidth": 2,
            "linecolor": "white",
            "showbackground": true,
            "ticks": "",
            "zerolinecolor": "white"
           },
           "zaxis": {
            "backgroundcolor": "#E5ECF6",
            "gridcolor": "white",
            "gridwidth": 2,
            "linecolor": "white",
            "showbackground": true,
            "ticks": "",
            "zerolinecolor": "white"
           }
          },
          "shapedefaults": {
           "line": {
            "color": "#2a3f5f"
           }
          },
          "ternary": {
           "aaxis": {
            "gridcolor": "white",
            "linecolor": "white",
            "ticks": ""
           },
           "baxis": {
            "gridcolor": "white",
            "linecolor": "white",
            "ticks": ""
           },
           "bgcolor": "#E5ECF6",
           "caxis": {
            "gridcolor": "white",
            "linecolor": "white",
            "ticks": ""
           }
          },
          "title": {
           "x": 0.05
          },
          "xaxis": {
           "automargin": true,
           "gridcolor": "white",
           "linecolor": "white",
           "ticks": "",
           "title": {
            "standoff": 15
           },
           "zerolinecolor": "white",
           "zerolinewidth": 2
          },
          "yaxis": {
           "automargin": true,
           "gridcolor": "white",
           "linecolor": "white",
           "ticks": "",
           "title": {
            "standoff": 15
           },
           "zerolinecolor": "white",
           "zerolinewidth": 2
          }
         }
        }
       }
      }
     },
     "metadata": {},
     "output_type": "display_data"
    }
   ],
   "source": [
    "fig = go.Figure()\n",
    "\n",
    "fig.add_trace(go.Scatter(x=dados_anos['year'], y=dados_anos['acousticness'],\n",
    "                         name = 'Acousticness'))\n",
    "fig.add_trace(go.Scatter(x=dados_anos['year'], y=dados_anos['valence'],\n",
    "                         name = 'Valence'))\n",
    "fig.add_trace(go.Scatter(x=dados_anos['year'], y=dados_anos['danceability'],\n",
    "                         name = 'Danceability'))\n",
    "fig.add_trace(go.Scatter(x=dados_anos['year'], y=dados_anos['energy'],\n",
    "                         name = 'Energy'))\n",
    "fig.add_trace(go.Scatter(x=dados_anos['year'], y=dados_anos['instrumentalness'],\n",
    "                         name = 'Instrumentalness'))\n",
    "fig.add_trace(go.Scatter(x=dados_anos['year'], y=dados_anos['liveness'],\n",
    "                         name = 'Liveness'))\n",
    "fig.add_trace(go.Scatter(x=dados_anos['year'], y=dados_anos['speechiness'],\n",
    "                         name = 'Speechiness'))"
   ]
  },
  {
   "cell_type": "code",
   "execution_count": 27,
   "metadata": {},
   "outputs": [
    {
     "name": "stderr",
     "output_type": "stream",
     "text": [
      "/tmp/ipykernel_4924/1070161036.py:1: FutureWarning:\n",
      "\n",
      "The default value of numeric_only in DataFrame.corr is deprecated. In a future version, it will default to False. Select only valid columns or specify the value of numeric_only to silence this warning.\n",
      "\n"
     ]
    },
    {
     "data": {
      "application/vnd.plotly.v1+json": {
       "config": {
        "plotlyServerURL": "https://plot.ly"
       },
       "data": [
        {
         "coloraxis": "coloraxis",
         "hovertemplate": "x: %{x}<br>y: %{y}<br>color: %{z}<extra></extra>",
         "name": "0",
         "texttemplate": "%{z}",
         "type": "heatmap",
         "x": [
          "valence",
          "year",
          "acousticness",
          "danceability",
          "duration_ms",
          "energy",
          "instrumentalness",
          "liveness",
          "loudness",
          "popularity",
          "speechiness",
          "tempo"
         ],
         "xaxis": "x",
         "y": [
          "valence",
          "year",
          "acousticness",
          "danceability",
          "duration_ms",
          "energy",
          "instrumentalness",
          "liveness",
          "loudness",
          "popularity",
          "speechiness",
          "tempo"
         ],
         "yaxis": "y",
         "z": [
          [
           1,
           -0.11152818996552269,
           -0.17906507578880113,
           0.4706016928505381,
           -0.19255117869290994,
           0.35029199798428345,
           -0.2557841048653347,
           0.02221366049722543,
           0.3378977669900986,
           -0.02666406634639214,
           0.08252614933102408,
           0.07315334866798318
          ],
          [
           -0.11152818996552269,
           1,
           -0.011224012558530316,
           0.17440028973064198,
           -0.14627395555186518,
           -0.06995658525945365,
           -0.13203456252176587,
           -0.04295002368784964,
           0.052483197651396335,
           0.5520537744643068,
           0.12405143773766447,
           0.02311722172289499
          ],
          [
           -0.17906507578880113,
           -0.011224012558530316,
           1,
           -0.1758942916516538,
           -0.05596681465486787,
           -0.7091107964699702,
           0.29973973152822125,
           -0.09844289738151028,
           -0.6036127005064934,
           -0.03187901141421101,
           -0.12082482277726948,
           -0.15474122793050457
          ],
          [
           0.4706016928505381,
           0.17440028973064198,
           -0.1758942916516538,
           1,
           -0.15971497774585897,
           0.08735820678113757,
           -0.3142998559030547,
           -0.0696597044523255,
           0.2679343205070181,
           0.1809607849711362,
           0.2267015756782655,
           -0.09486499562608043
          ],
          [
           -0.19255117869290994,
           -0.14627395555186518,
           -0.05596681465486787,
           -0.15971497774585897,
           1,
           0.014565108670534132,
           0.07164598789913075,
           0.052743206410793615,
           -0.017003038059048684,
           -0.10932110003241752,
           -0.02851359221465405,
           -0.028602148844984
          ],
          [
           0.35029199798428345,
           -0.06995658525945365,
           -0.7091107964699702,
           0.08735820678113757,
           0.014565108670534132,
           1,
           -0.3164682501295295,
           0.17387777376175623,
           0.7595724242928918,
           -0.028459539491050623,
           0.11401773090551177,
           0.1916455676981815
          ],
          [
           -0.2557841048653347,
           -0.13203456252176587,
           0.29973973152822125,
           -0.3142998559030547,
           0.07164598789913075,
           -0.3164682501295295,
           1,
           -0.06234712806061889,
           -0.5588938236531733,
           -0.12504620012490858,
           -0.1371187140191706,
           -0.09444020881622293
          ],
          [
           0.02221366049722543,
           -0.04295002368784964,
           -0.09844289738151028,
           -0.0696597044523255,
           0.052743206410793615,
           0.17387777376175623,
           -0.06234712806061889,
           1,
           0.09144172661855732,
           -0.06860593075406679,
           0.11955070410710385,
           0.014857567069808593
          ],
          [
           0.3378977669900986,
           0.052483197651396335,
           -0.6036127005064934,
           0.2679343205070181,
           -0.017003038059048684,
           0.7595724242928918,
           -0.5588938236531733,
           0.09144172661855732,
           1,
           0.09292468076617552,
           0.07902873344113712,
           0.18045939002871472
          ],
          [
           -0.02666406634639214,
           0.5520537744643068,
           -0.03187901141421101,
           0.1809607849711362,
           -0.10932110003241752,
           -0.028459539491050623,
           -0.12504620012490858,
           -0.06860593075406679,
           0.09292468076617552,
           1,
           0.057125553208252515,
           -0.00033755419876421543
          ],
          [
           0.08252614933102408,
           0.12405143773766447,
           -0.12082482277726948,
           0.2267015756782655,
           -0.02851359221465405,
           0.11401773090551177,
           -0.1371187140191706,
           0.11955070410710385,
           0.07902873344113712,
           0.057125553208252515,
           1,
           0.04062153175888837
          ],
          [
           0.07315334866798318,
           0.02311722172289499,
           -0.15474122793050457,
           -0.09486499562608043,
           -0.028602148844984,
           0.1916455676981815,
           -0.09444020881622293,
           0.014857567069808593,
           0.18045939002871472,
           -0.00033755419876421543,
           0.04062153175888837,
           1
          ]
         ]
        }
       ],
       "layout": {
        "coloraxis": {
         "colorscale": [
          [
           0,
           "#0d0887"
          ],
          [
           0.1111111111111111,
           "#46039f"
          ],
          [
           0.2222222222222222,
           "#7201a8"
          ],
          [
           0.3333333333333333,
           "#9c179e"
          ],
          [
           0.4444444444444444,
           "#bd3786"
          ],
          [
           0.5555555555555556,
           "#d8576b"
          ],
          [
           0.6666666666666666,
           "#ed7953"
          ],
          [
           0.7777777777777778,
           "#fb9f3a"
          ],
          [
           0.8888888888888888,
           "#fdca26"
          ],
          [
           1,
           "#f0f921"
          ]
         ]
        },
        "margin": {
         "t": 60
        },
        "template": {
         "data": {
          "bar": [
           {
            "error_x": {
             "color": "#2a3f5f"
            },
            "error_y": {
             "color": "#2a3f5f"
            },
            "marker": {
             "line": {
              "color": "#E5ECF6",
              "width": 0.5
             },
             "pattern": {
              "fillmode": "overlay",
              "size": 10,
              "solidity": 0.2
             }
            },
            "type": "bar"
           }
          ],
          "barpolar": [
           {
            "marker": {
             "line": {
              "color": "#E5ECF6",
              "width": 0.5
             },
             "pattern": {
              "fillmode": "overlay",
              "size": 10,
              "solidity": 0.2
             }
            },
            "type": "barpolar"
           }
          ],
          "carpet": [
           {
            "aaxis": {
             "endlinecolor": "#2a3f5f",
             "gridcolor": "white",
             "linecolor": "white",
             "minorgridcolor": "white",
             "startlinecolor": "#2a3f5f"
            },
            "baxis": {
             "endlinecolor": "#2a3f5f",
             "gridcolor": "white",
             "linecolor": "white",
             "minorgridcolor": "white",
             "startlinecolor": "#2a3f5f"
            },
            "type": "carpet"
           }
          ],
          "choropleth": [
           {
            "colorbar": {
             "outlinewidth": 0,
             "ticks": ""
            },
            "type": "choropleth"
           }
          ],
          "contour": [
           {
            "colorbar": {
             "outlinewidth": 0,
             "ticks": ""
            },
            "colorscale": [
             [
              0,
              "#0d0887"
             ],
             [
              0.1111111111111111,
              "#46039f"
             ],
             [
              0.2222222222222222,
              "#7201a8"
             ],
             [
              0.3333333333333333,
              "#9c179e"
             ],
             [
              0.4444444444444444,
              "#bd3786"
             ],
             [
              0.5555555555555556,
              "#d8576b"
             ],
             [
              0.6666666666666666,
              "#ed7953"
             ],
             [
              0.7777777777777778,
              "#fb9f3a"
             ],
             [
              0.8888888888888888,
              "#fdca26"
             ],
             [
              1,
              "#f0f921"
             ]
            ],
            "type": "contour"
           }
          ],
          "contourcarpet": [
           {
            "colorbar": {
             "outlinewidth": 0,
             "ticks": ""
            },
            "type": "contourcarpet"
           }
          ],
          "heatmap": [
           {
            "colorbar": {
             "outlinewidth": 0,
             "ticks": ""
            },
            "colorscale": [
             [
              0,
              "#0d0887"
             ],
             [
              0.1111111111111111,
              "#46039f"
             ],
             [
              0.2222222222222222,
              "#7201a8"
             ],
             [
              0.3333333333333333,
              "#9c179e"
             ],
             [
              0.4444444444444444,
              "#bd3786"
             ],
             [
              0.5555555555555556,
              "#d8576b"
             ],
             [
              0.6666666666666666,
              "#ed7953"
             ],
             [
              0.7777777777777778,
              "#fb9f3a"
             ],
             [
              0.8888888888888888,
              "#fdca26"
             ],
             [
              1,
              "#f0f921"
             ]
            ],
            "type": "heatmap"
           }
          ],
          "heatmapgl": [
           {
            "colorbar": {
             "outlinewidth": 0,
             "ticks": ""
            },
            "colorscale": [
             [
              0,
              "#0d0887"
             ],
             [
              0.1111111111111111,
              "#46039f"
             ],
             [
              0.2222222222222222,
              "#7201a8"
             ],
             [
              0.3333333333333333,
              "#9c179e"
             ],
             [
              0.4444444444444444,
              "#bd3786"
             ],
             [
              0.5555555555555556,
              "#d8576b"
             ],
             [
              0.6666666666666666,
              "#ed7953"
             ],
             [
              0.7777777777777778,
              "#fb9f3a"
             ],
             [
              0.8888888888888888,
              "#fdca26"
             ],
             [
              1,
              "#f0f921"
             ]
            ],
            "type": "heatmapgl"
           }
          ],
          "histogram": [
           {
            "marker": {
             "pattern": {
              "fillmode": "overlay",
              "size": 10,
              "solidity": 0.2
             }
            },
            "type": "histogram"
           }
          ],
          "histogram2d": [
           {
            "colorbar": {
             "outlinewidth": 0,
             "ticks": ""
            },
            "colorscale": [
             [
              0,
              "#0d0887"
             ],
             [
              0.1111111111111111,
              "#46039f"
             ],
             [
              0.2222222222222222,
              "#7201a8"
             ],
             [
              0.3333333333333333,
              "#9c179e"
             ],
             [
              0.4444444444444444,
              "#bd3786"
             ],
             [
              0.5555555555555556,
              "#d8576b"
             ],
             [
              0.6666666666666666,
              "#ed7953"
             ],
             [
              0.7777777777777778,
              "#fb9f3a"
             ],
             [
              0.8888888888888888,
              "#fdca26"
             ],
             [
              1,
              "#f0f921"
             ]
            ],
            "type": "histogram2d"
           }
          ],
          "histogram2dcontour": [
           {
            "colorbar": {
             "outlinewidth": 0,
             "ticks": ""
            },
            "colorscale": [
             [
              0,
              "#0d0887"
             ],
             [
              0.1111111111111111,
              "#46039f"
             ],
             [
              0.2222222222222222,
              "#7201a8"
             ],
             [
              0.3333333333333333,
              "#9c179e"
             ],
             [
              0.4444444444444444,
              "#bd3786"
             ],
             [
              0.5555555555555556,
              "#d8576b"
             ],
             [
              0.6666666666666666,
              "#ed7953"
             ],
             [
              0.7777777777777778,
              "#fb9f3a"
             ],
             [
              0.8888888888888888,
              "#fdca26"
             ],
             [
              1,
              "#f0f921"
             ]
            ],
            "type": "histogram2dcontour"
           }
          ],
          "mesh3d": [
           {
            "colorbar": {
             "outlinewidth": 0,
             "ticks": ""
            },
            "type": "mesh3d"
           }
          ],
          "parcoords": [
           {
            "line": {
             "colorbar": {
              "outlinewidth": 0,
              "ticks": ""
             }
            },
            "type": "parcoords"
           }
          ],
          "pie": [
           {
            "automargin": true,
            "type": "pie"
           }
          ],
          "scatter": [
           {
            "fillpattern": {
             "fillmode": "overlay",
             "size": 10,
             "solidity": 0.2
            },
            "type": "scatter"
           }
          ],
          "scatter3d": [
           {
            "line": {
             "colorbar": {
              "outlinewidth": 0,
              "ticks": ""
             }
            },
            "marker": {
             "colorbar": {
              "outlinewidth": 0,
              "ticks": ""
             }
            },
            "type": "scatter3d"
           }
          ],
          "scattercarpet": [
           {
            "marker": {
             "colorbar": {
              "outlinewidth": 0,
              "ticks": ""
             }
            },
            "type": "scattercarpet"
           }
          ],
          "scattergeo": [
           {
            "marker": {
             "colorbar": {
              "outlinewidth": 0,
              "ticks": ""
             }
            },
            "type": "scattergeo"
           }
          ],
          "scattergl": [
           {
            "marker": {
             "colorbar": {
              "outlinewidth": 0,
              "ticks": ""
             }
            },
            "type": "scattergl"
           }
          ],
          "scattermapbox": [
           {
            "marker": {
             "colorbar": {
              "outlinewidth": 0,
              "ticks": ""
             }
            },
            "type": "scattermapbox"
           }
          ],
          "scatterpolar": [
           {
            "marker": {
             "colorbar": {
              "outlinewidth": 0,
              "ticks": ""
             }
            },
            "type": "scatterpolar"
           }
          ],
          "scatterpolargl": [
           {
            "marker": {
             "colorbar": {
              "outlinewidth": 0,
              "ticks": ""
             }
            },
            "type": "scatterpolargl"
           }
          ],
          "scatterternary": [
           {
            "marker": {
             "colorbar": {
              "outlinewidth": 0,
              "ticks": ""
             }
            },
            "type": "scatterternary"
           }
          ],
          "surface": [
           {
            "colorbar": {
             "outlinewidth": 0,
             "ticks": ""
            },
            "colorscale": [
             [
              0,
              "#0d0887"
             ],
             [
              0.1111111111111111,
              "#46039f"
             ],
             [
              0.2222222222222222,
              "#7201a8"
             ],
             [
              0.3333333333333333,
              "#9c179e"
             ],
             [
              0.4444444444444444,
              "#bd3786"
             ],
             [
              0.5555555555555556,
              "#d8576b"
             ],
             [
              0.6666666666666666,
              "#ed7953"
             ],
             [
              0.7777777777777778,
              "#fb9f3a"
             ],
             [
              0.8888888888888888,
              "#fdca26"
             ],
             [
              1,
              "#f0f921"
             ]
            ],
            "type": "surface"
           }
          ],
          "table": [
           {
            "cells": {
             "fill": {
              "color": "#EBF0F8"
             },
             "line": {
              "color": "white"
             }
            },
            "header": {
             "fill": {
              "color": "#C8D4E3"
             },
             "line": {
              "color": "white"
             }
            },
            "type": "table"
           }
          ]
         },
         "layout": {
          "annotationdefaults": {
           "arrowcolor": "#2a3f5f",
           "arrowhead": 0,
           "arrowwidth": 1
          },
          "autotypenumbers": "strict",
          "coloraxis": {
           "colorbar": {
            "outlinewidth": 0,
            "ticks": ""
           }
          },
          "colorscale": {
           "diverging": [
            [
             0,
             "#8e0152"
            ],
            [
             0.1,
             "#c51b7d"
            ],
            [
             0.2,
             "#de77ae"
            ],
            [
             0.3,
             "#f1b6da"
            ],
            [
             0.4,
             "#fde0ef"
            ],
            [
             0.5,
             "#f7f7f7"
            ],
            [
             0.6,
             "#e6f5d0"
            ],
            [
             0.7,
             "#b8e186"
            ],
            [
             0.8,
             "#7fbc41"
            ],
            [
             0.9,
             "#4d9221"
            ],
            [
             1,
             "#276419"
            ]
           ],
           "sequential": [
            [
             0,
             "#0d0887"
            ],
            [
             0.1111111111111111,
             "#46039f"
            ],
            [
             0.2222222222222222,
             "#7201a8"
            ],
            [
             0.3333333333333333,
             "#9c179e"
            ],
            [
             0.4444444444444444,
             "#bd3786"
            ],
            [
             0.5555555555555556,
             "#d8576b"
            ],
            [
             0.6666666666666666,
             "#ed7953"
            ],
            [
             0.7777777777777778,
             "#fb9f3a"
            ],
            [
             0.8888888888888888,
             "#fdca26"
            ],
            [
             1,
             "#f0f921"
            ]
           ],
           "sequentialminus": [
            [
             0,
             "#0d0887"
            ],
            [
             0.1111111111111111,
             "#46039f"
            ],
            [
             0.2222222222222222,
             "#7201a8"
            ],
            [
             0.3333333333333333,
             "#9c179e"
            ],
            [
             0.4444444444444444,
             "#bd3786"
            ],
            [
             0.5555555555555556,
             "#d8576b"
            ],
            [
             0.6666666666666666,
             "#ed7953"
            ],
            [
             0.7777777777777778,
             "#fb9f3a"
            ],
            [
             0.8888888888888888,
             "#fdca26"
            ],
            [
             1,
             "#f0f921"
            ]
           ]
          },
          "colorway": [
           "#636efa",
           "#EF553B",
           "#00cc96",
           "#ab63fa",
           "#FFA15A",
           "#19d3f3",
           "#FF6692",
           "#B6E880",
           "#FF97FF",
           "#FECB52"
          ],
          "font": {
           "color": "#2a3f5f"
          },
          "geo": {
           "bgcolor": "white",
           "lakecolor": "white",
           "landcolor": "#E5ECF6",
           "showlakes": true,
           "showland": true,
           "subunitcolor": "white"
          },
          "hoverlabel": {
           "align": "left"
          },
          "hovermode": "closest",
          "mapbox": {
           "style": "light"
          },
          "paper_bgcolor": "white",
          "plot_bgcolor": "#E5ECF6",
          "polar": {
           "angularaxis": {
            "gridcolor": "white",
            "linecolor": "white",
            "ticks": ""
           },
           "bgcolor": "#E5ECF6",
           "radialaxis": {
            "gridcolor": "white",
            "linecolor": "white",
            "ticks": ""
           }
          },
          "scene": {
           "xaxis": {
            "backgroundcolor": "#E5ECF6",
            "gridcolor": "white",
            "gridwidth": 2,
            "linecolor": "white",
            "showbackground": true,
            "ticks": "",
            "zerolinecolor": "white"
           },
           "yaxis": {
            "backgroundcolor": "#E5ECF6",
            "gridcolor": "white",
            "gridwidth": 2,
            "linecolor": "white",
            "showbackground": true,
            "ticks": "",
            "zerolinecolor": "white"
           },
           "zaxis": {
            "backgroundcolor": "#E5ECF6",
            "gridcolor": "white",
            "gridwidth": 2,
            "linecolor": "white",
            "showbackground": true,
            "ticks": "",
            "zerolinecolor": "white"
           }
          },
          "shapedefaults": {
           "line": {
            "color": "#2a3f5f"
           }
          },
          "ternary": {
           "aaxis": {
            "gridcolor": "white",
            "linecolor": "white",
            "ticks": ""
           },
           "baxis": {
            "gridcolor": "white",
            "linecolor": "white",
            "ticks": ""
           },
           "bgcolor": "#E5ECF6",
           "caxis": {
            "gridcolor": "white",
            "linecolor": "white",
            "ticks": ""
           }
          },
          "title": {
           "x": 0.05
          },
          "xaxis": {
           "automargin": true,
           "gridcolor": "white",
           "linecolor": "white",
           "ticks": "",
           "title": {
            "standoff": 15
           },
           "zerolinecolor": "white",
           "zerolinewidth": 2
          },
          "yaxis": {
           "automargin": true,
           "gridcolor": "white",
           "linecolor": "white",
           "ticks": "",
           "title": {
            "standoff": 15
           },
           "zerolinecolor": "white",
           "zerolinewidth": 2
          }
         }
        },
        "xaxis": {
         "anchor": "y",
         "constrain": "domain",
         "domain": [
          0,
          1
         ],
         "scaleanchor": "y"
        },
        "yaxis": {
         "anchor": "x",
         "autorange": "reversed",
         "constrain": "domain",
         "domain": [
          0,
          1
         ]
        }
       }
      }
     },
     "metadata": {},
     "output_type": "display_data"
    }
   ],
   "source": [
    "fig = px.imshow(dados.corr(), text_auto=True)\n",
    "fig.show()"
   ]
  },
  {
   "cell_type": "markdown",
   "metadata": {},
   "source": [
    "# Aplicação de clusterização por gêneros"
   ]
  },
  {
   "cell_type": "code",
   "execution_count": 29,
   "metadata": {},
   "outputs": [
    {
     "data": {
      "text/plain": [
       "21st century classical    1\n",
       "north carolina roots      1\n",
       "nordic soundtrack         1\n",
       "norman ok indie           1\n",
       "norsk lovsang             1\n",
       "                         ..\n",
       "ethio-jazz                1\n",
       "ethiopian pop             1\n",
       "ethnomusicology           1\n",
       "ethnotronica              1\n",
       "zydeco                    1\n",
       "Name: genres, Length: 2973, dtype: int64"
      ]
     },
     "execution_count": 29,
     "metadata": {},
     "output_type": "execute_result"
    }
   ],
   "source": [
    "dados_generos['genres'].value_counts()"
   ]
  },
  {
   "cell_type": "code",
   "execution_count": 30,
   "metadata": {},
   "outputs": [
    {
     "data": {
      "text/html": [
       "<div>\n",
       "<style scoped>\n",
       "    .dataframe tbody tr th:only-of-type {\n",
       "        vertical-align: middle;\n",
       "    }\n",
       "\n",
       "    .dataframe tbody tr th {\n",
       "        vertical-align: top;\n",
       "    }\n",
       "\n",
       "    .dataframe thead th {\n",
       "        text-align: right;\n",
       "    }\n",
       "</style>\n",
       "<table border=\"1\" class=\"dataframe\">\n",
       "  <thead>\n",
       "    <tr style=\"text-align: right;\">\n",
       "      <th></th>\n",
       "      <th>acousticness</th>\n",
       "      <th>danceability</th>\n",
       "      <th>duration_ms</th>\n",
       "      <th>energy</th>\n",
       "      <th>instrumentalness</th>\n",
       "      <th>liveness</th>\n",
       "      <th>loudness</th>\n",
       "      <th>speechiness</th>\n",
       "      <th>tempo</th>\n",
       "      <th>valence</th>\n",
       "      <th>popularity</th>\n",
       "    </tr>\n",
       "  </thead>\n",
       "  <tbody>\n",
       "    <tr>\n",
       "      <th>0</th>\n",
       "      <td>0.979333</td>\n",
       "      <td>0.162883</td>\n",
       "      <td>1.602977e+05</td>\n",
       "      <td>0.071317</td>\n",
       "      <td>0.606834</td>\n",
       "      <td>0.361600</td>\n",
       "      <td>-31.514333</td>\n",
       "      <td>0.040567</td>\n",
       "      <td>75.336500</td>\n",
       "      <td>0.103783</td>\n",
       "      <td>27.833333</td>\n",
       "    </tr>\n",
       "    <tr>\n",
       "      <th>1</th>\n",
       "      <td>0.494780</td>\n",
       "      <td>0.299333</td>\n",
       "      <td>1.048887e+06</td>\n",
       "      <td>0.450678</td>\n",
       "      <td>0.477762</td>\n",
       "      <td>0.131000</td>\n",
       "      <td>-16.854000</td>\n",
       "      <td>0.076817</td>\n",
       "      <td>120.285667</td>\n",
       "      <td>0.221750</td>\n",
       "      <td>52.500000</td>\n",
       "    </tr>\n",
       "    <tr>\n",
       "      <th>2</th>\n",
       "      <td>0.762000</td>\n",
       "      <td>0.712000</td>\n",
       "      <td>1.151770e+05</td>\n",
       "      <td>0.818000</td>\n",
       "      <td>0.876000</td>\n",
       "      <td>0.126000</td>\n",
       "      <td>-9.180000</td>\n",
       "      <td>0.047000</td>\n",
       "      <td>133.444000</td>\n",
       "      <td>0.975000</td>\n",
       "      <td>48.000000</td>\n",
       "    </tr>\n",
       "    <tr>\n",
       "      <th>3</th>\n",
       "      <td>0.651417</td>\n",
       "      <td>0.529093</td>\n",
       "      <td>2.328809e+05</td>\n",
       "      <td>0.419146</td>\n",
       "      <td>0.205309</td>\n",
       "      <td>0.218696</td>\n",
       "      <td>-12.288965</td>\n",
       "      <td>0.107872</td>\n",
       "      <td>112.857352</td>\n",
       "      <td>0.513604</td>\n",
       "      <td>20.859882</td>\n",
       "    </tr>\n",
       "    <tr>\n",
       "      <th>4</th>\n",
       "      <td>0.676557</td>\n",
       "      <td>0.538961</td>\n",
       "      <td>1.906285e+05</td>\n",
       "      <td>0.316434</td>\n",
       "      <td>0.003003</td>\n",
       "      <td>0.172254</td>\n",
       "      <td>-12.479387</td>\n",
       "      <td>0.082851</td>\n",
       "      <td>112.110362</td>\n",
       "      <td>0.448249</td>\n",
       "      <td>45.820071</td>\n",
       "    </tr>\n",
       "  </tbody>\n",
       "</table>\n",
       "</div>"
      ],
      "text/plain": [
       "   acousticness  danceability   duration_ms    energy  instrumentalness  \\\n",
       "0      0.979333      0.162883  1.602977e+05  0.071317          0.606834   \n",
       "1      0.494780      0.299333  1.048887e+06  0.450678          0.477762   \n",
       "2      0.762000      0.712000  1.151770e+05  0.818000          0.876000   \n",
       "3      0.651417      0.529093  2.328809e+05  0.419146          0.205309   \n",
       "4      0.676557      0.538961  1.906285e+05  0.316434          0.003003   \n",
       "\n",
       "   liveness   loudness  speechiness       tempo   valence  popularity  \n",
       "0  0.361600 -31.514333     0.040567   75.336500  0.103783   27.833333  \n",
       "1  0.131000 -16.854000     0.076817  120.285667  0.221750   52.500000  \n",
       "2  0.126000  -9.180000     0.047000  133.444000  0.975000   48.000000  \n",
       "3  0.218696 -12.288965     0.107872  112.857352  0.513604   20.859882  \n",
       "4  0.172254 -12.479387     0.082851  112.110362  0.448249   45.820071  "
      ]
     },
     "execution_count": 30,
     "metadata": {},
     "output_type": "execute_result"
    }
   ],
   "source": [
    "dados_generos1 = dados_generos.drop('genres', axis=1)\n",
    "dados_generos1.head()"
   ]
  },
  {
   "cell_type": "code",
   "execution_count": 31,
   "metadata": {},
   "outputs": [],
   "source": [
    "from sklearn.pipeline import Pipeline\n",
    "from sklearn.preprocessing import StandardScaler\n",
    "from sklearn.decomposition import PCA"
   ]
  },
  {
   "cell_type": "code",
   "execution_count": 32,
   "metadata": {},
   "outputs": [],
   "source": [
    "np.random.seed(1224)\n",
    "pca_pipeline = Pipeline([('scaler', StandardScaler()),('PCA', PCA(n_components=2, random_state=1224))])"
   ]
  },
  {
   "cell_type": "code",
   "execution_count": 34,
   "metadata": {},
   "outputs": [],
   "source": [
    "genre_embedding_pca = pca_pipeline.fit_transform(dados_generos1)\n",
    "projection = pd.DataFrame(columns=['x', 'y'], data=genre_embedding_pca)"
   ]
  },
  {
   "cell_type": "code",
   "execution_count": 35,
   "metadata": {},
   "outputs": [
    {
     "data": {
      "text/html": [
       "<div>\n",
       "<style scoped>\n",
       "    .dataframe tbody tr th:only-of-type {\n",
       "        vertical-align: middle;\n",
       "    }\n",
       "\n",
       "    .dataframe tbody tr th {\n",
       "        vertical-align: top;\n",
       "    }\n",
       "\n",
       "    .dataframe thead th {\n",
       "        text-align: right;\n",
       "    }\n",
       "</style>\n",
       "<table border=\"1\" class=\"dataframe\">\n",
       "  <thead>\n",
       "    <tr style=\"text-align: right;\">\n",
       "      <th></th>\n",
       "      <th>x</th>\n",
       "      <th>y</th>\n",
       "    </tr>\n",
       "  </thead>\n",
       "  <tbody>\n",
       "    <tr>\n",
       "      <th>0</th>\n",
       "      <td>5.910268</td>\n",
       "      <td>-0.011146</td>\n",
       "    </tr>\n",
       "    <tr>\n",
       "      <th>1</th>\n",
       "      <td>2.787093</td>\n",
       "      <td>4.498483</td>\n",
       "    </tr>\n",
       "    <tr>\n",
       "      <th>2</th>\n",
       "      <td>-0.757538</td>\n",
       "      <td>-1.258495</td>\n",
       "    </tr>\n",
       "    <tr>\n",
       "      <th>3</th>\n",
       "      <td>1.020521</td>\n",
       "      <td>-0.931690</td>\n",
       "    </tr>\n",
       "    <tr>\n",
       "      <th>4</th>\n",
       "      <td>0.753911</td>\n",
       "      <td>-0.999861</td>\n",
       "    </tr>\n",
       "    <tr>\n",
       "      <th>...</th>\n",
       "      <td>...</td>\n",
       "      <td>...</td>\n",
       "    </tr>\n",
       "    <tr>\n",
       "      <th>2968</th>\n",
       "      <td>-0.475136</td>\n",
       "      <td>-0.017126</td>\n",
       "    </tr>\n",
       "    <tr>\n",
       "      <th>2969</th>\n",
       "      <td>-3.026756</td>\n",
       "      <td>-1.304983</td>\n",
       "    </tr>\n",
       "    <tr>\n",
       "      <th>2970</th>\n",
       "      <td>-0.832511</td>\n",
       "      <td>-1.089726</td>\n",
       "    </tr>\n",
       "    <tr>\n",
       "      <th>2971</th>\n",
       "      <td>1.774790</td>\n",
       "      <td>-3.695233</td>\n",
       "    </tr>\n",
       "    <tr>\n",
       "      <th>2972</th>\n",
       "      <td>-1.028069</td>\n",
       "      <td>-1.390709</td>\n",
       "    </tr>\n",
       "  </tbody>\n",
       "</table>\n",
       "<p>2973 rows × 2 columns</p>\n",
       "</div>"
      ],
      "text/plain": [
       "             x         y\n",
       "0     5.910268 -0.011146\n",
       "1     2.787093  4.498483\n",
       "2    -0.757538 -1.258495\n",
       "3     1.020521 -0.931690\n",
       "4     0.753911 -0.999861\n",
       "...        ...       ...\n",
       "2968 -0.475136 -0.017126\n",
       "2969 -3.026756 -1.304983\n",
       "2970 -0.832511 -1.089726\n",
       "2971  1.774790 -3.695233\n",
       "2972 -1.028069 -1.390709\n",
       "\n",
       "[2973 rows x 2 columns]"
      ]
     },
     "execution_count": 35,
     "metadata": {},
     "output_type": "execute_result"
    }
   ],
   "source": [
    "projection"
   ]
  },
  {
   "cell_type": "code",
   "execution_count": 36,
   "metadata": {},
   "outputs": [
    {
     "data": {
      "application/vnd.plotly.v1+json": {
       "config": {
        "plotlyServerURL": "https://plot.ly"
       },
       "data": [
        {
         "hovertemplate": "x=%{x}<br>y=%{y}<extra></extra>",
         "legendgroup": "",
         "marker": {
          "color": "#636efa",
          "symbol": "circle"
         },
         "mode": "markers",
         "name": "",
         "showlegend": false,
         "type": "scattergl",
         "x": [
          5.910268108221796,
          2.787093152808597,
          -0.7575375383744644,
          1.0205214866168164,
          0.7539105142791427,
          1.7971062652419432,
          -0.46204960544893675,
          -1.3116722595637278,
          0.5984179553898566,
          0.5982012013950387,
          -1.1656525385277163,
          -0.07118124655696008,
          -2.1717115858284033,
          3.673296663029773,
          0.8327855889826036,
          0.0014059392111352368,
          -0.9273057420077763,
          0.6796203745139373,
          -1.4878005371777197,
          -0.2501697630725653,
          0.9541894103960772,
          0.8894938464845359,
          -0.9349244756981571,
          2.435242216702913,
          -0.5794096848078708,
          -1.6872704870086705,
          -1.0665290759030304,
          3.7433087585819376,
          -2.154301657445697,
          -1.0808503055522531,
          -0.9549632645218945,
          -3.2358726515928047,
          -1.7119755341735599,
          -0.4336563737020204,
          -0.6062336832001031,
          -0.9441629326199642,
          -0.21897352791237,
          -1.561766720905517,
          -1.3458348880477153,
          -0.6937048482628622,
          -1.6190405446647023,
          -1.5333276858350362,
          -1.6988335792571179,
          -1.809396508350611,
          1.0018621405554724,
          -1.5505557919539072,
          -2.616201799535106,
          -0.7218561265706743,
          -0.9358284356998543,
          -2.321719004377391,
          -2.169859771706422,
          -0.11704076484140126,
          -0.17798254163413843,
          -1.3770978627884987,
          -1.2775706484489133,
          -1.6689082229336616,
          -1.4330066722916905,
          -0.8812940272849354,
          -1.933727851085026,
          -0.991956176952392,
          -0.8554408012501146,
          -0.4500486285925352,
          -1.0642892702634448,
          3.4626062715850803,
          0.6998427652454094,
          1.02469792293124,
          -0.8535513919608642,
          0.6504792609298533,
          -0.47748776932747167,
          3.654736858516909,
          -0.568028449381515,
          1.2275685578826758,
          6.3081845443020494,
          3.3947572178066805,
          4.909954292792237,
          4.521497311111673,
          3.4368402266794464,
          1.7065111212663087,
          -1.9949213104070938,
          2.8835226719022287,
          -0.04924041576369437,
          4.251881907817704,
          1.5205339090003154,
          2.7578274763525545,
          3.818868841818889,
          0.5222233385124366,
          0.6640664570007114,
          -1.8377265384972319,
          4.307369932725619,
          -0.9793272008623104,
          -1.7532546732907166,
          -2.255179190561469,
          -2.290441566421831,
          -0.28007894163165425,
          0.22291185347269302,
          -1.510182195528754,
          -0.6192845089796348,
          -0.07420986987072395,
          1.6728243374303775,
          -1.9433530146570515,
          1.0149766128732867,
          2.7195576686454275,
          0.9057166961074983,
          -0.21837300691801131,
          -0.2625665565621547,
          0.844908045381964,
          2.8327794759317704,
          1.4614957709996301,
          -1.5842602988284031,
          -1.8856176787118513,
          -2.3938664259095868,
          -0.008422928392726467,
          -3.0786420856227763,
          -1.6438199733026315,
          -2.039372984415573,
          -0.9968674357840727,
          -1.9809887425444201,
          -1.9736099706764765,
          -0.21426030082170974,
          -2.3201588880940083,
          0.6288114935083478,
          5.26271854464112,
          -0.12166536408823822,
          -1.012105475461397,
          0.03526096300568458,
          3.492610514342792,
          -1.275371044901419,
          0.3282646881366828,
          -1.6951789119860834,
          3.728617793312959,
          -0.6107015592017132,
          -1.9032893260849424,
          -1.8874273931826764,
          -1.4787588103471294,
          -1.6879273436441142,
          -2.160665941591212,
          4.658088207506922,
          0.6998427652454094,
          -1.809447455313154,
          0.6443884999442757,
          -2.818281416913889,
          0.6443884999442757,
          -1.4716926838801565,
          1.8781753016297529,
          -1.1338434847768157,
          -0.770251667088677,
          -0.5221138504004779,
          -0.9270989547196365,
          0.5931378934821808,
          -1.384325162668836,
          5.271177784407824,
          -0.9642170705834142,
          3.7543195842804704,
          2.992652708073432,
          4.167831601809081,
          -0.38962807933174654,
          -1.6424751435576153,
          -1.1675433931298085,
          -1.7381524969306463,
          -1.9383384408051363,
          -1.675752945490252,
          -1.1873372651487168,
          -0.354192746975477,
          -1.9748930162104523,
          -1.4332166640427941,
          -1.8599621279939214,
          -1.628508125210333,
          -1.2616275422044294,
          -1.2397362810749417,
          0.18868288124372679,
          -1.20180297916883,
          0.07754390698956962,
          -0.4360699705802092,
          -1.2727953385235424,
          -1.0274090397486306,
          -1.8617821657705755,
          -0.8788683358223206,
          -2.6221998744781327,
          -1.6576596345415082,
          4.075563099476098,
          4.894322340584225,
          4.158854712674681,
          0.3441558565252692,
          3.2529655317034636,
          -2.0146663246069774,
          0.19335161691421646,
          0.5398747178532823,
          4.407656001383203,
          2.3595535652176167,
          -1.0134812826832025,
          -1.477559825349807,
          1.7516550987332948,
          -1.9813204401207771,
          -1.592114847773863,
          -1.8603543986322129,
          -1.6438683942628756,
          4.743511527342345,
          2.1646111991229064,
          1.9271058748133276,
          0.24867553257171157,
          0.26404958881534496,
          -3.106214577644641,
          1.0069292318079601,
          0.7363487998666433,
          0.013770393933029085,
          -0.9862592055897749,
          -0.010758925244006156,
          5.381249937095065,
          3.0311340782567413,
          2.1219579799750288,
          5.376825054885021,
          -1.8715344938197191,
          -0.825704450018687,
          -1.8050999520940798,
          -1.5965747063171418,
          -1.390362051849044,
          2.3817849882339295,
          0.3267105421940253,
          1.1855448365432086,
          2.2307952333073517,
          0.18273407852012655,
          4.8198133861135934,
          -1.8931190472758415,
          1.0877277036361295,
          1.2390028548321221,
          2.394036667746408,
          2.5765941967237236,
          3.7581250644676385,
          3.603387921723097,
          3.089296631764704,
          -0.2978414883711012,
          4.1384570456582574,
          2.6839649557379306,
          0.9951124914788209,
          -1.6409269228190309,
          -0.10733653159368241,
          -1.7242942774158063,
          -2.2972037194660837,
          -2.1511737708624032,
          -1.575918141576342,
          -1.3487051914956154,
          -2.026548482080461,
          -2.120690474768991,
          -1.9307654535976828,
          -0.9234066530601985,
          -1.2516471860681762,
          -1.911351662006333,
          0.7812550919890985,
          -0.5237497338668545,
          1.5258122967139605,
          -1.4815229037775175,
          -0.8608015003990196,
          2.066445088869666,
          -0.3918110027355385,
          -0.8627420859305038,
          -1.7244851503949108,
          -2.4519764221514806,
          -2.4519764221514806,
          4.911094086350669,
          2.1284228776298395,
          -2.0262276800530064,
          -1.725968840092767,
          -1.7612462995881795,
          -0.32942484453738186,
          -0.7167812722224344,
          2.359912655797253,
          -0.4109516244751065,
          -2.0724990678317314,
          0.49415125488177775,
          0.39473675784610646,
          0.5011147455994408,
          -0.15019477310741186,
          2.2643665658299263,
          -1.3540154536804478,
          -1.4700532554453178,
          -0.3914865896117505,
          2.928686830844198,
          1.562734494181794,
          -1.8046533953228476,
          4.421919934709002,
          1.6666341252458163,
          -0.8630069468661097,
          -1.8240161816083955,
          6.202329832453555,
          2.7007297571142255,
          -1.9219988731601132,
          -3.8853351569825403,
          -0.3237352337227917,
          -1.4830437992216363,
          -0.6661581305866565,
          -0.8975313027897451,
          -0.27150010958598886,
          -2.0260074964118413,
          0.030668548225326397,
          -0.6661581305866565,
          1.6679376175634029,
          -0.9628431990032479,
          0.05229047058608241,
          1.434242837067082,
          -0.07440927214208816,
          0.31619568972430295,
          -1.6854348307187546,
          -1.3783735498215965,
          -0.5302811239602097,
          -1.9482834157370152,
          0.43768166538024394,
          0.4611651127096495,
          -0.6169217471719339,
          -1.1400256377059395,
          1.253322043592563,
          -1.80650114236213,
          -2.1058975606514707,
          0.5834156893519923,
          0.6150431813346553,
          0.8314068380244779,
          -1.16774983309472,
          -1.8797451580250872,
          -1.57373138286668,
          -1.7148709729100622,
          -1.2187163240425563,
          -0.9081075934919391,
          -2.407638506198658,
          -2.6312477371308924,
          1.5673168136376308,
          1.26067613747644,
          -1.2731362784415345,
          -1.9933897451720641,
          6.07839256833135,
          6.202329832453555,
          1.880647197466101,
          0.4855038489729517,
          3.7247868746474677,
          4.999022851023023,
          -0.6507019188068329,
          2.831754032108113,
          5.157224121091326,
          3.8192902746508133,
          -1.8812815325483487,
          -1.0170415780895805,
          -2.343114277873316,
          -0.06139419459486139,
          1.1244973226335102,
          -1.0170415780895805,
          1.5499874451851456,
          -0.2388043987908902,
          -2.0548948833262504,
          -1.460853691933291,
          -1.2511268482027658,
          -1.432623136909021,
          -0.832205004089302,
          -1.0170415780895805,
          -1.4771002595731544,
          -2.6286065993341627,
          -0.2103525565903904,
          3.7220411064919334,
          -0.660193772766153,
          -0.08898081277070466,
          -1.379642428763031,
          0.8934594009314079,
          -0.6029963198787514,
          -0.7120551860400124,
          -0.776983937946849,
          -0.6805758573158152,
          -0.24279844901403602,
          -1.9562315383510172,
          4.118042026063588,
          5.713741031844162,
          -0.7417411626392657,
          4.4240950991477765,
          2.32731824062954,
          0.01776347120644865,
          0.3014939930849978,
          0.9650215283895124,
          0.022468392622497547,
          -1.2199650459691427,
          0.3417751159053108,
          -0.5378912868672489,
          0.8644678960471956,
          4.004696577326857,
          4.008320181774839,
          1.382966313126258,
          -2.057429789142765,
          1.3094774137593321,
          -1.2244223547667659,
          3.301387747874776,
          -1.1107604184765907,
          0.5360702750732721,
          -0.24744053697254817,
          -1.9441899850782955,
          -2.133057653760355,
          -1.089118791860402,
          -1.8302469752259658,
          -0.15516416449344048,
          -0.9951653539849217,
          -1.359606053701547,
          -0.6110809564064197,
          -2.549815498266095,
          -0.6067753052647109,
          -0.728887274846932,
          -0.642756120234147,
          -0.8384661829154185,
          7.048160534198858,
          3.086299510078866,
          1.6499160539143831,
          0.5039626516959591,
          -0.7628234779254307,
          1.9098861430974072,
          -0.7381554703584149,
          -1.210505037533961,
          -1.6165006411449994,
          2.915285284524167,
          0.7875315395435429,
          -1.471306650865295,
          3.8405366544879813,
          0.818010580992293,
          -1.5363920461225542,
          1.5017010248753808,
          -0.8269573928584245,
          -1.236553798486351,
          -1.1213910396496651,
          0.35325357571309435,
          4.156988672470465,
          4.181143915852832,
          5.874241617946343,
          0.7726737970500196,
          -1.238465158422996,
          0.17391144426442515,
          -0.2910191568213264,
          -1.3643289196729795,
          -1.0013576229512064,
          2.8143610849320857,
          1.0152267748235702,
          -0.8997096472317095,
          -1.8161225830951824,
          -0.40691985636643013,
          -0.6222506022041562,
          0.9298554236724583,
          -0.031158874814143547,
          -1.8953253854100023,
          -2.0864594737726603,
          -1.0330740365002853,
          -1.648478835334429,
          -0.07688967377256148,
          -0.9626729037514551,
          -2.014035053021468,
          -1.3293413005641421,
          2.960200102558327,
          0.3366612973343736,
          -1.7136150221763624,
          -1.4322797629514956,
          -0.992972414669235,
          0.3710468481112417,
          2.6387134059669615,
          -0.02807780164997967,
          -1.6676648655046546,
          -0.6079060289417971,
          0.022377474382159604,
          0.964520377690715,
          1.2387761280336036,
          0.3211546567581574,
          0.39931016340159886,
          1.448049386029835,
          2.279897641894936,
          -0.22663402010361794,
          0.25316511117440293,
          -0.21480126217786208,
          -2.462853233747325,
          1.3697801765358,
          1.7508953452310574,
          1.386329849583343,
          -1.2538737101450241,
          5.133050169971332,
          3.5265151258837033,
          6.346033202222229,
          -0.6161373499207318,
          -2.3748289472525212,
          2.2533078147803636,
          0.8167571253489772,
          3.6537653788133917,
          -1.8047421918261308,
          -1.8627951125034818,
          -0.9242152643491618,
          0.7066524688936524,
          4.94259805397587,
          1.125233612783273,
          4.795289250255232,
          2.4635678490115023,
          -0.09446247231001562,
          4.2473064828726885,
          0.24903576136687045,
          -0.11019294017436526,
          -1.8060319312706914,
          -1.4690797127486268,
          -0.025425946360965904,
          0.33700374221790086,
          -1.027211372597085,
          -1.18066016104435,
          -0.0846238341474118,
          -1.2131974145350373,
          -1.5289774319052674,
          -1.337808685779718,
          0.9015460755941914,
          0.34704130353341267,
          -1.8391030814300071,
          -1.2105926310370028,
          -1.3843046322401937,
          -1.1745523891881098,
          -0.8900534710795275,
          -1.7792525918076767,
          -1.762901531375016,
          -0.22626369877920632,
          -1.359674374010853,
          -1.4373298042223694,
          -1.0505476390009743,
          -1.232690715418207,
          1.3565283499092404,
          -0.3174215584679019,
          -0.8073456954282051,
          0.6294753135461072,
          -2.017437359162995,
          -0.11454795107119022,
          -0.579736723683012,
          -1.818890510165643,
          -0.2170509895157007,
          4.529430260517022,
          0.33318971537504777,
          0.9708797436014698,
          -0.17127054263204278,
          -0.7941852500264397,
          0.15892132499726597,
          -1.1876432241511585,
          -0.6402858806840851,
          0.8750838457096453,
          3.608731581729163,
          5.022988638057474,
          5.805832447701816,
          -2.4845855869545885,
          -0.06723872685756628,
          -1.8199456802868206,
          -0.16463751050254655,
          -0.9373426065815237,
          3.695987464448699,
          -0.11499063549310332,
          -0.31191194974263736,
          3.608731581729163,
          2.9628211173285997,
          1.974525554328065,
          -1.8693347569376917,
          3.926583529422469,
          0.8514655969973881,
          0.2516548733824608,
          1.5069037952476547,
          0.8765073635953349,
          -0.8493286256975383,
          -2.7670422182850585,
          -1.9426782361716541,
          -1.9404583741889683,
          -2.3277141531057537,
          -0.4893008855169202,
          -1.2448085534620572,
          -1.4681887969761533,
          -0.4197705078970213,
          -1.1794041820554682,
          -0.7316519448921269,
          -1.9934477924940717,
          2.6589574687484174,
          -1.8424902425655343,
          -1.975203754135941,
          0.4973821345345376,
          2.803014248045931,
          0.8898853897758207,
          -1.699721623048426,
          -1.118965770026398,
          -2.2297276153308547,
          -0.7369155743144535,
          -2.88605797276724,
          -0.04773120798274681,
          -1.2455077589325854,
          1.5812933821637352,
          0.3862402573486099,
          -1.3826420603119798,
          -2.4775829776870526,
          1.1497627661579257,
          -1.0859697564578694,
          0.620709962094117,
          -0.07313623450419075,
          0.0026958861477237236,
          2.170027229768548,
          0.36718627717097735,
          -0.9314426872002078,
          2.3532485455974843,
          -1.0597890934720624,
          -2.2761098556941275,
          -0.7031780913867135,
          -0.29266338241288775,
          1.0280402330301834,
          -1.1648221376777204,
          0.45116045775254926,
          -0.5491172599185642,
          -0.6751459147216371,
          0.2997968815429107,
          2.6834129126268174,
          0.5984074638508646,
          -0.5498879058004911,
          1.5305789710549693,
          1.6719273733102393,
          2.3650341880945853,
          0.5073760258805263,
          -1.353909825927528,
          0.5151319213344545,
          1.0608289232294803,
          0.5729789672192863,
          -0.7152407495550094,
          -0.043178192952211265,
          1.621725874645387,
          0.3675158568404518,
          -0.7640261804664333,
          -0.5419837729171587,
          1.0156004276682962,
          -1.0104901039718694,
          0.3474543065382506,
          -0.2807461940428696,
          3.1877031348523173,
          -0.5452603790317775,
          -1.6326205624300472,
          -1.1815682360615931,
          0.48316178858881303,
          -0.4662482753257247,
          -0.6461748391001956,
          4.245475571774248,
          -0.17032794041760121,
          3.4798674918083163,
          3.8409758809403733,
          4.9639387819470056,
          4.408080150824805,
          4.139496296933866,
          4.031285308102282,
          3.9363214242194,
          4.187078489713529,
          4.917808163601024,
          4.959531607032037,
          5.491363812178905,
          1.5324624690552513,
          3.7860049701944325,
          4.224405197605617,
          3.8134457247031857,
          4.269047290947434,
          5.355886276386328,
          5.634525317250323,
          5.131366024213478,
          1.5778734844665694,
          3.628399804806302,
          3.374867958400431,
          3.136640936473181,
          1.546461664099165,
          1.7734555001668173,
          -0.5736981384083435,
          -1.3474769379185083,
          -1.4095676969430257,
          -1.7902349574504652,
          -0.9599392716314987,
          -2.337850209070729,
          -1.9219232563386335,
          -1.4554683365959484,
          -1.9072262876723387,
          -0.6716795002770616,
          -2.004656223155102,
          0.32515666255138126,
          -1.1523860720717645,
          -1.4557044571067252,
          0.1805907136268431,
          -1.9079350595148405,
          3.523659061137908,
          -2.0491186934792074,
          3.6180834062291574,
          -1.7374845146577123,
          -1.4392948516572375,
          -1.5714083380161576,
          6.3081845443020494,
          5.008294840003466,
          5.403265664257096,
          -1.485371002996555,
          0.3311437672951784,
          -0.4641995131727802,
          2.7937786280697074,
          2.2293271459533797,
          1.3893334009215694,
          4.2692235101105975,
          2.147444725142786,
          0.7629686163768574,
          0.531388064953961,
          -1.1115207404332903,
          -1.820420933387243,
          -2.19213764556915,
          -1.6730626775637136,
          -0.5625611286937763,
          0.4519180457487405,
          1.9195738575431953,
          -0.870217070825728,
          1.0741748437686005,
          -0.22718136569597833,
          -0.8526204872249917,
          0.4309833958102203,
          -1.5594414900234008,
          -1.788385764949039,
          -1.284369082803471,
          -0.32892936146030227,
          1.0518143755809586,
          0.5340816012176944,
          -1.1097151949345363,
          -1.9685741228713425,
          1.3526971314440277,
          -1.1080951590932855,
          -1.1080951590932855,
          -0.786258132344949,
          -2.1866569882184597,
          -0.7966028054395357,
          -1.8418411545862157,
          -0.7800250543797588,
          -2.4784838201281785,
          0.25976035564036415,
          -1.3550297693817055,
          -1.6177557993272036,
          -1.826077210356714,
          -2.3046905029491978,
          -1.7235553968485782,
          -1.376194964792646,
          -1.0218757432852519,
          -1.7791379054828058,
          -2.6566225729098765,
          1.0291146255100543,
          -3.0946663512600643,
          0.2724699225082943,
          -1.790007185391617,
          -2.4793830877712453,
          -1.8871690235505936,
          -2.6430738121785384,
          -0.3573801366614923,
          -2.5671936495562444,
          1.3794835128663618,
          4.525123553936602,
          4.71688518669975,
          2.595025591971072,
          -1.1366165372990915,
          1.9842254319975163,
          -2.428139142503913,
          -1.3561754011404563,
          -1.6507557002712356,
          -0.9916773688297726,
          -1.4614838432330994,
          -2.1097261247542565,
          -0.5491172599185642,
          -1.985274255033779,
          4.386572613899498,
          -1.1101722919442198,
          3.3776002947938055,
          -2.4344247833985992,
          3.593493867103379,
          -0.4964313208292131,
          -2.4420108168095624,
          1.0393967728352198,
          0.02417263635028242,
          -2.5360436014647685,
          -1.4224961761214614,
          0.02417263635028242,
          -0.2612995615269703,
          -0.9108428135470139,
          2.0940424856091573,
          -2.5645649137076556,
          -1.2386221853149904,
          -0.30842192358759607,
          -1.5155895125722465,
          -2.031298614678039,
          3.863104889734332,
          -0.10838299594407673,
          -0.6022552644160737,
          0.5177509655213368,
          -1.7090697231493617,
          -0.2761452223050105,
          -0.7551372548019913,
          -1.3763064760423576,
          -0.5312260392016581,
          0.23717195172482522,
          -0.30260817294212106,
          -0.5065280021147454,
          -1.2055895512885546,
          -0.8204348260187281,
          0.2660650637100625,
          -0.2988442146153758,
          -0.8728012554034774,
          -1.7175667292646424,
          -1.5155528888804235,
          0.8864093485671766,
          -1.6766468747459689,
          -0.46943459661423353,
          0.8710775895722584,
          -0.8644705676615143,
          -0.7144561741353841,
          -0.44068855694914855,
          -2.790270900922429,
          2.89041461765467,
          -1.1507276718314732,
          -0.8031773216691002,
          -1.9473824019540271,
          -2.1629636170947384,
          -1.4723654985500982,
          -2.68931214028442,
          0.9240011933509127,
          -1.7474528809598442,
          -0.1457665336864971,
          -1.8983586902445297,
          -2.669347847935739,
          -0.522169374449333,
          -1.454843494941697,
          -1.028309638166624,
          2.3622397711804517,
          0.5436395862813672,
          -1.8689304368530792,
          1.171003621255903,
          0.6999040042938866,
          -1.7044471429551558,
          -0.5920546990026885,
          0.4498649728207422,
          -0.329574514808915,
          -1.6376693914418623,
          -1.4572609901665485,
          2.4660708696178233,
          -1.209595367594975,
          0.5254555899481629,
          0.0754714748481075,
          -1.58471343936437,
          -2.908061928223544,
          -1.176508440804873,
          -1.9119343526634294,
          0.9356036829290554,
          -0.36086600256967344,
          0.9679635861196798,
          4.69981667536884,
          -0.47233140556173453,
          -2.0056305322142793,
          1.5727472398500448,
          -0.9464089318334722,
          1.4686267276229223,
          0.5011147455994408,
          -1.3537495043623888,
          -1.843412047612339,
          -0.6537657414667497,
          0.8902655962892361,
          -2.8162591250589326,
          -1.22350958863517,
          -1.5127849605175312,
          -0.9684779368006291,
          1.1487058582651961,
          -1.0984469249325672,
          0.5022377972137848,
          -1.4812543999863002,
          -0.5435665341609954,
          -1.2909649366086222,
          -2.1628333074786084,
          -0.8354743294354073,
          -0.0331485624612465,
          -2.0149265692493215,
          1.796033242084349,
          0.7846163460118235,
          0.3211437615970804,
          -2.1901371392226108,
          2.597137364064701,
          -1.612796711737504,
          3.0260530289477527,
          -2.065705645766964,
          -1.521099337417588,
          -0.9258655178346523,
          -2.0743795323201746,
          0.7511849781136251,
          -1.7164833605229055,
          1.3199455730608438,
          -0.2996749088548954,
          -1.0601592783170943,
          -1.5793861632167507,
          -1.6924656514757936,
          -3.133177732795543,
          -0.03724623286297084,
          -0.08421121464130013,
          -0.7467746719958058,
          -0.16470824566879225,
          1.4022482201741095,
          0.46779897642367363,
          -1.3373216840889648,
          0.08110278845448585,
          -1.3779265458413692,
          5.031107844903644,
          -1.8983922147789358,
          0.5995552083481104,
          3.525204639447457,
          2.2683191496362345,
          0.9096299592015589,
          -1.0264189143478981,
          -1.0690904627080797,
          0.6556631320797388,
          -2.0237690194122613,
          2.1959209999050615,
          -1.9202674340983554,
          0.65212688293358,
          5.26271854464112,
          -0.6974112188432167,
          0.7820338260369201,
          -0.20904323278860876,
          0.6998427652454094,
          -2.022433523975873,
          0.4712071639952831,
          -1.2604802866831233,
          1.827145455088547,
          6.083318328609314,
          -0.8508696332442799,
          -2.082504837264758,
          -2.224336625502375,
          1.4014298850676425,
          -2.7228295299586813,
          -1.6085417664418034,
          1.6013054390496702,
          3.317048515490678,
          -0.8936287712527988,
          -1.0459539727090406,
          -0.7263218841933008,
          -2.9436481698922834,
          0.06221403756445196,
          -1.1663865563967557,
          -0.5132483562854903,
          0.6525178740460731,
          2.2136234284814904,
          4.157689233042859,
          3.9952644486572786,
          3.744144134343592,
          3.3340361292652174,
          -0.6706922862361617,
          3.721083602469273,
          -0.7220199150774425,
          -1.5037488884709553,
          -1.8208063443174334,
          -1.3092499530556874,
          -0.5828274996029225,
          1.876743018100115,
          -2.3135721971896457,
          0.7099128201293115,
          -0.7812682277707916,
          3.3949279818682645,
          0.9032880273730494,
          -1.536580454217273,
          -1.6283452043117548,
          -1.7022684814942106,
          -2.435285435228313,
          2.018654282616748,
          -0.31661555156393456,
          -0.8941954290264572,
          1.1047609784727368,
          -0.19612740703368478,
          -1.3280200419065087,
          -1.8704463127127662,
          -0.7325588346573662,
          -2.43221045563251,
          -1.0631051517428252,
          -0.9018458559798223,
          -0.5690495861384959,
          -1.7303866732825899,
          -2.1007718092553684,
          0.12062405251041679,
          -1.5280973319537656,
          -1.9108022973619925,
          -0.21031089609908846,
          -1.7943548127338866,
          -1.5361213058279384,
          -2.21600013672797,
          -1.4955985695299734,
          -2.5500589751698035,
          -1.098226216720646,
          -1.2393277340386923,
          -0.8577092210584608,
          3.6603956645131968,
          -2.6601514416636056,
          4.225043041397311,
          0.4150807814857096,
          1.188059738799602,
          2.7531891075881956,
          -0.29049845972909016,
          0.5136929486352005,
          1.879218880668548,
          -1.6657745499794459,
          4.166293634806012,
          -0.522169374449333,
          1.0434337104662192,
          -1.8730996534974451,
          0.8500285353730027,
          -0.3318503843828148,
          0.27442997513218703,
          3.481276240454132,
          2.331775500646687,
          -0.07084590733890425,
          -1.2092837434063104,
          -1.3631427295039156,
          -2.4502227813858077,
          -2.08847699347886,
          -1.8057549808143714,
          -3.3995837310824433,
          -1.6998225891375307,
          1.5209018222443886,
          0.7646308800896887,
          4.478609512834527,
          2.466113319803972,
          -2.2354904599284455,
          -0.8246614851720219,
          3.43245064507633,
          -0.48823623226826857,
          -2.081322355130965,
          0.14989400405551778,
          1.8973889528910997,
          -0.13683775308019488,
          0.45025923423541914,
          2.095768666277787,
          0.9153914685653918,
          0.5857264273779652,
          2.233359533306139,
          -3.0450765877715447,
          -2.3291508714311795,
          0.45432202704512537,
          -1.630120735089729,
          -1.4143229884606345,
          0.24435456870028263,
          3.2107996485644135,
          -0.9304532954544286,
          5.150035753984851,
          5.004281707388853,
          -1.3148675759101847,
          -0.7597385878813321,
          -1.662837548741968,
          -1.8902303297831162,
          -1.53284673525227,
          -1.2536233695640093,
          -1.230235225523597,
          0.10461162581345575,
          0.5222047642496486,
          4.431045401922309,
          -1.1896884868417072,
          0.38265151072862436,
          -0.7773625634585382,
          -1.4952959189875181,
          1.6675267223984012,
          1.4852428780681377,
          4.356729544123444,
          -0.9108592533331872,
          0.18164272293418615,
          -1.8732582454237807,
          -1.6946786996734715,
          0.4358314317588755,
          0.48799101985832494,
          2.7658581502204433,
          1.9540876681797315,
          -0.1761359959909162,
          0.42279312293853283,
          -1.6117359369821918,
          -1.0419915528465544,
          -0.12021237473150621,
          -0.11140233801850603,
          -0.3443427862674369,
          0.6672750904822249,
          -1.2131974145350373,
          2.5136903101093666,
          1.1845545043666204,
          -1.7553890311473133,
          -0.6992418306210518,
          -1.0580195579562384,
          2.3119403786115758,
          -0.13688948178293034,
          -0.8741749815567257,
          -0.9304422088236284,
          -0.9840382097343741,
          -1.3564305630785596,
          3.396628728792953,
          -1.7688160662074732,
          0.2532494653975698,
          -0.5625432966733267,
          0.13894980838009274,
          2.9951823246963136,
          2.321929694779632,
          -1.4964895263633495,
          3.274369314931623,
          5.335536638163788,
          1.1970948667173502,
          -0.9325106706495231,
          -1.034809835802781,
          -2.025148199151577,
          1.0657747825801045,
          -0.3857410564931714,
          -0.6253799907794831,
          1.5479900682861587,
          -0.9325106706495231,
          1.1810200528402168,
          3.6809276424008925,
          3.757014733272659,
          0.012415187357943747,
          -3.03056971903183,
          -0.9098410453161855,
          -1.5191912139342907,
          -0.9195814288618515,
          3.8284561838288984,
          -1.1117133103932155,
          2.2673373620579844,
          -1.5150721309734048,
          -1.3925033257613093,
          -1.2995846666732842,
          -0.12266151502753594,
          -1.8668753039071264,
          -1.5018729408205718,
          -0.5700160017381595,
          3.0398822705104624,
          -1.8005405433301183,
          -3.6632315599681724,
          -1.467945509235146,
          -1.0800614696303612,
          0.8055109936842512,
          -2.820267239135906,
          -3.4529710337762136,
          -1.111063517255606,
          -2.791897090464665,
          -0.6542529218710768,
          -1.2316328350265477,
          -1.3092383176769793,
          -0.4469941032014107,
          -2.114793859435533,
          -0.8486770478305623,
          -0.9409778444685297,
          -1.8320832439959573,
          -1.4789288509342498,
          -0.2603117476767209,
          0.7062856706652363,
          -0.9472312383775647,
          -1.8280677033103945,
          2.896886985755477,
          4.209593201660842,
          -2.754870819905934,
          -1.545945924038414,
          -1.8925052109960376,
          -1.706778425524511,
          -1.6774539508660657,
          -0.4563518583717418,
          -1.3346043453735323,
          -0.3216295003543693,
          -1.5006475935961943,
          -1.4595938170239817,
          -0.8243341544860175,
          -0.6580875903276754,
          0.2864270143471929,
          -1.2796134458978519,
          -0.37049705875550176,
          -1.2343513887207478,
          3.996300547145882,
          3.339577915855539,
          5.384016484346956,
          0.21837706806185936,
          -2.3067688482910267,
          -0.5021981388206951,
          -1.0068978534182291,
          -2.147694443940264,
          -2.396863743557697,
          2.709606964693458,
          1.7560435745437564,
          -0.9443973872998482,
          -1.1396430988151276,
          3.5578638142965198,
          3.8535198201214214,
          -0.8855858941782234,
          -0.9829651653205781,
          -2.320125421270593,
          -1.2569492976214984,
          -1.7231498462043995,
          5.961074281238085,
          -0.930430681783759,
          3.7923096640832377,
          2.5338939245783862,
          2.400346932906479,
          -1.7878372257776933,
          -0.2335289532416369,
          -1.8863702813551435,
          -3.000784722314576,
          -2.0888534256576956,
          1.0430639994862425,
          1.4753691607777781,
          -0.7167812722224344,
          -1.8241639760866653,
          -1.0939818264875394,
          -1.4173759806756037,
          -0.9227672156589182,
          -1.1044280464120821,
          0.06735268474735917,
          -0.7895365930463443,
          -0.07072149456798801,
          -1.851763021318621,
          -1.860127146773633,
          -0.08828355973957647,
          -0.25544103116343164,
          1.8793807339843205,
          0.911685387880506,
          0.10012379315177683,
          -0.6039439779725398,
          -2.929817585496706,
          0.19839714092277583,
          -0.4491867303360422,
          -0.7937960986538566,
          -0.6206510300666297,
          -1.4459240490094973,
          -2.336906125358008,
          -1.4633820680402203,
          -1.220884751098553,
          -1.1296546207459426,
          -0.17787330371714719,
          -0.6960752028433908,
          -1.3678339527436498,
          -2.3446882446890323,
          -1.5994355501742894,
          -0.6953135901672178,
          1.6229388520328978,
          2.7823998445336775,
          2.2858744287363884,
          2.1555507987969493,
          -0.2647829444104699,
          2.827606248898017,
          0.610065685045062,
          1.3174805042783135,
          2.746800775169636,
          -2.252375407578724,
          0.7036343124900785,
          -0.0011837602491462109,
          -1.4829619080699736,
          -1.107523205851833,
          -0.6971997960267924,
          -1.956862020873561,
          -1.1054970278095264,
          -1.3264831935701518,
          -1.7849025600389359,
          -1.2811371791205048,
          -2.88605797276724,
          -1.24183485681529,
          -0.15427203546753546,
          0.566830228379573,
          3.1638738295315716,
          5.047031224564763,
          1.248707545291637,
          0.6273736799906449,
          0.07539853780510498,
          4.046423353988651,
          -2.0948414895359466,
          1.7704705061504296,
          1.342805348548645,
          -0.6281159028604073,
          2.700757100788002,
          -2.896459582461676,
          -0.4890714865795579,
          -2.4153603716354737,
          3.3505970687397997,
          0.1178583818857711,
          -2.081831504077909,
          3.383381376861089,
          -2.0288683703444144,
          -1.9296895864420245,
          1.9624352875108149,
          -0.11473781767402409,
          -0.8976185323361078,
          -0.6162589382614431,
          -1.3398506344220291,
          -1.8605094581925605,
          -1.125616515157265,
          -1.347190512721417,
          -1.6634667301389168,
          -1.7937172212243668,
          1.7116070792188425,
          0.6875307868210209,
          2.359912655797253,
          3.407745586371,
          3.4201634173555164,
          3.170408043356186,
          4.189709436743144,
          0.886188302372355,
          -1.2041336806401515,
          -2.4332660384220017,
          4.396257729264012,
          -0.9943458450544893,
          -1.6640786009656197,
          -0.6530120732992521,
          -0.7024160963306586,
          -1.6162721975406005,
          2.7000671233999953,
          3.1332303142138094,
          2.623033645020913,
          -1.7234064226917916,
          -2.880024558039394,
          -1.8011679111545584,
          -1.6369871043498498,
          -1.891480966064499,
          4.618935780161168,
          4.050843042184686,
          4.352663051268992,
          5.122067061563878,
          3.9068164100335854,
          3.9866789809149923,
          2.785223409389511,
          0.9999800069643601,
          0.6799719491218117,
          0.014298306941483823,
          -3.1561527611479923,
          0.022755347441269117,
          0.022755347441269117,
          0.16215521835046529,
          1.8848249364406575,
          -1.6357883699260125,
          -1.4405368092396216,
          1.959586255259377,
          -1.9643963626404664,
          -1.597373864650286,
          -2.089446314970426,
          -1.8026658189060827,
          -1.2917710621025646,
          1.612295797796426,
          -1.0597890934720624,
          4.601631831528849,
          4.450568176559055,
          5.210196579660409,
          5.777399769903295,
          0.20076562572775764,
          2.132612098958046,
          1.7459968094343299,
          1.7459968094343299,
          0.20076562572775764,
          0.3454668439277419,
          -1.5154226810918998,
          -1.6922378597241037,
          4.310681878249163,
          0.4692689472391086,
          2.3242082313809878,
          0.9381121233998037,
          1.1841252442734744,
          -0.3743066976564631,
          1.013309893505801,
          1.0103085340590103,
          0.7875315203113398,
          -0.5858043284252911,
          -2.6432273139517304,
          0.745467864964596,
          1.0437438961384293,
          4.839564142521279,
          2.289658143604801,
          -1.302533341046245,
          -1.3212499387413414,
          4.033258007856052,
          -0.9054653279761951,
          1.4077154542863608,
          1.819776761863795,
          -2.02668014129887,
          0.4069739919366762,
          -0.1789885307304621,
          0.48476181187359557,
          0.2637378078660122,
          1.9490472897705746,
          -1.2617841821502733,
          0.14921514800553606,
          -0.21755040086465138,
          -0.7624724066787736,
          -0.938702995396908,
          0.27949977926882497,
          -0.7588630483770616,
          -2.152795985798637,
          -1.5357814618078713,
          0.8290154285889062,
          -0.9817137056298622,
          0.000732046353818924,
          -1.059070178230984,
          -0.7529011708788537,
          -2.5175145217551655,
          -2.3199405171221934,
          -0.2347149166477521,
          -0.22120729624415505,
          -0.6810305719934212,
          -1.342391133420063,
          0.9329099433229766,
          -0.33138598600913244,
          -1.3663419235685068,
          -1.0192775239661647,
          -0.5491172599185642,
          0.05306629499184367,
          -1.2567107324055806,
          5.259661506974294,
          -0.2965634305110333,
          -0.2019259178707013,
          -2.024602339850488,
          -1.4443686593542018,
          -0.9751839182365101,
          0.05452714640812005,
          1.4523524534217271,
          0.8192739231873558,
          0.0769826168403746,
          -2.4241133476805654,
          -1.049939683603635,
          1.3593481661758244,
          -0.8437018248035704,
          -0.4054386474312047,
          0.6101227140817007,
          0.12017397103911974,
          -1.0084097097668367,
          1.2229974720456431,
          -1.1031682937994691,
          -1.4083418571679778,
          2.5756303060219783,
          -0.158648345454835,
          2.915458923587589,
          0.014968192928109749,
          1.4088806725999041,
          0.8082967149746664,
          0.4464945802762561,
          -1.2795600059785803,
          2.8272600811544897,
          -0.427713363797599,
          -0.8837451046928401,
          -0.23093094143364612,
          -0.5371447045574775,
          1.388078437052671,
          -1.0597890934720624,
          0.8795324448096484,
          1.476414729824297,
          2.7650016272370364,
          5.637075618753224,
          3.5002357640189095,
          -1.5104184002125955,
          -1.2334843591545106,
          -0.7529405029218762,
          0.08511187324309098,
          0.3205109851451511,
          -0.9120762581936739,
          -0.27858070029414145,
          3.088433624767483,
          4.143247777999701,
          2.399716316397863,
          3.176957929846902,
          -0.6044283440694078,
          5.574219688203979,
          5.333727896640732,
          -0.17032794041760121,
          -1.4427210612478694,
          -1.3399879370214887,
          -1.3399879370214887,
          -1.0802458985701944,
          3.9166593931872056,
          1.1333539879918566,
          3.131924063360546,
          -1.3399879370214887,
          3.1351717246654656,
          0.052961063614169246,
          3.824228685300258,
          3.3139603610314228,
          0.6376433975357707,
          -1.3678276494516488,
          1.4795949689527164,
          0.5075398114106476,
          4.025163763893032,
          3.3976341754496975,
          3.3025291157013488,
          2.8311288224741116,
          0.4298703987209267,
          2.652603820099902,
          1.9894395187425367,
          -2.4451348377062523,
          -1.9828992824413256,
          -2.908813880378371,
          4.910713009747104,
          -0.6498036654322976,
          -1.5303444494938,
          -2.7153897454154547,
          -2.0687544157967652,
          -2.2542542997003845,
          -2.0100526796115563,
          -2.109909957315347,
          -2.2236326075156025,
          -2.3132103064829797,
          -0.9502346814249353,
          -2.1364027095393268,
          -1.0065335489460208,
          -0.5635117535932608,
          -0.545243711459094,
          -2.2698090988609736,
          -1.2016336137926904,
          -1.3117714960738556,
          0.11607867116484702,
          -1.1573319711835903,
          2.844261208468642,
          4.816971047050106,
          5.388502137886457,
          4.90223402147826,
          0.17804007974110805,
          3.1296296239009442,
          -2.671565344475636,
          -1.4732881003033536,
          1.2109456547170139,
          -0.6283268472049912,
          -1.823215985258661,
          -2.761626719266497,
          -0.8038412941572954,
          3.1296296239009442,
          1.277535589956933,
          -3.499987153766304,
          1.3589483043899597,
          1.7385554462803208,
          -0.22573449118776925,
          -2.2740673463887164,
          -2.7222920271687405,
          -0.5665714728194748,
          -0.724554743333295,
          -1.8992419894110686,
          -2.8397395979008904,
          -2.0779173370881705,
          -0.8771721526876293,
          -0.40668386778986687,
          -2.462682444077485,
          -0.9502346814249353,
          -0.8848052512508232,
          -1.475971563051595,
          1.0340563390737694,
          3.9266530882283917,
          1.3504189491626413,
          0.4022811443833139,
          -0.7883433217568951,
          2.0279654140200667,
          2.040217954687529,
          0.8979910073856019,
          -1.3703622819832775,
          2.195947876785935,
          -0.3257151107438956,
          2.1667905160060257,
          -0.10849963879625227,
          0.5555801926793544,
          2.6855272350918464,
          2.062971850274053,
          1.932778973012089,
          0.5823874663723919,
          1.428007669470055,
          2.227950207798836,
          2.0141117237244632,
          -1.7548260472472816,
          3.1452711577365084,
          1.885187831139477,
          0.5461741363291334,
          2.3563966282033206,
          0.8590333940405688,
          1.5750036225782404,
          -1.4254079176047527,
          0.13229505704734978,
          1.6585341861753573,
          2.633080100731387,
          1.2919858967101814,
          1.5307731412375463,
          1.8030112846657096,
          0.06706942676045868,
          1.8045403505981719,
          1.3745874347744316,
          -0.08395614302769272,
          4.049749172711462,
          -2.1275500290304183,
          0.5273523375187058,
          -3.0914737893276962,
          -0.9291176379098613,
          -0.40155489571023445,
          1.1987811941730064,
          -1.4489486989802924,
          0.4216419583783449,
          -1.034809835802781,
          -0.6337420572126491,
          -2.1834965098510493,
          -2.1758672952105034,
          -2.8243568560471224,
          -1.5657851439064712,
          2.4888524869873843,
          1.7069952938522652,
          -1.7699525413624668,
          2.0944287535894537,
          -2.538940561074891,
          1.7757562576013015,
          -1.3673813815784817,
          -2.321719004377391,
          -0.07145510003716161,
          -0.1295351565608196,
          0.0170565205773681,
          -1.6918615662065621,
          0.24788898634041984,
          -3.3719490056920605,
          1.8109439725347152,
          -2.95631671028041,
          -0.9326576513945374,
          1.5453563721904255,
          2.0175676302543057,
          -0.9777384825203544,
          -1.8088045851480525,
          -0.19764938933701573,
          -1.736004535079578,
          3.6842201989297254,
          -0.6847094485509619,
          -0.2603117476767209,
          1.5422988888047637,
          0.593002664612163,
          -1.7912959670136803,
          3.118021498922635,
          3.3580144918752346,
          3.5099309650882855,
          -0.19461924016161972,
          2.480527963790228,
          4.517776810914012,
          6.0918671373371795,
          -1.3864258127587985,
          -1.6590894291934812,
          -0.8451615089399586,
          -1.0417192548785021,
          -2.2126328441140086,
          3.9047624185662886,
          2.3576582971520206,
          0.03992601661587256,
          -1.1004953247578728,
          -1.3293394373721152,
          2.4179234417138895,
          -1.8494158071698905,
          0.6194589894389154,
          0.7007141496868085,
          -0.2213109957661936,
          4.069805840259914,
          -1.6915198589429612,
          -1.6480326701342525,
          -1.626675726240951,
          5.070598490109723,
          -1.2012069430765242,
          -0.20161483159628796,
          2.212377949900129,
          -2.464924839700891,
          -1.9249814682117192,
          -2.4080164096721792,
          -0.3981606546944909,
          -1.1481127843950478,
          -1.237330464390969,
          -1.4628181365509465,
          -2.6429915346372583,
          1.9533017033003983,
          -2.1195725580612335,
          -1.0140421857817667,
          -1.843089415576859,
          -0.17434341580478238,
          -1.8079063743752277,
          -1.0770098667738885,
          -1.4905481769240287,
          -1.2980784897176683,
          2.3650341880945853,
          2.805690268078534,
          0.48472351061886315,
          0.8549288236322984,
          -1.5013922149508796,
          -1.367356561588802,
          -1.5786623309290868,
          1.9460913874910197,
          0.031744030736048943,
          3.5189870964878125,
          -0.12194207361813167,
          -0.8643826427197117,
          -0.34316401580846123,
          0.1487995698285166,
          -0.7021345155769471,
          2.526890730193048,
          -1.5907428957012475,
          -0.040819221845631824,
          0.7899298288307443,
          -0.9108592533331872,
          0.534549296006676,
          1.7118640514247783,
          0.32913723878694934,
          1.193120225310697,
          1.095868990708862,
          1.2545681987114252,
          -1.6454912421714358,
          0.06998303323160394,
          -0.6562708849308355,
          -0.8025844842561625,
          1.0288670632622714,
          1.55031481495979,
          0.7522544149888797,
          -1.3594752795046892,
          3.018000391387949,
          1.0712957412947148,
          3.221728737298459,
          -0.09309152149855306,
          -1.29857799734676,
          3.218628062553707,
          2.132612098958046,
          -2.344673001682558,
          0.40529331240226674,
          -0.5726023021440043,
          -0.883165124042147,
          0.28649928790184,
          -1.1602891468274361,
          0.7158496154657078,
          3.5107534356200034,
          -0.2064659721466558,
          0.1389363915921855,
          -1.805818815917159,
          -1.7690512660095583,
          0.8116576480875333,
          0.337524691906273,
          -0.010394775910613148,
          -0.8944573785036695,
          0.21387473617623098,
          0.23100452434814084,
          2.030878227187985,
          -2.299520470423306,
          2.4641111195466694,
          2.1192178617213595,
          0.03900046465196479,
          -0.6538759240822308,
          -2.508627218880722,
          0.8123565472634453,
          -1.5787530557618972,
          0.21465726009403852,
          -1.8370165087569912,
          0.922956531959854,
          5.656350818133167,
          1.275879610994449,
          -0.5087977010750426,
          4.278428722085266,
          0.699210007876525,
          -2.3841364242986858,
          -1.7777308426945033,
          -1.7803898860126586,
          -0.4167539682681082,
          -1.1894418289754782,
          -1.3168814365839538,
          -1.3415980593024461,
          -1.9057076077566915,
          -0.9399967293329504,
          -1.6808685152004805,
          -1.1904065555534995,
          -1.411905562019509,
          -1.919022355587362,
          -1.6818203902001214,
          -1.435902700417144,
          -2.0112309024792463,
          0.09121406890156479,
          0.5055869622129665,
          -2.399124947771618,
          -1.4878005371777197,
          0.09012877718788209,
          0.3101465274982125,
          -1.4468211063157428,
          -1.8879364766330269,
          -0.4308099759040477,
          1.9127398992549034,
          -0.9340739420096689,
          -0.09245424702742966,
          -1.0170415780895805,
          -1.4337106390703664,
          -1.1513085587600582,
          -0.3505327260134431,
          4.891728612485047,
          -2.2620354657009707,
          -1.1646239535239478,
          -1.419487651844679,
          -2.178982674772516,
          -1.7048467653411066,
          0.0872351630348974,
          -1.5513713971895944,
          -1.1305919329747043,
          -2.0086014603024758,
          -1.9719849087291332,
          -0.7603552441700446,
          -1.7081845936205517,
          -1.452644788376458,
          1.0936536290838432,
          4.707297316935383,
          4.0664165516618525,
          0.844908045381964,
          2.0175676302543057,
          -0.5221029502555896,
          -1.0819030183511789,
          0.9363603495410887,
          -1.6901930633720723,
          -0.06734437755377397,
          3.1284096100847703,
          -0.01337292489036203,
          0.9315488370480707,
          -1.107898841368993,
          0.9836845171357775,
          -0.6216384167307972,
          4.176384153224836,
          -0.8174650647916112,
          -0.9844049327521108,
          -1.934020852138308,
          -0.9150586306583658,
          -1.9024375077661253,
          -1.5991191899978705,
          -0.3979122673442816,
          3.189010773438729,
          -1.3604505665769029,
          -0.7141034047337285,
          -1.591493898603846,
          -0.26981790114743404,
          -0.32057160195909273,
          -0.9748467556979405,
          -0.634611242395278,
          -1.4852467869909078,
          -0.6488361413093124,
          -0.6875208972982049,
          -0.523521052252448,
          -1.2997644179330263,
          -0.39374742517973893,
          3.492407798994577,
          2.5763577232711805,
          -1.2550502056471349,
          3.8527580670263863,
          -1.3963654042352847,
          -1.5970419948490968,
          -1.688632875815765,
          -1.3774550293604106,
          -1.3690729524620995,
          -2.0826181995813413,
          -1.1954018276570275,
          3.402751152566498,
          -1.9587229941745257,
          -2.6463148412916944,
          2.335312795097442,
          -2.345824751081747,
          1.3957426239486532,
          0.3091765784289805,
          0.3091765784289805,
          0.04825874689567866,
          -1.0823520722647515,
          3.0490881810417663,
          -2.097576909584196,
          0.25316511117440293,
          -0.15427203546753546,
          -0.41240181977992574,
          2.8948856676427694,
          0.9925700176837303,
          -0.10380387445274497,
          1.8938195243268834,
          0.9398182903443831,
          -2.219007000192062,
          -0.40289995088326624,
          0.4855598419464206,
          -1.6946786996734715,
          4.453263833371461,
          -1.7698042251005008,
          -1.2917710621025646,
          -1.8456441547473599,
          0.09262464006245322,
          -1.8537718049763519,
          -0.3241240622174616,
          5.699030304877435,
          2.3817849882339295,
          -1.5609102360473264,
          -0.2799174074815643,
          -0.5542550572699038,
          -0.6637454999146567,
          -0.329269830609653,
          0.6663435469489157,
          -0.814572054315037,
          0.6939265197491388,
          1.4162075885952468,
          0.5778186477553661,
          -1.2584741789017178,
          -0.18772365879072367,
          -0.8836013757068103,
          -1.687550678598698,
          1.521134032798552,
          0.21959081948294953,
          0.28850205362560966,
          -1.4926217671802826,
          -0.21175692447558025,
          -0.17581020496163333,
          -0.887562580171764,
          -1.2556219866206983,
          -1.2269361604283762,
          4.618935780161168,
          1.3552239026426238,
          1.9336164093535586,
          0.3436840728473255,
          -0.5690376399407602,
          -1.8919920103002272,
          -0.5841890549176639,
          0.33276996189999675,
          -1.917555081893608,
          -1.2392356281844938,
          -0.09546520325791734,
          0.5577786585832487,
          3.002801573904524,
          -0.5753522125886542,
          4.161022525837936,
          -1.9988770057703396,
          3.7468909865289746,
          2.22447826033341,
          -2.0601769600585014,
          -0.7651747940113196,
          -0.881823375298756,
          2.200828587032448,
          -0.5335105742105527,
          -0.5913765417068714,
          -0.8686121365386258,
          3.126929191169633,
          1.5727472398500448,
          1.824178863093158,
          0.9487631695800606,
          -0.7979632686424228,
          -1.5274385093734069,
          -0.04031006817489348,
          -1.4688940844932514,
          -1.5189484652220913,
          -0.3336390303841251,
          -0.28741846532537496,
          1.9173914860919676,
          4.217793257754895,
          0.8123565472634453,
          -2.0268228760359763,
          -0.9888603025879972,
          1.3505978175446585,
          1.3505978175446585,
          -0.22448253695649234,
          -1.5599823753878856,
          -0.9445110188851541,
          -0.9687374941369988,
          -1.9473824019540271,
          3.2626195808960117,
          3.3357502012362787,
          -0.0840010454867702,
          -1.8353016618474376,
          -1.0147768860330924,
          0.6805879787852328,
          -0.9288952404986116,
          -0.9673631567290882,
          4.168363339147138,
          -0.8950461905575416,
          -1.6554978350332155,
          -0.673670545707554,
          -1.5694794034452277,
          -1.6619836307825173,
          -0.1588995810750426,
          0.663750848338296,
          -0.8307561706234655,
          -2.2833156359466398,
          0.8752453390642234,
          -2.427740105884189,
          -1.422406598148056,
          -1.1037662140332825,
          1.5650671095135908,
          -1.0895612371376302,
          -1.168714792577953,
          -0.9946974720841754,
          0.7352426388393163,
          0.056850559292936545,
          -2.3649098795794257,
          4.904751130878145,
          -2.803040390957149,
          -2.252562080818785,
          -1.895924573075729,
          -2.0917516052011536,
          -2.508317131163249,
          -1.0932669094952776,
          0.23002712834864827,
          -1.7664024000158325,
          0.6845546448708266,
          -0.9024606571237719,
          -0.4794045361365284,
          -0.7455458630228243,
          -0.9013326790547915,
          -0.7150579071819961,
          5.521484025398489,
          4.3307807583817235,
          1.0507517772310706,
          -1.6734809168327218,
          4.236594177348258,
          -0.2745021491914584,
          4.05581804965648,
          2.135766913281722,
          -0.8330021081673912,
          -1.8279298926842629,
          -1.7462095781463192,
          -1.429274801673931,
          -1.8043356480433586,
          -0.038926072238980695,
          -1.3609492642096965,
          0.4479854069546511,
          -1.6881966197421547,
          -2.26055549808226,
          -1.603295866528965,
          -0.5719868279724872,
          0.2268062184392579,
          3.000746418246714,
          5.262058618140636,
          2.8858699481600545,
          -0.6661581305866565,
          4.6474168508135065,
          -2.3259805083008893,
          -0.8749418351069354,
          3.4358447536432477,
          -0.1859205699604809,
          -1.32525779614195,
          -1.6454826504708162,
          -2.274363772769269,
          -1.137548985445838,
          -0.30594649082110376,
          -0.2632103614648374,
          0.36823439087847737,
          -0.774991959841608,
          -0.17119199961990778,
          -0.06981557094042536,
          -1.207258832602027,
          -0.6241021127308292,
          5.419874741023527,
          -1.597222245578427,
          -0.3638951753809371,
          -0.3445021725092963,
          -1.6165697131635028,
          -1.102159409796176,
          -1.227351666022264,
          -2.0452140986874663,
          2.018654282616748,
          0.429828992716726,
          0.6052682794470802,
          -0.4423537865870972,
          0.022947141944436627,
          0.0015944771473530453,
          -1.8238846076569728,
          2.2317541681982713,
          0.7642748141635719,
          -0.8433282919666296,
          -1.3230875790813406,
          -1.3298929349932984,
          -1.2267220894847894,
          -2.149994931085679,
          -1.2163920877132461,
          3.463484711466786,
          0.4539412166357164,
          -3.0613383031984163,
          0.22729614518138547,
          -1.1344768325631749,
          -3.0613383031984163,
          -0.7072963438992373,
          0.3418433804143052,
          -1.5671182591234918,
          -0.869666690061238,
          -1.5795590761486489,
          -0.8772502462786008,
          3.5825006834571207,
          -2.226834278061473,
          -0.20126115331103792,
          -1.667521519112386,
          -1.167686938641091,
          -0.09594405636152731,
          -2.382066424984604,
          -0.12872264422547527,
          -1.582249851962996,
          -1.6387434617760301,
          -2.025148199151577,
          -0.6993509873931997,
          -1.876467093307656,
          0.354432560896812,
          0.5717167306430495,
          3.101964714448182,
          -0.5188294035461437,
          -1.0126741219338122,
          -0.7097641046725921,
          -0.7276269751785641,
          3.363462492417517,
          2.9752226817107976,
          -0.8219366599034384,
          2.2089628716223135,
          2.785064005343369,
          0.29814635203571505,
          1.866488474163869,
          4.140411488353793,
          4.133048817017735,
          0.528283827298756,
          2.605572101764565,
          -0.2647829444104699,
          -0.17832420764440762,
          -1.9380303715726266,
          2.9039050390292243,
          3.649677021506467,
          -0.01292992374435365,
          0.9703843368446691,
          4.840030364876467,
          -2.382120428766229,
          -1.5441689772345781,
          -1.38886978098041,
          -1.9542613765865027,
          -1.5849819030822287,
          2.4466955357895843,
          -1.36664804837464,
          -0.26762453170465017,
          0.4023034180521384,
          2.3745705662041603,
          5.050054496026237,
          -0.9053180429942439,
          -1.2698419846443334,
          0.5398747178532823,
          -0.9479576954954896,
          -3.03244998139229,
          -1.1121517547583095,
          1.0543642222548273,
          -2.1748260590504636,
          0.8783391882405466,
          0.844908045381964,
          -0.28380427510568884,
          -1.8083647450254496,
          -3.202470459196676,
          3.3215521054488244,
          0.8539122759964455,
          -1.052707983543191,
          -1.6233526075106737,
          -1.4951842716237853,
          1.751945377775932,
          -0.8298967446281698,
          -2.187333543701749,
          -0.24944080664634877,
          1.1074723601112297,
          -2.085935541408213,
          -2.4125115180318644,
          -1.249999058369914,
          1.291866958177364,
          -1.480860486175659,
          -2.0144429700235027,
          -0.5413481296670045,
          -1.6534058002388434,
          -1.431791700304574,
          -0.9871359024336316,
          1.1655411567729197,
          3.000235685866885,
          0.15000872558748996,
          -0.5219177664341921,
          3.047428758666206,
          0.8524577565344759,
          -1.8419708771379122,
          -1.421250538743619,
          -1.5990912760966662,
          -0.09245231702928318,
          0.7589239174389392,
          -0.38861753676292676,
          -0.48869129923344345,
          0.18601744652391816,
          -0.5767423202391151,
          -1.044525985652121,
          -1.4103425017750715,
          -0.9467174638564455,
          -1.5570907577492836,
          -2.0316565223762764,
          -1.5050207141774004,
          2.0330414338414133,
          2.9972411903138947,
          -1.1131903712057187,
          3.4143457476927663,
          5.320867729182732,
          4.085991435509488,
          2.1274425358348865,
          4.9472697542847275,
          0.4726197924305071,
          -2.201686825571933,
          0.43167185305864136,
          -1.1131903712057187,
          -1.6057702396471842,
          0.8312197050104071,
          -1.7642479233188504,
          -1.1590732070276364,
          4.081447099437765,
          -1.1266837590924172,
          -1.2919547680535055,
          -1.7723311723076092,
          0.021900563903480802,
          -1.8333368443589533,
          -1.7602758888628427,
          -1.8693460615922204,
          -2.046542277096347,
          -1.0561390468606329,
          1.177051678970373,
          -1.8762990960288115,
          -2.4252240322564096,
          -0.12210277573933605,
          -1.6260066325783,
          -1.8445494912080078,
          -0.3033082971030345,
          -1.204876458797518,
          -1.8182765975060056,
          -1.4422094887527561,
          -1.094700997664762,
          -1.9236465210710907,
          0.06349215750229678,
          -0.7967643032374759,
          -1.308960039356972,
          0.5354649061742406,
          -1.1538421770428817,
          -1.1326586912829255,
          3.1056989824074237,
          -0.5655314564562379,
          1.6711847582607389,
          -1.6903592808965617,
          -0.17282411226062375,
          -0.1534234424262186,
          -1.1213935734132479,
          -0.35601148920323955,
          4.264393263445871,
          -0.9702087331231138,
          -1.479520701140312,
          -0.01916393802213697,
          -1.6262673095858835,
          -1.0729349066364677,
          0.6594213427915597,
          4.06699538598566,
          -1.7593947139165325,
          -0.6148631774543121,
          -0.5328443733186656,
          2.1951310166489795,
          4.211073384228151,
          -2.0951936831935876,
          -1.7126773122191747,
          -1.317622605279383,
          -1.2398389440352928,
          -0.6365159443123245,
          -1.868071836587031,
          -0.20774898984439635,
          4.6631581902132,
          -0.7172902492876061,
          1.4126375362115116,
          -0.05348159629165095,
          0.12258449104649279,
          -0.693008274763068,
          -1.6842462616801221,
          -0.9997143462304265,
          -0.9925277416519362,
          -0.40554552468515115,
          -0.794330703085563,
          -1.4179766882023699,
          -1.5077618691738794,
          -0.11864752625193925,
          0.0651325151433007,
          0.4479061806002196,
          -0.5905352698295553,
          -0.6656940772015782,
          -0.12568353651020575,
          -0.2968239783275778,
          -0.302085036950331,
          -0.4431538767660773,
          -0.8497568273164458,
          1.5069037952476547,
          0.4803661333128787,
          -0.697080464613875,
          -0.10347402499997149,
          0.4261184411829128,
          1.7181988956708993,
          -0.14880872420562757,
          -0.8608961760184053,
          -0.21186655948989566,
          -1.2074405624776159,
          -0.24447286527723097,
          -0.11108361445809417,
          0.4331828913071642,
          -0.4666659930456579,
          -1.8413507629642523,
          -1.0214066744382946,
          -0.49758848808652123,
          -0.6844849178178248,
          -1.6697028500088265,
          1.9435278334052584,
          -2.590401210503969,
          -0.9832888022778727,
          -1.5102450456487515,
          -1.5772672834448849,
          -1.374754747944521,
          -1.2001953198664053,
          -2.5500589751698035,
          -1.5609102360473264,
          -1.8902776392732579,
          1.658754391001418,
          2.7931435870373362,
          3.3936697303588197,
          -0.3078197169386814,
          -0.5170085720229928,
          -1.9380674914976461,
          -0.8915763547993787,
          -0.9886668262046718,
          -0.5696178874425268,
          0.8795324448096484,
          -1.1447334158703664,
          -2.006545406729144,
          2.8205742097621758,
          4.028986191210218,
          1.7372253796499788,
          1.5655853810053784,
          0.07802122878736976,
          -1.8274876886852294,
          -1.9502075389529878,
          -1.7354065296445798,
          -1.8699631356031994,
          -0.5644354650111927,
          -2.006112138560554,
          -1.7634140784138816,
          -1.8723008941323527,
          -1.8639932204222447,
          -2.1058975606514707,
          2.957539714316922,
          -1.9232812200626492,
          -1.729194502848709,
          -0.3394603933605108,
          -1.4817947434057155,
          -1.364827290068009,
          1.6184380633196098,
          0.6731669759445246,
          -1.3981525797114402,
          1.4897707598582155,
          1.0157432689846015,
          -1.0568509529743566,
          -1.751824963493272,
          -1.2421958404602678,
          -1.9336938727708395,
          -1.7598217040333763,
          -1.4555523482943349,
          -2.1082944798688477,
          -2.0606660439063953,
          -1.4904194189397022,
          -2.0734945064138426,
          -3.993754718462854,
          -1.7804503009224821,
          0.4188013767860371,
          4.074252866889355,
          -1.654099602100138,
          -0.8706935586305735,
          -1.2311045301288575,
          -0.07788453537429894,
          -2.4434013956713967,
          -0.07625660353628262,
          -2.1318590249117175,
          -0.16461671372417522,
          -1.7771222855258446,
          -2.2929023354570397,
          -1.2277075421191317,
          -2.4270031251580013,
          -1.019878194683749,
          -0.6385744256983868,
          -0.6162589382614431,
          -1.5903114999670285,
          -1.1226867924008357,
          -0.7780117610925489,
          -1.24183485681529,
          -0.41877224870219854,
          -0.5887610453578074,
          -1.4255157505699638,
          -1.9236465210710907,
          -0.8321122702871252,
          -0.7103155395647781,
          -0.45457897450550955,
          -0.5006469673618135,
          -1.3433860165170106,
          -0.5586881735072371,
          0.718367059671959,
          -0.8757146430848208,
          -1.0684891129569076,
          -0.379190720634589,
          -0.5255270518176567,
          -0.4899308370179333,
          -0.15972671026188598,
          4.813777021504079,
          -0.8690009426865867,
          3.3215521054488244,
          -2.5792042125307093,
          1.5603981597326744,
          0.8888968989143615,
          -0.4769077058258348,
          -1.3173980164012031,
          -0.4962570470088793,
          0.3375764127658357,
          2.1487550179202075,
          0.5205896223390918,
          0.0023903786712637003,
          1.443854370222981,
          -1.7722920756714402,
          -0.21138765775075338,
          0.9097158032319778,
          4.844601565033678,
          5.666384156661322,
          -1.9417108967056635,
          -2.1065509824092183,
          1.140796258083533,
          0.23103463786948497,
          0.4256175781974644,
          -1.5657114923930826,
          -1.5657114923930826,
          4.244480994355998,
          5.176708744973619,
          -0.8596027093370094,
          -1.0270738870476326,
          0.37512427692022654,
          0.051811371512324414,
          4.582553845204491,
          0.5168944033678448,
          0.06057426972990524,
          -1.7784927255694216,
          5.408174041012422,
          2.5327757019918757,
          -1.5302866131478023,
          -1.0610339222842124,
          -1.0947736380529207,
          -0.9227741339323364,
          -0.9605533109182796,
          -2.132240077056639,
          -1.6689001793002793,
          -1.4351673016485877,
          -0.7169772246162478,
          -0.956826496341667,
          -0.9416875707315001,
          -0.4133385047052848,
          0.16883070258110064,
          1.43224934201698,
          -0.7813213297476473,
          -1.1271281147595331,
          0.652459590839005,
          -0.6927403014042208,
          -0.6732878229230728,
          -1.1414799926170125,
          -1.4892770702646916,
          -0.35535854852106796,
          1.829448716580517,
          3.6560772718222325,
          0.7261799401622578,
          -1.8969714198549832,
          -0.41939395144300956,
          -1.273066331883837,
          0.10397499296520918,
          2.096483641589663,
          -0.8776788935290596,
          2.5299097893625864,
          1.0082003519061762,
          -1.8902776392732579,
          -0.42207825344761224,
          2.109005714349951,
          -2.3715612187519337,
          -1.0444388347634859,
          -1.231131615579879,
          -1.177697080054639,
          -1.0345327312064312,
          -2.7234666403161047,
          -1.7104420113557306,
          -1.9914059300228182,
          -0.6226927475906404,
          -1.0468527623234303,
          -1.2900248382332753,
          0.12309112973266126,
          4.652403689691265,
          -0.40462364134067386,
          0.4430017973536214,
          0.7869224265474067,
          -0.5605651851159856,
          -0.1284380924329546,
          -0.5314028806277058,
          -1.023829088862142,
          3.174879734132038,
          3.8595387667647443,
          2.6026231331657756,
          0.15833263461928207,
          -0.7710403655798269,
          -0.4995419530279305,
          -1.2938074605601024,
          -0.35805426889126474,
          -0.8371847600040484,
          0.23327622655162344,
          -0.08852138585591851,
          -0.6084691009396401,
          3.879862859303179,
          -1.6480835900823732,
          -0.07920628817761141,
          0.18122554674263538,
          -0.7235894288501382,
          0.3806768139362984,
          7.22654460901493,
          3.4015397135220806,
          -1.415927909145329,
          -1.9127960305645086,
          -2.017437359162995,
          -0.8956325749527951,
          -2.2603496043111906,
          -1.940733736119527,
          -1.4539395308420235,
          -1.9899331345222517,
          0.5563608894958334,
          1.3655741274589235,
          -0.6778354788931391,
          1.487258627957038,
          -1.4237008451336224,
          -1.2748104198497445,
          -2.552461167194016,
          -1.7375662708101367,
          0.8903585804759303,
          -1.3514066895790275,
          3.6734951616390235,
          0.23893979548550584,
          -1.8009380597154072,
          -0.693008274763068,
          -1.1302346153383867,
          1.0424609969554555,
          -0.38549302852157896,
          0.4808026898470227,
          0.3696015150662238,
          -0.24312431299061207,
          -0.3142989666133035,
          -2.122990542540931,
          -1.7729246995643386,
          -1.6173696754713027,
          0.2381084538749676,
          -0.4833916699937422,
          -1.7273711551849706,
          -0.10198804553304779,
          0.5055144803084028,
          -0.7131430817527242,
          -0.8951228201123653,
          -1.0597890934720624,
          0.3674321547116663,
          -0.32755247999582104,
          -0.15392290335129158,
          -1.0079751959068288,
          1.331226750839262,
          0.14879178398842133,
          2.593757649392422,
          5.280198100270841,
          2.6125401236234,
          -1.2429187294667836,
          2.883460748025336,
          -0.8454958932986625,
          2.125563179636892,
          -1.2848447129983003,
          -2.333529043949486,
          -2.3874608455512827,
          0.4708102218623848,
          -1.8703654091300117,
          -2.6048645631439293,
          -1.5249585479981829,
          -1.93113521304616,
          0.15925914311312825,
          -0.33685427467472745,
          -1.7238132206500631,
          -0.14523173932935912,
          -1.1513324744387923,
          0.5329054203221866,
          -1.9612249102027297,
          -1.2399292163761029,
          -0.9213520425348987,
          -0.2934493481289045,
          -0.7878251517409007,
          -1.9817641589624027,
          -1.7244851503949103,
          3.9255172860697396,
          1.5942931299634606,
          3.186335317997051,
          0.9775969311537858,
          3.5867432508255246,
          2.647745049799364,
          5.270217759644977,
          -1.708248597738553,
          -2.1998039804602216,
          -0.06578081779005372,
          -0.8368706284559657,
          -0.785467717505085,
          -0.20916402742117776,
          -1.708575458599483,
          -0.20916402742117776,
          -1.3997320777127076,
          -1.090959055413607,
          4.169466471505725,
          -1.3684630603624222,
          -1.932428367187305,
          0.11061706995923522,
          -1.8318071541194507,
          -0.9598571387641519,
          -0.2019259178707013,
          -2.322482104084649,
          1.295624263858963,
          2.439938968042471,
          -0.0034299770508509856,
          1.968987870792327,
          -1.8110394558681615,
          -1.2760228016973998,
          1.7512646091908486,
          0.0473548425080283,
          -1.4262864308855536,
          0.8119245867926483,
          -0.3351614731377258,
          -0.28854191440586063,
          -1.9135217129716575,
          -0.44506574689565637,
          -0.3898013592395593,
          -1.0965604946490637,
          2.8632445586955493,
          -1.0064366536641483,
          -1.667995626555784,
          5.037072097193795,
          2.307251668789423,
          0.9817234747421214,
          3.023290887104784,
          4.117010734472987,
          4.113361444554919,
          -1.7640887933065463,
          0.15200397301154703,
          1.010057474777607,
          -0.0982682591865978,
          0.745467864964596,
          -0.07912913968776636,
          -0.5869929672815056,
          0.061376567586416166,
          -1.2493185544417877,
          -1.162532956966599,
          -0.5446464357178721,
          -0.5257359411169938,
          -0.6973969041449745,
          -0.971960047766899,
          -1.7113924337417719,
          0.6626099536052523,
          0.37990667046115534,
          4.35317276238684,
          -1.750511188321824,
          -2.6082819147952416,
          -0.7744430956484724,
          -0.29049845972909016,
          0.19347918400083863,
          -1.500564841771933,
          -1.3802231760043524,
          -2.5201491133096114,
          -0.6742590697690071,
          -1.2280633296074603,
          0.4229742125954444,
          0.19347918400083863,
          -1.6139893679672441,
          0.24592070134157143,
          -0.9320241203449575,
          -2.0291882153646825,
          3.086164823529949,
          3.28963023562895,
          -0.8430280926050708,
          -1.0191080260121514,
          -1.2581311719443327,
          -1.4293847145323813,
          -1.2280633296074603,
          -0.8918518314853033,
          -1.162532956966599,
          0.3320094024663953,
          -1.400615775117923,
          0.47495516260105514,
          -0.3285383111216562,
          1.2317234135229216,
          1.898235146478138,
          -0.8272044736771348,
          -1.1182953375910354,
          -1.2140979999974277,
          1.4102809155728935,
          1.116255824414094,
          -0.9625261685035069,
          -0.22774342883917228,
          4.82048367144701,
          2.8066726781677933,
          -0.8910597762575785,
          -1.4197100225439558,
          -0.6373053624231066,
          2.667811075962949,
          1.370964755084283,
          -0.8509927620370418,
          -1.1349369532310432,
          0.30831398576217506,
          -1.4183221756409612,
          -1.109325273601509,
          -0.7858824490959343,
          2.143356564904714,
          1.699803481395568,
          -0.576742320239115,
          1.1753290502837002,
          0.7683249437917393,
          3.0672479686245713,
          2.171382773188072,
          0.09109228763953184,
          0.17424196049511964,
          0.3190799364008101,
          0.5277083757468615,
          -1.5891418340117451,
          -1.8079063743752277,
          -3.0009494117128015,
          -1.5683430554100042,
          1.2531320966526072,
          0.48007880695773414,
          1.1470176346512189,
          -1.3095170917389254,
          1.5929388159834168,
          1.0710420132491294,
          -0.6277790692076228,
          -0.7049891902633267,
          -0.366099490434093,
          -0.4871764094606713,
          -0.762159857132351,
          -0.09005428008473049,
          -0.1486852055596891,
          -0.2507783494082107,
          -0.7043224955062212,
          -2.109018269583261,
          -1.879334070811123,
          -1.4483273104314538,
          -1.6855200932596475,
          -1.881481368255225,
          -1.4090316369170128,
          -1.8761815210993238,
          -0.4113534767140598,
          -0.8662032598582591,
          -1.5843624105760077,
          -2.4428347518126103,
          -1.0024189493957558,
          -0.7470110613107924,
          -1.2099907754251218,
          0.8179688501593771,
          -0.32126428074581176,
          -1.1398522347318456,
          -0.8437018248035704,
          2.04225288520613,
          4.763938610263665,
          -0.8284168584098442,
          -0.6352570447275029,
          -0.851505985634521,
          2.2461767341646808,
          -0.39823929265682934,
          0.6404987805565768,
          1.2643075804942299,
          5.1993546278107985,
          1.858382900436076,
          0.7197917125418749,
          -1.8100918480866655,
          -0.05143589477032414,
          0.373892101955117,
          0.7611727109350754,
          0.8241113127768875,
          0.5550844565870731,
          0.7400410988074472,
          0.4304758860098785,
          -1.1913376013534498,
          -2.019629083892073,
          -1.036229851950724,
          -0.6266858975965722,
          -1.76174355781123,
          -1.9484506333422857,
          -1.0008080358122458,
          -1.9465609399407129,
          -2.476175635292687,
          -2.657580092427619,
          -0.798817718608317,
          -2.132364305711081,
          -2.56416865567044,
          -2.1305638358695576,
          -1.0271095058981736,
          -2.2711827620735567,
          -2.9955679707193252,
          -2.013777147378139,
          -1.543760062900464,
          -0.5641657478210662,
          -1.9539615900671448,
          0.13531177462093877,
          1.5240830508841001,
          -0.38979132753570045,
          -2.1472490541110085,
          -1.716576723065333,
          -1.7102416567782466,
          -0.29456810914750325,
          0.618320016727501,
          1.105052316821269,
          0.01347708914945614,
          1.3552239026426238,
          -1.4987842085344676,
          -0.8367365709615115,
          -1.0892869241340013,
          -1.1815682360615931,
          -0.8359986265401657,
          1.8064229455207204,
          4.573522285535855,
          -2.389547203958502,
          -0.887562580171764,
          1.5623932472527693,
          1.6129921406346905,
          2.378287010706775,
          0.2481472564120749,
          0.8731453432239895,
          -1.764764526742545,
          -0.13139150759423363,
          -1.612977308128735,
          -0.5758965096135346,
          0.07342012773008642,
          5.948310252700201,
          -0.2603117476767209,
          2.3439529774231596,
          -2.031774874687598,
          -1.3422308343188232,
          0.5257049943117356,
          0.2204243997714508,
          -1.4231533307505315,
          -1.9680325183749663,
          -2.490004187789634,
          -3.6403170139945327,
          -0.7100689834528806,
          0.18037744575466538,
          -2.7307792390101326,
          0.6051493269356295,
          -2.0122268085743866,
          -2.9882377865906755,
          -1.9881226567087906,
          -1.1001811056752329,
          -1.6322560102481398,
          -1.5585212785368754,
          -1.2003769056176095,
          -1.1518035655172463,
          -1.5626575408762549,
          -0.7030185679656783,
          -1.510987856425025,
          -2.0949762564053716,
          0.2182080372711204,
          0.2810209256473471,
          -1.5999015985109137,
          3.636437671895399,
          4.377634569812749,
          5.517832620777451,
          -0.15593220469833233,
          -2.7823545006812185,
          1.7058186045512957,
          -0.33256344644116304,
          -1.5606335978828196,
          -1.466616672945467,
          -1.6720377493956844,
          5.050054496026237,
          -0.42113023519586945,
          -1.4156805781784698,
          -1.0310175317531451,
          -2.0594619338254354,
          -1.199312100251359,
          0.841839116749829,
          0.5277083757468615,
          3.2000540604664502,
          -1.0918956593169205,
          -1.6640321370290712,
          -1.794037951933163,
          0.2675915444468304,
          -1.176146161674233,
          -0.9236608800933445,
          -0.7383878592737929,
          -0.7370115676562273,
          -1.7260061487881735,
          -0.8276749826467559,
          -1.098188925827514,
          -0.06860373314219186,
          -0.19842300499808752,
          -1.7252882884251959,
          1.902704125064271,
          -1.204137746932,
          -2.1467615740377144,
          0.5675226390225949,
          -2.737860585635959,
          -2.3646735229993068,
          -1.5159051852544088,
          -1.1991820155424178,
          -0.23901879110390253,
          3.7555101009976455,
          -0.9172187524603739,
          -0.6027578678703449,
          4.365128553031853,
          1.357052659263264,
          1.061080500188176,
          -1.0918956593169205,
          -1.0918956593169205,
          0.37990667046115534,
          1.0507517772310706,
          -0.8347222062998001,
          -0.4362902449973955,
          1.8393460147500844,
          0.9749323262388517,
          3.59984746035953,
          1.3878500421641171,
          1.8808998932641383,
          -0.24102161445379267,
          2.5242881418413696,
          1.8226454879784886,
          2.3824054687967275,
          2.7160711465674647,
          1.3400521098127438,
          2.0675085711906007,
          -1.3774147805614507,
          2.1169017128094145,
          0.4725370812856808,
          1.7005090330279207,
          1.0124138734776416,
          1.4638489861406863,
          4.51741528577057,
          1.6062390664664286,
          1.5090985483914165,
          3.328173071321646,
          -0.7586867391814034,
          -1.9710893785207468,
          -2.627945347818508,
          -1.0959217221133764,
          -1.7330340393361585,
          -1.5509421569582758,
          -1.9153264230825688,
          3.286543067630072,
          -1.8853012598366496,
          4.0319294463834385,
          1.0917032949632042,
          -2.0995891751226243,
          1.6077515138179563,
          -0.7338996331495042,
          -2.3299231668522884,
          -1.6714994013804223,
          1.3227936929233726,
          3.224578804871142,
          0.8493078136160146,
          -0.899105004116,
          -0.2596369783110564,
          2.487845989688524,
          -1.0057381074581448,
          3.782652702099693,
          -1.9157679231230478,
          -2.0026233957398762,
          -1.669644827233122,
          0.3515054625690083,
          -2.4460483692044006,
          -1.761901935635352,
          -1.6517774567678405,
          -1.6237547621234052,
          0.8957766323986629,
          -1.8642286743270606,
          0.05337344824099857,
          -1.6425344618411415,
          1.3552239026426238,
          0.1462460887456522,
          5.8582097216168725,
          3.7180312609607915,
          4.993793590175098,
          1.8999455539621695,
          -0.8127854597663111,
          -0.9882751706880358,
          0.6321516301100986,
          0.013416667960795606,
          -1.2772504087424383,
          0.5751095293838526,
          1.8650579113699,
          4.5105685931221515,
          -0.08449905553375503,
          -0.24164638031297828,
          -1.9830682310610883,
          -1.8494850568377148,
          -2.50724927694252,
          -0.3120875385222836,
          -0.19799516276387966,
          -1.9132406824951966,
          -0.46675708557075973,
          0.5301321114835894,
          2.8059892371366995,
          0.6503978876248567,
          4.008015267389638,
          3.000746418246714,
          0.30328525020158453,
          0.7826398955578471,
          -1.4792219052824127,
          -1.356382774233702,
          -0.9660709260830584,
          -0.052599324175078295,
          -1.377652309174927,
          -3.0725256635991207,
          -0.47513563176003243,
          -3.0267560599545105,
          -0.8325111872744729,
          1.7747900310136349,
          -1.028069158806707
         ],
         "xaxis": "x",
         "y": [
          -0.011146290126816429,
          4.498483040491571,
          -1.2584950530912455,
          -0.9316902391794364,
          -0.9998605575699326,
          1.449198795216131,
          -0.1534910566635195,
          -1.0976948285917048,
          -1.2029511963611896,
          -1.6720710185825907,
          0.6245816077119482,
          0.3542795183340963,
          0.6218862595041162,
          -0.7257260770647121,
          -1.7533744258913744,
          0.09456002264657533,
          -0.7607765416859098,
          0.09023324070522758,
          0.6354891072036882,
          0.9549247299482809,
          -0.8173396601849993,
          -1.2470979651002132,
          -1.0384504583107188,
          -1.8477530524364005,
          0.3664056587919295,
          -1.0939423326821653,
          -0.513072591470396,
          0.19285191038163252,
          -0.40850583478902286,
          -0.4019127768691356,
          -0.5390360868356452,
          -0.5093297116411072,
          -1.5551823065201946,
          -0.3275202482615805,
          -0.11881659332814377,
          0.6359085300784633,
          -0.5876810821821727,
          -1.623481310123374,
          0.9261554472362575,
          -0.002583714634444479,
          0.9482384115361046,
          -0.43252723603061055,
          -1.0477234546789902,
          -0.5884127949167783,
          0.10962376719394962,
          -0.17631562638303283,
          -2.2313108525205188,
          0.3421759568804066,
          -0.13393724871445709,
          1.8282937839211082,
          -1.5586608599510337,
          0.39413770702294515,
          -0.16899555980659325,
          0.6402870848131604,
          0.7535261568595862,
          -1.0071979202008516,
          1.251381544732154,
          0.7283795254050486,
          -0.3155870920706921,
          -0.3743084277381313,
          0.6971582660739037,
          0.4907815022846547,
          -1.449631329393616,
          1.402223715478253,
          3.1825154078065814,
          -0.13343620635138356,
          0.72314128439079,
          2.435673232412769,
          -0.6624452959667981,
          0.8828610649268497,
          -0.4539974243368542,
          1.2895652026945388,
          0.7021569500086016,
          -0.032120349417954296,
          0.15589311833334923,
          0.04483740558801545,
          0.7644853720457648,
          -1.8700830086717888,
          1.9424014130733982,
          -0.5355532328520188,
          -0.7101916522494056,
          0.6821340814378521,
          1.5096042889137333,
          1.0677125248492445,
          -0.20319345565050473,
          1.9000703759917135,
          -0.9569272319374206,
          1.7957948181498606,
          -0.5045512816835354,
          -3.0351142354928884,
          1.1858743295178071,
          0.876020615890888,
          1.0658710831443403,
          0.8982598530428664,
          -0.10984688935739667,
          0.7719022721632367,
          1.1990816803218638,
          -0.05275616015040433,
          -1.8569894900465969,
          -0.3264355253289215,
          -1.693948184066831,
          -0.10438796376461941,
          -0.14531043781235417,
          -0.4996968944645955,
          0.32606478883571466,
          0.5077876996619001,
          -0.050481471812174286,
          0.4746966598255509,
          -0.387973552480597,
          0.9981145621078836,
          -0.0645886857741169,
          -0.1668060796051404,
          0.6183612930258755,
          0.34667897728901603,
          -0.8498816694047566,
          0.028285354530939822,
          -0.4309880876226716,
          0.9716433758065672,
          -1.0005494442087892,
          0.566529012538568,
          1.1465811195268023,
          1.3964744337563022,
          0.43319264302379473,
          0.09286868670805472,
          0.2827170296635818,
          -0.467511954643544,
          0.30059066562798986,
          -0.256831219263917,
          -0.7082299299146102,
          1.9653556872423263,
          0.5402660920588389,
          -0.47330522451280627,
          -0.4590570749385386,
          0.17712840735323765,
          1.3226057430132472,
          -0.18364572119185746,
          0.5715418725763847,
          3.1825154078065814,
          -0.22520769265871318,
          3.3372777729058747,
          -1.1787016560533612,
          3.3372777729058747,
          0.8919286352285145,
          -1.6621229341015193,
          0.9126518916872715,
          0.045442205047156264,
          0.15799090914534858,
          -0.3881116746652956,
          0.7693841067862278,
          0.31652003537511203,
          1.5899977353431303,
          -1.904786800046841,
          -0.9570850389300177,
          0.22303451284726203,
          2.105384987244772,
          -0.6995465461225098,
          0.7111076327776112,
          1.0092401714194617,
          0.32381188266964545,
          -0.16319434873237992,
          1.0404375904923153,
          0.6564793989659158,
          0.3951741514894214,
          1.2410104338213028,
          0.3769590932264083,
          2.4618886452370785,
          1.2357005578886258,
          0.2634743406935094,
          -0.3149803062308441,
          0.5105081730241842,
          1.1597876950391839,
          -0.1586470540727893,
          0.29605844599103537,
          0.08484118937578798,
          -0.7467089182464858,
          2.2114132179374693,
          0.08320541248182188,
          -1.0443441784920713,
          0.1912344681748904,
          0.6089226265344317,
          0.7789952619638916,
          0.9523723915944734,
          1.0296391405424694,
          -0.3626701596053852,
          -0.9711390263760913,
          -2.642486423345222,
          3.103331962225941,
          0.21619308773179394,
          0.014957619740980798,
          3.919038472857371,
          -0.572314827397025,
          -0.9986452552999888,
          -0.9516486023188406,
          -0.6906988660514809,
          -1.184084181842629,
          -1.3006189908905776,
          0.5947979963623213,
          0.08054162638613584,
          -1.879038751232319,
          -0.3388521257419345,
          -1.630949174398555,
          -1.094171516568639,
          -2.446461747927906,
          -1.1407059930266439,
          -1.8453286786660505,
          0.6507379346285558,
          -0.47118087570081957,
          1.0197325913084652,
          -0.27336515637365444,
          0.017367780195283754,
          0.7744178910726935,
          -1.1653490752846152,
          1.582927537076042,
          -1.2845530401926484,
          -1.3462327707720696,
          -1.192458691217084,
          -2.3552209829195108,
          -1.6350920282524661,
          -0.7943134394819905,
          -1.5948015187911322,
          -1.0367744163767705,
          0.23834202586569025,
          -0.9150329918104084,
          -1.6791143643828963,
          -1.1140081837787834,
          -0.4264153508845747,
          0.1972031517006983,
          -0.7675781583836286,
          -0.6634064026910864,
          0.018494863427137104,
          0.03239395742923403,
          0.5429849610833245,
          -0.5502293308844984,
          -2.5877559470825395,
          0.07003755588593087,
          0.7387646468178278,
          0.8517448089595115,
          -1.00453921235597,
          0.022744918930618387,
          1.1028840070236048,
          -0.9711482695074364,
          -0.5747759434969193,
          -0.7041665708533725,
          -1.2590290776964816,
          0.5110837248386946,
          -0.4473929302746718,
          -0.7770987572885047,
          -1.512809806131732,
          -0.010119072281300974,
          -2.6565170442836523,
          -1.857853765349955,
          0.02967834875154165,
          -0.4881176600840507,
          -0.46263501008077423,
          -0.6323213193002102,
          0.8689648267049012,
          3.2404775080304886,
          3.2404775080304886,
          0.023892287317247414,
          0.6703963948146877,
          0.799662743159949,
          0.5833737164149416,
          -0.11689578549234428,
          0.7123683209024153,
          1.5310948073312352,
          -1.6069800221607187,
          1.8559942570662107,
          0.04437539980395516,
          1.2105451052359504,
          -0.613312176503244,
          1.0809283795560034,
          -0.2120533698888627,
          -1.181891002333824,
          -0.7775444494726176,
          -0.6234088227383897,
          0.5694778943370118,
          1.7175189370213626,
          -1.0189490622171715,
          -1.1180976339575945,
          0.5457794249420169,
          -1.2203204394225375,
          0.8906898331423568,
          0.9608276029309022,
          -1.267261303422765,
          1.6835784222939167,
          -0.7047166607825174,
          -0.6445389710374194,
          1.711806720312137,
          2.070033591790966,
          3.774095350032428,
          -2.52640204388234,
          3.027705154585714,
          0.7863022708009556,
          2.8536627519810125,
          3.774095350032428,
          2.051357055763085,
          1.4012277428553175,
          -0.9266969511957196,
          -0.6326476919953292,
          -1.127956307161738,
          -1.181038381027572,
          1.9575377687744189,
          1.997968362379849,
          0.06784792539787188,
          0.5362425827548244,
          -1.477741525020388,
          -1.9777901671232014,
          -1.1096645491064134,
          -0.7895282956595112,
          -1.4068333771286499,
          -0.8359585182991213,
          -1.5475653090428998,
          -1.2046762480700843,
          -1.6143833336086222,
          -0.5314998546403866,
          0.18027712010472413,
          -0.7320794166920237,
          -0.03506686939659764,
          1.9807742361710312,
          0.42232942329204626,
          0.283606760728673,
          -0.6255932639365421,
          0.7112353207108746,
          -1.1077101885611733,
          0.4882490801131057,
          -0.22795730447657733,
          0.1971782497767424,
          0.3150319980462683,
          -1.267261303422765,
          1.1177165541627045,
          -0.44571727774836317,
          -0.8138693535483441,
          0.31786427908998266,
          -1.1464663024558057,
          -0.17714161009328053,
          0.3484442111053193,
          2.4064049724463192,
          -0.0003525217776421185,
          1.8873203415832436,
          -1.3725204164548293,
          -1.2657688377536713,
          -0.6949733179444165,
          1.8873203415832436,
          -0.8101213187323153,
          -2.918341516468284,
          -0.9151402576715326,
          -0.9894869373615405,
          -0.29923272082724,
          0.476019871863114,
          -1.5094498562717884,
          1.8873203415832436,
          1.1113603909961742,
          -0.37497601475159126,
          -1.2545771481814105,
          0.9048464943468996,
          0.14491983213610393,
          -1.079841356015365,
          0.8958070512138067,
          2.0607557633872737,
          1.338069490666647,
          -0.7927850799344985,
          0.780123940294787,
          2.3890026316786606,
          0.010923878415342416,
          -2.70116288109141,
          0.3071600666562851,
          0.4060177721073538,
          -1.7931461706698182,
          0.6582528726690438,
          -1.5634644260717665,
          2.4150542414887313,
          0.584333602925985,
          -0.6038418556220887,
          2.282537677712436,
          0.5348228328720835,
          0.4434997849539603,
          -0.6515118089357852,
          1.0533504658934283,
          -0.05684593511018278,
          0.7667072369066987,
          1.9924299245585113,
          1.6650019235103046,
          0.09891338575271647,
          -0.21030445971978054,
          1.4049591878689243,
          0.6572987131801556,
          -0.757260988809986,
          -0.4289788550163662,
          -1.166382725543873,
          -1.0375737857811498,
          0.3177602599695211,
          1.1770272825990273,
          2.522013302298849,
          -0.3556569717547148,
          1.2739159471111903,
          0.12552664107296083,
          -0.04443688853521357,
          -0.9598826795695866,
          -0.9994617694103671,
          -0.17192238560156742,
          2.082504766964758,
          9.80861566527575,
          -1.9109995363880072,
          -1.5953448853504684,
          -0.20772046078352774,
          0.3837984365774658,
          -1.6622338726879482,
          -0.5449138158015014,
          0.3926042114015611,
          -1.0816366373679887,
          0.2533103235365408,
          -2.3938747210539613,
          -0.47150127593609636,
          -0.17561167281722645,
          0.7451440430086244,
          -1.6873495018786002,
          -0.2038045167524351,
          -0.6772495315786091,
          0.4515441159027948,
          -0.472748606466056,
          -2.6124788945229924,
          -0.5263262266185574,
          0.8079535533547778,
          0.11383168486562556,
          -0.8406691236039688,
          -0.07662975110137579,
          -0.5132639481080149,
          -0.582058132828677,
          1.4966189151479763,
          0.2159129418191723,
          0.8749333087385129,
          -0.4958347243325973,
          1.2667969389178981,
          -0.63522149686177,
          1.7116862484490973,
          -0.05981311705813941,
          -0.6497724736162357,
          -0.6584021042342959,
          -0.11984531532774587,
          -0.6498927216938711,
          1.6583247694069492,
          2.0021393264062333,
          0.10467094944932928,
          0.125930712395305,
          0.921184280850529,
          1.1566985880876268,
          4.137971827721913,
          0.45103399100912683,
          0.7392753979079755,
          0.7802223761612859,
          -2.0010115300907714,
          -0.5462424385825628,
          1.2886913072683859,
          -0.41389348527970904,
          0.5142060333389618,
          -0.19834002790450128,
          -1.1325191168425952,
          1.0888335146592387,
          -0.8852774981108753,
          -0.2595736667103285,
          -0.3365596012460411,
          -1.4383020605948795,
          -0.8553689297851279,
          2.037415663490337,
          -1.084980509930827,
          -2.62497251042955,
          -0.29118493718810795,
          -0.9406771827196871,
          -0.8619638727305505,
          -0.744655243334683,
          -1.5806404300447319,
          -0.2454019965262059,
          0.1661323479809519,
          0.2552234665149216,
          0.8974807722274425,
          0.6208671719375569,
          0.28059253069265977,
          -0.6340873085014096,
          1.0661851762831869,
          1.550396487126642,
          -0.7612398420860175,
          -0.06922749235527367,
          -2.1577156365998045,
          2.1872713095153977,
          -1.3215548520622293,
          0.7356238326523733,
          0.7673642510824689,
          -0.0697992924477624,
          0.488667665043321,
          0.2669812198875659,
          0.7328123563979602,
          0.5861214875061433,
          -0.995385815139617,
          -0.17759522520564164,
          -0.6764116893753365,
          -1.29892132241174,
          0.8921496309187907,
          -2.26753647973629,
          -0.6406026434243642,
          0.08160718107044539,
          0.7976536903440753,
          -2.5319163057702405,
          -1.079901417635556,
          -0.1961558696932129,
          1.1384170320766456,
          0.28707549080251393,
          0.4226851034531933,
          1.5804058973004476,
          0.7663364597659555,
          -0.6146786963745633,
          -1.1175193421862735,
          0.6785761172927801,
          -1.1806363394390684,
          -1.2359788765089346,
          -0.3195532424962482,
          -0.37440710690790246,
          -1.8640708749147734,
          -1.7773287436540255,
          -1.9813608548146202,
          0.2570733598340704,
          -0.6155426574374914,
          0.24292559938267907,
          -1.1616324224085057,
          1.8958622798558837,
          -0.33566063651686046,
          -1.0694624857178228,
          1.7513158520768215,
          -2.4367945237996897,
          -0.7722764505011083,
          -1.1810989500449764,
          1.9317052289038243,
          0.5716358610330152,
          -0.4666957497791061,
          0.7085487574433703,
          0.2816180026787557,
          0.3907796891399539,
          1.866457264485951,
          1.2570515395744706,
          -0.025989927797272393,
          0.0829236931600069,
          2.2125582507039643,
          0.32506176456087177,
          -1.1703087112108916,
          0.27426832099094817,
          0.7085487574433703,
          1.1437392895821439,
          1.3752645944313224,
          -0.5836498678916411,
          0.19823214236746015,
          -1.6148947810199716,
          1.0620864810567916,
          -0.9361637998069989,
          -0.02286677611898844,
          0.6613537913076042,
          0.3853063184308253,
          1.2299781646381986,
          -0.07782348751576995,
          -0.1592364575513636,
          0.46279131029195536,
          0.8672704536836486,
          1.5854835718191633,
          0.7367549070529659,
          0.7140682739125949,
          0.9688369678118377,
          0.2512680239153449,
          0.5132039117659926,
          0.837222220350174,
          -0.3573670748157753,
          0.7717816493277013,
          -0.607450298641601,
          -0.269461179789524,
          -0.8556227790287781,
          -1.1068158657389366,
          0.18685711887944695,
          0.681627795419913,
          0.9788842536594313,
          0.45208387285022533,
          -0.7983021441809097,
          -0.13385525664812853,
          -1.3796314186286893,
          -0.210781386402844,
          -0.9811799170595036,
          -1.3319948163180737,
          -0.19328093980775177,
          -0.27708365578956345,
          -1.9783775271564643,
          -1.373892753389271,
          -1.202444736179623,
          -1.3080694576617196,
          1.7650475397544323,
          -1.1229156368814168,
          -2.730925832158358,
          -0.8706224842112554,
          -0.5243173469086184,
          -1.1097479863616238,
          -1.2308039831949487,
          1.1494624022273887,
          1.964197765747781,
          2.1785293823189753,
          -2.8135610607731647,
          -0.4446860762774566,
          -1.363471634841044,
          -0.6220149462494275,
          1.0416800370699901,
          -0.3952177166580219,
          -0.1944946955358403,
          -0.38526083549147166,
          -0.06318642030527005,
          -0.06793988912861305,
          0.047525272443749815,
          -1.288014937405108,
          -0.4742245086831737,
          -1.3815311599721711,
          -1.499128273457783,
          0.10597497457687864,
          1.2977230389711807,
          -1.4864565185645977,
          -0.043092712418068224,
          -2.3328311797700825,
          0.9425352116267066,
          -0.9782852103707481,
          -0.8375933378434289,
          0.2418211945751756,
          -0.8490077081291295,
          0.06737530831032129,
          -1.1745357862551762,
          -0.6271315392818458,
          -0.5770669957486699,
          -1.344871269746924,
          0.2319654410246668,
          0.8445197390903204,
          -0.40290098978721,
          -0.00573621436111481,
          0.44991433403587217,
          0.6750056141422714,
          0.28269214284247285,
          1.269607218037025,
          -0.4871801805221621,
          0.6108104896236369,
          -0.4948587314914135,
          0.1181781723823422,
          0.7334875142917895,
          -0.5180917961506779,
          0.1810641604085792,
          0.714623091720873,
          0.7428997971628273,
          0.5593656303835147,
          0.4849053310827816,
          -1.0171259983707703,
          0.3878104905547091,
          1.622637784339551,
          -0.17809704794334927,
          -0.12476503646774227,
          -0.29617796041093836,
          -0.27379892263627476,
          -0.9268841480713088,
          -2.038010112230425,
          1.4506337137912302,
          -2.0579085201675213,
          0.033027310562339506,
          -0.6887356962529679,
          -0.5190815328898652,
          -0.7472663186110962,
          -0.8682390206907916,
          -0.23433916561783202,
          -1.4053392824479365,
          -1.2981861098400005,
          -1.112746750628705,
          -0.9768526143068089,
          0.6741636247927305,
          -0.9814765781246847,
          1.0934127148953354,
          1.1383910108144217,
          0.06965396958828012,
          1.9959801067556255,
          0.9755122541602347,
          0.6623848700199346,
          -0.8861233320777754,
          0.7021569500086016,
          0.7363870858767155,
          0.23300896490671752,
          0.15532837478584383,
          -0.7151335683911908,
          0.45346230447626273,
          0.5953873912830417,
          -0.12083862405770208,
          -0.7904677532104021,
          0.7442943549477111,
          -0.5173945461923842,
          -1.3671815537397152,
          -2.1647606862810456,
          2.4065757701891557,
          -1.249114229575506,
          -1.7138057454863642,
          -1.1199854719256788,
          1.6019710557732265,
          -0.729805234506005,
          2.696272599035891,
          -0.3514964395317289,
          -1.7024709074298883,
          -2.6028083441033285,
          -0.0018618573810409197,
          -1.6785787472575269,
          0.1710084301558385,
          -0.2664486511200102,
          0.07288441826828197,
          -0.5148061391081231,
          -3.6521473312229347,
          -1.5229955970088507,
          -0.36150444423669525,
          0.33209914601970586,
          0.06386128061298241,
          -0.06798773550581542,
          -0.06798773550581542,
          1.6600878927881189,
          -0.5499230709138863,
          1.1657589760111946,
          -0.5731714708818129,
          -1.6661836834923525,
          -1.416562462785048,
          -1.430832818093605,
          -1.1943971753589027,
          -1.4274095208739366,
          -1.1511209970770384,
          -1.4869190971071593,
          -1.5228713473950601,
          -1.4516382091534192,
          0.17590165038654884,
          -1.2007541057312032,
          -1.1574513304114862,
          -0.8775905383634296,
          -0.575377726746667,
          -2.047746694373266,
          -1.261201967711882,
          -1.6578915972040766,
          -0.9738377876979724,
          -1.3021828325620177,
          2.030428652041033,
          0.7354293886633636,
          -1.415090518826001,
          0.5545644883197929,
          0.4961085640844219,
          -1.4305639637987235,
          1.6075802808416442,
          -0.801228479828744,
          0.6747351899313608,
          0.12194654885889764,
          -0.09902124256603806,
          -0.06924925887923128,
          0.6715536596689557,
          -1.1968649079150144,
          2.1785293823189753,
          0.7120396547541881,
          1.0719117293829015,
          1.1478520740596871,
          0.6481283190597511,
          -0.5960966025054181,
          0.22109387579757742,
          1.976686632862609,
          0.06676449711305202,
          0.9143713972798181,
          2.8467708265343084,
          0.14701877091225868,
          1.2816469698098139,
          2.8467708265343084,
          -1.940794020637524,
          0.0459402785604271,
          -2.1062436150146966,
          -0.7473077818496987,
          0.38133053707087183,
          1.1563480223931897,
          0.09832857235023963,
          1.3195450645550837,
          0.683850221106295,
          0.9286327150239294,
          1.2197449477602855,
          1.1812618877138947,
          -0.24626779839356905,
          1.0543507232367992,
          1.634624948268463,
          1.1208526375187813,
          1.1665004006106976,
          0.3592048896803262,
          2.936844439574083,
          2.359411015343152,
          1.5909270645632732,
          -0.2191057186528516,
          2.278056968755227,
          2.621518835986782,
          1.5149446421866535,
          2.1521154668475524,
          0.3527371550411675,
          -1.5239595469807001,
          0.828312593415226,
          1.451635892343003,
          -0.07205021415422937,
          -1.1760735761202974,
          -3.1982178651250694,
          -0.8201818438122851,
          0.6486029919662087,
          -1.8391905524002912,
          -0.2958332784407955,
          -0.08593625358313235,
          2.161647716158941,
          -1.5566511731330406,
          -0.19148102107685866,
          -0.729987043100445,
          -0.7726676252422106,
          -0.8789815373159131,
          2.5965949403301285,
          -0.9684721849669099,
          -0.012415922773763736,
          2.7776317992507433,
          0.008146240049376058,
          -0.12915323542917892,
          0.6678652880289527,
          -1.5107021703796677,
          3.0731493555380673,
          -1.4438610416065334,
          -0.5025097048772139,
          1.3242077355585746,
          0.5827095805282658,
          -2.1973568753736155,
          -0.14753873569748677,
          -0.48809535255463854,
          -1.3450083943612783,
          0.32685326130838266,
          0.8459249238174416,
          2.2524644820304123,
          3.304993154608966,
          0.038395247395703165,
          0.9816545686601068,
          -1.7461053753967264,
          -1.4139744288995448,
          0.10598670322736138,
          -1.1229631780375935,
          1.384410689220141,
          -0.1616719729889404,
          -2.254469623879284,
          -0.6869253409334282,
          0.7902407593582275,
          -0.14973732308851037,
          2.0284456703648415,
          1.0809283795560034,
          0.2532824348560143,
          -0.13986980407637475,
          1.519353251808013,
          -1.5507576235702554,
          -0.8088935101256465,
          0.1504467045846732,
          -0.04500234018913846,
          0.1872013257608098,
          1.2968594264079611,
          -0.46262401581710516,
          1.0988180711853741,
          -0.4246271861727916,
          -0.8185606053174727,
          1.1197926281004664,
          -0.6119842950529527,
          0.2947456189667926,
          1.45510387111619,
          -0.41001794748550086,
          0.5691942254362433,
          -2.590599150048016,
          -0.18202951374809384,
          -0.8607013036745826,
          -2.2960756072603274,
          1.3167076465878869,
          -0.27251690398117595,
          -0.5566738862995987,
          -0.7152170885868784,
          -0.7028362760612357,
          0.06303033231618457,
          -0.9902208730061545,
          0.019724106704529232,
          -1.5601392302159758,
          1.2645522348952982,
          1.738302222935587,
          -0.24957322851933708,
          -1.0702528843505696,
          -1.2844295150086953,
          -1.2464356433071104,
          2.299329986298235,
          1.1641245992756348,
          0.7015448503931612,
          -1.5291054878331354,
          1.2451125043197098,
          1.2631399169680357,
          2.2103714360060223,
          0.8690317957680921,
          1.7953295321679021,
          -0.22799795098332046,
          1.035496693630142,
          1.74718501686229,
          0.6393512413680975,
          2.732274605758201,
          1.9385695616987788,
          -1.479781136508335,
          2.626893231713913,
          -0.987133970886941,
          1.5030130287038042,
          1.0529794513877166,
          1.2377964378668722,
          1.3964744337563022,
          -0.4050203930043915,
          -0.9982484808587213,
          -1.546883743976747,
          3.1825154078065814,
          -1.5412634785360102,
          0.800140731536108,
          1.626295835384949,
          -3.4389885917616096,
          0.5753938621894701,
          2.2122163894790092,
          2.4836772733523023,
          0.588593894544172,
          -4.121183392702433,
          -1.3940325838598728,
          0.7540240214844243,
          -0.9321725445352367,
          3.028110069143334,
          2.288113163027973,
          -0.4078631192511283,
          1.1182369660441578,
          -1.3045923139922624,
          -1.0114715054304493,
          1.4550998217037556,
          -0.11640318223675931,
          -2.416110659060033,
          -1.9796288927708403,
          0.16213361299954002,
          -0.468287527262571,
          0.5913167294180816,
          -0.3108898220591177,
          -2.520090736976858,
          -0.09431542449179788,
          -0.1378307211658035,
          0.6444051988424145,
          -1.1620644660524426,
          -0.5610637779327752,
          0.2316888902685797,
          -0.5581193468046426,
          0.2153890923015161,
          0.3865471295851902,
          0.9889416595795424,
          0.7515095953074539,
          -0.23329405373395795,
          -1.2297478871028993,
          0.8201643769410971,
          -0.15882043442039218,
          -0.7565388853115707,
          -2.112028615171624,
          1.840536966980794,
          0.5764743024800898,
          -0.691496947799174,
          -0.3157707058674238,
          -0.8810996699177824,
          0.8021470798848596,
          0.19347997695700675,
          -0.42601966535244057,
          -0.5943416563048249,
          1.4291872876100462,
          -0.1640924591100459,
          0.8120993643015324,
          -1.5026498422538648,
          2.5987795097546726,
          0.5293587436794365,
          0.778360832625932,
          0.623813669058094,
          -0.12191949193504689,
          0.2679161610638075,
          0.4237906487477507,
          1.068640816938227,
          1.4026574288018099,
          1.3879816561431075,
          -0.21462188479536487,
          1.5320826718596199,
          -0.6503647631977214,
          1.3022033030346307,
          -1.3393116405859742,
          0.09681015173227746,
          -1.3155880062177105,
          3.2836447682990095,
          2.7994210517958273,
          1.3470804164822872,
          -0.18101845690861407,
          -0.1754369017855196,
          0.6064345226532641,
          2.7776317992507433,
          -1.8230617493286447,
          0.13057729102599233,
          1.231384500869601,
          0.3466045216035886,
          -0.0983293899949604,
          -0.09436777659232745,
          -1.8418970721984367,
          0.5570265612360722,
          0.3387411601865381,
          1.0151455031556156,
          0.7643506416929164,
          0.08291424450270433,
          -0.10603512351487274,
          -0.049998715508898346,
          -0.8471965335775009,
          -0.7625426989529598,
          0.44949717893278457,
          1.1125741175253236,
          0.6084618967296065,
          -1.254127843863856,
          -0.63140351292613,
          1.2962849057650516,
          0.24621207217738186,
          0.05394140392632288,
          1.4956554144984215,
          1.7899910019342062,
          0.4706658161331809,
          0.519657362120605,
          -0.09702344877198694,
          -1.6289827036759483,
          -0.14762103535583282,
          -1.0538483392871971,
          2.575473897310147,
          0.32698270084520786,
          -1.0584835530918624,
          0.28102921468649306,
          1.4795346263809055,
          0.8726252657977528,
          0.019121467791142047,
          0.8287698711128364,
          1.1378368096175697,
          0.2635445790927011,
          2.2707965426279677,
          1.307720619909264,
          0.8185767880870033,
          0.6650768549335058,
          1.7874380723812995,
          2.0664051307236857,
          -0.34639268363053305,
          -0.8577415633782194,
          -0.34664296939333744,
          -1.0922817043651107,
          -1.3118166173906018,
          0.8976326080505255,
          2.5385277673135622,
          -1.1870387717949173,
          2.786982618493672,
          0.2545143723187331,
          0.38936147667519955,
          -1.1071412055199392,
          1.610770507487831,
          -1.1739525088554206,
          -2.0616820132566858,
          -2.8053945963871176,
          -0.883166337168552,
          -2.0633678994235924,
          -1.7987616717190258,
          -0.42073147532698024,
          -0.6148024213290794,
          2.274393449922067,
          0.1859934865096027,
          -0.589859390419155,
          -1.2018199465962724,
          -0.11050871698377085,
          -0.5749320975573814,
          -0.6406026434243642,
          -1.3543005202399974,
          -1.5725660924039015,
          -0.6421207488010818,
          -1.7657936503406642,
          -1.400959628516294,
          -0.5103533356941578,
          0.3136669597306119,
          0.10148720546280662,
          -2.2277616611461637,
          -2.1663989305907436,
          0.9798370766144233,
          1.2933397156417659,
          -0.18737478514681258,
          0.35437199497886857,
          -0.49404574101390536,
          0.4082024146126578,
          0.07545889725107958,
          -0.02009748944254609,
          -0.5232755081075597,
          -1.1151845701111462,
          -0.03524547218808855,
          -1.7256356053318593,
          2.5653555509713533,
          3.785598078144565,
          -0.5196969124319126,
          2.022522949103086,
          -0.32733611209997515,
          0.9020944113643284,
          -0.9310219539819904,
          2.5653555509713533,
          -0.9971014093097121,
          -0.29762929933797205,
          0.3241034095638712,
          -0.3972965827435339,
          -0.29185280304219835,
          1.2589704060075464,
          -1.1152716845022308,
          -0.6068327709989885,
          -0.01960871852509152,
          1.8576890270533746,
          -0.44601320040822745,
          -0.08888667464901628,
          1.2226267391788166,
          1.3180419447934744,
          2.8347796606319866,
          -1.6881739103057376,
          0.8702582499121735,
          -0.6016329590871639,
          -1.6520216682288382,
          -0.6742172913753642,
          -0.16801077379186888,
          0.6829368856864021,
          1.0166141420885224,
          -1.1573513700831812,
          -0.9920311725425537,
          -0.30940759541017737,
          0.2731435477189473,
          0.015838701558657728,
          0.7240235934694058,
          0.8707080592041289,
          0.21601977979558318,
          0.4183086601789267,
          -0.7748456390260197,
          1.6700907754335657,
          0.21471234273482326,
          -1.1733447838065578,
          1.0707460862605078,
          -0.5757347764161688,
          2.791480637215216,
          0.8073484220482446,
          -1.0511858033337018,
          -1.163890600220107,
          -0.9323783000383259,
          1.4338452229528613,
          1.5482517667523994,
          -0.8243053696849093,
          -0.2172776174893349,
          0.7408819707686036,
          0.7766444874755666,
          1.2466074522256285,
          0.7996077501042843,
          0.7098984500909359,
          0.15738238233608853,
          0.8291981600164924,
          0.4115211848400108,
          0.1850701219470116,
          -1.0699889202336423,
          0.5477835991559187,
          1.0667926679701107,
          -0.8775491680441393,
          -0.4112771774398268,
          0.09562702241928404,
          0.07627133581846146,
          -0.41211540420469006,
          1.2651376595429629,
          1.1350518360935897,
          -0.06337771493283832,
          -0.4354620140625741,
          0.7196787549342648,
          -4.402578912524445,
          1.968720868368262,
          0.6555126013851416,
          -0.05604008805531259,
          0.3601484392440354,
          -0.33933105305157224,
          -0.05618864061894902,
          -0.7620360756541406,
          2.276584436476024,
          -0.18097852487374988,
          0.04741030706685194,
          0.9977781862139045,
          -0.10368604875802677,
          0.0847765192555831,
          0.8612425944740142,
          0.7906107892066147,
          2.2221531688980316,
          0.9271137572827839,
          -0.933076573827793,
          -0.8988029806520115,
          -2.313794695898902,
          -1.2620312997889225,
          1.5310948073312352,
          -0.46980024727535497,
          0.8215286852076038,
          0.7262953082237082,
          0.3474608869182152,
          0.1933160140725187,
          1.4030209257013297,
          1.413647275085949,
          1.4846899884981624,
          -0.3107178863439603,
          -0.10512270723039051,
          2.788588196063792,
          0.6942665279067907,
          -1.6221205168196717,
          -1.5358891258969771,
          -5.390230091324019,
          -0.053827145838085094,
          -0.28986654175932275,
          -1.2603822989769298,
          -0.7803224545641408,
          1.5051495770311585,
          0.5803112501175961,
          2.086664936649376,
          -0.1816100174064425,
          -0.6501600677716763,
          2.800508129550583,
          2.010684631814509,
          1.0261929757046153,
          0.8826209995591442,
          1.401886188573255,
          -0.16219622891775787,
          0.2559954609722761,
          0.8691497060902629,
          -1.5011848488732102,
          -0.32005972773275476,
          -1.2944994042026126,
          -0.5456178840144871,
          1.888824320869703,
          -0.5729396178889076,
          -1.490837162666299,
          -2.1898217107727236,
          -0.6979816378653626,
          -0.2390529547481157,
          2.409294352998542,
          0.9257675849876738,
          1.5566745603483803,
          -1.0069374967242797,
          1.0084966732206213,
          0.9323963957092484,
          -1.0527303276752822,
          -1.237306474288758,
          -1.061956511129075,
          -0.5555449222733333,
          0.9788842536594313,
          1.040825929876667,
          -2.8428263971497487,
          0.5180488529611261,
          -1.6905110652741544,
          -0.32628851114170476,
          -2.1300316136128123,
          -1.1278168907275765,
          -1.2815634859617282,
          2.468497036072902,
          1.0838583358054044,
          -3.134978290334297,
          -1.6413306810627157,
          -0.45250278470661304,
          -1.9522743211029687,
          0.48362291075191244,
          -1.4563425687414262,
          -0.1098731438504182,
          0.6158576137099436,
          -0.5868950184257317,
          0.5769079407121157,
          0.9088328834540077,
          0.9740543609654397,
          1.4055402227803473,
          -0.4515041144129983,
          0.8918181728173384,
          0.8975360796648473,
          -0.662199997903762,
          0.9635875557456005,
          -1.22520051692406,
          0.8707039875644657,
          0.8253771930222144,
          1.0561426926150952,
          -0.9405407931339534,
          -1.8287828386842513,
          -1.354012449305035,
          -1.6069800221607187,
          0.346011767746723,
          -0.48224370036170483,
          -1.079742157652025,
          2.049442378801732,
          -0.6863589864441062,
          -1.2312058155561363,
          -0.4408077734631778,
          1.910392882739904,
          0.032705837403535366,
          -0.20996796039133644,
          -0.6289580764774872,
          0.5105359440905783,
          -0.9591936739663632,
          -0.6258817633061429,
          0.0652014234646753,
          -1.782299884598341,
          -0.840575561513407,
          -0.6824369774306157,
          -0.3050667357507051,
          -0.6683855409374183,
          -1.2952094103434557,
          4.826559931350418,
          -0.3360372733285954,
          0.5404265351754709,
          -0.12259444631687272,
          0.40405031095811117,
          -0.43068633033445325,
          -0.24231908854981465,
          -3.7463039154987925,
          0.3903540292108657,
          -0.35595835639309037,
          0.060018862612229516,
          -0.8933600247286182,
          -0.8933600247286182,
          -2.0865163953577066,
          -1.7010795872307385,
          0.2606769403008008,
          1.0922593933929907,
          1.234550675135649,
          -0.48824078778516594,
          0.4524186313225976,
          -0.8399721363552338,
          -1.5610763688475269,
          -0.5750562636036359,
          -0.8381301731828618,
          -2.730925832158358,
          0.7874939756284255,
          0.4911950927440065,
          0.37744873752101427,
          -0.996782744117446,
          1.2010413815187768,
          -1.6818591537753613,
          -1.4601155094272091,
          -1.4601155094272091,
          1.2010413815187768,
          1.0670428479199028,
          -0.45679465998486063,
          -1.2245378851001354,
          0.6475400473459311,
          1.7194337387580414,
          0.47215205017965406,
          0.1351467155885506,
          -0.2806337788637934,
          -0.35412608462657663,
          1.031857393080046,
          1.720845674353053,
          1.3009344093014226,
          0.47899759126323493,
          1.86973489811416,
          -0.5914828614287038,
          -2.0590376645165547,
          0.2675743062137765,
          -0.9853266239471633,
          -0.4604816004754529,
          -0.5391510807840092,
          0.9443175429761808,
          -0.2599530298696156,
          -1.0649853089125993,
          -0.23905742054502518,
          -0.7345811253619405,
          -0.08720400421957995,
          -0.04894204937688833,
          -2.8657596347127194,
          0.6414594616910234,
          0.6520037893508139,
          0.27478687873120494,
          -0.08784013708631265,
          0.6768356895737332,
          0.35920674858526896,
          -1.3101377947307822,
          -0.06956410118681484,
          0.21875627038952897,
          -0.10658644268281123,
          0.32576837086843985,
          -0.2924354141491218,
          0.6336547576565382,
          0.3133456930887125,
          -0.5032505939465274,
          0.537122045632541,
          2.374337714272006,
          0.2790429935717435,
          3.1922750681240486,
          0.08380126477325434,
          -0.3451750248005214,
          0.6167098993104878,
          -1.0792900548148594,
          0.14936143468670035,
          0.4447099327029957,
          -0.5114790901334066,
          2.1785293823189753,
          0.4572206020731491,
          -0.25556123260532776,
          -0.8074208670098916,
          0.9472386308757974,
          -1.2426905814373934,
          -0.3364176185262609,
          1.0736651373184196,
          1.190478221257063,
          0.7623681292410844,
          -0.6732696472195195,
          -0.6440393410699312,
          -0.4569795729109617,
          -0.9355214742832682,
          2.9929437226692412,
          2.7260040104125687,
          0.5718932501658409,
          1.5889260213849863,
          -0.20647348498483037,
          2.50383474895769,
          0.29615014757154834,
          1.0846189796399628,
          -2.202209531135043,
          -1.4404515406505776,
          -1.2821572583643783,
          -1.0392645050027816,
          -0.8359784282430524,
          -0.3047987156006022,
          2.072970576974865,
          -1.858685903553431,
          -1.20494756345331,
          -0.5032153485091937,
          0.3362431205690425,
          2.5649619811228264,
          0.3017574318526974,
          -1.7667927291437817,
          0.823543541008873,
          -0.2255132979823919,
          -2.730925832158358,
          -1.6613392304245802,
          -0.5014512201902226,
          -0.6092820716180193,
          0.8458223801724125,
          -1.977398517839235,
          -1.0538519726242692,
          1.860797620854678,
          -0.3395686494139349,
          -0.917498483470471,
          -0.8125754547368489,
          0.1430170152730158,
          -0.43627379330685806,
          -0.9044991715514366,
          -0.2767892181150558,
          -0.24579307422651028,
          -0.8244011946355031,
          0.9298124473763075,
          -0.5950664354754096,
          0.4412507041863294,
          0.8445197390903204,
          -0.4650701320324816,
          2.1319338498127407,
          2.1319338498127407,
          -0.3313983578893616,
          0.44153230211221317,
          0.07998978375631868,
          -0.3963211426076443,
          2.1319338498127407,
          -0.8155413081291483,
          3.171873475784778,
          -0.5190281872867484,
          -0.04992336453818281,
          -0.5719527809990379,
          1.4382986039502876,
          1.09006696847388,
          1.784362690675147,
          0.10095590734267901,
          -0.6444052078607335,
          -0.6061843984291297,
          0.555088337446726,
          1.5481209530840552,
          -0.7817051706674066,
          -0.6388486423779071,
          -0.1709022340110751,
          -0.3261121819132943,
          2.3012225966724302,
          1.7357442769118523,
          0.0469256316392888,
          1.3344903152923,
          -0.3115125472162552,
          1.540760346052996,
          1.5085799273169225,
          0.8075604130275321,
          -0.4410685895903909,
          1.1461892091104096,
          1.0750781640158062,
          -0.02528769687673634,
          1.0359956773490941,
          0.7940371917879289,
          0.01029807997203112,
          -0.23136664446222274,
          -1.1263578380899044,
          0.3482735683073866,
          0.7188007759804212,
          -1.200668586601679,
          -0.4887491938537948,
          1.0511329441517372,
          0.7337050641208369,
          0.5801340207770178,
          1.7465185489496893,
          1.5845399675575018,
          1.2293627570567156,
          -0.06943785397606683,
          1.3142245990799333,
          0.34668779921771564,
          -0.3224727914058876,
          0.2900924021945477,
          1.2744631039301602,
          1.950146889917617,
          1.2293627570567156,
          -2.374200815105655,
          0.8097924046763026,
          0.32574938288037725,
          -0.11367229774894526,
          0.5239443339764678,
          1.6637469576513093,
          1.74534717478266,
          0.19832259823787046,
          1.7258681710226311,
          1.4745753880275598,
          1.6228113586987172,
          2.1264928384127195,
          0.30837059075439766,
          1.1642030880653815,
          1.1415398106539247,
          -0.02528769687673634,
          -0.6942782995410646,
          0.6062441505324682,
          0.8056575915427343,
          -0.9718696038331143,
          1.1846475025888183,
          0.22260393120987704,
          -1.1380333885721872,
          -0.42294171070277053,
          -0.9603842841299491,
          -1.2655864882816013,
          -1.6743094682762152,
          -0.9592325696676619,
          -2.2082757823500154,
          -0.7614311127461276,
          -0.9283602915772434,
          -1.0003872778034193,
          0.33305942804359623,
          -0.1997866147933721,
          -0.09779050727088567,
          -0.3273231663866192,
          0.32999149224547925,
          -0.1732878731515439,
          -0.21810390747021455,
          2.077877064765504,
          0.02548911291235639,
          -0.9418507803283753,
          -0.4804940299306698,
          -0.4777960559294732,
          -0.5236326235491925,
          -0.9163671842424644,
          -1.2884126387002173,
          0.7256755059981295,
          -0.5361754770471587,
          -0.20004831834695302,
          -1.5613522001109874,
          -0.61421212038373,
          -1.194131190809026,
          -2.1123758191296784,
          -0.7475462109839744,
          -1.086255009417536,
          0.607292177975293,
          -0.3597777472887271,
          -1.5821085055818633,
          -0.13876869479146023,
          -0.00398216353960887,
          -1.772100454225186,
          -0.10800633824616088,
          -1.718455148244298,
          -0.7220600773571368,
          -2.00849813117269,
          3.785598078144565,
          -0.6245323153977064,
          -0.1811411093788341,
          -0.02280029214200389,
          -0.15263025560776433,
          -0.18879500559028287,
          -2.323447975853467,
          -1.6129585756299811,
          -1.925973818653644,
          -1.4099877285403841,
          0.10661860207796933,
          -3.205538486710097,
          0.5323072652927354,
          1.8282937839211082,
          -0.6155007542491481,
          1.312255095015001,
          0.6822192108782613,
          -1.0354897180880462,
          -0.4567652894288661,
          -0.8453131010072403,
          -1.9210975153315757,
          -0.6527180829080158,
          0.024262505451435948,
          -1.1247553043951952,
          0.4014556948454128,
          0.05346625837849266,
          -1.7065805207387768,
          -1.9235702921852256,
          -0.681065857722394,
          1.6164448236652178,
          0.09441690780118833,
          -0.5757347764161688,
          -5.324849710991162,
          -1.807005782716966,
          -0.021224692335780733,
          -0.8179812815431756,
          -1.3805997531516443,
          -0.4252552251575281,
          -1.1523424561828004,
          -0.6194712237286736,
          0.2735411475255186,
          -1.2756162640421782,
          1.777061965927174,
          -0.45488241736513546,
          -0.42176108068622603,
          -0.638431370514771,
          0.3983427053701486,
          -0.18775644327673516,
          1.6973069926470359,
          -1.549598120569178,
          0.19379976247852018,
          0.4813935019603197,
          -0.20512310302811246,
          -1.0982469509351978,
          -1.5081390298152706,
          1.4235176038388102,
          0.8841847068181835,
          0.209329511380737,
          -0.5197990686970078,
          -0.7780011535498254,
          -0.08477339014202832,
          0.714339398301587,
          0.13736835214689694,
          0.7007718477066587,
          -1.0091976515141272,
          -1.0020222624106274,
          -0.7434581785609009,
          -0.7805593020332098,
          -1.3122341658827266,
          1.0170344495471035,
          -0.3040733125345667,
          0.08946315030054423,
          -0.31230681270171623,
          -0.16456801441916,
          -0.20494956985883112,
          -0.07991557811551853,
          -0.48004023356821107,
          1.0418746296709664,
          0.418323762862805,
          -1.0277443701394056,
          -0.6611049658549444,
          -0.6489680497255789,
          -0.385260835491472,
          0.17448410537177705,
          0.5248339009637614,
          -0.4352913993616489,
          1.1609463777718736,
          0.2589852009041756,
          -0.42691453943558416,
          -0.6464046362867756,
          0.4281503175252146,
          0.4327388460338226,
          -0.10281476747520264,
          1.74091988647274,
          0.5389720184815614,
          0.202137558987325,
          0.7995084254451728,
          -2.223335855145662,
          -0.2981841698859294,
          0.41034709323556134,
          -1.183936702847159,
          -1.1071412055199392,
          -1.1559737393615053,
          0.44715157638806885,
          0.7108677100843076,
          -0.48733428196600287,
          0.607859482731234,
          0.14936260868723786,
          -0.5306247834551353,
          -1.4600986525329214,
          2.158879972144935,
          1.4175724059415633,
          2.3234746462337377,
          -0.7264340924704074,
          0.5380051620704815,
          -1.5551401795197868,
          -0.23681909680485905,
          0.4830988146821088,
          -1.6654053221269087,
          -0.771483360804543,
          0.4358784205841089,
          -0.9528768477392698,
          -1.6818591537753613,
          -1.1853532984892723,
          0.03981564058481024,
          0.4276802732664078,
          -1.1439320101672579,
          0.4881200392686812,
          1.066662585650464,
          0.01162612404727727,
          0.5060631780243187,
          1.4863001605179282,
          -1.2844967685177486,
          -0.3713389048807122,
          1.9640017001666545,
          -0.16778180715887314,
          -0.6040355782456622,
          0.2917830774540985,
          -1.4741218575235389,
          -1.1120222115701344,
          0.30596236372108265,
          -0.4379365403909998,
          -0.5672204471636616,
          -1.4898328117949906,
          -0.4367731715365516,
          -0.9923148417845841,
          -0.2090243774305255,
          -1.0654567706274052,
          0.7770097252992118,
          0.33401701714383053,
          0.5252445248516961,
          1.8155609678787505,
          0.5081082583965707,
          -1.7117626410225608,
          0.4959448449737468,
          1.7418772023653082,
          1.4017740558582368,
          0.2819221874301149,
          0.1353671250446782,
          0.07841349962985686,
          0.6245229490939129,
          -0.35942637089814494,
          1.740676276274567,
          1.7810790132391303,
          1.6140113589621876,
          1.682690829544559,
          1.2215784649122436,
          0.9220277790772242,
          1.7617395286963522,
          1.5690767467252917,
          2.7233564576301768,
          -0.47763708031993785,
          2.1233022870016143,
          -1.1063612328204997,
          0.10993501322157898,
          -1.6569223971159355,
          -0.7710263136821053,
          0.6354891072036882,
          -0.9350760961442336,
          -3.154052361357527,
          -1.2137938729879867,
          -0.84389814818391,
          -0.9125375098004533,
          0.23681176346469918,
          1.7845842030479513,
          1.987928065450013,
          1.8873203415832436,
          1.389082085230541,
          0.5250577760428056,
          -0.6949754865209067,
          -1.6187760969086662,
          -1.0019065974555317,
          0.46327213127598,
          -0.16280340377950647,
          0.9104905958323074,
          0.4298723392551117,
          -1.1802309291515354,
          -1.1011781151568325,
          -2.4095640228892607,
          -1.1367904663450688,
          -0.48103855836933773,
          -1.242917765011493,
          0.6135342320569073,
          0.06955499887095208,
          0.8825057082452495,
          5.661064469750129,
          -0.16173252619485562,
          0.5077876996619001,
          0.4014556948454128,
          0.6099267306357667,
          0.7221971732916755,
          -1.148249704227905,
          -0.3069504230571485,
          -0.7545499809956954,
          2.3277517381735158,
          0.24686911448379814,
          2.436830025160063,
          0.3434852089598278,
          0.5893342154021551,
          1.017508286688115,
          0.6428230485845224,
          0.08601275154033158,
          1.3216325337985873,
          1.7160008601508714,
          -0.5715956896217789,
          -0.8386394424269152,
          -0.37632737319680004,
          -0.004324987100124652,
          0.8203433536037075,
          0.9161667510871492,
          -0.1494127167046758,
          0.6042109943935774,
          1.0137097562146584,
          0.13603763028618568,
          0.5283163487891253,
          -0.754992895260779,
          0.166004542553534,
          0.9505098176612292,
          -0.12126743768402173,
          -0.2766010244296386,
          0.28234405241929134,
          -0.650534021633639,
          0.5842145967287778,
          0.559804326679188,
          -0.4591874361420253,
          1.1835659275212278,
          0.7476109366159936,
          0.09042435986383364,
          -1.164191397218854,
          0.5884791515413877,
          -0.9406279038400537,
          0.18524942989997684,
          0.19004799950629886,
          0.8947453894033408,
          1.5051506536341899,
          0.8918238940497769,
          2.913545690631488,
          0.19535040548850907,
          -2.134704275267388,
          -1.0963441427170513,
          -1.0963441427170513,
          -0.17984935525889353,
          -0.8950542673028733,
          0.42475557998044755,
          0.5831053065264443,
          -1.084980509930827,
          -2.8428263971497487,
          -0.9306059402806296,
          -1.2361284238426493,
          -0.9994364223214968,
          -0.8532624380946285,
          -1.205206337878958,
          -3.0064137891182576,
          -0.7091852339985283,
          -1.0871716684012853,
          -0.5411080761057527,
          -2.0616820132566858,
          -1.8606143982219367,
          1.0730684436328808,
          -0.5750562636036359,
          -1.4422160971020876,
          0.1886789586010883,
          -1.3758920059641708,
          -0.5901899611195267,
          0.9140536000059549,
          -2.3552209829195108,
          -1.1982458217628005,
          -1.4354924459885996,
          -2.282372401763113,
          -1.4495411317022127,
          -1.3961646106574388,
          -1.2322459853919887,
          -0.6873446047620487,
          -1.3331003309856098,
          -0.3457065151016609,
          -1.6510206389647364,
          -1.2550499258583427,
          -0.6079438902660642,
          -1.3761751048259712,
          -1.5947288333897762,
          -2.756815146103761,
          -2.0975174481531957,
          -1.7890453009986362,
          0.26938140551560874,
          0.6810389452681571,
          -1.4846548825159867,
          0.7411803149126445,
          1.9235878436744336,
          -3.1653627866074703,
          4.826559931350418,
          -0.08741851902060384,
          -2.0674106916733943,
          -2.9687344407540324,
          0.906465802070677,
          0.7987656364710437,
          -0.5571382455449458,
          -0.2985993159826256,
          -1.1430498587646853,
          0.4817104725042959,
          0.24316610774922595,
          -1.2805711408949874,
          -0.5518033813859774,
          -1.140613241176296,
          -0.6281451448687299,
          -1.865098767014206,
          -0.07153712703738482,
          -1.594756060854448,
          1.4829391941009944,
          -0.030417443991498885,
          1.902544692499397,
          -0.6947868184198254,
          0.14542983433201323,
          -0.7902420934319351,
          -0.49582170715308477,
          0.4233905789931023,
          0.7902407593582275,
          -0.32635118487361386,
          1.1445857085486664,
          0.8799311581112476,
          -0.943943834061546,
          -0.42960764079662767,
          0.6670912404694661,
          2.2933766544371132,
          -0.48544282290059104,
          -0.7261160220215045,
          0.6223149471238159,
          0.16143317928932344,
          0.7770097252992118,
          0.4494073239760205,
          0.2917261998932708,
          -2.8559660325114815,
          -2.8559660325114815,
          0.655923053381953,
          1.406293735881838,
          1.0147877716635734,
          -0.25782567626502206,
          2.161647716158941,
          0.9725077360054141,
          0.5566877659983639,
          -0.1245162295931013,
          0.38684109384886767,
          -2.2742671474040845,
          -0.5032745309280627,
          0.46325743828393223,
          0.24131108774216167,
          0.4347306693747576,
          -0.48608191553884983,
          1.3493684929291612,
          0.5291162113167043,
          1.36888323831357,
          -0.744512082873625,
          -1.487337348536497,
          -1.4723501299578954,
          -0.5094951483576838,
          -0.6626360277993769,
          -1.0397485474220638,
          -0.5147913976645229,
          0.6622361023624537,
          -0.12984942660822246,
          2.5095452655965,
          0.03438825382887604,
          1.6820118145061886,
          -0.22151898410253915,
          -0.41545765369234644,
          1.8643364588341336,
          -0.6931916182715582,
          3.389284322513322,
          1.6888125651475747,
          0.7724804102748105,
          -0.027114204062824016,
          -0.44158173588628935,
          0.8066569243264333,
          1.3009605925765597,
          0.8036905200841323,
          1.455185427801067,
          -0.9668417120819935,
          -1.6011254016144791,
          0.4239634544031929,
          0.9768693414114819,
          1.664326299210449,
          0.6616282733623569,
          -0.07493749940943056,
          -0.053419150523241,
          1.5817331684268623,
          0.25080378322681557,
          1.4150167553021773,
          0.9464624614115388,
          1.7854208091586639,
          -1.8986513450642608,
          1.660281990069679,
          -1.2797034194713324,
          -1.2278698439781446,
          1.5382079251100926,
          -0.9416686159264943,
          0.25954218045523364,
          1.0825135388044314,
          -0.47956502032335663,
          2.5234170447632365,
          0.5799128089869475,
          0.8994140052267782,
          -1.1652508706177418,
          3.5410661345301566,
          -0.615160306456335,
          1.203779723677567,
          -0.19189490558534017,
          3.774095350032428,
          1.4190247050955016,
          0.46052362278154224,
          0.19506465400557838,
          0.8894868952712847,
          3.492340918964337,
          0.5095306889194512,
          2.5580337274539597,
          2.9413296035633705,
          2.9585376283879445,
          0.6664854167602073,
          1.2751122185381962,
          1.0858549905634798,
          -1.0223874893828704,
          -0.4896122311522367,
          -0.8883453305418886,
          -1.0527146426813934,
          -1.5979672130884703,
          2.420543579808561,
          -0.0184098086944628,
          1.3150039075834306,
          0.05034428153885914,
          1.2175238766675414,
          1.451318897447088,
          -0.7764384500968172,
          1.4989831502198456,
          -2.112028615171624,
          -0.8242950319505041,
          -0.7193176773642321,
          -0.5324102979469517,
          -0.7377570441587163,
          -1.7549264883420501,
          -1.1175832891565363,
          -0.8167610018597068,
          -1.4246076648562263,
          1.9210094918522997,
          2.5107890898612357,
          -1.0983810149208886,
          -0.3190782424130782,
          -0.7018982279762417,
          1.1118432949722463,
          -0.43925124042932584,
          0.2240357822135663,
          0.6909457256744242,
          0.13117975779423077,
          0.17250022808780519,
          0.6909457256744242,
          0.8801445212944209,
          -0.17264943240538322,
          -0.9571843923901052,
          -0.34187442727366396,
          1.2354223195199199,
          -0.4772773599784334,
          0.674417509712884,
          -0.4013353354818038,
          0.024502695165668636,
          1.0114888345052575,
          -0.8582289768525563,
          0.9394174796720552,
          0.41812138172327357,
          -0.8914675871467141,
          -1.543030931424463,
          -1.047886453613887,
          -0.5196969124319126,
          2.093378912735368,
          0.040953024526695574,
          0.9543876770247629,
          -1.2613527108263565,
          -1.3497698875032422,
          0.1015521522094888,
          1.1395224978776397,
          -0.6224926824437775,
          -0.2996109399795996,
          -0.038761203351086244,
          -0.33284134816921307,
          2.194871046268543,
          0.3926654752334077,
          -0.7082917138338347,
          0.2902319832740664,
          1.3922680305446158,
          0.6626605141152948,
          0.6693446790274966,
          3.826832140878458,
          1.0358556804491106,
          1.888824320869703,
          0.9430672461585821,
          1.2597163972076542,
          -0.8635581785887442,
          -1.623692972127175,
          -1.2939500198084324,
          -1.6971954084152072,
          1.9663728384182082,
          0.5163649992285014,
          0.5004206553924497,
          0.14092098116822585,
          -1.386496535851082,
          -0.02516930509482894,
          -1.1102871922238353,
          -0.7901974202446439,
          -0.8316780531167179,
          -0.667052655989865,
          1.4554367646834028,
          0.9890710951795659,
          0.9287715899499621,
          -0.5819582864843337,
          3.103331962225941,
          -1.254708459737222,
          -0.5922012386467996,
          0.4435955306112877,
          -1.1720025427993523,
          0.13010784025672398,
          -0.8263097141400582,
          0.5077876996619001,
          0.9391439233166053,
          -0.836120236946265,
          -0.4171044591698222,
          0.7424716521704852,
          0.6133935006749376,
          -0.6458383516302345,
          -1.7510201157210288,
          -0.3198383314567164,
          -1.459640795466038,
          0.3245641073323009,
          -0.43057562980432595,
          -1.1280657628897421,
          -0.46563576744897656,
          1.2702245745656193,
          -0.21965273572097907,
          -0.6328920510936806,
          -0.6988975412606994,
          0.7686819591582692,
          -0.8578855206836885,
          -0.6751035437408789,
          -0.48605547778189573,
          -0.6387093576147171,
          -2.3003554276697593,
          -1.408986963739953,
          0.5329524166170272,
          -0.5503229283988353,
          0.2649669251071376,
          0.16553005113670038,
          -1.729406726271487,
          -1.55773475178462,
          0.7672821803529759,
          1.2004658861734103,
          1.4061401453545939,
          -2.3501932035980517,
          -0.08627299783939876,
          0.8446557092574345,
          -0.6487851809748315,
          -1.7149594650926834,
          0.0013927407355490088,
          -0.6547324029555956,
          -0.6716498259605339,
          -0.23597623740894388,
          0.90641879717299,
          0.8189954933017434,
          -3.965753596410915,
          -0.11703497197782914,
          -2.256751542779663,
          -0.09410452304932444,
          0.38125867172018,
          2.697646336612399,
          0.5131120537669293,
          0.9959213711304596,
          -1.2402689930457111,
          1.5628972442440006,
          -1.0607416100157363,
          -2.256751542779663,
          -0.9567877399978011,
          -1.7290648744164658,
          0.20449305184851516,
          -1.4239004176118466,
          0.24505719072753163,
          -0.25033575125748797,
          -0.0568728029059743,
          -0.06143591839480642,
          0.7385669494015942,
          0.21719128364850063,
          0.7781800659952604,
          -0.6563513629989101,
          0.6651735153459151,
          -0.8660248605849113,
          0.10023142404119258,
          0.4355569975397271,
          -0.204162794448056,
          -0.2306611770102474,
          -0.8316304566337286,
          0.7676614983898069,
          -0.24079201735998507,
          -0.261521588605598,
          -0.41122320695675946,
          -0.8988800994715405,
          0.33369412234070495,
          0.6860578631441866,
          -0.4951214050625933,
          -0.05956019009529996,
          0.12075812107373506,
          0.4444178437987886,
          -0.6616514069680512,
          -1.4117539522982117,
          0.27815757325230583,
          1.2439293597589174,
          -0.2352310758254068,
          -1.2922767646910298,
          0.13248114283798035,
          -0.5926544520710955,
          3.1162867697322647,
          0.23782341079723987,
          -0.6096458997580976,
          -0.6930003232440005,
          -1.132313622158647,
          2.1986968196259054,
          1.1580810480104036,
          1.2457790474239911,
          2.3900983846499244,
          0.2437348166896663,
          1.0924350472163014,
          0.2903542953149221,
          -0.22221128725045897,
          1.8975682273569172,
          0.02128656045971249,
          1.3744385074292989,
          0.01571081049753159,
          1.929084592899793,
          0.19741899494320103,
          2.316189655961485,
          0.8430468316977231,
          0.7314162765751065,
          -0.7154802731599036,
          -2.2004649250143324,
          0.7920409187021252,
          -0.5335446105803934,
          -0.6116306323663977,
          3.603182112776724,
          1.016272321782739,
          2.597830637319541,
          1.0108598689274604,
          1.093851232172893,
          2.2513235929449404,
          1.5770042098068657,
          1.3467527027553352,
          4.185024132169874,
          2.0897495005941056,
          1.0383832443919572,
          2.350845883738036,
          1.25837167213024,
          0.7401609265457816,
          2.160228863385685,
          -1.7852850671989038,
          1.0456398874007062,
          0.028154177287873887,
          -0.9361637998069989,
          -0.5220718237448781,
          3.513969831465884,
          1.1131804574029132,
          2.5375564571759504,
          -0.29017001406721965,
          -0.5300761897294448,
          -0.25693064754724615,
          -0.3142662177413455,
          2.5566765197541947,
          -0.032935202369641495,
          -0.1988579587147526,
          2.4016454281870874,
          1.0351778267918195,
          0.644484987615551,
          0.02830607493314332,
          -2.116290243984476,
          0.002363599937539316,
          0.11962982789439862,
          -2.3475492425405355,
          -0.9201381858244992,
          -0.9743563680480026,
          0.6855028852755773,
          1.1370901144624275,
          0.5578793427893983,
          0.2654487617243392,
          1.4026574288018099,
          -1.1982458217628005,
          -0.45983998099859696,
          0.004144946964962385,
          -0.12385926837783612,
          0.9074993270322155,
          2.966117634830435,
          0.23373058553335366,
          -1.0639389150223282,
          -0.46220981259857036,
          -0.2980526711510956,
          -0.5943153326486948,
          -1.6613392304245802,
          -0.3679066722953546,
          -1.049713460456138,
          -1.349401683239455,
          0.7991499058784404,
          -1.632591314862935,
          1.6707445011481457,
          -0.9660544362186677,
          -0.6556564907066474,
          -2.0606593454143654,
          -0.9655688502559305,
          -0.6386814446471737,
          0.392235977088105,
          -0.8850916940287169,
          -0.37443829851878885,
          -0.8776851115060564,
          1.0174448376284808,
          -1.5475653090428998,
          -0.3476754195333739,
          0.7476935362147732,
          -1.7158149473483104,
          -0.10726619418296307,
          1.137100599423476,
          1.125271489256977,
          -3.3937229407621667,
          2.00800196001427,
          0.34064027018072496,
          -1.9378358956816648,
          -1.6406240108949208,
          0.361137962816495,
          -0.11848794556724257,
          -1.38597759721093,
          -0.8010825313436064,
          -0.6575570841874514,
          -0.8394366975160794,
          -0.5271531372802951,
          -0.6114212774880574,
          1.5845151521137248,
          -0.464376053753592,
          -1.3018832532958398,
          -1.1516668256705387,
          -0.8751633821228629,
          -0.8847666158004633,
          -1.1693233863795705,
          1.7741759054637458,
          -0.08797624049417714,
          0.0031216044997818826,
          -0.21948269271775617,
          -1.4655689988816696,
          -1.5463730166337197,
          0.4032761766150059,
          0.7755578306120947,
          -0.7059657906162865,
          0.550389866529952,
          -1.1182317836598288,
          0.5624036751698472,
          -1.4549911125915869,
          -0.662199997903762,
          -0.46814956413727854,
          -0.4870410138232014,
          0.3301093954190282,
          1.040825929876667,
          1.4738730430602955,
          0.5156531889061454,
          -0.015715671755880407,
          0.6860578631441866,
          1.2872874286237435,
          -1.7328518095993393,
          0.6959769757292263,
          -0.007669339267967005,
          -0.026276856447329966,
          -2.3639641186732727,
          1.1631494108116502,
          -1.9638694381659394,
          0.5622885515036897,
          -1.1870319739345865,
          -1.2154061426403076,
          -1.4566505898126183,
          -2.265914905684875,
          0.17948450776703556,
          0.09855330331148796,
          0.7424716521704852,
          -0.0821938135215956,
          -0.8236358611214706,
          -0.48352969560008985,
          -0.16310794825620198,
          -1.3903335627467297,
          -0.2523900390177835,
          0.4873161663950986,
          -0.4786048260815313,
          -0.3195944017333607,
          -0.42283836051147666,
          0.4615724899439214,
          1.3345949133414945,
          2.135338854279268,
          -1.2603689420633672,
          0.6396464239450931,
          0.7174376136046096,
          2.345272967063736,
          1.3733289406188711,
          -0.5966630580451419,
          -0.8228496570941339,
          -2.4169422454436016,
          0.9336350514741301,
          0.9336350514741301,
          0.2366487328086509,
          1.2386911146487682,
          -0.5418841654097454,
          0.8575279188846305,
          -0.7605992017394526,
          -0.2304010678168755,
          0.5411367955330907,
          1.3618413519709764,
          2.4571862199258616,
          -1.489821630377479,
          -1.0689235689502827,
          -2.0465134097188797,
          -0.9547823761436193,
          0.8758128302585275,
          -0.5020453808359138,
          -0.8450034896699775,
          -1.1505866051408824,
          -1.0162719172752,
          -0.6633142881216207,
          -1.6697928510711908,
          -1.3533738902887809,
          -0.9919352561058719,
          -1.080393402317559,
          -0.6401416299877926,
          -1.3024094498395529,
          -1.5274633223822724,
          -1.8816369915962374,
          -0.6241541934765774,
          -1.1087513872616195,
          -1.0937437785451856,
          -0.5769655569107648,
          1.350116593760213,
          -0.6835707776461971,
          -0.21333495891230794,
          -1.7208881667392983,
          0.6069933473401383,
          -0.948557890908823,
          0.3406380049689816,
          -0.672802487510473,
          0.009588568549990057,
          -0.3318682072964203,
          1.2099337331859235,
          -0.04351653889015219,
          0.47249730841774756,
          0.16670061782509826,
          -0.45983998099859696,
          0.8379678502770379,
          -1.866808391639634,
          0.39134901070350553,
          0.030032344428860856,
          0.3334601091239051,
          -0.41099462855907826,
          -0.7476281108276691,
          -0.5327999702766588,
          1.4165753877023475,
          -0.9778755269931464,
          0.5343302360287062,
          -1.1023076661037063,
          -0.8610990263499416,
          -0.774771198397558,
          -0.14363907758537345,
          -0.9146586648127383,
          -0.9765413938527058,
          -1.7663661393860082,
          -1.130728960818978,
          -0.7087335536763929,
          -0.594738347218476,
          0.0730675537047987,
          -1.515879694964564,
          0.6613108686606771,
          1.1286274880828167,
          -2.058197767187703,
          1.067705210326924,
          -0.3012459235234409,
          0.4257801498878069,
          -0.402639335712662,
          0.29896759070688067,
          1.6285636697961776,
          -0.6663501829263655,
          1.866433468373991,
          2.4203579302843865,
          -1.1092347492996713,
          0.3200841475174357,
          0.03169189012697925,
          1.116077645714543,
          -0.43945652058233337,
          2.0898309796232186,
          -0.7570751399473812,
          -0.7746598120563288,
          -0.3865389189137326,
          0.2570733598340704,
          0.06329890129218443,
          0.3373619817345919,
          0.22643180698531176,
          -1.354610726080657,
          0.8002025039600897,
          -0.8889081107644095,
          -0.7286812887095827,
          1.3078694865346496,
          -0.6114302591907739,
          0.5466667600703211,
          1.823484071908328,
          2.2518211503014935,
          1.532745181088449,
          1.6920378828976903,
          0.7022921431888605,
          1.9109285289174902,
          0.2804484614653254,
          -1.049841788790344,
          3.603182112776724,
          -0.5242582112536085,
          0.7861182653546217,
          2.040327191221805,
          0.16893016132376204,
          -0.08526345403740597,
          -0.011024140739628105,
          -0.7916755386423825,
          -1.214727083640507,
          0.7724463413233453,
          -0.30374574130359283,
          -2.333542719980753,
          -0.3562168495073646,
          0.12430303586946796,
          -1.1706210899866971,
          -2.360627446467739,
          -1.636781917549561,
          -0.5023576395671441,
          -2.730925832158358,
          -1.2423446127955204,
          -0.8386470327706343,
          -1.0079198521398594,
          -0.227618935273926,
          -0.42160553228633413,
          -0.9631389674046107,
          2.4898319782499634,
          0.7343740197596863,
          2.1153640634076174,
          0.13724873880508456,
          1.01252131528964,
          -0.370052915749455,
          -1.781530089631287,
          -1.1887304827614926,
          -0.24042744331689392,
          -0.6167239342012022,
          -0.9734476761826613,
          -0.568890647744473,
          -0.486167220621794,
          1.0076600514519947,
          -0.30150576336683305,
          0.12897294715117788,
          2.5309300185056207,
          0.9337858603263678,
          0.8418091510500225,
          -0.9333434321358256,
          -0.19397496311706594,
          -0.5671126380023017,
          1.5106561492724946,
          0.18074855667507594,
          -1.0463627822229717,
          -0.7333067303892988,
          -1.0246191375816276,
          0.8689648267049012,
          2.413138762792479,
          -1.0475814842246294,
          0.9736919192976657,
          1.721239293474561,
          -1.3429003712914254,
          -0.5792383396463384,
          1.347415742963581,
          1.2378265189856161,
          -0.6277344905438655,
          -0.46693744531297604,
          -0.6195438014522864,
          1.4249282490014104,
          0.9643381077505925,
          0.11165727459267989,
          0.9643381077505925,
          -0.12094841593244934,
          -0.4345154977397182,
          -0.8717228134320297,
          0.1507974647085962,
          0.27797908953691886,
          1.1894891272965953,
          0.13692337593368575,
          2.2951298743783086,
          -1.2426905814373934,
          -0.3485694162350373,
          0.30276431226281103,
          -0.9565041870588205,
          -0.03455778115238042,
          -0.2352821550030325,
          -0.2877116065230731,
          0.33490144838208785,
          -0.5519801147930524,
          -1.6671675160620296,
          0.3483655714328135,
          -0.6829322826912647,
          0.10279951612119849,
          -1.9959511402427093,
          0.26851184677195383,
          1.9946169248668233,
          1.848306082259273,
          1.0554925588676245,
          0.21879040449048173,
          -0.13570197581660778,
          0.9851968861900019,
          1.0680519747125814,
          -0.9423944222871251,
          -1.326736589554594,
          0.23792831775974035,
          1.0906730354380931,
          0.8260360840052865,
          -0.1146172395106158,
          1.8404077114195656,
          1.0823540919940724,
          -0.8687738626484469,
          -0.5914828614287038,
          -0.8089063660175059,
          0.617044954914741,
          -0.035800722938186876,
          1.5913428281037125,
          1.3560670015995693,
          -1.6287481707392595,
          -1.2933490428322207,
          -0.6763485851962386,
          1.1830106693009685,
          0.6030493268732684,
          0.3823904837157759,
          3.0241485166453006,
          1.4320445004928843,
          0.3422829734150217,
          -1.4187000715910474,
          1.6814999864821392,
          2.7994210517958273,
          -0.045492387639222434,
          0.4657414169487377,
          1.4198239456029433,
          0.5888953615807223,
          1.044438693320434,
          0.5964434905315039,
          0.08844995393029544,
          -0.045492387639222434,
          0.8977977758332214,
          -0.16885058170458164,
          0.5983088128366482,
          0.666744174813956,
          0.11485247399156,
          -2.576925205301683,
          0.23909640755806028,
          2.2487561906623967,
          2.538734024943246,
          -0.05632591154783204,
          0.5964434905315039,
          1.9783020811682754,
          1.3560670015995693,
          2.9160689759183804,
          -0.6225797561996652,
          0.25594206718460344,
          -0.29072442076003746,
          0.3757386950204447,
          1.555630945672216,
          0.45063092760922574,
          0.7757854374142316,
          0.0743194198726391,
          -1.3080925230982432,
          -1.3524345982935735,
          0.29360917681999776,
          3.309915508156946,
          -0.5551636406866747,
          0.5675987166081063,
          2.6461398776378897,
          0.03399799833089977,
          0.6786040056615541,
          0.14923360423841225,
          -0.4559136008402387,
          2.9465579423623605,
          1.9486015356312565,
          0.6937156146030242,
          -0.6479161411275287,
          -0.16832643560406624,
          0.9206331889506512,
          -0.45076135107728216,
          -1.6238548107932478,
          -1.7149594650926834,
          0.8246937348674264,
          -0.6046810983191567,
          0.9951455987502066,
          -0.4943961431689741,
          -0.19789301436615503,
          -0.1776336120395279,
          -0.08113594162833242,
          -3.5919281845082573,
          0.01519289863717745,
          0.418323762862805,
          -1.3430396251065226,
          -1.1533387805480804,
          -1.5144988077562611,
          -1.5909581557697066,
          -2.345699961945221,
          0.5187929455099811,
          -2.00688784311654,
          -1.56107447858875,
          0.4027243215517697,
          0.3885717411713836,
          2.47119076193706,
          -0.21414035832918013,
          3.0020429581390826,
          2.4311389903409264,
          2.882281167231524,
          0.9642980521378586,
          0.00799528737618357,
          -1.4448575644382053,
          -0.2155865258574751,
          -1.0494337432873835,
          -0.1688143132993548,
          -0.7392065333258849,
          2.1790993577352396,
          -1.0820263567320576,
          -0.5618613817516014,
          0.05919103367562565,
          -1.0420534653157871,
          0.12324047273321447,
          -0.06624184533439097,
          -1.563289476917088,
          -0.20455517338153043,
          -0.2825690317516747,
          -1.7373472894249395,
          -1.046587089328853,
          0.5718932501658409,
          0.03184445897223589,
          -0.012659131268621495,
          1.0406554362647793,
          2.0807189773265082,
          -2.2215790057935045,
          -1.2942306228088374,
          -0.923267197308515,
          1.664850022650485,
          -2.2517164433175356,
          2.2279199793837776,
          -1.4934305722339856,
          0.06759763053874035,
          -0.42200852490748525,
          -1.622499456596277,
          -0.8568498421627433,
          -1.7156119083516985,
          -0.4018140005258524,
          -1.9183111465675253,
          -1.0284176661154851,
          0.5662509076481909,
          -1.9360921290485094,
          -1.3661970267771621,
          -0.4790532667477223,
          1.5323961175618501,
          0.6372584903149908,
          1.3733798976383909,
          -0.5126351469976395,
          -0.47065776417615274,
          0.0005851604650558287,
          0.8136001906911928,
          0.38997026358277415,
          -0.3954610481119675,
          -1.5825523645928827,
          -0.9178690058179511,
          -0.3820309089909224,
          0.15708317010829786,
          -0.980660431436618,
          1.2573912397734035,
          0.563158211333385,
          1.1114556668423168,
          0.19309430754008078,
          -3.0573576367230824,
          -2.7964050900954374,
          0.44419319813298985,
          -0.5425621727635143,
          -0.8201583062849644,
          0.3751431940363834,
          -1.0223780840942394,
          -0.6070712876472291,
          -0.9624492068779574,
          -2.02374713560147,
          -0.08741851902060384,
          -0.20462864179538767,
          -0.08910926007141595,
          -2.059162839252315,
          -1.1745357862551762,
          -0.6346088648189893,
          -0.5491745735455956,
          0.5095716897531223,
          0.8065406104992443,
          0.7411803149126445,
          -0.855882162906126,
          -0.3657681542279316,
          -0.5309994855824142,
          -0.5213994519208949,
          -0.8095689157079917,
          1.1265825463110501,
          -0.20982947444075278,
          -1.1323946066926882,
          0.22119401719295204,
          -1.1950493627964531,
          1.4025390812695409,
          -0.5757347764161688,
          -0.726486910637439,
          -0.7415878471844202,
          0.06951336384573335,
          -0.20446565868521013,
          -0.018790314063139364,
          0.03139289071179088,
          0.3506700562360762,
          -1.112895632869605,
          1.8195868927959138,
          1.8713013951568793,
          1.9181525956534948,
          -1.7186688480437664,
          0.8757893106119162,
          0.17563027053701374,
          -0.6929183840508938,
          -0.2872600209762617,
          0.2080940661331731,
          1.7764954026041335,
          -0.40857318509327284,
          0.029405535122963417,
          0.3028902959496639,
          0.9923583707665781,
          0.43377995483685916,
          -1.3564329550862637,
          0.5863758368736283,
          2.9239327364249355,
          1.0230580147774815,
          0.8397768146241364,
          2.5716091789550584,
          -0.39274683629951285,
          0.31036458933882644,
          1.2122221199360665,
          -0.9105271986614444,
          -0.4231354934946343,
          -1.5022933704705304,
          -0.395811403854004,
          0.11057980583580482,
          -1.1364627595215078,
          0.9890710951795659,
          1.6893322614019712,
          0.9299479085907862,
          -0.45259687761377637,
          -0.7448746955627203,
          1.8574219818393174,
          0.31621132843280814,
          -3.5919281845082573,
          -2.7715699519860677,
          -1.0936649608603832,
          -0.8987367758535391,
          -0.7144851932041166,
          0.08471793830475394,
          3.4023252585367234,
          0.5915376393811431,
          0.19594602619168347,
          0.035965084981219496,
          -0.7572787491134725,
          0.48004216049067827,
          0.5277834265150199,
          -0.07029951988053597,
          -2.6459203144839694,
          -1.398374351634161,
          -1.7875077633778909,
          0.8485646204971761,
          1.2059329792106628,
          -1.7241610708089148,
          -0.472156236178934,
          -0.8206980878304464,
          -0.9083842640904402,
          -0.7454847813329041,
          -0.7426614340923878,
          -0.5761116798393038,
          1.2630604906993135,
          -0.9648409921390932,
          0.19368622313439882,
          0.9996039142658506,
          1.1575246422378063,
          -1.0936649608603832,
          -1.0936649608603832,
          3.0241485166453006,
          1.5817331684268625,
          1.64525827617145,
          -2.4045788380748374,
          -2.457424990644713,
          -0.5475715725911351,
          -1.309837370956774,
          -2.012652192581362,
          -2.4620510303808496,
          0.48391822240133225,
          -1.4091483830778604,
          -1.5557878439244361,
          -1.7104659017896575,
          -0.14939377576964938,
          -2.002703398075286,
          -2.2204584178167086,
          -0.9119564427723764,
          -2.220903123314177,
          -1.7536558307851107,
          -1.3764437205042692,
          -2.539680899330997,
          -1.9288195091233993,
          0.4586528028759585,
          -0.7370750659682068,
          -1.4238717798777556,
          0.31313785015723156,
          0.03164626132905576,
          -0.9437787672942007,
          0.4220331476734194,
          -0.19189119093840634,
          -0.5211679048184907,
          1.8836076923570386,
          1.2546259176505108,
          -1.7980071100359765,
          1.6046581333958085,
          0.530824400776374,
          -1.467705069239336,
          -0.07553356999426454,
          -0.937130006178035,
          0.9744129361419308,
          1.0808327860734241,
          -1.349883894052111,
          -2.6382976097380926,
          1.1075741810946937,
          -1.1968544636420668,
          -0.04985157001773331,
          -1.336858623691952,
          3.3802062358742107,
          -0.9362765548657913,
          -0.8512302225203654,
          0.8312994793303612,
          1.147415931777524,
          0.8692814620397314,
          -0.06373150398819726,
          -0.45242591189057324,
          -1.0487895677819883,
          -0.9786629053950855,
          -1.1203219593181069,
          -0.600901821381093,
          0.4186241486931193,
          -0.3053760309640838,
          0.18024535423151347,
          -0.08741851902060384,
          -2.14469150460047,
          0.861442034614355,
          0.13071407897492132,
          -0.2277504589672805,
          1.109391917455326,
          0.5061696894655054,
          2.511450929046462,
          -0.3562583850385018,
          0.26395567276692444,
          0.27161526261914465,
          -0.3396231129337284,
          0.8138121170061813,
          1.645211439989891,
          1.2386818562700996,
          0.8050649466533386,
          0.5777097466141751,
          -0.7454513238920504,
          0.7691464789300273,
          -0.2300995333427976,
          -1.162522550315382,
          1.0967477999866961,
          -0.776287862465596,
          -0.5844671710446089,
          -0.6061979063641814,
          -1.4869471807666181,
          1.7503448743454828,
          -0.615160306456335,
          -1.6531344263407717,
          0.7427151707507369,
          -0.7054157806980511,
          -0.03251912330296376,
          -2.341444922488865,
          1.8408479769371717,
          0.4150643762265145,
          -0.5229064046857319,
          -0.01712586072171462,
          -1.3049828462456516,
          -1.0897255704646893,
          -3.6952327527777595,
          -1.390708546476351
         ],
         "yaxis": "y"
        }
       ],
       "layout": {
        "legend": {
         "tracegroupgap": 0
        },
        "margin": {
         "t": 60
        },
        "template": {
         "data": {
          "bar": [
           {
            "error_x": {
             "color": "#2a3f5f"
            },
            "error_y": {
             "color": "#2a3f5f"
            },
            "marker": {
             "line": {
              "color": "#E5ECF6",
              "width": 0.5
             },
             "pattern": {
              "fillmode": "overlay",
              "size": 10,
              "solidity": 0.2
             }
            },
            "type": "bar"
           }
          ],
          "barpolar": [
           {
            "marker": {
             "line": {
              "color": "#E5ECF6",
              "width": 0.5
             },
             "pattern": {
              "fillmode": "overlay",
              "size": 10,
              "solidity": 0.2
             }
            },
            "type": "barpolar"
           }
          ],
          "carpet": [
           {
            "aaxis": {
             "endlinecolor": "#2a3f5f",
             "gridcolor": "white",
             "linecolor": "white",
             "minorgridcolor": "white",
             "startlinecolor": "#2a3f5f"
            },
            "baxis": {
             "endlinecolor": "#2a3f5f",
             "gridcolor": "white",
             "linecolor": "white",
             "minorgridcolor": "white",
             "startlinecolor": "#2a3f5f"
            },
            "type": "carpet"
           }
          ],
          "choropleth": [
           {
            "colorbar": {
             "outlinewidth": 0,
             "ticks": ""
            },
            "type": "choropleth"
           }
          ],
          "contour": [
           {
            "colorbar": {
             "outlinewidth": 0,
             "ticks": ""
            },
            "colorscale": [
             [
              0,
              "#0d0887"
             ],
             [
              0.1111111111111111,
              "#46039f"
             ],
             [
              0.2222222222222222,
              "#7201a8"
             ],
             [
              0.3333333333333333,
              "#9c179e"
             ],
             [
              0.4444444444444444,
              "#bd3786"
             ],
             [
              0.5555555555555556,
              "#d8576b"
             ],
             [
              0.6666666666666666,
              "#ed7953"
             ],
             [
              0.7777777777777778,
              "#fb9f3a"
             ],
             [
              0.8888888888888888,
              "#fdca26"
             ],
             [
              1,
              "#f0f921"
             ]
            ],
            "type": "contour"
           }
          ],
          "contourcarpet": [
           {
            "colorbar": {
             "outlinewidth": 0,
             "ticks": ""
            },
            "type": "contourcarpet"
           }
          ],
          "heatmap": [
           {
            "colorbar": {
             "outlinewidth": 0,
             "ticks": ""
            },
            "colorscale": [
             [
              0,
              "#0d0887"
             ],
             [
              0.1111111111111111,
              "#46039f"
             ],
             [
              0.2222222222222222,
              "#7201a8"
             ],
             [
              0.3333333333333333,
              "#9c179e"
             ],
             [
              0.4444444444444444,
              "#bd3786"
             ],
             [
              0.5555555555555556,
              "#d8576b"
             ],
             [
              0.6666666666666666,
              "#ed7953"
             ],
             [
              0.7777777777777778,
              "#fb9f3a"
             ],
             [
              0.8888888888888888,
              "#fdca26"
             ],
             [
              1,
              "#f0f921"
             ]
            ],
            "type": "heatmap"
           }
          ],
          "heatmapgl": [
           {
            "colorbar": {
             "outlinewidth": 0,
             "ticks": ""
            },
            "colorscale": [
             [
              0,
              "#0d0887"
             ],
             [
              0.1111111111111111,
              "#46039f"
             ],
             [
              0.2222222222222222,
              "#7201a8"
             ],
             [
              0.3333333333333333,
              "#9c179e"
             ],
             [
              0.4444444444444444,
              "#bd3786"
             ],
             [
              0.5555555555555556,
              "#d8576b"
             ],
             [
              0.6666666666666666,
              "#ed7953"
             ],
             [
              0.7777777777777778,
              "#fb9f3a"
             ],
             [
              0.8888888888888888,
              "#fdca26"
             ],
             [
              1,
              "#f0f921"
             ]
            ],
            "type": "heatmapgl"
           }
          ],
          "histogram": [
           {
            "marker": {
             "pattern": {
              "fillmode": "overlay",
              "size": 10,
              "solidity": 0.2
             }
            },
            "type": "histogram"
           }
          ],
          "histogram2d": [
           {
            "colorbar": {
             "outlinewidth": 0,
             "ticks": ""
            },
            "colorscale": [
             [
              0,
              "#0d0887"
             ],
             [
              0.1111111111111111,
              "#46039f"
             ],
             [
              0.2222222222222222,
              "#7201a8"
             ],
             [
              0.3333333333333333,
              "#9c179e"
             ],
             [
              0.4444444444444444,
              "#bd3786"
             ],
             [
              0.5555555555555556,
              "#d8576b"
             ],
             [
              0.6666666666666666,
              "#ed7953"
             ],
             [
              0.7777777777777778,
              "#fb9f3a"
             ],
             [
              0.8888888888888888,
              "#fdca26"
             ],
             [
              1,
              "#f0f921"
             ]
            ],
            "type": "histogram2d"
           }
          ],
          "histogram2dcontour": [
           {
            "colorbar": {
             "outlinewidth": 0,
             "ticks": ""
            },
            "colorscale": [
             [
              0,
              "#0d0887"
             ],
             [
              0.1111111111111111,
              "#46039f"
             ],
             [
              0.2222222222222222,
              "#7201a8"
             ],
             [
              0.3333333333333333,
              "#9c179e"
             ],
             [
              0.4444444444444444,
              "#bd3786"
             ],
             [
              0.5555555555555556,
              "#d8576b"
             ],
             [
              0.6666666666666666,
              "#ed7953"
             ],
             [
              0.7777777777777778,
              "#fb9f3a"
             ],
             [
              0.8888888888888888,
              "#fdca26"
             ],
             [
              1,
              "#f0f921"
             ]
            ],
            "type": "histogram2dcontour"
           }
          ],
          "mesh3d": [
           {
            "colorbar": {
             "outlinewidth": 0,
             "ticks": ""
            },
            "type": "mesh3d"
           }
          ],
          "parcoords": [
           {
            "line": {
             "colorbar": {
              "outlinewidth": 0,
              "ticks": ""
             }
            },
            "type": "parcoords"
           }
          ],
          "pie": [
           {
            "automargin": true,
            "type": "pie"
           }
          ],
          "scatter": [
           {
            "fillpattern": {
             "fillmode": "overlay",
             "size": 10,
             "solidity": 0.2
            },
            "type": "scatter"
           }
          ],
          "scatter3d": [
           {
            "line": {
             "colorbar": {
              "outlinewidth": 0,
              "ticks": ""
             }
            },
            "marker": {
             "colorbar": {
              "outlinewidth": 0,
              "ticks": ""
             }
            },
            "type": "scatter3d"
           }
          ],
          "scattercarpet": [
           {
            "marker": {
             "colorbar": {
              "outlinewidth": 0,
              "ticks": ""
             }
            },
            "type": "scattercarpet"
           }
          ],
          "scattergeo": [
           {
            "marker": {
             "colorbar": {
              "outlinewidth": 0,
              "ticks": ""
             }
            },
            "type": "scattergeo"
           }
          ],
          "scattergl": [
           {
            "marker": {
             "colorbar": {
              "outlinewidth": 0,
              "ticks": ""
             }
            },
            "type": "scattergl"
           }
          ],
          "scattermapbox": [
           {
            "marker": {
             "colorbar": {
              "outlinewidth": 0,
              "ticks": ""
             }
            },
            "type": "scattermapbox"
           }
          ],
          "scatterpolar": [
           {
            "marker": {
             "colorbar": {
              "outlinewidth": 0,
              "ticks": ""
             }
            },
            "type": "scatterpolar"
           }
          ],
          "scatterpolargl": [
           {
            "marker": {
             "colorbar": {
              "outlinewidth": 0,
              "ticks": ""
             }
            },
            "type": "scatterpolargl"
           }
          ],
          "scatterternary": [
           {
            "marker": {
             "colorbar": {
              "outlinewidth": 0,
              "ticks": ""
             }
            },
            "type": "scatterternary"
           }
          ],
          "surface": [
           {
            "colorbar": {
             "outlinewidth": 0,
             "ticks": ""
            },
            "colorscale": [
             [
              0,
              "#0d0887"
             ],
             [
              0.1111111111111111,
              "#46039f"
             ],
             [
              0.2222222222222222,
              "#7201a8"
             ],
             [
              0.3333333333333333,
              "#9c179e"
             ],
             [
              0.4444444444444444,
              "#bd3786"
             ],
             [
              0.5555555555555556,
              "#d8576b"
             ],
             [
              0.6666666666666666,
              "#ed7953"
             ],
             [
              0.7777777777777778,
              "#fb9f3a"
             ],
             [
              0.8888888888888888,
              "#fdca26"
             ],
             [
              1,
              "#f0f921"
             ]
            ],
            "type": "surface"
           }
          ],
          "table": [
           {
            "cells": {
             "fill": {
              "color": "#EBF0F8"
             },
             "line": {
              "color": "white"
             }
            },
            "header": {
             "fill": {
              "color": "#C8D4E3"
             },
             "line": {
              "color": "white"
             }
            },
            "type": "table"
           }
          ]
         },
         "layout": {
          "annotationdefaults": {
           "arrowcolor": "#2a3f5f",
           "arrowhead": 0,
           "arrowwidth": 1
          },
          "autotypenumbers": "strict",
          "coloraxis": {
           "colorbar": {
            "outlinewidth": 0,
            "ticks": ""
           }
          },
          "colorscale": {
           "diverging": [
            [
             0,
             "#8e0152"
            ],
            [
             0.1,
             "#c51b7d"
            ],
            [
             0.2,
             "#de77ae"
            ],
            [
             0.3,
             "#f1b6da"
            ],
            [
             0.4,
             "#fde0ef"
            ],
            [
             0.5,
             "#f7f7f7"
            ],
            [
             0.6,
             "#e6f5d0"
            ],
            [
             0.7,
             "#b8e186"
            ],
            [
             0.8,
             "#7fbc41"
            ],
            [
             0.9,
             "#4d9221"
            ],
            [
             1,
             "#276419"
            ]
           ],
           "sequential": [
            [
             0,
             "#0d0887"
            ],
            [
             0.1111111111111111,
             "#46039f"
            ],
            [
             0.2222222222222222,
             "#7201a8"
            ],
            [
             0.3333333333333333,
             "#9c179e"
            ],
            [
             0.4444444444444444,
             "#bd3786"
            ],
            [
             0.5555555555555556,
             "#d8576b"
            ],
            [
             0.6666666666666666,
             "#ed7953"
            ],
            [
             0.7777777777777778,
             "#fb9f3a"
            ],
            [
             0.8888888888888888,
             "#fdca26"
            ],
            [
             1,
             "#f0f921"
            ]
           ],
           "sequentialminus": [
            [
             0,
             "#0d0887"
            ],
            [
             0.1111111111111111,
             "#46039f"
            ],
            [
             0.2222222222222222,
             "#7201a8"
            ],
            [
             0.3333333333333333,
             "#9c179e"
            ],
            [
             0.4444444444444444,
             "#bd3786"
            ],
            [
             0.5555555555555556,
             "#d8576b"
            ],
            [
             0.6666666666666666,
             "#ed7953"
            ],
            [
             0.7777777777777778,
             "#fb9f3a"
            ],
            [
             0.8888888888888888,
             "#fdca26"
            ],
            [
             1,
             "#f0f921"
            ]
           ]
          },
          "colorway": [
           "#636efa",
           "#EF553B",
           "#00cc96",
           "#ab63fa",
           "#FFA15A",
           "#19d3f3",
           "#FF6692",
           "#B6E880",
           "#FF97FF",
           "#FECB52"
          ],
          "font": {
           "color": "#2a3f5f"
          },
          "geo": {
           "bgcolor": "white",
           "lakecolor": "white",
           "landcolor": "#E5ECF6",
           "showlakes": true,
           "showland": true,
           "subunitcolor": "white"
          },
          "hoverlabel": {
           "align": "left"
          },
          "hovermode": "closest",
          "mapbox": {
           "style": "light"
          },
          "paper_bgcolor": "white",
          "plot_bgcolor": "#E5ECF6",
          "polar": {
           "angularaxis": {
            "gridcolor": "white",
            "linecolor": "white",
            "ticks": ""
           },
           "bgcolor": "#E5ECF6",
           "radialaxis": {
            "gridcolor": "white",
            "linecolor": "white",
            "ticks": ""
           }
          },
          "scene": {
           "xaxis": {
            "backgroundcolor": "#E5ECF6",
            "gridcolor": "white",
            "gridwidth": 2,
            "linecolor": "white",
            "showbackground": true,
            "ticks": "",
            "zerolinecolor": "white"
           },
           "yaxis": {
            "backgroundcolor": "#E5ECF6",
            "gridcolor": "white",
            "gridwidth": 2,
            "linecolor": "white",
            "showbackground": true,
            "ticks": "",
            "zerolinecolor": "white"
           },
           "zaxis": {
            "backgroundcolor": "#E5ECF6",
            "gridcolor": "white",
            "gridwidth": 2,
            "linecolor": "white",
            "showbackground": true,
            "ticks": "",
            "zerolinecolor": "white"
           }
          },
          "shapedefaults": {
           "line": {
            "color": "#2a3f5f"
           }
          },
          "ternary": {
           "aaxis": {
            "gridcolor": "white",
            "linecolor": "white",
            "ticks": ""
           },
           "baxis": {
            "gridcolor": "white",
            "linecolor": "white",
            "ticks": ""
           },
           "bgcolor": "#E5ECF6",
           "caxis": {
            "gridcolor": "white",
            "linecolor": "white",
            "ticks": ""
           }
          },
          "title": {
           "x": 0.05
          },
          "xaxis": {
           "automargin": true,
           "gridcolor": "white",
           "linecolor": "white",
           "ticks": "",
           "title": {
            "standoff": 15
           },
           "zerolinecolor": "white",
           "zerolinewidth": 2
          },
          "yaxis": {
           "automargin": true,
           "gridcolor": "white",
           "linecolor": "white",
           "ticks": "",
           "title": {
            "standoff": 15
           },
           "zerolinecolor": "white",
           "zerolinewidth": 2
          }
         }
        },
        "xaxis": {
         "anchor": "y",
         "domain": [
          0,
          1
         ],
         "title": {
          "text": "x"
         }
        },
        "yaxis": {
         "anchor": "x",
         "domain": [
          0,
          1
         ],
         "title": {
          "text": "y"
         }
        }
       }
      }
     },
     "metadata": {},
     "output_type": "display_data"
    }
   ],
   "source": [
    "px.scatter(projection, 'x', 'y')"
   ]
  },
  {
   "cell_type": "code",
   "execution_count": 37,
   "metadata": {},
   "outputs": [],
   "source": [
    "from sklearn.cluster import KMeans"
   ]
  },
  {
   "cell_type": "code",
   "execution_count": 38,
   "metadata": {},
   "outputs": [
    {
     "name": "stdout",
     "output_type": "stream",
     "text": [
      "Initialization complete\n",
      "Iteration 0, inertia 4523.567815543703.\n",
      "Iteration 1, inertia 3668.985552156031.\n",
      "Iteration 2, inertia 3624.730925711824.\n",
      "Iteration 3, inertia 3602.49581375882.\n",
      "Iteration 4, inertia 3588.0607912404935.\n",
      "Iteration 5, inertia 3575.4395702593106.\n",
      "Iteration 6, inertia 3566.3761311630246.\n",
      "Iteration 7, inertia 3562.5917284574975.\n",
      "Iteration 8, inertia 3560.314467700938.\n",
      "Iteration 9, inertia 3558.885495152653.\n",
      "Iteration 10, inertia 3558.0027489340573.\n",
      "Iteration 11, inertia 3557.729554775498.\n",
      "Converged at iteration 11: center shift 9.319981044864865e-05 within tolerance 0.0002709886847099654.\n",
      "Initialization complete\n",
      "Iteration 0, inertia 3650.5166847646565.\n",
      "Iteration 1, inertia 3552.8915365648218.\n",
      "Iteration 2, inertia 3528.942542123229.\n",
      "Iteration 3, inertia 3518.8491320487174.\n",
      "Iteration 4, inertia 3512.671791613982.\n",
      "Iteration 5, inertia 3509.17410782475.\n",
      "Iteration 6, inertia 3506.3883335513824.\n",
      "Iteration 7, inertia 3505.0910743094146.\n",
      "Iteration 8, inertia 3504.6465117384987.\n",
      "Converged at iteration 8: center shift 7.50351999046155e-05 within tolerance 0.0002709886847099654.\n",
      "Initialization complete\n",
      "Iteration 0, inertia 4414.321464862247.\n",
      "Iteration 1, inertia 4264.089604762609.\n",
      "Iteration 2, inertia 4086.216471856408.\n",
      "Iteration 3, inertia 3913.50400216446.\n",
      "Iteration 4, inertia 3808.4662476218186.\n",
      "Iteration 5, inertia 3745.661059736388.\n",
      "Iteration 6, inertia 3695.233470599901.\n",
      "Iteration 7, inertia 3657.903410695549.\n",
      "Iteration 8, inertia 3632.643745814851.\n",
      "Iteration 9, inertia 3614.388100606567.\n",
      "Iteration 10, inertia 3596.108483986049.\n",
      "Iteration 11, inertia 3579.525044096402.\n",
      "Iteration 12, inertia 3568.0798454948836.\n",
      "Iteration 13, inertia 3560.7114931318456.\n",
      "Iteration 14, inertia 3555.678927842755.\n",
      "Iteration 15, inertia 3551.0457527019826.\n",
      "Iteration 16, inertia 3547.8151952209228.\n",
      "Iteration 17, inertia 3544.585854658801.\n",
      "Iteration 18, inertia 3541.2249019489263.\n",
      "Iteration 19, inertia 3537.2207553145213.\n",
      "Iteration 20, inertia 3533.4811126828135.\n",
      "Iteration 21, inertia 3530.8313918692015.\n",
      "Iteration 22, inertia 3528.299038289501.\n",
      "Iteration 23, inertia 3525.96284881821.\n",
      "Iteration 24, inertia 3523.302493609696.\n",
      "Iteration 25, inertia 3521.23718268466.\n",
      "Iteration 26, inertia 3519.717696058841.\n",
      "Iteration 27, inertia 3518.2921892437703.\n",
      "Iteration 28, inertia 3517.6503461161305.\n",
      "Iteration 29, inertia 3517.2919908996923.\n",
      "Iteration 30, inertia 3516.8130739026615.\n",
      "Iteration 31, inertia 3516.080736548996.\n",
      "Iteration 32, inertia 3515.6638221959693.\n",
      "Converged at iteration 32: center shift 5.32555530919357e-05 within tolerance 0.0002709886847099654.\n",
      "Initialization complete\n",
      "Iteration 0, inertia 4454.7840852154595.\n",
      "Iteration 1, inertia 3768.566040695704.\n",
      "Iteration 2, inertia 3646.0793671699266.\n",
      "Iteration 3, inertia 3588.1052546265482.\n",
      "Iteration 4, inertia 3563.8174545934453.\n",
      "Iteration 5, inertia 3553.060926181537.\n",
      "Iteration 6, inertia 3547.5721096084767.\n",
      "Iteration 7, inertia 3544.58661713958.\n",
      "Iteration 8, inertia 3542.3199661131453.\n",
      "Iteration 9, inertia 3541.491829826803.\n",
      "Iteration 10, inertia 3541.1635525310257.\n",
      "Converged at iteration 10: center shift 0.00011361514233643886 within tolerance 0.0002709886847099654.\n",
      "Initialization complete\n",
      "Iteration 0, inertia 4292.020575436047.\n",
      "Iteration 1, inertia 3675.203362882245.\n",
      "Iteration 2, inertia 3600.26520590246.\n",
      "Iteration 3, inertia 3567.1040066792043.\n",
      "Iteration 4, inertia 3555.99549962326.\n",
      "Iteration 5, inertia 3551.7224371196485.\n",
      "Iteration 6, inertia 3549.458798532761.\n",
      "Iteration 7, inertia 3547.681632427643.\n",
      "Iteration 8, inertia 3546.14099805688.\n",
      "Iteration 9, inertia 3545.181428041201.\n",
      "Iteration 10, inertia 3544.566048655202.\n",
      "Converged at iteration 10: center shift 0.0002171860821550926 within tolerance 0.0002709886847099654.\n",
      "Initialization complete\n",
      "Iteration 0, inertia 5229.734133923966.\n",
      "Iteration 1, inertia 3901.914075416347.\n",
      "Iteration 2, inertia 3684.138956110476.\n",
      "Iteration 3, inertia 3625.7642920482713.\n",
      "Iteration 4, inertia 3598.6788312808476.\n",
      "Iteration 5, inertia 3577.3463481397516.\n",
      "Iteration 6, inertia 3558.4703786807686.\n",
      "Iteration 7, inertia 3543.7613905608227.\n",
      "Iteration 8, inertia 3531.7513344899485.\n",
      "Iteration 9, inertia 3523.3922006839193.\n",
      "Iteration 10, inertia 3517.4587511672553.\n",
      "Iteration 11, inertia 3511.3577748406865.\n",
      "Iteration 12, inertia 3507.907320236844.\n",
      "Iteration 13, inertia 3506.449127090971.\n",
      "Iteration 14, inertia 3505.530597167017.\n",
      "Iteration 15, inertia 3505.1682965099294.\n",
      "Iteration 16, inertia 3504.8127932137113.\n",
      "Converged at iteration 16: center shift 0.00015979191515766628 within tolerance 0.0002709886847099654.\n",
      "Initialization complete\n",
      "Iteration 0, inertia 4258.464385644756.\n",
      "Iteration 1, inertia 3757.825912494683.\n",
      "Iteration 2, inertia 3651.0581454035605.\n",
      "Iteration 3, inertia 3609.35450453789.\n",
      "Iteration 4, inertia 3585.8938498036487.\n",
      "Iteration 5, inertia 3570.9418046622272.\n",
      "Iteration 6, inertia 3564.037650400698.\n",
      "Iteration 7, inertia 3561.29952612839.\n",
      "Iteration 8, inertia 3559.8589251152134.\n",
      "Iteration 9, inertia 3558.9549261156735.\n",
      "Iteration 10, inertia 3558.644657648668.\n",
      "Iteration 11, inertia 3558.2505645806136.\n",
      "Converged at iteration 11: center shift 0.000175035361837402 within tolerance 0.0002709886847099654.\n",
      "Initialization complete\n",
      "Iteration 0, inertia 4718.526135999669.\n",
      "Iteration 1, inertia 3758.150709122479.\n",
      "Iteration 2, inertia 3624.9227385854347.\n",
      "Iteration 3, inertia 3583.40045051435.\n",
      "Iteration 4, inertia 3564.5252982782135.\n",
      "Iteration 5, inertia 3555.272653999153.\n",
      "Iteration 6, inertia 3551.3232033549593.\n",
      "Iteration 7, inertia 3548.777394285322.\n",
      "Iteration 8, inertia 3546.7064877067082.\n",
      "Iteration 9, inertia 3544.9408089123217.\n",
      "Iteration 10, inertia 3541.602926434054.\n",
      "Iteration 11, inertia 3538.2954164325915.\n",
      "Iteration 12, inertia 3535.9986063113834.\n",
      "Iteration 13, inertia 3534.3664369979356.\n",
      "Iteration 14, inertia 3532.153288557753.\n",
      "Iteration 15, inertia 3529.021959937272.\n",
      "Iteration 16, inertia 3523.741119497977.\n",
      "Iteration 17, inertia 3519.0747925846963.\n",
      "Iteration 18, inertia 3516.681082830149.\n",
      "Iteration 19, inertia 3515.673695498451.\n",
      "Iteration 20, inertia 3514.11105996447.\n",
      "Iteration 21, inertia 3511.9265427786904.\n",
      "Iteration 22, inertia 3509.923997363934.\n",
      "Iteration 23, inertia 3508.6659460439323.\n",
      "Iteration 24, inertia 3507.576714118871.\n",
      "Iteration 25, inertia 3506.338287272821.\n",
      "Iteration 26, inertia 3505.3138272242422.\n",
      "Iteration 27, inertia 3504.804797928729.\n",
      "Iteration 28, inertia 3504.5524335160294.\n",
      "Converged at iteration 28: center shift 0.00012946374322485592 within tolerance 0.0002709886847099654.\n",
      "Initialization complete\n",
      "Iteration 0, inertia 5726.817439830066.\n",
      "Iteration 1, inertia 4002.818616376001.\n",
      "Iteration 2, inertia 3677.0228130303444.\n",
      "Iteration 3, inertia 3594.0235945734994.\n",
      "Iteration 4, inertia 3568.039246181041.\n",
      "Iteration 5, inertia 3559.4047642395562.\n",
      "Iteration 6, inertia 3554.5356499333925.\n",
      "Iteration 7, inertia 3550.9000086430487.\n",
      "Iteration 8, inertia 3547.931977312038.\n",
      "Iteration 9, inertia 3546.186206463718.\n",
      "Iteration 10, inertia 3544.593079901219.\n",
      "Iteration 11, inertia 3544.1573100085816.\n",
      "Iteration 12, inertia 3543.9417539989804.\n",
      "Converged at iteration 12: center shift 0.00010369698781416478 within tolerance 0.0002709886847099654.\n",
      "Initialization complete\n",
      "Iteration 0, inertia 4375.718400720184.\n",
      "Iteration 1, inertia 3663.37186973694.\n",
      "Iteration 2, inertia 3584.822890767274.\n",
      "Iteration 3, inertia 3560.5525771794496.\n",
      "Iteration 4, inertia 3552.6535536541915.\n",
      "Iteration 5, inertia 3550.98633220714.\n",
      "Iteration 6, inertia 3548.841299825515.\n",
      "Iteration 7, inertia 3546.3432965447873.\n",
      "Iteration 8, inertia 3544.272114110868.\n",
      "Iteration 9, inertia 3541.083241117699.\n",
      "Iteration 10, inertia 3538.703786254469.\n",
      "Iteration 11, inertia 3536.9610470989687.\n",
      "Iteration 12, inertia 3535.146837088561.\n",
      "Iteration 13, inertia 3533.543366253354.\n",
      "Iteration 14, inertia 3530.788244027069.\n",
      "Iteration 15, inertia 3527.1960244191673.\n",
      "Iteration 16, inertia 3522.541969152171.\n",
      "Iteration 17, inertia 3518.2447958096454.\n",
      "Iteration 18, inertia 3516.6343144695434.\n",
      "Iteration 19, inertia 3515.622106084475.\n",
      "Iteration 20, inertia 3513.997398179625.\n",
      "Iteration 21, inertia 3511.1887036707813.\n",
      "Iteration 22, inertia 3509.9782526878876.\n",
      "Iteration 23, inertia 3508.792500367641.\n",
      "Iteration 24, inertia 3507.658797555087.\n",
      "Iteration 25, inertia 3506.3651721284396.\n",
      "Iteration 26, inertia 3505.313827224242.\n",
      "Iteration 27, inertia 3504.8047979287285.\n",
      "Iteration 28, inertia 3504.552433516029.\n",
      "Converged at iteration 28: center shift 0.00012946374322485044 within tolerance 0.0002709886847099654.\n"
     ]
    }
   ],
   "source": [
    "kmeans_pca = KMeans(n_clusters=5, verbose=True, random_state=1224)\n",
    "\n",
    "kmeans_pca.fit(projection)\n",
    "\n",
    "dados_generos['cluster_pca'] = kmeans_pca.predict(projection)\n",
    "projection['cluster_pca'] = kmeans_pca.predict(projection)"
   ]
  },
  {
   "cell_type": "code",
   "execution_count": 39,
   "metadata": {},
   "outputs": [
    {
     "data": {
      "text/html": [
       "<div>\n",
       "<style scoped>\n",
       "    .dataframe tbody tr th:only-of-type {\n",
       "        vertical-align: middle;\n",
       "    }\n",
       "\n",
       "    .dataframe tbody tr th {\n",
       "        vertical-align: top;\n",
       "    }\n",
       "\n",
       "    .dataframe thead th {\n",
       "        text-align: right;\n",
       "    }\n",
       "</style>\n",
       "<table border=\"1\" class=\"dataframe\">\n",
       "  <thead>\n",
       "    <tr style=\"text-align: right;\">\n",
       "      <th></th>\n",
       "      <th>x</th>\n",
       "      <th>y</th>\n",
       "      <th>cluster_pca</th>\n",
       "    </tr>\n",
       "  </thead>\n",
       "  <tbody>\n",
       "    <tr>\n",
       "      <th>0</th>\n",
       "      <td>5.910268</td>\n",
       "      <td>-0.011146</td>\n",
       "      <td>3</td>\n",
       "    </tr>\n",
       "    <tr>\n",
       "      <th>1</th>\n",
       "      <td>2.787093</td>\n",
       "      <td>4.498483</td>\n",
       "      <td>3</td>\n",
       "    </tr>\n",
       "    <tr>\n",
       "      <th>2</th>\n",
       "      <td>-0.757538</td>\n",
       "      <td>-1.258495</td>\n",
       "      <td>4</td>\n",
       "    </tr>\n",
       "    <tr>\n",
       "      <th>3</th>\n",
       "      <td>1.020521</td>\n",
       "      <td>-0.931690</td>\n",
       "      <td>1</td>\n",
       "    </tr>\n",
       "    <tr>\n",
       "      <th>4</th>\n",
       "      <td>0.753911</td>\n",
       "      <td>-0.999861</td>\n",
       "      <td>1</td>\n",
       "    </tr>\n",
       "    <tr>\n",
       "      <th>...</th>\n",
       "      <td>...</td>\n",
       "      <td>...</td>\n",
       "      <td>...</td>\n",
       "    </tr>\n",
       "    <tr>\n",
       "      <th>2968</th>\n",
       "      <td>-0.475136</td>\n",
       "      <td>-0.017126</td>\n",
       "      <td>2</td>\n",
       "    </tr>\n",
       "    <tr>\n",
       "      <th>2969</th>\n",
       "      <td>-3.026756</td>\n",
       "      <td>-1.304983</td>\n",
       "      <td>4</td>\n",
       "    </tr>\n",
       "    <tr>\n",
       "      <th>2970</th>\n",
       "      <td>-0.832511</td>\n",
       "      <td>-1.089726</td>\n",
       "      <td>4</td>\n",
       "    </tr>\n",
       "    <tr>\n",
       "      <th>2971</th>\n",
       "      <td>1.774790</td>\n",
       "      <td>-3.695233</td>\n",
       "      <td>1</td>\n",
       "    </tr>\n",
       "    <tr>\n",
       "      <th>2972</th>\n",
       "      <td>-1.028069</td>\n",
       "      <td>-1.390709</td>\n",
       "      <td>4</td>\n",
       "    </tr>\n",
       "  </tbody>\n",
       "</table>\n",
       "<p>2973 rows × 3 columns</p>\n",
       "</div>"
      ],
      "text/plain": [
       "             x         y  cluster_pca\n",
       "0     5.910268 -0.011146            3\n",
       "1     2.787093  4.498483            3\n",
       "2    -0.757538 -1.258495            4\n",
       "3     1.020521 -0.931690            1\n",
       "4     0.753911 -0.999861            1\n",
       "...        ...       ...          ...\n",
       "2968 -0.475136 -0.017126            2\n",
       "2969 -3.026756 -1.304983            4\n",
       "2970 -0.832511 -1.089726            4\n",
       "2971  1.774790 -3.695233            1\n",
       "2972 -1.028069 -1.390709            4\n",
       "\n",
       "[2973 rows x 3 columns]"
      ]
     },
     "execution_count": 39,
     "metadata": {},
     "output_type": "execute_result"
    }
   ],
   "source": [
    "projection"
   ]
  },
  {
   "cell_type": "code",
   "execution_count": 40,
   "metadata": {},
   "outputs": [],
   "source": [
    "#trazendo os generos para o dataframe projection\n",
    "projection['genres'] = dados_generos['genres']"
   ]
  },
  {
   "cell_type": "code",
   "execution_count": 41,
   "metadata": {},
   "outputs": [
    {
     "data": {
      "text/html": [
       "<div>\n",
       "<style scoped>\n",
       "    .dataframe tbody tr th:only-of-type {\n",
       "        vertical-align: middle;\n",
       "    }\n",
       "\n",
       "    .dataframe tbody tr th {\n",
       "        vertical-align: top;\n",
       "    }\n",
       "\n",
       "    .dataframe thead th {\n",
       "        text-align: right;\n",
       "    }\n",
       "</style>\n",
       "<table border=\"1\" class=\"dataframe\">\n",
       "  <thead>\n",
       "    <tr style=\"text-align: right;\">\n",
       "      <th></th>\n",
       "      <th>x</th>\n",
       "      <th>y</th>\n",
       "      <th>cluster_pca</th>\n",
       "      <th>genres</th>\n",
       "    </tr>\n",
       "  </thead>\n",
       "  <tbody>\n",
       "    <tr>\n",
       "      <th>0</th>\n",
       "      <td>5.910268</td>\n",
       "      <td>-0.011146</td>\n",
       "      <td>3</td>\n",
       "      <td>21st century classical</td>\n",
       "    </tr>\n",
       "    <tr>\n",
       "      <th>1</th>\n",
       "      <td>2.787093</td>\n",
       "      <td>4.498483</td>\n",
       "      <td>3</td>\n",
       "      <td>432hz</td>\n",
       "    </tr>\n",
       "    <tr>\n",
       "      <th>2</th>\n",
       "      <td>-0.757538</td>\n",
       "      <td>-1.258495</td>\n",
       "      <td>4</td>\n",
       "      <td>8-bit</td>\n",
       "    </tr>\n",
       "    <tr>\n",
       "      <th>3</th>\n",
       "      <td>1.020521</td>\n",
       "      <td>-0.931690</td>\n",
       "      <td>1</td>\n",
       "      <td>[]</td>\n",
       "    </tr>\n",
       "    <tr>\n",
       "      <th>4</th>\n",
       "      <td>0.753911</td>\n",
       "      <td>-0.999861</td>\n",
       "      <td>1</td>\n",
       "      <td>a cappella</td>\n",
       "    </tr>\n",
       "  </tbody>\n",
       "</table>\n",
       "</div>"
      ],
      "text/plain": [
       "          x         y  cluster_pca                  genres\n",
       "0  5.910268 -0.011146            3  21st century classical\n",
       "1  2.787093  4.498483            3                   432hz\n",
       "2 -0.757538 -1.258495            4                   8-bit\n",
       "3  1.020521 -0.931690            1                      []\n",
       "4  0.753911 -0.999861            1              a cappella"
      ]
     },
     "execution_count": 41,
     "metadata": {},
     "output_type": "execute_result"
    }
   ],
   "source": [
    "projection.head()"
   ]
  },
  {
   "cell_type": "code",
   "execution_count": 42,
   "metadata": {},
   "outputs": [
    {
     "data": {
      "application/vnd.plotly.v1+json": {
       "config": {
        "plotlyServerURL": "https://plot.ly"
       },
       "data": [
        {
         "customdata": [
          [
           "21st century classical"
          ],
          [
           "432hz"
          ],
          [
           "8-bit"
          ],
          [
           "[]"
          ],
          [
           "a cappella"
          ],
          [
           "abstract"
          ],
          [
           "abstract beats"
          ],
          [
           "abstract hip hop"
          ],
          [
           "accordeon"
          ],
          [
           "accordion"
          ],
          [
           "acid house"
          ],
          [
           "acid rock"
          ],
          [
           "acid trance"
          ],
          [
           "acousmatic"
          ],
          [
           "acoustic blues"
          ],
          [
           "acoustic pop"
          ],
          [
           "acoustic punk"
          ],
          [
           "acoustic rock"
          ],
          [
           "action rock"
          ],
          [
           "adoracion"
          ],
          [
           "adult standards"
          ],
          [
           "adventista"
          ],
          [
           "afghan pop"
          ],
          [
           "afghan traditional"
          ],
          [
           "african percussion"
          ],
          [
           "african reggae"
          ],
          [
           "african rock"
          ],
          [
           "african-american classical"
          ],
          [
           "afro dancehall"
          ],
          [
           "afro house"
          ],
          [
           "afro psych"
          ],
          [
           "afro soul"
          ],
          [
           "afro-funk"
          ],
          [
           "afrobeat"
          ],
          [
           "afrofuturism"
          ],
          [
           "afrofuturismo brasileiro"
          ],
          [
           "afropop"
          ],
          [
           "afroswing"
          ],
          [
           "aggrotech"
          ],
          [
           "alabama indie"
          ],
          [
           "alabama metal"
          ],
          [
           "alabama rap"
          ],
          [
           "alaska indie"
          ],
          [
           "albanian pop"
          ],
          [
           "albany ny indie"
          ],
          [
           "alberta country"
          ],
          [
           "alberta hip hop"
          ],
          [
           "album rock"
          ],
          [
           "albuquerque indie"
          ],
          [
           "alt-idol"
          ],
          [
           "alte"
          ],
          [
           "alternative americana"
          ],
          [
           "alternative country"
          ],
          [
           "alternative dance"
          ],
          [
           "alternative emo"
          ],
          [
           "alternative hip hop"
          ],
          [
           "alternative metal"
          ],
          [
           "alternative pop"
          ],
          [
           "alternative pop rock"
          ],
          [
           "alternative r&b"
          ],
          [
           "alternative rock"
          ],
          [
           "alternative roots rock"
          ],
          [
           "ambeat"
          ],
          [
           "ambient"
          ],
          [
           "ambient black metal"
          ],
          [
           "ambient folk"
          ],
          [
           "ambient house"
          ],
          [
           "ambient idm"
          ],
          [
           "ambient industrial"
          ],
          [
           "ambient pop"
          ],
          [
           "ambient techno"
          ],
          [
           "ambient worship"
          ],
          [
           "american 21st century classical"
          ],
          [
           "american choir"
          ],
          [
           "american classical piano"
          ],
          [
           "american contemporary classical"
          ],
          [
           "american early music"
          ],
          [
           "american folk revival"
          ],
          [
           "american metalcore"
          ],
          [
           "american modern classical"
          ],
          [
           "american oi"
          ],
          [
           "american orchestra"
          ],
          [
           "american post-rock"
          ],
          [
           "american primitive"
          ],
          [
           "american romanticism"
          ],
          [
           "american shoegaze"
          ],
          [
           "anadolu rock"
          ],
          [
           "anarcho-punk"
          ],
          [
           "anglican liturgy"
          ],
          [
           "animal singing"
          ],
          [
           "anime"
          ],
          [
           "anime latino"
          ],
          [
           "anime rock"
          ],
          [
           "anime score"
          ],
          [
           "ann arbor indie"
          ],
          [
           "anthem emo"
          ],
          [
           "anthem worship"
          ],
          [
           "anti-folk"
          ],
          [
           "antilliaanse folklore"
          ],
          [
           "antiviral pop"
          ],
          [
           "appalachian folk"
          ],
          [
           "arab folk"
          ],
          [
           "arab groove"
          ],
          [
           "arab pop"
          ],
          [
           "arabesk"
          ],
          [
           "arabic hip hop"
          ],
          [
           "arabic jazz"
          ],
          [
           "argentine ambient"
          ],
          [
           "argentine hardcore"
          ],
          [
           "argentine heavy metal"
          ],
          [
           "argentine hip hop"
          ],
          [
           "argentine indie"
          ],
          [
           "argentine metal"
          ],
          [
           "argentine punk"
          ],
          [
           "argentine reggae"
          ],
          [
           "argentine rock"
          ],
          [
           "argentine telepop"
          ],
          [
           "arizona punk"
          ],
          [
           "arkansas country"
          ],
          [
           "arkansas hip hop"
          ],
          [
           "arkansas indie"
          ],
          [
           "armenian folk"
          ],
          [
           "art pop"
          ],
          [
           "art punk"
          ],
          [
           "art rock"
          ],
          [
           "art song"
          ],
          [
           "asbury park indie"
          ],
          [
           "asheville indie"
          ],
          [
           "asian american hip hop"
          ],
          [
           "asmr"
          ],
          [
           "athens indie"
          ],
          [
           "atl hip hop"
          ],
          [
           "atl trap"
          ],
          [
           "atlanta indie"
          ],
          [
           "atlanta metal"
          ],
          [
           "atlanta punk"
          ],
          [
           "atmosphere"
          ],
          [
           "atmospheric black metal"
          ],
          [
           "atmospheric dnb"
          ],
          [
           "atmospheric post-metal"
          ],
          [
           "atmospheric post-rock"
          ],
          [
           "atmospheric sludge"
          ],
          [
           "auckland indie"
          ],
          [
           "audiophile vocal"
          ],
          [
           "aussietronica"
          ],
          [
           "austin americana"
          ],
          [
           "austin singer-songwriter"
          ],
          [
           "austindie"
          ],
          [
           "australian alternative pop"
          ],
          [
           "australian alternative rock"
          ],
          [
           "australian ambient"
          ],
          [
           "australian children's music"
          ],
          [
           "australian choir"
          ],
          [
           "australian classical"
          ],
          [
           "australian classical piano"
          ],
          [
           "australian country"
          ],
          [
           "australian dance"
          ],
          [
           "australian electropop"
          ],
          [
           "australian garage punk"
          ],
          [
           "australian hip hop"
          ],
          [
           "australian house"
          ],
          [
           "australian indie"
          ],
          [
           "australian indie folk"
          ],
          [
           "australian indie rock"
          ],
          [
           "australian indigenous"
          ],
          [
           "australian metal"
          ],
          [
           "australian metalcore"
          ],
          [
           "australian pop"
          ],
          [
           "australian post-hardcore"
          ],
          [
           "australian post-punk"
          ],
          [
           "australian psych"
          ],
          [
           "australian r&b"
          ],
          [
           "australian reggae fusion"
          ],
          [
           "australian rock"
          ],
          [
           "australian singer-songwriter"
          ],
          [
           "australian ska"
          ],
          [
           "australian talent show"
          ],
          [
           "australian trap"
          ],
          [
           "australian underground hip hop"
          ],
          [
           "austrian choir"
          ],
          [
           "austrian classical piano"
          ],
          [
           "austrian orchestra"
          ],
          [
           "austrian pop"
          ],
          [
           "austro-german modernism"
          ],
          [
           "austropop"
          ],
          [
           "autoharp"
          ],
          [
           "autonomous black metal"
          ],
          [
           "avant-garde"
          ],
          [
           "avant-garde jazz"
          ],
          [
           "avant-garde metal"
          ],
          [
           "axe"
          ],
          [
           "azeri traditional"
          ],
          [
           "azonto"
          ],
          [
           "azontobeats"
          ],
          [
           "bachata"
          ],
          [
           "bachata dominicana"
          ],
          [
           "background music"
          ],
          [
           "background piano"
          ],
          [
           "baglama"
          ],
          [
           "bahai"
          ],
          [
           "bahamian folk"
          ],
          [
           "bahamian pop"
          ],
          [
           "baiao"
          ],
          [
           "bajki"
          ],
          [
           "bakersfield sound"
          ],
          [
           "balearic"
          ],
          [
           "balkan brass"
          ],
          [
           "balkan classical piano"
          ],
          [
           "ballet class"
          ],
          [
           "ballroom"
          ],
          [
           "baltic classical"
          ],
          [
           "baltimore hip hop"
          ],
          [
           "baltimore indie"
          ],
          [
           "banda"
          ],
          [
           "banda caliente"
          ],
          [
           "banda carnavalera"
          ],
          [
           "bandinhas"
          ],
          [
           "bandolim"
          ],
          [
           "bandoneon"
          ],
          [
           "bangla"
          ],
          [
           "banjo"
          ],
          [
           "bansuri"
          ],
          [
           "barbadian pop"
          ],
          [
           "barbershop"
          ],
          [
           "bard"
          ],
          [
           "barnmusik"
          ],
          [
           "barockinterpreten"
          ],
          [
           "baroque"
          ],
          [
           "baroque brass"
          ],
          [
           "baroque ensemble"
          ],
          [
           "baroque pop"
          ],
          [
           "baroque singing"
          ],
          [
           "baroque violin"
          ],
          [
           "baroque woodwind"
          ],
          [
           "bass house"
          ],
          [
           "bass music"
          ],
          [
           "bass trap"
          ],
          [
           "basshall"
          ],
          [
           "bassline"
          ],
          [
           "bath indie"
          ],
          [
           "baton rouge indie"
          ],
          [
           "baton rouge rap"
          ],
          [
           "battle rap"
          ],
          [
           "bay area hip hop"
          ],
          [
           "bay area indie"
          ],
          [
           "bboy"
          ],
          [
           "bc underground hip hop"
          ],
          [
           "beach music"
          ],
          [
           "beat italiano"
          ],
          [
           "beat poetry"
          ],
          [
           "beatboxing"
          ],
          [
           "beatlesque"
          ],
          [
           "bebop"
          ],
          [
           "bedroom pop"
          ],
          [
           "bedroom soul"
          ],
          [
           "belarusian indie"
          ],
          [
           "belarusian pop"
          ],
          [
           "belarusian rock"
          ],
          [
           "belgian classical piano"
          ],
          [
           "belgian contemporary classical"
          ],
          [
           "belgian dance"
          ],
          [
           "belgian edm"
          ],
          [
           "belgian hardcore"
          ],
          [
           "belgian indie"
          ],
          [
           "belgian indie rock"
          ],
          [
           "belgian jazz"
          ],
          [
           "belgian new wave"
          ],
          [
           "belgian pop"
          ],
          [
           "belgian rock"
          ],
          [
           "belgian singer-songwriter"
          ],
          [
           "belgian techno"
          ],
          [
           "belly dance"
          ],
          [
           "bengali folk"
          ],
          [
           "beninese pop"
          ],
          [
           "bergen indie"
          ],
          [
           "berlin minimal techno"
          ],
          [
           "berlin school"
          ],
          [
           "bhajan"
          ],
          [
           "bhangra"
          ],
          [
           "bible"
          ],
          [
           "big band"
          ],
          [
           "big beat"
          ],
          [
           "big room"
          ],
          [
           "binaural"
          ],
          [
           "birdsong"
          ],
          [
           "birmingham grime"
          ],
          [
           "birmingham hip hop"
          ],
          [
           "birmingham metal"
          ],
          [
           "bitpop"
          ],
          [
           "black 'n' roll"
          ],
          [
           "black comedy"
          ],
          [
           "black metal"
          ],
          [
           "black punk"
          ],
          [
           "black thrash"
          ],
          [
           "blackened crust"
          ],
          [
           "blackgaze"
          ],
          [
           "bleep techno"
          ],
          [
           "bluegrass"
          ],
          [
           "bluegrass fiddle"
          ],
          [
           "bluegrass gospel"
          ],
          [
           "blues"
          ],
          [
           "blues latinoamericano"
          ],
          [
           "blues mexicano"
          ],
          [
           "blues rock"
          ],
          [
           "bmore"
          ],
          [
           "bolero"
          ],
          [
           "bolero cubano"
          ],
          [
           "boogaloo"
          ],
          [
           "boogie"
          ],
          [
           "boogie-woogie"
          ],
          [
           "boom bap"
          ],
          [
           "boom bap brasileiro"
          ],
          [
           "bossa nova"
          ],
          [
           "bossa nova jazz"
          ],
          [
           "boston folk"
          ],
          [
           "boston hardcore"
          ],
          [
           "boston hip hop"
          ],
          [
           "boston indie"
          ],
          [
           "boston metal"
          ],
          [
           "boston punk"
          ],
          [
           "boston rock"
          ],
          [
           "bounce"
          ],
          [
           "bouncy house"
          ],
          [
           "bouzouki"
          ],
          [
           "bow pop"
          ],
          [
           "boy band"
          ],
          [
           "boy pop"
          ],
          [
           "boy soprano"
          ],
          [
           "brain waves"
          ],
          [
           "braindance"
          ],
          [
           "brass band"
          ],
          [
           "brass ensemble"
          ],
          [
           "brass quintet"
          ],
          [
           "brazilian boogie"
          ],
          [
           "brazilian classical"
          ],
          [
           "brazilian classical piano"
          ],
          [
           "brazilian contemporary classical"
          ],
          [
           "brazilian edm"
          ],
          [
           "brazilian groove metal"
          ],
          [
           "brazilian hip hop"
          ],
          [
           "brazilian indie"
          ],
          [
           "brazilian jazz"
          ],
          [
           "brazilian metal"
          ],
          [
           "brazilian modern jazz"
          ],
          [
           "brazilian percussion"
          ],
          [
           "brazilian punk"
          ],
          [
           "brazilian reggae"
          ],
          [
           "brazilian rock"
          ],
          [
           "brazilian ska"
          ],
          [
           "brazilian soul"
          ],
          [
           "brazilian thrash metal"
          ],
          [
           "breakbeat"
          ],
          [
           "breakcore"
          ],
          [
           "brega"
          ],
          [
           "breton folk"
          ],
          [
           "brighton indie"
          ],
          [
           "brill building pop"
          ],
          [
           "brisbane indie"
          ],
          [
           "bristol electronic"
          ],
          [
           "bristol indie"
          ],
          [
           "brit funk"
          ],
          [
           "british alternative rock"
          ],
          [
           "british black metal"
          ],
          [
           "british blues"
          ],
          [
           "british children's music"
          ],
          [
           "british choir"
          ],
          [
           "british classical piano"
          ],
          [
           "british comedy"
          ],
          [
           "british contemporary classical"
          ],
          [
           "british dance band"
          ],
          [
           "british death metal"
          ],
          [
           "british experimental"
          ],
          [
           "british folk"
          ],
          [
           "british grindcore"
          ],
          [
           "british indie rock"
          ],
          [
           "british industrial"
          ],
          [
           "british invasion"
          ],
          [
           "british jazz"
          ],
          [
           "british modern classical"
          ],
          [
           "british orchestra"
          ],
          [
           "british post-rock"
          ],
          [
           "british power metal"
          ],
          [
           "british singer-songwriter"
          ],
          [
           "british soul"
          ],
          [
           "british soundtrack"
          ],
          [
           "britpop"
          ],
          [
           "broadway"
          ],
          [
           "broken beat"
          ],
          [
           "bronx hip hop"
          ],
          [
           "brooklyn drill"
          ],
          [
           "brooklyn indie"
          ],
          [
           "brostep"
          ],
          [
           "brutal death metal"
          ],
          [
           "brutal deathcore"
          ],
          [
           "bubble trance"
          ],
          [
           "bubblegrunge"
          ],
          [
           "bubblegum dance"
          ],
          [
           "bubblegum pop"
          ],
          [
           "buffalo hip hop"
          ],
          [
           "buffalo ny indie"
          ],
          [
           "buffalo ny metal"
          ],
          [
           "bulgarian experimental"
          ],
          [
           "burmese traditional"
          ],
          [
           "bush ballad"
          ],
          [
           "c-pop"
          ],
          [
           "c86"
          ],
          [
           "cabaret"
          ],
          [
           "cajun"
          ],
          [
           "calgary indie"
          ],
          [
           "cali rap"
          ],
          [
           "calming instrumental"
          ],
          [
           "calypso"
          ],
          [
           "cambodian rock"
          ],
          [
           "cambridge choir"
          ],
          [
           "cambridgeshire indie"
          ],
          [
           "cameroonian pop"
          ],
          [
           "canadian americana"
          ],
          [
           "canadian blues"
          ],
          [
           "canadian ccm"
          ],
          [
           "canadian celtic"
          ],
          [
           "canadian children's music"
          ],
          [
           "canadian choir"
          ],
          [
           "canadian classical"
          ],
          [
           "canadian classical piano"
          ],
          [
           "canadian comedy"
          ],
          [
           "canadian contemporary country"
          ],
          [
           "canadian contemporary r&b"
          ],
          [
           "canadian country"
          ],
          [
           "canadian electronic"
          ],
          [
           "canadian electropop"
          ],
          [
           "canadian experimental"
          ],
          [
           "canadian folk"
          ],
          [
           "canadian hardcore"
          ],
          [
           "canadian hip hop"
          ],
          [
           "canadian house"
          ],
          [
           "canadian indie"
          ],
          [
           "canadian indie folk"
          ],
          [
           "canadian indigenous"
          ],
          [
           "canadian indigenous hip hop"
          ],
          [
           "canadian latin"
          ],
          [
           "canadian metal"
          ],
          [
           "canadian metalcore"
          ],
          [
           "canadian modern jazz"
          ],
          [
           "canadian pop"
          ],
          [
           "canadian pop punk"
          ],
          [
           "canadian post-hardcore"
          ],
          [
           "canadian post-rock"
          ],
          [
           "canadian psychedelic"
          ],
          [
           "canadian punk"
          ],
          [
           "canadian rock"
          ],
          [
           "canadian rockabilly"
          ],
          [
           "canadian singer-songwriter"
          ],
          [
           "canadian soundtrack"
          ],
          [
           "cancion melodica"
          ],
          [
           "candy pop"
          ],
          [
           "cantautor"
          ],
          [
           "cante flamenco"
          ],
          [
           "canterbury scene"
          ],
          [
           "canto popular uruguayo"
          ],
          [
           "cantopop"
          ],
          [
           "canzone d'autore"
          ],
          [
           "canzone genovese"
          ],
          [
           "canzone napoletana"
          ],
          [
           "cape town indie"
          ],
          [
           "cape verdean folk"
          ],
          [
           "capoeira"
          ],
          [
           "caracas indie"
          ],
          [
           "carnatic"
          ],
          [
           "carnatic instrumental"
          ],
          [
           "carnatic vocal"
          ],
          [
           "cartoon"
          ],
          [
           "cathedral choir"
          ],
          [
           "caucasian classical"
          ],
          [
           "caucasian classical piano"
          ],
          [
           "ccm"
          ],
          [
           "cedm"
          ],
          [
           "cello"
          ],
          [
           "celtic"
          ],
          [
           "celtic harp"
          ],
          [
           "celtic metal"
          ],
          [
           "celtic punk"
          ],
          [
           "celtic rock"
          ],
          [
           "cha-cha-cha"
          ],
          [
           "chakra"
          ],
          [
           "chamame"
          ],
          [
           "chamber choir"
          ],
          [
           "chamber ensemble"
          ],
          [
           "chamber folk"
          ],
          [
           "chamber orchestra"
          ],
          [
           "chamber pop"
          ],
          [
           "chamber psych"
          ],
          [
           "champeta"
          ],
          [
           "channel islands indie"
          ],
          [
           "channel pop"
          ],
          [
           "chanson"
          ],
          [
           "chanson paillarde"
          ],
          [
           "chaotic hardcore"
          ],
          [
           "charanga"
          ],
          [
           "charango"
          ],
          [
           "charlotte nc indie"
          ],
          [
           "charlottesville indie"
          ],
          [
           "chattanooga indie"
          ],
          [
           "chicago blues"
          ],
          [
           "chicago drill"
          ],
          [
           "chicago hardcore"
          ],
          [
           "chicago house"
          ],
          [
           "chicago indie"
          ],
          [
           "chicago pop punk"
          ],
          [
           "chicago punk"
          ],
          [
           "chicago rap"
          ],
          [
           "chicago soul"
          ],
          [
           "chicano punk"
          ],
          [
           "chicano rap"
          ],
          [
           "chicha"
          ],
          [
           "chihuahua indie"
          ],
          [
           "children's choir"
          ],
          [
           "children's folk"
          ],
          [
           "children's music"
          ],
          [
           "children's story"
          ],
          [
           "chilean hardcore"
          ],
          [
           "chilean indie"
          ],
          [
           "chilean rock"
          ],
          [
           "chilena"
          ],
          [
           "chill beats"
          ],
          [
           "chill guitar"
          ],
          [
           "chill lounge"
          ],
          [
           "chill out"
          ],
          [
           "chill pop"
          ],
          [
           "chill r&b"
          ],
          [
           "chillhop"
          ],
          [
           "chillstep"
          ],
          [
           "chillwave"
          ],
          [
           "chinese audiophile"
          ],
          [
           "chinese classical"
          ],
          [
           "chinese classical performance"
          ],
          [
           "chinese classical piano"
          ],
          [
           "chinese electropop"
          ],
          [
           "chinese hip hop"
          ],
          [
           "chinese idol pop"
          ],
          [
           "chinese indie"
          ],
          [
           "chinese indie rock"
          ],
          [
           "chinese instrumental"
          ],
          [
           "chinese jazz"
          ],
          [
           "chinese r&b"
          ],
          [
           "chinese soundtrack"
          ],
          [
           "chinese traditional"
          ],
          [
           "chiptune"
          ],
          [
           "chopped and screwed"
          ],
          [
           "choral"
          ],
          [
           "choro"
          ],
          [
           "christchurch indie"
          ],
          [
           "christelijk"
          ],
          [
           "christian a cappella"
          ],
          [
           "christian alternative rock"
          ],
          [
           "christian dance"
          ],
          [
           "christian hard rock"
          ],
          [
           "christian hardcore"
          ],
          [
           "christian hip hop"
          ],
          [
           "christian indie"
          ],
          [
           "christian metal"
          ],
          [
           "christian metalcore"
          ],
          [
           "christian music"
          ],
          [
           "christian pop"
          ],
          [
           "christian power metal"
          ],
          [
           "christian punk"
          ],
          [
           "christian relaxative"
          ],
          [
           "christian rock"
          ],
          [
           "christian trap"
          ],
          [
           "christian uplift"
          ],
          [
           "christmas instrumental"
          ],
          [
           "christmas product"
          ],
          [
           "chunchaca"
          ],
          [
           "chutney"
          ],
          [
           "cincinnati rap"
          ],
          [
           "cinematic post-rock"
          ],
          [
           "circuit"
          ],
          [
           "circus"
          ],
          [
           "classic afrobeat"
          ],
          [
           "classic arab pop"
          ],
          [
           "classic australian country"
          ],
          [
           "classic belgian pop"
          ],
          [
           "classic bhangra"
          ],
          [
           "classic bollywood"
          ],
          [
           "classic canadian rock"
          ],
          [
           "classic cantopop"
          ],
          [
           "classic colombian pop"
          ],
          [
           "classic country pop"
          ],
          [
           "classic czech pop"
          ],
          [
           "classic danish pop"
          ],
          [
           "classic dubstep"
          ],
          [
           "classic eurovision"
          ],
          [
           "classic finnish pop"
          ],
          [
           "classic french pop"
          ],
          [
           "classic garage rock"
          ],
          [
           "classic girl group"
          ],
          [
           "classic greek pop"
          ],
          [
           "classic hardstyle"
          ],
          [
           "classic icelandic pop"
          ],
          [
           "classic indo pop"
          ],
          [
           "classic iskelma"
          ],
          [
           "classic israeli pop"
          ],
          [
           "classic italian folk pop"
          ],
          [
           "classic italian pop"
          ],
          [
           "classic j-rock"
          ],
          [
           "classic japanese jazz"
          ],
          [
           "classic korean pop"
          ],
          [
           "classic latvian pop"
          ],
          [
           "classic mandopop"
          ],
          [
           "classic norwegian pop"
          ],
          [
           "classic opm"
          ],
          [
           "classic pakistani pop"
          ],
          [
           "classic persian pop"
          ],
          [
           "classic peruvian pop"
          ],
          [
           "classic polish pop"
          ],
          [
           "classic praise"
          ],
          [
           "classic psychedelic rock"
          ],
          [
           "classic punjabi pop"
          ],
          [
           "classic rock"
          ],
          [
           "classic russian pop"
          ],
          [
           "classic russian rock"
          ],
          [
           "classic schlager"
          ],
          [
           "classic soul"
          ],
          [
           "classic soundtrack"
          ],
          [
           "classic swedish pop"
          ],
          [
           "classic thai pop"
          ],
          [
           "classic tunisian pop"
          ],
          [
           "classic turkish pop"
          ],
          [
           "classic uk pop"
          ],
          [
           "classic venezuelan pop"
          ],
          [
           "classical"
          ],
          [
           "classical accordion"
          ],
          [
           "classical baritone"
          ],
          [
           "classical bass"
          ],
          [
           "classical cello"
          ],
          [
           "classical clarinet"
          ],
          [
           "classical contralto"
          ],
          [
           "classical countertenor"
          ],
          [
           "classical era"
          ],
          [
           "classical flute"
          ],
          [
           "classical guitar"
          ],
          [
           "classical harp"
          ],
          [
           "classical horn"
          ],
          [
           "classical mandolin"
          ],
          [
           "classical mezzo-soprano"
          ],
          [
           "classical oboe"
          ],
          [
           "classical organ"
          ],
          [
           "classical performance"
          ],
          [
           "classical piano"
          ],
          [
           "classical piano duo"
          ],
          [
           "classical piano trio"
          ],
          [
           "classical saxophone"
          ],
          [
           "classical soprano"
          ],
          [
           "classical tenor"
          ],
          [
           "classical trumpet"
          ],
          [
           "classify"
          ],
          [
           "clawhammer banjo"
          ],
          [
           "clean comedy"
          ],
          [
           "cleveland metal"
          ],
          [
           "coco"
          ],
          [
           "collage pop"
          ],
          [
           "college a cappella"
          ],
          [
           "colombian hip hop"
          ],
          [
           "colombian pop"
          ],
          [
           "colombian rock"
          ],
          [
           "columbus ohio indie"
          ],
          [
           "comedy"
          ],
          [
           "comedy rap"
          ],
          [
           "comedy rock"
          ],
          [
           "comic"
          ],
          [
           "comic metal"
          ],
          [
           "commons"
          ],
          [
           "complextro"
          ],
          [
           "compositional ambient"
          ],
          [
           "concepcion indie"
          ],
          [
           "concert band"
          ],
          [
           "connecticut hardcore"
          ],
          [
           "connecticut indie"
          ],
          [
           "conscious hip hop"
          ],
          [
           "contemporary choir"
          ],
          [
           "contemporary classical"
          ],
          [
           "contemporary classical piano"
          ],
          [
           "contemporary country"
          ],
          [
           "contemporary folk"
          ],
          [
           "contemporary gospel"
          ],
          [
           "contemporary jazz"
          ],
          [
           "contemporary post-bop"
          ],
          [
           "contemporary vocal jazz"
          ],
          [
           "contrabass"
          ],
          [
           "cool jazz"
          ],
          [
           "copla"
          ],
          [
           "cornish folk"
          ],
          [
           "cornwall indie"
          ],
          [
           "corrido"
          ],
          [
           "corridos cristianos"
          ],
          [
           "corridos tumbados"
          ],
          [
           "corrosion"
          ],
          [
           "cosmic american"
          ],
          [
           "cosmic post-rock"
          ],
          [
           "country"
          ],
          [
           "country blues"
          ],
          [
           "country boogie"
          ],
          [
           "country dawn"
          ],
          [
           "country gospel"
          ],
          [
           "country pop"
          ],
          [
           "country rap"
          ],
          [
           "country road"
          ],
          [
           "country rock"
          ],
          [
           "coverchill"
          ],
          [
           "cowboy western"
          ],
          [
           "cowpunk"
          ],
          [
           "crack rock steady"
          ],
          [
           "croatian folk"
          ],
          [
           "croatian pop"
          ],
          [
           "croatian rock"
          ],
          [
           "crossover thrash"
          ],
          [
           "crunk"
          ],
          [
           "crust punk"
          ],
          [
           "cuarteto"
          ],
          [
           "cuatro venezolano"
          ],
          [
           "cuban alternative"
          ],
          [
           "cuban rumba"
          ],
          [
           "cubaton"
          ],
          [
           "cumbia"
          ],
          [
           "cumbia andina mexicana"
          ],
          [
           "cumbia chilena"
          ],
          [
           "cumbia colombiana regia"
          ],
          [
           "cumbia ecuatoriana"
          ],
          [
           "cumbia funk"
          ],
          [
           "cumbia lagunera"
          ],
          [
           "cumbia paraguaya"
          ],
          [
           "cumbia peruana"
          ],
          [
           "cumbia pop"
          ],
          [
           "cumbia ranchera"
          ],
          [
           "cumbia salvadorena"
          ],
          [
           "cumbia santafesina"
          ],
          [
           "cumbia sonidera"
          ],
          [
           "cumbia villera"
          ],
          [
           "cyberpunk"
          ],
          [
           "cymraeg"
          ],
          [
           "cypriot pop"
          ],
          [
           "czech classical"
          ],
          [
           "czech classical piano"
          ],
          [
           "czech contemporary classical"
          ],
          [
           "d-beat"
          ],
          [
           "dabke"
          ],
          [
           "dakke dak"
          ],
          [
           "dallas indie"
          ],
          [
           "dance pop"
          ],
          [
           "dance rock"
          ],
          [
           "dance-punk"
          ],
          [
           "dancehall"
          ],
          [
           "dangdut"
          ],
          [
           "danish alternative rock"
          ],
          [
           "danish classical"
          ],
          [
           "danish electronic"
          ],
          [
           "danish electropop"
          ],
          [
           "danish hip hop"
          ],
          [
           "danish jazz"
          ],
          [
           "danish metal"
          ],
          [
           "danish pop"
          ],
          [
           "danish pop rock"
          ],
          [
           "danish post-punk"
          ],
          [
           "danish punk"
          ],
          [
           "danish rock"
          ],
          [
           "danish singer-songwriter"
          ],
          [
           "dansband"
          ],
          [
           "danseband"
          ],
          [
           "dansktop"
          ],
          [
           "danspunk"
          ],
          [
           "dark cabaret"
          ],
          [
           "dark clubbing"
          ],
          [
           "dark disco"
          ],
          [
           "dark hardcore"
          ],
          [
           "dark jazz"
          ],
          [
           "dark minimal techno"
          ],
          [
           "dark post-punk"
          ],
          [
           "dark techno"
          ],
          [
           "dark trap"
          ],
          [
           "dark wave"
          ],
          [
           "darksynth"
          ],
          [
           "dayton indie"
          ],
          [
           "dc hardcore"
          ],
          [
           "dc indie"
          ],
          [
           "death 'n' roll"
          ],
          [
           "death metal"
          ],
          [
           "deathcore"
          ],
          [
           "deathgrass"
          ],
          [
           "deathgrind"
          ],
          [
           "deathrash"
          ],
          [
           "deathrock"
          ],
          [
           "deathstep"
          ],
          [
           "deep acoustic pop"
          ],
          [
           "deep adult standards"
          ],
          [
           "deep big room"
          ],
          [
           "deep ccm"
          ],
          [
           "deep christian rock"
          ],
          [
           "deep classic garage rock"
          ],
          [
           "deep comedy"
          ],
          [
           "deep contemporary country"
          ],
          [
           "deep dance pop"
          ],
          [
           "deep delta blues"
          ],
          [
           "deep disco"
          ],
          [
           "deep disco house"
          ],
          [
           "deep dnb"
          ],
          [
           "deep east coast hip hop"
          ],
          [
           "deep euro house"
          ],
          [
           "deep flow"
          ],
          [
           "deep free jazz"
          ],
          [
           "deep freestyle"
          ],
          [
           "deep full on"
          ],
          [
           "deep funk"
          ],
          [
           "deep g funk"
          ],
          [
           "deep gothic post-punk"
          ],
          [
           "deep groove house"
          ],
          [
           "deep house"
          ],
          [
           "deep idm"
          ],
          [
           "deep indian pop"
          ],
          [
           "deep indie singer-songwriter"
          ],
          [
           "deep latin alternative"
          ],
          [
           "deep latin christian"
          ],
          [
           "deep melodic metalcore"
          ],
          [
           "deep minimal techno"
          ],
          [
           "deep motown"
          ],
          [
           "deep new americana"
          ],
          [
           "deep new wave"
          ],
          [
           "deep norteno"
          ],
          [
           "deep northern soul"
          ],
          [
           "deep pop edm"
          ],
          [
           "deep progressive house"
          ],
          [
           "deep psychobilly"
          ],
          [
           "deep punk rock"
          ],
          [
           "deep r&b"
          ],
          [
           "deep ragga"
          ],
          [
           "deep regional mexican"
          ],
          [
           "deep smooth jazz"
          ],
          [
           "deep soft rock"
          ],
          [
           "deep soul house"
          ],
          [
           "deep soundtrack"
          ],
          [
           "deep southern soul"
          ],
          [
           "deep southern trap"
          ],
          [
           "deep space rock"
          ],
          [
           "deep talent show"
          ],
          [
           "deep tech house"
          ],
          [
           "deep techno"
          ],
          [
           "deep tropical house"
          ],
          [
           "deep underground hip hop"
          ],
          [
           "deep uplifting trance"
          ],
          [
           "delta blues"
          ],
          [
           "dembow"
          ],
          [
           "denpa-kei"
          ],
          [
           "denton tx indie"
          ],
          [
           "denver indie"
          ],
          [
           "depressive black metal"
          ],
          [
           "derby indie"
          ],
          [
           "desert blues"
          ],
          [
           "desi hip hop"
          ],
          [
           "desi pop"
          ],
          [
           "destroy techno"
          ],
          [
           "detroit hip hop"
          ],
          [
           "detroit house"
          ],
          [
           "detroit techno"
          ],
          [
           "detroit trap"
          ],
          [
           "detske pisnicky"
          ],
          [
           "detskie pesni"
          ],
          [
           "devon indie"
          ],
          [
           "dfw rap"
          ],
          [
           "dhrupad"
          ],
          [
           "digital hardcore"
          ],
          [
           "dinner jazz"
          ],
          [
           "dirty south rap"
          ],
          [
           "dirty texas rap"
          ],
          [
           "disco"
          ],
          [
           "disco house"
          ],
          [
           "disney"
          ],
          [
           "diva house"
          ],
          [
           "dixieland"
          ],
          [
           "diy emo"
          ],
          [
           "djent"
          ],
          [
           "dmv rap"
          ],
          [
           "dominican pop"
          ],
          [
           "dong-yo"
          ],
          [
           "doo-wop"
          ],
          [
           "doom metal"
          ],
          [
           "double drumming"
          ],
          [
           "downtempo"
          ],
          [
           "drama"
          ],
          [
           "dream pop"
          ],
          [
           "dream trance"
          ],
          [
           "dreamgaze"
          ],
          [
           "dreamo"
          ],
          [
           "drift"
          ],
          [
           "drill"
          ],
          [
           "drill and bass"
          ],
          [
           "drone"
          ],
          [
           "drone folk"
          ],
          [
           "drone metal"
          ],
          [
           "drum and bass"
          ],
          [
           "dub"
          ],
          [
           "dub metal"
          ],
          [
           "dub poetry"
          ],
          [
           "dub techno"
          ],
          [
           "dubstep"
          ],
          [
           "dubsteppe"
          ],
          [
           "duduk"
          ],
          [
           "duluth indie"
          ],
          [
           "dunedin indie"
          ],
          [
           "dunedin sound"
          ],
          [
           "dungeon synth"
          ],
          [
           "duranguense"
          ],
          [
           "dusseldorf electronic"
          ],
          [
           "dutch blues"
          ],
          [
           "dutch cabaret"
          ],
          [
           "dutch classical piano"
          ],
          [
           "dutch death metal"
          ],
          [
           "dutch dnb"
          ],
          [
           "dutch edm"
          ],
          [
           "dutch folk"
          ],
          [
           "dutch hip hop"
          ],
          [
           "dutch house"
          ],
          [
           "dutch indie"
          ],
          [
           "dutch jazz"
          ],
          [
           "dutch metal"
          ],
          [
           "dutch pop"
          ],
          [
           "dutch prog"
          ],
          [
           "dutch rap pop"
          ],
          [
           "dutch rock"
          ],
          [
           "dutch trance"
          ],
          [
           "e6fi"
          ],
          [
           "early american folk"
          ],
          [
           "early avant garde"
          ],
          [
           "early modern classical"
          ],
          [
           "early music"
          ],
          [
           "early music choir"
          ],
          [
           "early music ensemble"
          ],
          [
           "early reggae"
          ],
          [
           "early romantic era"
          ],
          [
           "early synthpop"
          ],
          [
           "early us punk"
          ],
          [
           "east coast hip hop"
          ],
          [
           "east coast reggae"
          ],
          [
           "eastern bloc groove"
          ],
          [
           "easy listening"
          ],
          [
           "easycore"
          ],
          [
           "eau claire indie"
          ],
          [
           "ebm"
          ],
          [
           "ecm-style jazz"
          ],
          [
           "ectofolk"
          ],
          [
           "ecuadorian pop"
          ],
          [
           "edm"
          ],
          [
           "edmonton indie"
          ],
          [
           "egyptian pop"
          ],
          [
           "egyptian traditional"
          ],
          [
           "el paso indie"
          ],
          [
           "electra"
          ],
          [
           "electric bass"
          ],
          [
           "electric blues"
          ],
          [
           "electro"
          ],
          [
           "electro house"
          ],
          [
           "electro jazz"
          ],
          [
           "electro latino"
          ],
          [
           "electro swing"
          ],
          [
           "electro-industrial"
          ],
          [
           "electro-pop francais"
          ],
          [
           "electroclash"
          ],
          [
           "electrofox"
          ],
          [
           "electronic djent"
          ],
          [
           "electronic rock"
          ],
          [
           "electronic trap"
          ],
          [
           "electronica"
          ],
          [
           "electronica argentina"
          ],
          [
           "electropop"
          ],
          [
           "electropowerpop"
          ],
          [
           "emo"
          ],
          [
           "emo mexicano"
          ],
          [
           "emo punk"
          ],
          [
           "emo rap"
          ],
          [
           "emocore"
          ],
          [
           "english baroque"
          ],
          [
           "english indie rock"
          ],
          [
           "english renaissance"
          ],
          [
           "enka"
          ],
          [
           "entehno"
          ],
          [
           "environmental"
          ],
          [
           "epic doom"
          ],
          [
           "epicore"
          ],
          [
           "erhu"
          ],
          [
           "escape room"
          ],
          [
           "esperanto"
          ],
          [
           "essex indie"
          ],
          [
           "estonian hip hop"
          ],
          [
           "estonian pop"
          ],
          [
           "ethereal wave"
          ],
          [
           "etherpop"
          ],
          [
           "ethio-jazz"
          ],
          [
           "ethiopian pop"
          ],
          [
           "ethnomusicology"
          ],
          [
           "ethnotronica"
          ],
          [
           "eugene indie"
          ],
          [
           "euphoric hardstyle"
          ],
          [
           "eurobeat"
          ],
          [
           "eurodance"
          ],
          [
           "europop"
          ],
          [
           "euroska"
          ],
          [
           "eurovision"
          ],
          [
           "exotica"
          ],
          [
           "experimental"
          ],
          [
           "experimental ambient"
          ],
          [
           "experimental big band"
          ],
          [
           "experimental dub"
          ],
          [
           "experimental folk"
          ],
          [
           "experimental guitar"
          ],
          [
           "experimental hip hop"
          ],
          [
           "experimental house"
          ],
          [
           "experimental indie"
          ],
          [
           "experimental jazz"
          ],
          [
           "experimental pop"
          ],
          [
           "experimental rock"
          ],
          [
           "experimental vocal"
          ],
          [
           "fado"
          ],
          [
           "family gospel"
          ],
          [
           "faroese pop"
          ],
          [
           "fast melodic punk"
          ],
          [
           "fidget house"
          ],
          [
           "filmi"
          ],
          [
           "filter house"
          ],
          [
           "filthstep"
          ],
          [
           "final fantasy"
          ],
          [
           "fingerstyle"
          ],
          [
           "finnish alternative rock"
          ],
          [
           "finnish classical"
          ],
          [
           "finnish contemporary classical"
          ],
          [
           "finnish death metal"
          ],
          [
           "finnish edm"
          ],
          [
           "finnish hard rock"
          ],
          [
           "finnish heavy metal"
          ],
          [
           "finnish metal"
          ],
          [
           "finnish power metal"
          ],
          [
           "finnish soul"
          ],
          [
           "flamenco"
          ],
          [
           "flamenco guitar"
          ],
          [
           "flick hop"
          ],
          [
           "flint hip hop"
          ],
          [
           "float house"
          ],
          [
           "florida death metal"
          ],
          [
           "florida rap"
          ],
          [
           "fluxwork"
          ],
          [
           "fo jing"
          ],
          [
           "focus"
          ],
          [
           "focus beats"
          ],
          [
           "focus trance"
          ],
          [
           "folclor afrocolombiano"
          ],
          [
           "folclor colombiano"
          ],
          [
           "folclore extremeno"
          ],
          [
           "folclore jujeno"
          ],
          [
           "folclore navarra"
          ],
          [
           "folclore salteno"
          ],
          [
           "folclore tucumano"
          ],
          [
           "folk"
          ],
          [
           "folk metal"
          ],
          [
           "folk punk"
          ],
          [
           "folk rock"
          ],
          [
           "folk rock italiano"
          ],
          [
           "folk-pop"
          ],
          [
           "folklore argentino"
          ],
          [
           "folklore boliviano"
          ],
          [
           "folklore chileno"
          ],
          [
           "folklore ecuatoriano"
          ],
          [
           "folklore peruano"
          ],
          [
           "folklore venezolano"
          ],
          [
           "folklore veracruzano"
          ],
          [
           "folkmusik"
          ],
          [
           "folktronica"
          ],
          [
           "footwork"
          ],
          [
           "forro"
          ],
          [
           "forro tradicional"
          ],
          [
           "fort worth indie"
          ],
          [
           "fourth world"
          ],
          [
           "francoton"
          ],
          [
           "freak folk"
          ],
          [
           "freakbeat"
          ],
          [
           "free folk"
          ],
          [
           "free improvisation"
          ],
          [
           "free jazz"
          ],
          [
           "freestyle"
          ],
          [
           "french baroque"
          ],
          [
           "french classical piano"
          ],
          [
           "french contemporary classical"
          ],
          [
           "french death metal"
          ],
          [
           "french dnb"
          ],
          [
           "french hip hop"
          ],
          [
           "french indie folk"
          ],
          [
           "french indie pop"
          ],
          [
           "french indietronica"
          ],
          [
           "french jazz"
          ],
          [
           "french metal"
          ],
          [
           "french movie tunes"
          ],
          [
           "french opera"
          ],
          [
           "french orchestra"
          ],
          [
           "french pop"
          ],
          [
           "french post-punk"
          ],
          [
           "french psychedelic"
          ],
          [
           "french reggae"
          ],
          [
           "french rock"
          ],
          [
           "french romanticism"
          ],
          [
           "french shoegaze"
          ],
          [
           "french soundtrack"
          ],
          [
           "french synthpop"
          ],
          [
           "french techno"
          ],
          [
           "frenchcore"
          ],
          [
           "full on"
          ],
          [
           "funana"
          ],
          [
           "funeral doom"
          ],
          [
           "funk"
          ],
          [
           "funk 150 bpm"
          ],
          [
           "funk carioca"
          ],
          [
           "funk das antigas"
          ],
          [
           "funk metal"
          ],
          [
           "funk mexicano"
          ],
          [
           "funk ostentacao"
          ],
          [
           "funk paulista"
          ],
          [
           "funk pop"
          ],
          [
           "funk rock"
          ],
          [
           "funky breaks"
          ],
          [
           "funky tech house"
          ],
          [
           "future bass"
          ],
          [
           "future funk"
          ],
          [
           "future garage"
          ],
          [
           "future house"
          ],
          [
           "future rock"
          ],
          [
           "futurepop"
          ],
          [
           "g funk"
          ],
          [
           "gabba"
          ],
          [
           "gabonese pop"
          ],
          [
           "gaian doom"
          ],
          [
           "gainesville indie"
          ],
          [
           "gaita zuliana"
          ],
          [
           "galante era"
          ],
          [
           "gamelan"
          ],
          [
           "gaming dubstep"
          ],
          [
           "gaming edm"
          ],
          [
           "gangster rap"
          ],
          [
           "garage house"
          ],
          [
           "garage pop"
          ],
          [
           "garage psych"
          ],
          [
           "garage punk"
          ],
          [
           "garage punk blues"
          ],
          [
           "garage rock"
          ],
          [
           "garage rock revival"
          ],
          [
           "gauze pop"
          ],
          [
           "gbvfi"
          ],
          [
           "geek folk"
          ],
          [
           "geek rock"
          ],
          [
           "georgian folk"
          ],
          [
           "german alternative rock"
          ],
          [
           "german baroque"
          ],
          [
           "german choir"
          ],
          [
           "german classical piano"
          ],
          [
           "german country"
          ],
          [
           "german dance"
          ],
          [
           "german hard rock"
          ],
          [
           "german heavy metal"
          ],
          [
           "german house"
          ],
          [
           "german indie"
          ],
          [
           "german jazz"
          ],
          [
           "german literature"
          ],
          [
           "german metal"
          ],
          [
           "german oi"
          ],
          [
           "german opera"
          ],
          [
           "german orchestra"
          ],
          [
           "german pop"
          ],
          [
           "german pop rock"
          ],
          [
           "german post-hardcore"
          ],
          [
           "german power metal"
          ],
          [
           "german punk"
          ],
          [
           "german renaissance"
          ],
          [
           "german rock"
          ],
          [
           "german romanticism"
          ],
          [
           "german show tunes"
          ],
          [
           "german soundtrack"
          ],
          [
           "german techno"
          ],
          [
           "german thrash metal"
          ],
          [
           "german trance"
          ],
          [
           "german underground rap"
          ],
          [
           "ghanaian hip hop"
          ],
          [
           "ghanaian traditional"
          ],
          [
           "ghazal"
          ],
          [
           "ghent indie"
          ],
          [
           "girl group"
          ],
          [
           "glam metal"
          ],
          [
           "glam punk"
          ],
          [
           "glam rock"
          ],
          [
           "glee club"
          ],
          [
           "glitch"
          ],
          [
           "glitch hop"
          ],
          [
           "glitch pop"
          ],
          [
           "glitchcore"
          ],
          [
           "go-go"
          ],
          [
           "goregrind"
          ],
          [
           "gospel"
          ],
          [
           "gospel antigas"
          ],
          [
           "gospel blues"
          ],
          [
           "gospel italiano"
          ],
          [
           "gospel r&b"
          ],
          [
           "gospel rap"
          ],
          [
           "gospel singers"
          ],
          [
           "gospel soul"
          ],
          [
           "gothabilly"
          ],
          [
           "gothenburg indie"
          ],
          [
           "gothenburg metal"
          ],
          [
           "gothic alternative"
          ],
          [
           "gothic americana"
          ],
          [
           "gothic black metal"
          ],
          [
           "gothic metal"
          ],
          [
           "gothic post-punk"
          ],
          [
           "gothic rock"
          ],
          [
           "gothic symphonic metal"
          ],
          [
           "gqom"
          ],
          [
           "grand rapids indie"
          ],
          [
           "grave wave"
          ],
          [
           "greek clarinet"
          ],
          [
           "greek contemporary classical"
          ],
          [
           "greek folk"
          ],
          [
           "greek guitar"
          ],
          [
           "greek house"
          ],
          [
           "greek jazz"
          ],
          [
           "greek pop"
          ],
          [
           "greek swing"
          ],
          [
           "gregorian chant"
          ],
          [
           "grime"
          ],
          [
           "grindcore"
          ],
          [
           "griot"
          ],
          [
           "groove metal"
          ],
          [
           "groove room"
          ],
          [
           "grunge"
          ],
          [
           "grunge pop"
          ],
          [
           "grupera"
          ],
          [
           "gruperas inmortales"
          ],
          [
           "guadalajara indie"
          ],
          [
           "guam indie"
          ],
          [
           "guaracha"
          ],
          [
           "guatemalan pop"
          ],
          [
           "guidance"
          ],
          [
           "guinean pop"
          ],
          [
           "guitarra argentina"
          ],
          [
           "guitarra clasica"
          ],
          [
           "guitarra portuguesa"
          ],
          [
           "gujarati garba"
          ],
          [
           "gujarati pop"
          ],
          [
           "guzheng"
          ],
          [
           "gymcore"
          ],
          [
           "gypsy"
          ],
          [
           "gypsy jazz"
          ],
          [
           "gypsy punk"
          ],
          [
           "haitian traditional"
          ],
          [
           "halifax indie"
          ],
          [
           "halloween"
          ],
          [
           "hamburg electronic"
          ],
          [
           "hammered dulcimer"
          ],
          [
           "hammond organ"
          ],
          [
           "hands up"
          ],
          [
           "hangpan"
          ],
          [
           "happy hardcore"
          ],
          [
           "hard alternative"
          ],
          [
           "hard bop"
          ],
          [
           "hard minimal techno"
          ],
          [
           "hard rock"
          ],
          [
           "hard rock brasileiro"
          ],
          [
           "hardcore"
          ],
          [
           "hardcore hip hop"
          ],
          [
           "hardcore punk"
          ],
          [
           "hardcore techno"
          ],
          [
           "hardstyle"
          ],
          [
           "harlem hip hop"
          ],
          [
           "harlem renaissance"
          ],
          [
           "harmonica blues"
          ],
          [
           "harmonica jazz"
          ],
          [
           "harp"
          ],
          [
           "harpsichord"
          ],
          [
           "haryanvi pop"
          ],
          [
           "hauntology"
          ],
          [
           "hawaiian"
          ],
          [
           "hawaiian hip hop"
          ],
          [
           "hawaiian indie"
          ],
          [
           "healing"
          ],
          [
           "heartland rock"
          ],
          [
           "hi-nrg"
          ],
          [
           "highlife"
          ],
          [
           "hindi hip hop"
          ],
          [
           "hindi indie"
          ],
          [
           "hindustani classical"
          ],
          [
           "hindustani instrumental"
          ],
          [
           "hindustani vocal"
          ],
          [
           "hip hop"
          ],
          [
           "hip hop cubano"
          ],
          [
           "hip house"
          ],
          [
           "hip pop"
          ],
          [
           "hiplife"
          ],
          [
           "histoire pour enfants"
          ],
          [
           "historic classical performance"
          ],
          [
           "historic orchestral performance"
          ],
          [
           "historic piano performance"
          ],
          [
           "historic string quartet"
          ],
          [
           "historical keyboard"
          ],
          [
           "historically informed performance"
          ],
          [
           "hoerspiel"
          ],
          [
           "hokkien pop"
          ],
          [
           "hollywood"
          ],
          [
           "hong kong hip hop"
          ],
          [
           "hong kong indie"
          ],
          [
           "hong kong rock"
          ],
          [
           "honky tonk"
          ],
          [
           "honky-tonk piano"
          ],
          [
           "hopebeat"
          ],
          [
           "horror punk"
          ],
          [
           "horror synth"
          ],
          [
           "horrorcore"
          ],
          [
           "house"
          ],
          [
           "houston rap"
          ],
          [
           "huapango"
          ],
          [
           "huayno"
          ],
          [
           "hula"
          ],
          [
           "humppa"
          ],
          [
           "hungarian choir"
          ],
          [
           "hungarian classical performance"
          ],
          [
           "hungarian classical piano"
          ],
          [
           "hungarian contemporary classical"
          ],
          [
           "hungarian edm"
          ],
          [
           "hungarian folk"
          ],
          [
           "hungarian pop"
          ],
          [
           "hungarian rock"
          ],
          [
           "hungarian techno"
          ],
          [
           "hurdy-gurdy"
          ],
          [
           "hyperpop"
          ],
          [
           "hyphy"
          ],
          [
           "icelandic classical"
          ],
          [
           "icelandic electronic"
          ],
          [
           "icelandic experimental"
          ],
          [
           "icelandic folk"
          ],
          [
           "icelandic indie"
          ],
          [
           "icelandic jazz"
          ],
          [
           "icelandic pop"
          ],
          [
           "icelandic rock"
          ],
          [
           "idaho indie"
          ],
          [
           "idol"
          ],
          [
           "idol rock"
          ],
          [
           "ilahiler"
          ],
          [
           "ilocano pop"
          ],
          [
           "impressionism"
          ],
          [
           "indian classical"
          ],
          [
           "indian edm"
          ],
          [
           "indian folk"
          ],
          [
           "indian fusion"
          ],
          [
           "indian indie"
          ],
          [
           "indian instrumental"
          ],
          [
           "indian jazz"
          ],
          [
           "indiana hip hop"
          ],
          [
           "indie anthem-folk"
          ],
          [
           "indie cafe pop"
          ],
          [
           "indie deutschrap"
          ],
          [
           "indie dream pop"
          ],
          [
           "indie electronica"
          ],
          [
           "indie electropop"
          ],
          [
           "indie folk"
          ],
          [
           "indie game soundtrack"
          ],
          [
           "indie garage rock"
          ],
          [
           "indie hip hop"
          ],
          [
           "indie jazz"
          ],
          [
           "indie pop"
          ],
          [
           "indie pop rap"
          ],
          [
           "indie poptimism"
          ],
          [
           "indie psych-pop"
          ],
          [
           "indie punk"
          ],
          [
           "indie quebecois"
          ],
          [
           "indie r&b"
          ],
          [
           "indie rock"
          ],
          [
           "indie rock mexicano"
          ],
          [
           "indie rockism"
          ],
          [
           "indie shoegaze"
          ],
          [
           "indie singer-songwriter"
          ],
          [
           "indie soul"
          ],
          [
           "indie surf"
          ],
          [
           "indie triste"
          ],
          [
           "indiecoustica"
          ],
          [
           "indietronica"
          ],
          [
           "indonesian hip hop"
          ],
          [
           "indonesian indie"
          ],
          [
           "indonesian pop"
          ],
          [
           "indonesian r&b"
          ],
          [
           "indonesian worship"
          ],
          [
           "industrial"
          ],
          [
           "industrial hardcore"
          ],
          [
           "industrial hip hop"
          ],
          [
           "industrial metal"
          ],
          [
           "industrial rock"
          ],
          [
           "indy indie"
          ],
          [
           "instrumental acoustic guitar"
          ],
          [
           "instrumental bluegrass"
          ],
          [
           "instrumental funk"
          ],
          [
           "instrumental grime"
          ],
          [
           "instrumental math rock"
          ],
          [
           "instrumental post-rock"
          ],
          [
           "instrumental progressive metal"
          ],
          [
           "instrumental rock"
          ],
          [
           "instrumental soul"
          ],
          [
           "instrumental stoner rock"
          ],
          [
           "instrumental surf"
          ],
          [
           "intelligent dance music"
          ],
          [
           "iowa hip hop"
          ],
          [
           "irish accordion"
          ],
          [
           "irish ballad"
          ],
          [
           "irish banjo"
          ],
          [
           "irish classical"
          ],
          [
           "irish country"
          ],
          [
           "irish dance"
          ],
          [
           "irish fiddle"
          ],
          [
           "irish folk"
          ],
          [
           "irish hip hop"
          ],
          [
           "irish indie"
          ],
          [
           "irish metal"
          ],
          [
           "irish pop"
          ],
          [
           "irish pub song"
          ],
          [
           "irish rock"
          ],
          [
           "irish singer-songwriter"
          ],
          [
           "iskelma"
          ],
          [
           "islamic recitation"
          ],
          [
           "isle of wight indie"
          ],
          [
           "israeli classical"
          ],
          [
           "israeli classical piano"
          ],
          [
           "israeli folk"
          ],
          [
           "israeli hip hop"
          ],
          [
           "israeli mediterranean"
          ],
          [
           "israeli pop"
          ],
          [
           "israeli rock"
          ],
          [
           "israeli singer-songwriter"
          ],
          [
           "israeli techno"
          ],
          [
           "italian adult pop"
          ],
          [
           "italian baritone"
          ],
          [
           "italian baroque"
          ],
          [
           "italian baroque ensemble"
          ],
          [
           "italian bass"
          ],
          [
           "italian blues"
          ],
          [
           "italian classical guitar"
          ],
          [
           "italian classical piano"
          ],
          [
           "italian contemporary jazz"
          ],
          [
           "italian disco"
          ],
          [
           "italian gothic"
          ],
          [
           "italian gothic metal"
          ],
          [
           "italian indie pop"
          ],
          [
           "italian jazz"
          ],
          [
           "italian library music"
          ],
          [
           "italian mandolin"
          ],
          [
           "italian metal"
          ],
          [
           "italian mezzo-soprano"
          ],
          [
           "italian modern prog"
          ],
          [
           "italian opera"
          ],
          [
           "italian orchestra"
          ],
          [
           "italian pop rock"
          ],
          [
           "italian power metal"
          ],
          [
           "italian progressive metal"
          ],
          [
           "italian progressive rock"
          ],
          [
           "italian renaissance"
          ],
          [
           "italian romanticism"
          ],
          [
           "italian soprano"
          ],
          [
           "italian soundtrack"
          ],
          [
           "italian techno"
          ],
          [
           "italian tenor"
          ],
          [
           "italian violin"
          ],
          [
           "italo dance"
          ],
          [
           "italo house"
          ],
          [
           "j-acoustic"
          ],
          [
           "j-ambient"
          ],
          [
           "j-dance"
          ],
          [
           "j-division"
          ],
          [
           "j-idol"
          ],
          [
           "j-metal"
          ],
          [
           "j-pixie"
          ],
          [
           "j-pop"
          ],
          [
           "j-pop girl group"
          ],
          [
           "j-poprock"
          ],
          [
           "j-punk"
          ],
          [
           "j-reggae"
          ],
          [
           "j-rock"
          ],
          [
           "jacksonville indie"
          ],
          [
           "jam band"
          ],
          [
           "jamgrass"
          ],
          [
           "jamtronica"
          ],
          [
           "jangle pop"
          ],
          [
           "japanese alternative rock"
          ],
          [
           "japanese chillhop"
          ],
          [
           "japanese city pop"
          ],
          [
           "japanese classical"
          ],
          [
           "japanese classical performance"
          ],
          [
           "japanese classical piano"
          ],
          [
           "japanese concert band"
          ],
          [
           "japanese dream pop"
          ],
          [
           "japanese electronic"
          ],
          [
           "japanese electropop"
          ],
          [
           "japanese emo"
          ],
          [
           "japanese experimental"
          ],
          [
           "japanese folk"
          ],
          [
           "japanese garage rock"
          ],
          [
           "japanese girl punk"
          ],
          [
           "japanese heavy metal"
          ],
          [
           "japanese idm"
          ],
          [
           "japanese indie folk"
          ],
          [
           "japanese indie rock"
          ],
          [
           "japanese instrumental"
          ],
          [
           "japanese jazz"
          ],
          [
           "japanese jazz fusion"
          ],
          [
           "japanese jazztronica"
          ],
          [
           "japanese metalcore"
          ],
          [
           "japanese new wave"
          ],
          [
           "japanese piano"
          ],
          [
           "japanese pop punk"
          ],
          [
           "japanese post-hardcore"
          ],
          [
           "japanese power metal"
          ],
          [
           "japanese prog"
          ],
          [
           "japanese psychedelic"
          ],
          [
           "japanese punk rock"
          ],
          [
           "japanese r&b"
          ],
          [
           "japanese rockabilly"
          ],
          [
           "japanese singer-songwriter"
          ],
          [
           "japanese soundtrack"
          ],
          [
           "japanese traditional"
          ],
          [
           "japanese vgm"
          ],
          [
           "japanese vocal jazz"
          ],
          [
           "jawaiian"
          ],
          [
           "jazz"
          ],
          [
           "jazz accordion"
          ],
          [
           "jazz blues"
          ],
          [
           "jazz boom bap"
          ],
          [
           "jazz brass"
          ],
          [
           "jazz chileno"
          ],
          [
           "jazz clarinet"
          ],
          [
           "jazz colombiano"
          ],
          [
           "jazz cubano"
          ],
          [
           "jazz double bass"
          ],
          [
           "jazz drums"
          ],
          [
           "jazz flute"
          ],
          [
           "jazz funk"
          ],
          [
           "jazz fusion"
          ],
          [
           "jazz guitar"
          ],
          [
           "jazz harp"
          ],
          [
           "jazz metal"
          ],
          [
           "jazz mexicano"
          ],
          [
           "jazz orchestra"
          ],
          [
           "jazz organ"
          ],
          [
           "jazz piano"
          ],
          [
           "jazz pop"
          ],
          [
           "jazz quartet"
          ],
          [
           "jazz rap"
          ],
          [
           "jazz rock"
          ],
          [
           "jazz saxophone"
          ],
          [
           "jazz trio"
          ],
          [
           "jazz trombone"
          ],
          [
           "jazz trumpet"
          ],
          [
           "jazz tuba"
          ],
          [
           "jazz venezolano"
          ],
          [
           "jazz vibraphone"
          ],
          [
           "jazz violin"
          ],
          [
           "jazztronica"
          ],
          [
           "jewish cantorial"
          ],
          [
           "jewish hip hop"
          ],
          [
           "jig and reel"
          ],
          [
           "jordanian pop"
          ],
          [
           "joropo"
          ],
          [
           "jovem guarda"
          ],
          [
           "jug band"
          ],
          [
           "juju"
          ],
          [
           "jump blues"
          ],
          [
           "jump up"
          ],
          [
           "k-indie"
          ],
          [
           "k-pop"
          ],
          [
           "k-pop boy group"
          ],
          [
           "k-pop girl group"
          ],
          [
           "k-rap"
          ],
          [
           "kabarett"
          ],
          [
           "kabyle"
          ],
          [
           "kaneka"
          ],
          [
           "kannada bhava geethe"
          ],
          [
           "kansas city hip hop"
          ],
          [
           "kashmiri pop"
          ],
          [
           "kawaii future bass"
          ],
          [
           "kawaii metal"
          ],
          [
           "kayokyoku"
          ],
          [
           "kc indie"
          ],
          [
           "kent indie"
          ],
          [
           "kentucky hip hop"
          ],
          [
           "kentucky indie"
          ],
          [
           "kentucky metal"
          ],
          [
           "kentucky mountain folk"
          ],
          [
           "kentucky punk"
          ],
          [
           "kentucky roots"
          ],
          [
           "keroncong"
          ],
          [
           "khaleeji iraqi"
          ],
          [
           "khmer"
          ],
          [
           "kids dance party"
          ],
          [
           "kindie rock"
          ],
          [
           "kingston on indie"
          ],
          [
           "kirtan"
          ],
          [
           "kiwi rock"
          ],
          [
           "kizomba antigas"
          ],
          [
           "kleine hoerspiel"
          ],
          [
           "klezmer"
          ],
          [
           "knoxville indie"
          ],
          [
           "kodomo no ongaku"
          ],
          [
           "kolsche karneval"
          ],
          [
           "komedi"
          ],
          [
           "kompa"
          ],
          [
           "kora"
          ],
          [
           "korean classical performance"
          ],
          [
           "korean classical piano"
          ],
          [
           "korean indie rock"
          ],
          [
           "korean mask singer"
          ],
          [
           "korean pop"
          ],
          [
           "korean r&b"
          ],
          [
           "korean trap"
          ],
          [
           "koto"
          ],
          [
           "krautrock"
          ],
          [
           "kundiman"
          ],
          [
           "la indie"
          ],
          [
           "la pop"
          ],
          [
           "laboratorio"
          ],
          [
           "lafayette indie"
          ],
          [
           "laiko"
          ],
          [
           "lancashire indie"
          ],
          [
           "lancaster pa indie"
          ],
          [
           "late romantic era"
          ],
          [
           "latin"
          ],
          [
           "latin afrobeat"
          ],
          [
           "latin alternative"
          ],
          [
           "latin american classical piano"
          ],
          [
           "latin arena pop"
          ],
          [
           "latin christian"
          ],
          [
           "latin classical"
          ],
          [
           "latin funk"
          ],
          [
           "latin hip hop"
          ],
          [
           "latin house"
          ],
          [
           "latin jazz"
          ],
          [
           "latin metal"
          ],
          [
           "latin pop"
          ],
          [
           "latin rock"
          ],
          [
           "latin ska"
          ],
          [
           "latin soundtrack"
          ],
          [
           "latin talent show"
          ],
          [
           "latin tech house"
          ],
          [
           "latin viral pop"
          ],
          [
           "latin worship"
          ],
          [
           "latincore"
          ],
          [
           "latino comedy"
          ],
          [
           "latintronica"
          ],
          [
           "latinx alternative"
          ],
          [
           "latvian pop"
          ],
          [
           "lds"
          ],
          [
           "lds youth"
          ],
          [
           "lebanese pop"
          ],
          [
           "leicester indie"
          ],
          [
           "lexington ky indie"
          ],
          [
           "lgbtq+ hip hop"
          ],
          [
           "library music"
          ],
          [
           "liedermacher"
          ],
          [
           "light music"
          ],
          [
           "lilith"
          ],
          [
           "liquid funk"
          ],
          [
           "lithuanian electronic"
          ],
          [
           "liverpool indie"
          ],
          [
           "livetronica"
          ],
          [
           "lldm"
          ],
          [
           "lo star"
          ],
          [
           "lo-fi"
          ],
          [
           "lo-fi beats"
          ],
          [
           "lo-fi brasileiro"
          ],
          [
           "lo-fi chill"
          ],
          [
           "lo-fi cover"
          ],
          [
           "lo-fi emo"
          ],
          [
           "lo-fi house"
          ],
          [
           "lo-fi indie"
          ],
          [
           "lo-fi vgm"
          ],
          [
           "london rap"
          ],
          [
           "louisiana blues"
          ],
          [
           "louisiana metal"
          ],
          [
           "louisville indie"
          ],
          [
           "louisville underground"
          ],
          [
           "lounge"
          ],
          [
           "louvor"
          ],
          [
           "lovers rock"
          ],
          [
           "lullaby"
          ],
          [
           "lund indie"
          ],
          [
           "lute"
          ],
          [
           "macedonian folk"
          ],
          [
           "madchester"
          ],
          [
           "madrigal"
          ],
          [
           "magyar alternative"
          ],
          [
           "maine hip hop"
          ],
          [
           "maine indie"
          ],
          [
           "mainland chinese pop"
          ],
          [
           "makossa"
          ],
          [
           "malaysian mandopop"
          ],
          [
           "malaysian pop"
          ],
          [
           "malian blues"
          ],
          [
           "mallet"
          ],
          [
           "malmo indie"
          ],
          [
           "mambo"
          ],
          [
           "manchester hip hop"
          ],
          [
           "manchester indie"
          ],
          [
           "mande pop"
          ],
          [
           "mandolin"
          ],
          [
           "mandopop"
          ],
          [
           "manguebeat"
          ],
          [
           "manila sound"
          ],
          [
           "manitoba indie"
          ],
          [
           "mantra"
          ],
          [
           "marathi pop"
          ],
          [
           "marathi traditional"
          ],
          [
           "marching band"
          ],
          [
           "mariachi"
          ],
          [
           "mariachi cristiano"
          ],
          [
           "marimba orquesta"
          ],
          [
           "martial industrial"
          ],
          [
           "mashup"
          ],
          [
           "math rock"
          ],
          [
           "mathcore"
          ],
          [
           "mbalax"
          ],
          [
           "medieval"
          ],
          [
           "medieval folk"
          ],
          [
           "medieval rock"
          ],
          [
           "meditation"
          ],
          [
           "melancholia"
          ],
          [
           "melbourne bounce"
          ],
          [
           "melbourne bounce international"
          ],
          [
           "melbourne indie"
          ],
          [
           "mellow gold"
          ],
          [
           "melodic death metal"
          ],
          [
           "melodic deathcore"
          ],
          [
           "melodic dubstep"
          ],
          [
           "melodic groove metal"
          ],
          [
           "melodic hard rock"
          ],
          [
           "melodic hardcore"
          ],
          [
           "melodic metal"
          ],
          [
           "melodic metalcore"
          ],
          [
           "melodic power metal"
          ],
          [
           "melodic rap"
          ],
          [
           "melodic thrash"
          ],
          [
           "meme rap"
          ],
          [
           "memphis americana"
          ],
          [
           "memphis blues"
          ],
          [
           "memphis hip hop"
          ],
          [
           "memphis indie"
          ],
          [
           "memphis soul"
          ],
          [
           "mento"
          ],
          [
           "merengue"
          ],
          [
           "merengue tipico"
          ],
          [
           "merseybeat"
          ],
          [
           "messianic praise"
          ],
          [
           "metal"
          ],
          [
           "metal guitar"
          ],
          [
           "metal mineiro"
          ],
          [
           "metalcore"
          ],
          [
           "metropopolis"
          ],
          [
           "mexican classic rock"
          ],
          [
           "mexican classical"
          ],
          [
           "mexican hip hop"
          ],
          [
           "mexican indie"
          ],
          [
           "mexican pop"
          ],
          [
           "mexican pop punk"
          ],
          [
           "mexican rock"
          ],
          [
           "mexican rock-and-roll"
          ],
          [
           "mexican son"
          ],
          [
           "mexican traditional"
          ],
          [
           "miami bass"
          ],
          [
           "miami hip hop"
          ],
          [
           "miami indie"
          ],
          [
           "miami metal"
          ],
          [
           "michigan indie"
          ],
          [
           "microhouse"
          ],
          [
           "microtonal"
          ],
          [
           "middle earth"
          ],
          [
           "middle east hip hop"
          ],
          [
           "middle eastern traditional"
          ],
          [
           "midwest americana"
          ],
          [
           "midwest emo"
          ],
          [
           "military cadence"
          ],
          [
           "military rap"
          ],
          [
           "milwaukee indie"
          ],
          [
           "mindfulness"
          ],
          [
           "minecraft"
          ],
          [
           "minimal melodic techno"
          ],
          [
           "minimal tech house"
          ],
          [
           "minimal techno"
          ],
          [
           "minimal wave"
          ],
          [
           "minimalism"
          ],
          [
           "minneapolis indie"
          ],
          [
           "minneapolis metal"
          ],
          [
           "minneapolis punk"
          ],
          [
           "minneapolis sound"
          ],
          [
           "minnesota hip hop"
          ],
          [
           "mississippi hip hop"
          ],
          [
           "mississippi indie"
          ],
          [
           "mizrahi"
          ],
          [
           "mod revival"
          ],
          [
           "modern alternative pop"
          ],
          [
           "modern alternative rock"
          ],
          [
           "modern big band"
          ],
          [
           "modern blues"
          ],
          [
           "modern blues rock"
          ],
          [
           "modern bollywood"
          ],
          [
           "modern country rock"
          ],
          [
           "modern dream pop"
          ],
          [
           "modern folk rock"
          ],
          [
           "modern funk"
          ],
          [
           "modern hard rock"
          ],
          [
           "modern indie pop"
          ],
          [
           "modern jazz piano"
          ],
          [
           "modern jazz trio"
          ],
          [
           "modern old-time"
          ],
          [
           "modern performance"
          ],
          [
           "modern power pop"
          ],
          [
           "modern psychedelic folk"
          ],
          [
           "modern reggae"
          ],
          [
           "modern rock"
          ],
          [
           "modern salsa"
          ],
          [
           "modern ska punk"
          ],
          [
           "modern southern rock"
          ],
          [
           "modern string quartet"
          ],
          [
           "modern swing"
          ],
          [
           "modern uplift"
          ],
          [
           "modular synth"
          ],
          [
           "moldovan pop"
          ],
          [
           "mollywood"
          ],
          [
           "mongolian hip hop"
          ],
          [
           "mongolian pop"
          ],
          [
           "monterrey indie"
          ],
          [
           "montreal indie"
          ],
          [
           "moog"
          ],
          [
           "moombahton"
          ],
          [
           "morna"
          ],
          [
           "motivation"
          ],
          [
           "motown"
          ],
          [
           "mountain dulcimer"
          ],
          [
           "movie tunes"
          ],
          [
           "mpb"
          ],
          [
           "music box"
          ],
          [
           "music hall"
          ],
          [
           "musica afroperuana"
          ],
          [
           "musica alagoana"
          ],
          [
           "musica andina"
          ],
          [
           "musica andina colombiana"
          ],
          [
           "musica antigua"
          ],
          [
           "musica aragonesa"
          ],
          [
           "musica ayacuchana"
          ],
          [
           "musica canaria"
          ],
          [
           "musica costarricense"
          ],
          [
           "musica costena"
          ],
          [
           "musica cristiana guatemalteca"
          ],
          [
           "musica de fondo"
          ],
          [
           "musica gaucha tradicionalista"
          ],
          [
           "musica hondurena"
          ],
          [
           "musica infantil"
          ],
          [
           "musica jibara"
          ],
          [
           "musica juiz-forana"
          ],
          [
           "musica llanera"
          ],
          [
           "musica nicaraguense"
          ],
          [
           "musica para criancas"
          ],
          [
           "musica para ninos"
          ],
          [
           "musica paraibana"
          ],
          [
           "musica piemonteisa"
          ],
          [
           "musica popular colombiana"
          ],
          [
           "musica popular mineira"
          ],
          [
           "musica popular paraense"
          ],
          [
           "musica potosina"
          ],
          [
           "musica prehispanica"
          ],
          [
           "musica sarda"
          ],
          [
           "musica tradicional cubana"
          ],
          [
           "musica tropical guatemalteca"
          ],
          [
           "musical advocacy"
          ],
          [
           "musikkorps"
          ],
          [
           "musique concrete"
          ],
          [
           "musique peule"
          ],
          [
           "musique pour enfant quebecois"
          ],
          [
           "musique pour enfants"
          ],
          [
           "musique touareg"
          ],
          [
           "muzica populara"
          ],
          [
           "muzika l'yeladim"
          ],
          [
           "naija worship"
          ],
          [
           "nantes indie"
          ],
          [
           "narodna muzika"
          ],
          [
           "nashville americana"
          ],
          [
           "nashville hip hop"
          ],
          [
           "nashville indie"
          ],
          [
           "nashville singer-songwriter"
          ],
          [
           "nashville sound"
          ],
          [
           "native american"
          ],
          [
           "native american contemporary"
          ],
          [
           "native american flute"
          ],
          [
           "native american hip hop"
          ],
          [
           "native american spiritual"
          ],
          [
           "navajo"
          ],
          [
           "nederlandse hardstyle"
          ],
          [
           "nederpop"
          ],
          [
           "neo classical metal"
          ],
          [
           "neo kyma"
          ],
          [
           "neo mellow"
          ],
          [
           "neo r&b"
          ],
          [
           "neo soul"
          ],
          [
           "neo-classical"
          ],
          [
           "neo-kraut"
          ],
          [
           "neo-pagan"
          ],
          [
           "neo-progressive"
          ],
          [
           "neo-psychedelic"
          ],
          [
           "neo-rockabilly"
          ],
          [
           "neo-singer-songwriter"
          ],
          [
           "neo-synthpop"
          ],
          [
           "neo-trad metal"
          ],
          [
           "neo-traditional bluegrass"
          ],
          [
           "neo-traditional country"
          ],
          [
           "neoclassical darkwave"
          ],
          [
           "neoclassicism"
          ],
          [
           "neofolk"
          ],
          [
           "neon pop punk"
          ],
          [
           "neotango"
          ],
          [
           "nepali indie"
          ],
          [
           "nepali pop"
          ],
          [
           "nerdcore"
          ],
          [
           "neue deutsche harte"
          ],
          [
           "neue deutsche todeskunst"
          ],
          [
           "neue deutsche welle"
          ],
          [
           "neurofunk"
          ],
          [
           "new age"
          ],
          [
           "new age piano"
          ],
          [
           "new americana"
          ],
          [
           "new beat"
          ],
          [
           "new comedy"
          ],
          [
           "new england americana"
          ],
          [
           "new england emo"
          ],
          [
           "new french touch"
          ],
          [
           "new isolationism"
          ],
          [
           "new jack swing"
          ],
          [
           "new jersey hardcore"
          ],
          [
           "new jersey indie"
          ],
          [
           "new jersey punk"
          ],
          [
           "new jersey rap"
          ],
          [
           "new mexico music"
          ],
          [
           "new orleans blues"
          ],
          [
           "new orleans funk"
          ],
          [
           "new orleans indie"
          ],
          [
           "new orleans jazz"
          ],
          [
           "new orleans rap"
          ],
          [
           "new rave"
          ],
          [
           "new romantic"
          ],
          [
           "new tribe"
          ],
          [
           "new wave"
          ],
          [
           "new wave of thrash metal"
          ],
          [
           "new wave pop"
          ],
          [
           "new weird america"
          ],
          [
           "new york death metal"
          ],
          [
           "new york drill"
          ],
          [
           "new zealand classical"
          ],
          [
           "newcastle indie"
          ],
          [
           "newcastle nsw indie"
          ],
          [
           "nigerian hip hop"
          ],
          [
           "nigerian pop"
          ],
          [
           "nightcore"
          ],
          [
           "nightrun"
          ],
          [
           "ninja"
          ],
          [
           "nintendocore"
          ],
          [
           "nisiotika"
          ],
          [
           "nl folk"
          ],
          [
           "no wave"
          ],
          [
           "noise pop"
          ],
          [
           "noise punk"
          ],
          [
           "noise rock"
          ],
          [
           "nordic classical piano"
          ],
          [
           "nordic contemporary classical"
          ],
          [
           "nordic folk"
          ],
          [
           "nordic house"
          ],
          [
           "nordic orchestra"
          ],
          [
           "nordic post-rock"
          ],
          [
           "nordic soundtrack"
          ],
          [
           "norman ok indie"
          ],
          [
           "norsk lovsang"
          ],
          [
           "norteno"
          ],
          [
           "norteno-sax"
          ],
          [
           "north carolina emo"
          ],
          [
           "north carolina hip hop"
          ],
          [
           "north carolina indie"
          ],
          [
           "north carolina metal"
          ],
          [
           "north carolina roots"
          ],
          [
           "north east england indie"
          ],
          [
           "northern irish indie"
          ],
          [
           "northern irish punk"
          ],
          [
           "northern soul"
          ],
          [
           "norwegian black metal"
          ],
          [
           "norwegian choir"
          ],
          [
           "norwegian classical"
          ],
          [
           "norwegian contemporary jazz"
          ],
          [
           "norwegian death metal"
          ],
          [
           "norwegian experimental"
          ],
          [
           "norwegian hip hop"
          ],
          [
           "norwegian indie"
          ],
          [
           "norwegian jazz"
          ],
          [
           "norwegian metal"
          ],
          [
           "norwegian pop"
          ],
          [
           "norwegian pop rap"
          ],
          [
           "norwegian punk rock"
          ],
          [
           "norwegian rock"
          ],
          [
           "norwegian singer-songwriter"
          ],
          [
           "norwegian space disco"
          ],
          [
           "nottingham indie"
          ],
          [
           "nouvelle chanson francaise"
          ],
          [
           "nova canco"
          ],
          [
           "nova mpb"
          ],
          [
           "nova musica pernambucana"
          ],
          [
           "novelty"
          ],
          [
           "nu age"
          ],
          [
           "nu disco"
          ],
          [
           "nu gaze"
          ],
          [
           "nu jazz"
          ],
          [
           "nu metal"
          ],
          [
           "nu skool breaks"
          ],
          [
           "nu-cumbia"
          ],
          [
           "nu-metalcore"
          ],
          [
           "nubian traditional"
          ],
          [
           "nueva cancion"
          ],
          [
           "nueva ola chilena"
          ],
          [
           "nueva ola peruana"
          ],
          [
           "nuevo flamenco"
          ],
          [
           "nuevo folklore mexicano"
          ],
          [
           "nuevo regional mexicano"
          ],
          [
           "nuevo tango"
          ],
          [
           "nursery"
          ],
          [
           "nwobhm"
          ],
          [
           "nwothm"
          ],
          [
           "ny roots"
          ],
          [
           "nyc pop"
          ],
          [
           "nyc rap"
          ],
          [
           "nyhc"
          ],
          [
           "nz christian"
          ],
          [
           "nz folk"
          ],
          [
           "nz hardcore"
          ],
          [
           "nz indie"
          ],
          [
           "nz pop"
          ],
          [
           "nz punk"
          ],
          [
           "nz reggae"
          ],
          [
           "nz singer-songwriter"
          ],
          [
           "oakland hip hop"
          ],
          [
           "oakland indie"
          ],
          [
           "oc indie"
          ],
          [
           "oc rap"
          ],
          [
           "oceania soundtrack"
          ],
          [
           "ohio hip hop"
          ],
          [
           "ohio indie"
          ],
          [
           "oi"
          ],
          [
           "ok indie"
          ],
          [
           "okc indie"
          ],
          [
           "okinawan pop"
          ],
          [
           "oklahoma country"
          ],
          [
           "old school dancehall"
          ],
          [
           "old school hip hop"
          ],
          [
           "old school rap francais"
          ],
          [
           "old school thrash"
          ],
          [
           "old school uk hip hop"
          ],
          [
           "old west"
          ],
          [
           "old-time"
          ],
          [
           "old-time fiddle"
          ],
          [
           "olympia wa indie"
          ],
          [
           "omaha indie"
          ],
          [
           "one-person band"
          ],
          [
           "ontario indie"
          ],
          [
           "opera"
          ],
          [
           "opera chorus"
          ],
          [
           "opera metal"
          ],
          [
           "operatic pop"
          ],
          [
           "operetta"
          ],
          [
           "opm"
          ],
          [
           "oratory"
          ],
          [
           "orchestra"
          ],
          [
           "orchestral performance"
          ],
          [
           "orebro indie"
          ],
          [
           "organic ambient"
          ],
          [
           "organic electronic"
          ],
          [
           "organic house"
          ],
          [
           "orgcore"
          ],
          [
           "oriental classical"
          ],
          [
           "orkney and shetland folk"
          ],
          [
           "orlando indie"
          ],
          [
           "orquesta tipica"
          ],
          [
           "orthodox chant"
          ],
          [
           "oshare kei"
          ],
          [
           "otacore"
          ],
          [
           "oth indie"
          ],
          [
           "ottawa indie"
          ],
          [
           "ottawa rap"
          ],
          [
           "oud"
          ],
          [
           "outer hip hop"
          ],
          [
           "outlaw country"
          ],
          [
           "outsider"
          ],
          [
           "outsider house"
          ],
          [
           "oxford choir"
          ],
          [
           "oxford indie"
          ],
          [
           "p funk"
          ],
          [
           "pagan black metal"
          ],
          [
           "pagode"
          ],
          [
           "pagode baiano"
          ],
          [
           "paisley underground"
          ],
          [
           "pakistani folk"
          ],
          [
           "pakistani hip hop"
          ],
          [
           "pakistani pop"
          ],
          [
           "palestinian pop"
          ],
          [
           "palm desert scene"
          ],
          [
           "panamanian pop"
          ],
          [
           "panamanian rock"
          ],
          [
           "panpipe"
          ],
          [
           "papuri"
          ],
          [
           "parody"
          ],
          [
           "partido alto"
          ],
          [
           "partyschlager"
          ],
          [
           "pei indie"
          ],
          [
           "permanent wave"
          ],
          [
           "perreo"
          ],
          [
           "persian pop"
          ],
          [
           "persian traditional"
          ],
          [
           "perth indie"
          ],
          [
           "peruvian hip hop"
          ],
          [
           "peruvian rock"
          ],
          [
           "pet calming"
          ],
          [
           "philly indie"
          ],
          [
           "philly rap"
          ],
          [
           "philly soul"
          ],
          [
           "phoenix indie"
          ],
          [
           "phonk"
          ],
          [
           "pianissimo"
          ],
          [
           "piano blues"
          ],
          [
           "piano cover"
          ],
          [
           "piano mpb"
          ],
          [
           "piano rock"
          ],
          [
           "pibroch"
          ],
          [
           "piedmont blues"
          ],
          [
           "pinoy hip hop"
          ],
          [
           "pinoy indie"
          ],
          [
           "pinoy pop punk"
          ],
          [
           "pinoy praise"
          ],
          [
           "pinoy r&b"
          ],
          [
           "pinoy reggae"
          ],
          [
           "pinoy rock"
          ],
          [
           "pinoy traditional"
          ],
          [
           "pinoy trap"
          ],
          [
           "pirate"
          ],
          [
           "pittsburgh indie"
          ],
          [
           "pittsburgh rap"
          ],
          [
           "pittsburgh rock"
          ],
          [
           "pixie"
          ],
          [
           "plunderphonics"
          ],
          [
           "poetry"
          ],
          [
           "polca paraguaya"
          ],
          [
           "polish blues"
          ],
          [
           "polish classical"
          ],
          [
           "polish classical piano"
          ],
          [
           "polish contemporary classical"
          ],
          [
           "polish jazz"
          ],
          [
           "polish modern jazz"
          ],
          [
           "polish pop"
          ],
          [
           "polish post-rock"
          ],
          [
           "polish reggae"
          ],
          [
           "polish rock"
          ],
          [
           "political hip hop"
          ],
          [
           "polka"
          ],
          [
           "polynesian hip hop"
          ],
          [
           "polynesian pop"
          ],
          [
           "polyphony"
          ],
          [
           "pony"
          ],
          [
           "pop"
          ],
          [
           "pop argentino"
          ],
          [
           "pop chileno"
          ],
          [
           "pop dance"
          ],
          [
           "pop edm"
          ],
          [
           "pop electronico"
          ],
          [
           "pop emo"
          ],
          [
           "pop flamenco"
          ],
          [
           "pop folk"
          ],
          [
           "pop house"
          ],
          [
           "pop nacional"
          ],
          [
           "pop nacional antigas"
          ],
          [
           "pop peruano"
          ],
          [
           "pop punk"
          ],
          [
           "pop quebecois"
          ],
          [
           "pop r&b"
          ],
          [
           "pop rap"
          ],
          [
           "pop reggaeton"
          ],
          [
           "pop rock"
          ],
          [
           "pop rock brasileiro"
          ],
          [
           "pop romantico"
          ],
          [
           "pop soul"
          ],
          [
           "pop venezolano"
          ],
          [
           "pop violin"
          ],
          [
           "popgaze"
          ],
          [
           "popping"
          ],
          [
           "pops orchestra"
          ],
          [
           "popwave"
          ],
          [
           "pornogrind"
          ],
          [
           "porro"
          ],
          [
           "portland hip hop"
          ],
          [
           "portland indie"
          ],
          [
           "portland metal"
          ],
          [
           "portland punk"
          ],
          [
           "portuguese early music"
          ],
          [
           "post-disco"
          ],
          [
           "post-disco soul"
          ],
          [
           "post-doom metal"
          ],
          [
           "post-grunge"
          ],
          [
           "post-hardcore"
          ],
          [
           "post-metal"
          ],
          [
           "post-minimalism"
          ],
          [
           "post-post-hardcore"
          ],
          [
           "post-punk"
          ],
          [
           "post-punk argentina"
          ],
          [
           "post-rock"
          ],
          [
           "post-romantic era"
          ],
          [
           "post-screamo"
          ],
          [
           "post-teen pop"
          ],
          [
           "power metal"
          ],
          [
           "power pop"
          ],
          [
           "power thrash"
          ],
          [
           "power-pop punk"
          ],
          [
           "praise"
          ],
          [
           "prepared piano"
          ],
          [
           "preschool children's music"
          ],
          [
           "prog quebec"
          ],
          [
           "progressive alternative"
          ],
          [
           "progressive bluegrass"
          ],
          [
           "progressive deathcore"
          ],
          [
           "progressive electro house"
          ],
          [
           "progressive groove metal"
          ],
          [
           "progressive house"
          ],
          [
           "progressive jazz fusion"
          ],
          [
           "progressive metal"
          ],
          [
           "progressive metalcore"
          ],
          [
           "progressive post-hardcore"
          ],
          [
           "progressive power metal"
          ],
          [
           "progressive psytrance"
          ],
          [
           "progressive rock"
          ],
          [
           "progressive sludge"
          ],
          [
           "progressive trance"
          ],
          [
           "progressive trance house"
          ],
          [
           "progressive uplifting trance"
          ],
          [
           "proto-rap"
          ],
          [
           "proto-techno"
          ],
          [
           "protopunk"
          ],
          [
           "psalmen"
          ],
          [
           "psicodelia brasileira"
          ],
          [
           "psybass"
          ],
          [
           "psychedelic blues-rock"
          ],
          [
           "psychedelic doom"
          ],
          [
           "psychedelic folk"
          ],
          [
           "psychedelic folk rock"
          ],
          [
           "psychedelic hip hop"
          ],
          [
           "psychedelic pop"
          ],
          [
           "psychedelic punk"
          ],
          [
           "psychedelic rock"
          ],
          [
           "psychedelic soul"
          ],
          [
           "psychedelic trance"
          ],
          [
           "psychill"
          ],
          [
           "psychobilly"
          ],
          [
           "pub rock"
          ],
          [
           "puerto rican folk"
          ],
          [
           "puerto rican pop"
          ],
          [
           "puerto rican rock"
          ],
          [
           "punjabi folk"
          ],
          [
           "punjabi hip hop"
          ],
          [
           "punjabi pop"
          ],
          [
           "punk"
          ],
          [
           "punk 'n' roll"
          ],
          [
           "punk blues"
          ],
          [
           "punk rock italiano"
          ],
          [
           "punk rock mexicano"
          ],
          [
           "punta"
          ],
          [
           "purple sound"
          ],
          [
           "qawwali"
          ],
          [
           "quartetto d'archi"
          ],
          [
           "quatuor a cordes"
          ],
          [
           "quebec death metal"
          ],
          [
           "quebec indie"
          ],
          [
           "queens hip hop"
          ],
          [
           "queer country"
          ],
          [
           "queercore"
          ],
          [
           "quiet storm"
          ],
          [
           "quran"
          ],
          [
           "r&b"
          ],
          [
           "r&b en espanol"
          ],
          [
           "rabindra sangeet"
          ],
          [
           "radio symphony"
          ],
          [
           "ragtime"
          ],
          [
           "rai"
          ],
          [
           "ranchera"
          ],
          [
           "rap"
          ],
          [
           "rap chileno"
          ],
          [
           "rap conciencia"
          ],
          [
           "rap conscient"
          ],
          [
           "rap cristiano"
          ],
          [
           "rap dominicano"
          ],
          [
           "rap kreyol"
          ],
          [
           "rap latina"
          ],
          [
           "rap metal"
          ],
          [
           "rap nacional antigo"
          ],
          [
           "rap napoletano"
          ],
          [
           "rap rock"
          ],
          [
           "rap underground mexicano"
          ],
          [
           "rare groove"
          ],
          [
           "rave"
          ],
          [
           "rawstyle"
          ],
          [
           "reading"
          ],
          [
           "reading indie"
          ],
          [
           "rebel blues"
          ],
          [
           "rebetiko"
          ],
          [
           "recorder"
          ],
          [
           "red dirt"
          ],
          [
           "redneck"
          ],
          [
           "reggae"
          ],
          [
           "reggae en espanol"
          ],
          [
           "reggae fusion"
          ],
          [
           "reggae rock"
          ],
          [
           "reggaeton"
          ],
          [
           "reggaeton colombiano"
          ],
          [
           "reggaeton cristiano"
          ],
          [
           "reggaeton flow"
          ],
          [
           "reggaeton mexicano"
          ],
          [
           "regional mexican"
          ],
          [
           "relaxative"
          ],
          [
           "renaissance"
          ],
          [
           "rennes indie"
          ],
          [
           "retro metal"
          ],
          [
           "retro soul"
          ],
          [
           "rhode island indie"
          ],
          [
           "rhode island rap"
          ],
          [
           "rhythm and blues"
          ],
          [
           "riddim"
          ],
          [
           "rif"
          ],
          [
           "riot grrrl"
          ],
          [
           "ritmo kombina"
          ],
          [
           "rochester mn indie"
          ],
          [
           "rochester ny indie"
          ],
          [
           "rock"
          ],
          [
           "rock alternatif francais"
          ],
          [
           "rock alternativo brasileiro"
          ],
          [
           "rock andaluz"
          ],
          [
           "rock baiano"
          ],
          [
           "rock brasiliense"
          ],
          [
           "rock chapin"
          ],
          [
           "rock cristiano"
          ],
          [
           "rock drums"
          ],
          [
           "rock en espanol"
          ],
          [
           "rock gaucho"
          ],
          [
           "rock independant francais"
          ],
          [
           "rock kapak"
          ],
          [
           "rock keyboard"
          ],
          [
           "rock nacional"
          ],
          [
           "rock nacional brasileiro"
          ],
          [
           "rock pernambucano"
          ],
          [
           "rock progressif francais"
          ],
          [
           "rock steady"
          ],
          [
           "rock urbano mexicano"
          ],
          [
           "rock-and-roll"
          ],
          [
           "rockabilly"
          ],
          [
           "rockabilly en espanol"
          ],
          [
           "roda de samba"
          ],
          [
           "romanian classical piano"
          ],
          [
           "romanian electronic"
          ],
          [
           "romanian folk"
          ],
          [
           "romanian pop"
          ],
          [
           "romanian rock"
          ],
          [
           "romantico"
          ],
          [
           "roots americana"
          ],
          [
           "roots reggae"
          ],
          [
           "roots rock"
          ],
          [
           "roots worship"
          ],
          [
           "rosary"
          ],
          [
           "rumba"
          ],
          [
           "rumba congolaise"
          ],
          [
           "rune folk"
          ],
          [
           "russian alternative rock"
          ],
          [
           "russian ccm"
          ],
          [
           "russian chanson"
          ],
          [
           "russian choir"
          ],
          [
           "russian classical piano"
          ],
          [
           "russian dance"
          ],
          [
           "russian edm"
          ],
          [
           "russian folk"
          ],
          [
           "russian folk rock"
          ],
          [
           "russian jazz"
          ],
          [
           "russian metal"
          ],
          [
           "russian metalcore"
          ],
          [
           "russian modern classical"
          ],
          [
           "russian orchestra"
          ],
          [
           "russian pop"
          ],
          [
           "russian post-punk"
          ],
          [
           "russian punk"
          ],
          [
           "russian rock"
          ],
          [
           "russian romanticism"
          ],
          [
           "russian shoegaze"
          ],
          [
           "russian trance"
          ],
          [
           "rva indie"
          ],
          [
           "rwandan traditional"
          ],
          [
           "ryukyu ongaku"
          ],
          [
           "sacramento hip hop"
          ],
          [
           "sacramento indie"
          ],
          [
           "sacred steel"
          ],
          [
           "sad rap"
          ],
          [
           "salsa"
          ],
          [
           "salsa choke"
          ],
          [
           "salsa colombiana"
          ],
          [
           "salsa cubana"
          ],
          [
           "salsa international"
          ],
          [
           "salsa peruana"
          ],
          [
           "salsa puertorriquena"
          ],
          [
           "salsa venezolana"
          ],
          [
           "samba"
          ],
          [
           "samba de roda"
          ],
          [
           "samba moderno"
          ],
          [
           "samba-enredo"
          ],
          [
           "samba-jazz"
          ],
          [
           "samba-rock"
          ],
          [
           "san antonio rap"
          ],
          [
           "san diego indie"
          ],
          [
           "san diego rap"
          ],
          [
           "san marcos tx indie"
          ],
          [
           "sandalwood"
          ],
          [
           "sarod"
          ],
          [
           "saskatchewan indie"
          ],
          [
           "scam rap"
          ],
          [
           "scandinavian r&b"
          ],
          [
           "scandipop"
          ],
          [
           "schlager"
          ],
          [
           "scorecore"
          ],
          [
           "scottish electronic"
          ],
          [
           "scottish fiddle"
          ],
          [
           "scottish folk"
          ],
          [
           "scottish hip hop"
          ],
          [
           "scottish indie"
          ],
          [
           "scottish jazz"
          ],
          [
           "scottish metal"
          ],
          [
           "scottish new wave"
          ],
          [
           "scottish rock"
          ],
          [
           "scottish singer-songwriter"
          ],
          [
           "scratch"
          ],
          [
           "scream rap"
          ],
          [
           "screamo"
          ],
          [
           "seattle hip hop"
          ],
          [
           "seattle indie"
          ],
          [
           "second line"
          ],
          [
           "sefardi"
          ],
          [
           "serbian electronic"
          ],
          [
           "serialism"
          ],
          [
           "sertanejo"
          ],
          [
           "sertanejo pop"
          ],
          [
           "sertanejo tradicional"
          ],
          [
           "sertanejo universitario"
          ],
          [
           "sevdah"
          ],
          [
           "sevillanas"
          ],
          [
           "shaabi"
          ],
          [
           "shabad"
          ],
          [
           "shakuhachi"
          ],
          [
           "shamanic"
          ],
          [
           "shanty"
          ],
          [
           "sheffield indie"
          ],
          [
           "shibuya-kei"
          ],
          [
           "shimmer pop"
          ],
          [
           "shimmer psych"
          ],
          [
           "shiver pop"
          ],
          [
           "shoegaze"
          ],
          [
           "show tunes"
          ],
          [
           "shred"
          ],
          [
           "shush"
          ],
          [
           "sierreno"
          ],
          [
           "singaporean mandopop"
          ],
          [
           "singaporean pop"
          ],
          [
           "singaporean singer-songwriter"
          ],
          [
           "singer-songwriter"
          ],
          [
           "singing bowl"
          ],
          [
           "sitar"
          ],
          [
           "ska"
          ],
          [
           "ska argentino"
          ],
          [
           "ska chileno"
          ],
          [
           "ska jazz"
          ],
          [
           "ska mexicano"
          ],
          [
           "ska punk"
          ],
          [
           "ska revival"
          ],
          [
           "skate punk"
          ],
          [
           "skiffle"
          ],
          [
           "skramz"
          ],
          [
           "sky room"
          ],
          [
           "slack-key guitar"
          ],
          [
           "slam poetry"
          ],
          [
           "slamming deathcore"
          ],
          [
           "slavic folk metal"
          ],
          [
           "slayer"
          ],
          [
           "slc indie"
          ],
          [
           "sleaze rock"
          ],
          [
           "sleep"
          ],
          [
           "slovak electronic"
          ],
          [
           "slovenian electronic"
          ],
          [
           "slovenian metal"
          ],
          [
           "slow game"
          ],
          [
           "slowcore"
          ],
          [
           "sludge metal"
          ],
          [
           "small room"
          ],
          [
           "smooth jazz"
          ],
          [
           "smooth saxophone"
          ],
          [
           "smooth soul"
          ],
          [
           "soca"
          ],
          [
           "socal pop punk"
          ],
          [
           "social media pop"
          ],
          [
           "soda pop"
          ],
          [
           "soft rock"
          ],
          [
           "solipsynthm"
          ],
          [
           "son cubano"
          ],
          [
           "son cubano clasico"
          ],
          [
           "son jarocho"
          ],
          [
           "sophisti-pop"
          ],
          [
           "sotalaulut"
          ],
          [
           "soukous"
          ],
          [
           "soul"
          ],
          [
           "soul blues"
          ],
          [
           "soul flow"
          ],
          [
           "soul jazz"
          ],
          [
           "souldies"
          ],
          [
           "sound"
          ],
          [
           "sound art"
          ],
          [
           "sound effects"
          ],
          [
           "sound team"
          ],
          [
           "soundtrack"
          ],
          [
           "south african alternative"
          ],
          [
           "south african choral"
          ],
          [
           "south african country"
          ],
          [
           "south african hip hop"
          ],
          [
           "south african house"
          ],
          [
           "south african jazz"
          ],
          [
           "south african pop"
          ],
          [
           "south african pop dance"
          ],
          [
           "south african rock"
          ],
          [
           "south carolina hip hop"
          ],
          [
           "south carolina indie"
          ],
          [
           "south carolina metal"
          ],
          [
           "south dakota indie"
          ],
          [
           "southampton indie"
          ],
          [
           "southern americana"
          ],
          [
           "southern gospel"
          ],
          [
           "southern hip hop"
          ],
          [
           "southern metal"
          ],
          [
           "southern rock"
          ],
          [
           "southern soul"
          ],
          [
           "southern soul blues"
          ],
          [
           "soviet synthpop"
          ],
          [
           "sovietwave"
          ],
          [
           "spa"
          ],
          [
           "space age pop"
          ],
          [
           "space ambient"
          ],
          [
           "space rock"
          ],
          [
           "spanish baroque"
          ],
          [
           "spanish classical"
          ],
          [
           "spanish classical piano"
          ],
          [
           "spanish folk metal"
          ],
          [
           "spanish hip hop"
          ],
          [
           "spanish indie pop"
          ],
          [
           "spanish invasion"
          ],
          [
           "spanish metal"
          ],
          [
           "spanish modern rock"
          ],
          [
           "spanish new wave"
          ],
          [
           "spanish noise pop"
          ],
          [
           "spanish pop"
          ],
          [
           "spanish pop rock"
          ],
          [
           "spanish renaissance"
          ],
          [
           "spanish rock"
          ],
          [
           "spanish synthpop"
          ],
          [
           "spanish techno"
          ],
          [
           "speed garage"
          ],
          [
           "speed metal"
          ],
          [
           "speedcore"
          ],
          [
           "spiritual hip hop"
          ],
          [
           "spiritual jazz"
          ],
          [
           "spirituals"
          ],
          [
           "springfield mo indie"
          ],
          [
           "spytrack"
          ],
          [
           "st louis rap"
          ],
          [
           "steampunk"
          ],
          [
           "steel guitar"
          ],
          [
           "steelpan"
          ],
          [
           "stl indie"
          ],
          [
           "stomp and flutter"
          ],
          [
           "stomp and holler"
          ],
          [
           "stomp and whittle"
          ],
          [
           "stomp pop"
          ],
          [
           "stoner metal"
          ],
          [
           "stoner rock"
          ],
          [
           "straight edge"
          ],
          [
           "straight-ahead jazz"
          ],
          [
           "street band"
          ],
          [
           "street punk"
          ],
          [
           "streichquartett"
          ],
          [
           "stride"
          ],
          [
           "string band"
          ],
          [
           "string folk"
          ],
          [
           "string orchestra"
          ],
          [
           "string quartet"
          ],
          [
           "strut"
          ],
          [
           "substep"
          ],
          [
           "sudanese pop"
          ],
          [
           "sufi"
          ],
          [
           "sufi chant"
          ],
          [
           "sunshine pop"
          ],
          [
           "supergroup"
          ],
          [
           "surf music"
          ],
          [
           "surf punk"
          ],
          [
           "svensk progg"
          ],
          [
           "swamp blues"
          ],
          [
           "swamp pop"
          ],
          [
           "swamp rock"
          ],
          [
           "swancore"
          ],
          [
           "swedish alternative rock"
          ],
          [
           "swedish americana"
          ],
          [
           "swedish black metal"
          ],
          [
           "swedish choir"
          ],
          [
           "swedish country"
          ],
          [
           "swedish dancehall"
          ],
          [
           "swedish death metal"
          ],
          [
           "swedish doom metal"
          ],
          [
           "swedish electronic"
          ],
          [
           "swedish electropop"
          ],
          [
           "swedish eurodance"
          ],
          [
           "swedish garage rock"
          ],
          [
           "swedish hard rock"
          ],
          [
           "swedish hardcore"
          ],
          [
           "swedish heavy metal"
          ],
          [
           "swedish house"
          ],
          [
           "swedish idol pop"
          ],
          [
           "swedish indie folk"
          ],
          [
           "swedish indie pop"
          ],
          [
           "swedish indie rock"
          ],
          [
           "swedish jazz"
          ],
          [
           "swedish jazz orkester"
          ],
          [
           "swedish melodic rock"
          ],
          [
           "swedish metal"
          ],
          [
           "swedish metalcore"
          ],
          [
           "swedish pop"
          ],
          [
           "swedish post-hardcore"
          ],
          [
           "swedish power metal"
          ],
          [
           "swedish prog"
          ],
          [
           "swedish progressive metal"
          ],
          [
           "swedish rock-and-roll"
          ],
          [
           "swedish singer-songwriter"
          ],
          [
           "swedish soul"
          ],
          [
           "swedish stoner rock"
          ],
          [
           "swedish synth"
          ],
          [
           "swedish synthpop"
          ],
          [
           "swedish tropical house"
          ],
          [
           "swedish underground rap"
          ],
          [
           "swing"
          ],
          [
           "swing italiano"
          ],
          [
           "swing revival"
          ],
          [
           "swiss black metal"
          ],
          [
           "swiss classical piano"
          ],
          [
           "swiss country"
          ],
          [
           "swiss metal"
          ],
          [
           "swiss pop"
          ],
          [
           "swiss rock"
          ],
          [
           "swiss worship"
          ],
          [
           "sydney indie"
          ],
          [
           "symphonic black metal"
          ],
          [
           "symphonic metal"
          ],
          [
           "symphonic rock"
          ],
          [
           "synth funk"
          ],
          [
           "synthpop"
          ],
          [
           "synthwave"
          ],
          [
           "syrian pop"
          ],
          [
           "tabla"
          ],
          [
           "tagalog rap"
          ],
          [
           "tagalog worship"
          ],
          [
           "taiwan campus folk"
          ],
          [
           "taiwan classical performance"
          ],
          [
           "taiwan hip hop"
          ],
          [
           "taiwan indie"
          ],
          [
           "taiwan pop"
          ],
          [
           "taiwan singer-songwriter"
          ],
          [
           "tajik pop"
          ],
          [
           "talent show"
          ],
          [
           "tamaulipas indie"
          ],
          [
           "tamaulipas rap"
          ],
          [
           "tamborazo"
          ],
          [
           "tamil hip hop"
          ],
          [
           "tamil pop"
          ],
          [
           "tamil worship"
          ],
          [
           "tampa indie"
          ],
          [
           "tango"
          ],
          [
           "tango cancion"
          ],
          [
           "tape club"
          ],
          [
           "tech house"
          ],
          [
           "technical death metal"
          ],
          [
           "technical deathcore"
          ],
          [
           "technical groove metal"
          ],
          [
           "technical melodic death metal"
          ],
          [
           "technical thrash"
          ],
          [
           "techno"
          ],
          [
           "techno kayo"
          ],
          [
           "tecnobanda"
          ],
          [
           "teen pop"
          ],
          [
           "tejano"
          ],
          [
           "tempe indie"
          ],
          [
           "tennessee hip hop"
          ],
          [
           "tennessee metal"
          ],
          [
           "tex-mex"
          ],
          [
           "texas blues"
          ],
          [
           "texas country"
          ],
          [
           "texas latin rap"
          ],
          [
           "texas pop punk"
          ],
          [
           "texas punk"
          ],
          [
           "thai folk"
          ],
          [
           "thai folk rock"
          ],
          [
           "thai idol"
          ],
          [
           "thai indie rock"
          ],
          [
           "thai pop"
          ],
          [
           "thall"
          ],
          [
           "theme"
          ],
          [
           "theremin"
          ],
          [
           "thrash core"
          ],
          [
           "thrash metal"
          ],
          [
           "timba"
          ],
          [
           "tin pan alley"
          ],
          [
           "tipico"
          ],
          [
           "tolkien metal"
          ],
          [
           "tollywood"
          ],
          [
           "tone"
          ],
          [
           "torch song"
          ],
          [
           "toronto indie"
          ],
          [
           "toronto rap"
          ],
          [
           "trad jazz catala"
          ],
          [
           "traditional bluegrass"
          ],
          [
           "traditional blues"
          ],
          [
           "traditional british folk"
          ],
          [
           "traditional country"
          ],
          [
           "traditional folk"
          ],
          [
           "traditional funk"
          ],
          [
           "traditional rockabilly"
          ],
          [
           "traditional ska"
          ],
          [
           "traditional soul"
          ],
          [
           "trance"
          ],
          [
           "trance mexicano"
          ],
          [
           "trancecore"
          ],
          [
           "transpop"
          ],
          [
           "trap"
          ],
          [
           "trap argentino"
          ],
          [
           "trap chileno"
          ],
          [
           "trap dominicano"
          ],
          [
           "trap latino"
          ],
          [
           "trap mexicano"
          ],
          [
           "trap queen"
          ],
          [
           "trap soul"
          ],
          [
           "trap triste"
          ],
          [
           "trap venezolano"
          ],
          [
           "traprun"
          ],
          [
           "trash rock"
          ],
          [
           "triangle indie"
          ],
          [
           "tribal house"
          ],
          [
           "trinidadian reggae"
          ],
          [
           "trio cubano"
          ],
          [
           "trip hop"
          ],
          [
           "trival"
          ],
          [
           "tropical"
          ],
          [
           "tropical house"
          ],
          [
           "tropicalia"
          ],
          [
           "trova"
          ],
          [
           "trova mexicana"
          ],
          [
           "truck-driving country"
          ],
          [
           "tuareg guitar"
          ],
          [
           "tucson indie"
          ],
          [
           "tulsa indie"
          ],
          [
           "tuna estudiantil"
          ],
          [
           "tunisian pop"
          ],
          [
           "turbo folk"
          ],
          [
           "turkish classical"
          ],
          [
           "turkish classical performance"
          ],
          [
           "turkish edm"
          ],
          [
           "turkish experimental"
          ],
          [
           "turkish folk"
          ],
          [
           "turkish jazz"
          ],
          [
           "turkish modern jazz"
          ],
          [
           "turkish pop"
          ],
          [
           "turkish psych"
          ],
          [
           "turkish trap"
          ],
          [
           "turkish trap pop"
          ],
          [
           "turntablism"
          ],
          [
           "twee pop"
          ],
          [
           "twoubadou"
          ],
          [
           "tzadik"
          ],
          [
           "ugandan pop"
          ],
          [
           "uilleann pipes"
          ],
          [
           "uk alternative hip hop"
          ],
          [
           "uk alternative pop"
          ],
          [
           "uk americana"
          ],
          [
           "uk contemporary jazz"
          ],
          [
           "uk contemporary r&b"
          ],
          [
           "uk dance"
          ],
          [
           "uk dancehall"
          ],
          [
           "uk diy punk"
          ],
          [
           "uk dnb"
          ],
          [
           "uk doom metal"
          ],
          [
           "uk dub"
          ],
          [
           "uk experimental electronic"
          ],
          [
           "uk funky"
          ],
          [
           "uk garage"
          ],
          [
           "uk hip hop"
          ],
          [
           "uk house"
          ],
          [
           "uk metalcore"
          ],
          [
           "uk noise rock"
          ],
          [
           "uk pop"
          ],
          [
           "uk pop punk"
          ],
          [
           "uk post-hardcore"
          ],
          [
           "uk post-punk"
          ],
          [
           "uk reggae"
          ],
          [
           "uk rockabilly"
          ],
          [
           "uk stoner rock"
          ],
          [
           "uk worship"
          ],
          [
           "uk82"
          ],
          [
           "ukrainian choir"
          ],
          [
           "ukrainian classical"
          ],
          [
           "ukrainian classical piano"
          ],
          [
           "ukrainian electronic"
          ],
          [
           "ukrainian pop"
          ],
          [
           "ukulele"
          ],
          [
           "umbanda"
          ],
          [
           "underground hip hop"
          ],
          [
           "underground power pop"
          ],
          [
           "underground rap"
          ],
          [
           "university choir"
          ],
          [
           "uplifting trance"
          ],
          [
           "uptempo hardcore"
          ],
          [
           "urban contemporary"
          ],
          [
           "urbano espanol"
          ],
          [
           "us power metal"
          ],
          [
           "utah indie"
          ],
          [
           "uzbek pop"
          ],
          [
           "uzbek traditional"
          ],
          [
           "v-pop"
          ],
          [
           "vallenato"
          ],
          [
           "vallenato moderno"
          ],
          [
           "vancouver indie"
          ],
          [
           "vancouver metal"
          ],
          [
           "vancouver punk"
          ],
          [
           "vapor pop"
          ],
          [
           "vapor soul"
          ],
          [
           "vapor trap"
          ],
          [
           "vapor twitch"
          ],
          [
           "vaporwave"
          ],
          [
           "variete francaise"
          ],
          [
           "vaudeville"
          ],
          [
           "vbs"
          ],
          [
           "veena"
          ],
          [
           "vegan straight edge"
          ],
          [
           "vegas indie"
          ],
          [
           "velha guarda"
          ],
          [
           "venezuelan hip hop"
          ],
          [
           "venezuelan indie"
          ],
          [
           "venezuelan rock"
          ],
          [
           "veracruz indie"
          ],
          [
           "vermont indie"
          ],
          [
           "vgm instrumental"
          ],
          [
           "vgm remix"
          ],
          [
           "victoria bc indie"
          ],
          [
           "victorian britain"
          ],
          [
           "video game music"
          ],
          [
           "vienna indie"
          ],
          [
           "vietnamese bolero"
          ],
          [
           "vietnamese pop"
          ],
          [
           "viking black metal"
          ],
          [
           "viking folk"
          ],
          [
           "viking metal"
          ],
          [
           "villancicos"
          ],
          [
           "vintage chanson"
          ],
          [
           "vintage chinese pop"
          ],
          [
           "vintage classical singing"
          ],
          [
           "vintage country folk"
          ],
          [
           "vintage dutch pop"
          ],
          [
           "vintage french electronic"
          ],
          [
           "vintage gospel"
          ],
          [
           "vintage hollywood"
          ],
          [
           "vintage italian pop"
          ],
          [
           "vintage italian soundtrack"
          ],
          [
           "vintage jazz"
          ],
          [
           "vintage old-time"
          ],
          [
           "vintage rockabilly"
          ],
          [
           "vintage schlager"
          ],
          [
           "vintage spanish pop"
          ],
          [
           "vintage swedish pop"
          ],
          [
           "vintage swing"
          ],
          [
           "vintage tango"
          ],
          [
           "viola"
          ],
          [
           "violao"
          ],
          [
           "violao classico"
          ],
          [
           "violin"
          ],
          [
           "viral pop"
          ],
          [
           "viral rap"
          ],
          [
           "viral trap"
          ],
          [
           "virgin islands reggae"
          ],
          [
           "virginia hip hop"
          ],
          [
           "virginia metal"
          ],
          [
           "virginia punk"
          ],
          [
           "visor"
          ],
          [
           "visual kei"
          ],
          [
           "vocal ensemble"
          ],
          [
           "vocal harmony group"
          ],
          [
           "vocal house"
          ],
          [
           "vocal jazz"
          ],
          [
           "vocal trance"
          ],
          [
           "vocaloid"
          ],
          [
           "vogue"
          ],
          [
           "volksmusik"
          ],
          [
           "warm drone"
          ],
          [
           "washboard"
          ],
          [
           "washington indie"
          ],
          [
           "wassoulou"
          ],
          [
           "water"
          ],
          [
           "wave"
          ],
          [
           "welsh folk"
          ],
          [
           "welsh indie"
          ],
          [
           "welsh metal"
          ],
          [
           "welsh rock"
          ],
          [
           "west african jazz"
          ],
          [
           "west australian hip hop"
          ],
          [
           "west coast rap"
          ],
          [
           "west coast reggae"
          ],
          [
           "west coast trap"
          ],
          [
           "west end"
          ],
          [
           "west virginia indie"
          ],
          [
           "western americana"
          ],
          [
           "western mass indie"
          ],
          [
           "western saharan folk"
          ],
          [
           "western swing"
          ],
          [
           "white noise"
          ],
          [
           "wind ensemble"
          ],
          [
           "wind quintet"
          ],
          [
           "wisconsin indie"
          ],
          [
           "witch house"
          ],
          [
           "women's choir"
          ],
          [
           "women's music"
          ],
          [
           "wonky"
          ],
          [
           "worcester ma indie"
          ],
          [
           "world"
          ],
          [
           "world fusion"
          ],
          [
           "world meditation"
          ],
          [
           "world worship"
          ],
          [
           "worship"
          ],
          [
           "wrestling"
          ],
          [
           "wu fam"
          ],
          [
           "wyoming indie"
          ],
          [
           "wyoming roots"
          ],
          [
           "xhosa"
          ],
          [
           "xtra raw"
          ],
          [
           "yacht rock"
          ],
          [
           "ye ye"
          ],
          [
           "yiddish folk"
          ],
          [
           "yodeling"
          ],
          [
           "yoga"
          ],
          [
           "yoik"
          ],
          [
           "york indie"
          ],
          [
           "yorkshire folk"
          ],
          [
           "yugoslav new wave"
          ],
          [
           "yugoslav rock"
          ],
          [
           "zambian pop"
          ],
          [
           "zeuhl"
          ],
          [
           "zhongguo feng"
          ],
          [
           "zimdancehall"
          ],
          [
           "zolo"
          ],
          [
           "zouglou"
          ],
          [
           "zouk"
          ],
          [
           "zurich indie"
          ],
          [
           "zydeco"
          ]
         ],
         "hovertemplate": "x=%{x}<br>y=%{y}<br>genres=%{customdata[0]}<br>cluster_pca=%{marker.color}<extra></extra>",
         "legendgroup": "",
         "marker": {
          "color": [
           3,
           3,
           4,
           1,
           1,
           2,
           2,
           4,
           1,
           1,
           0,
           2,
           0,
           3,
           1,
           2,
           4,
           2,
           0,
           2,
           1,
           1,
           4,
           1,
           2,
           4,
           4,
           3,
           4,
           4,
           4,
           4,
           4,
           2,
           2,
           0,
           2,
           4,
           0,
           2,
           0,
           4,
           4,
           4,
           2,
           4,
           4,
           2,
           4,
           0,
           4,
           2,
           2,
           0,
           0,
           4,
           0,
           0,
           4,
           4,
           0,
           2,
           4,
           3,
           0,
           2,
           0,
           0,
           2,
           3,
           2,
           2,
           3,
           3,
           3,
           3,
           3,
           1,
           0,
           3,
           2,
           3,
           2,
           3,
           3,
           0,
           1,
           0,
           3,
           4,
           0,
           0,
           0,
           2,
           2,
           0,
           0,
           2,
           1,
           4,
           1,
           3,
           2,
           2,
           2,
           2,
           3,
           2,
           4,
           0,
           4,
           2,
           4,
           4,
           4,
           4,
           4,
           0,
           2,
           4,
           2,
           3,
           2,
           4,
           2,
           3,
           4,
           2,
           4,
           3,
           2,
           4,
           4,
           4,
           0,
           4,
           3,
           0,
           4,
           0,
           4,
           0,
           0,
           1,
           0,
           2,
           2,
           4,
           2,
           4,
           3,
           4,
           3,
           3,
           3,
           2,
           0,
           0,
           4,
           4,
           0,
           0,
           2,
           0,
           4,
           0,
           0,
           4,
           4,
           2,
           0,
           2,
           2,
           4,
           4,
           0,
           2,
           4,
           4,
           3,
           3,
           3,
           2,
           3,
           4,
           1,
           0,
           3,
           3,
           0,
           4,
           1,
           4,
           4,
           4,
           4,
           3,
           3,
           1,
           2,
           1,
           4,
           1,
           1,
           1,
           0,
           2,
           3,
           3,
           1,
           3,
           4,
           0,
           4,
           4,
           4,
           1,
           1,
           1,
           1,
           2,
           3,
           4,
           1,
           1,
           1,
           3,
           3,
           3,
           3,
           2,
           3,
           3,
           1,
           4,
           2,
           0,
           4,
           4,
           0,
           4,
           4,
           4,
           4,
           0,
           4,
           4,
           1,
           2,
           1,
           4,
           2,
           1,
           2,
           4,
           0,
           0,
           0,
           3,
           3,
           0,
           0,
           4,
           2,
           0,
           1,
           0,
           4,
           2,
           2,
           2,
           2,
           1,
           4,
           4,
           2,
           3,
           1,
           4,
           3,
           1,
           0,
           0,
           3,
           3,
           4,
           4,
           0,
           0,
           0,
           4,
           0,
           0,
           0,
           0,
           2,
           0,
           2,
           1,
           2,
           1,
           0,
           0,
           2,
           4,
           1,
           1,
           4,
           4,
           1,
           4,
           4,
           1,
           1,
           2,
           4,
           4,
           4,
           0,
           0,
           2,
           4,
           4,
           1,
           2,
           4,
           4,
           3,
           3,
           3,
           2,
           3,
           3,
           4,
           3,
           3,
           3,
           4,
           0,
           4,
           1,
           1,
           0,
           1,
           1,
           4,
           4,
           4,
           0,
           4,
           0,
           0,
           4,
           2,
           3,
           2,
           2,
           0,
           0,
           0,
           4,
           0,
           0,
           2,
           4,
           3,
           3,
           4,
           3,
           1,
           0,
           2,
           1,
           0,
           0,
           2,
           2,
           2,
           3,
           3,
           2,
           0,
           2,
           4,
           3,
           0,
           2,
           2,
           4,
           4,
           4,
           0,
           0,
           4,
           0,
           2,
           4,
           4,
           4,
           2,
           0,
           3,
           1,
           1,
           2,
           2,
           1,
           4,
           0,
           4,
           3,
           1,
           4,
           3,
           2,
           4,
           1,
           4,
           0,
           4,
           1,
           3,
           3,
           3,
           1,
           4,
           2,
           2,
           0,
           4,
           3,
           1,
           0,
           4,
           0,
           2,
           1,
           2,
           4,
           4,
           0,
           0,
           2,
           4,
           0,
           0,
           3,
           2,
           0,
           0,
           4,
           2,
           3,
           2,
           0,
           2,
           2,
           2,
           1,
           2,
           2,
           1,
           1,
           0,
           1,
           1,
           4,
           1,
           1,
           1,
           4,
           3,
           3,
           3,
           0,
           4,
           3,
           1,
           3,
           0,
           4,
           4,
           1,
           3,
           1,
           3,
           3,
           2,
           3,
           2,
           2,
           0,
           4,
           2,
           2,
           4,
           0,
           1,
           4,
           4,
           0,
           1,
           1,
           4,
           0,
           4,
           0,
           0,
           0,
           4,
           2,
           0,
           4,
           4,
           4,
           1,
           1,
           4,
           1,
           4,
           2,
           2,
           4,
           0,
           3,
           1,
           2,
           1,
           4,
           1,
           0,
           2,
           2,
           3,
           3,
           3,
           0,
           0,
           4,
           2,
           0,
           3,
           2,
           2,
           3,
           3,
           3,
           4,
           3,
           1,
           2,
           1,
           2,
           0,
           4,
           0,
           4,
           4,
           2,
           0,
           0,
           2,
           0,
           0,
           4,
           3,
           0,
           4,
           2,
           3,
           2,
           4,
           4,
           4,
           0,
           0,
           2,
           4,
           1,
           1,
           4,
           4,
           1,
           4,
           2,
           1,
           1,
           1,
           1,
           0,
           1,
           4,
           4,
           4,
           2,
           1,
           0,
           0,
           0,
           1,
           2,
           1,
           2,
           0,
           1,
           1,
           1,
           2,
           4,
           2,
           1,
           2,
           4,
           1,
           2,
           2,
           4,
           2,
           1,
           0,
           1,
           2,
           3,
           4,
           4,
           4,
           2,
           2,
           4,
           3,
           2,
           3,
           3,
           3,
           3,
           3,
           3,
           3,
           3,
           3,
           3,
           3,
           1,
           3,
           3,
           3,
           3,
           3,
           3,
           3,
           2,
           3,
           3,
           3,
           1,
           1,
           4,
           0,
           4,
           4,
           4,
           4,
           4,
           4,
           4,
           4,
           4,
           1,
           4,
           0,
           2,
           0,
           3,
           4,
           3,
           0,
           0,
           4,
           3,
           3,
           3,
           4,
           2,
           2,
           3,
           1,
           1,
           3,
           1,
           1,
           1,
           0,
           4,
           4,
           4,
           0,
           2,
           3,
           4,
           1,
           1,
           2,
           1,
           4,
           4,
           4,
           2,
           1,
           1,
           4,
           4,
           2,
           4,
           4,
           0,
           4,
           0,
           4,
           4,
           4,
           1,
           4,
           4,
           4,
           4,
           4,
           4,
           4,
           4,
           4,
           1,
           4,
           1,
           4,
           4,
           4,
           4,
           0,
           0,
           1,
           3,
           3,
           1,
           0,
           1,
           4,
           4,
           4,
           4,
           0,
           4,
           0,
           0,
           3,
           0,
           3,
           4,
           3,
           0,
           4,
           2,
           0,
           4,
           0,
           0,
           1,
           4,
           1,
           4,
           4,
           0,
           4,
           0,
           3,
           2,
           0,
           2,
           4,
           0,
           0,
           0,
           0,
           2,
           0,
           0,
           0,
           4,
           0,
           0,
           0,
           0,
           4,
           1,
           0,
           0,
           2,
           4,
           1,
           2,
           4,
           1,
           4,
           2,
           0,
           4,
           4,
           4,
           1,
           4,
           0,
           4,
           4,
           0,
           4,
           4,
           3,
           1,
           0,
           1,
           2,
           0,
           2,
           1,
           2,
           4,
           4,
           3,
           0,
           0,
           0,
           4,
           0,
           4,
           4,
           2,
           2,
           2,
           3,
           1,
           4,
           2,
           4,
           2,
           2,
           4,
           4,
           0,
           1,
           4,
           4,
           4,
           4,
           2,
           4,
           2,
           4,
           4,
           0,
           4,
           2,
           0,
           4,
           2,
           1,
           2,
           4,
           1,
           0,
           3,
           4,
           4,
           4,
           4,
           1,
           4,
           1,
           0,
           0,
           4,
           4,
           4,
           1,
           0,
           0,
           2,
           1,
           2,
           0,
           0,
           0,
           3,
           4,
           2,
           3,
           3,
           0,
           0,
           4,
           0,
           4,
           3,
           0,
           2,
           3,
           2,
           1,
           1,
           0,
           4,
           2,
           0,
           1,
           3,
           0,
           0,
           4,
           1,
           4,
           0,
           1,
           3,
           0,
           4,
           0,
           4,
           2,
           0,
           2,
           1,
           1,
           3,
           3,
           3,
           3,
           4,
           3,
           2,
           0,
           4,
           4,
           2,
           1,
           4,
           2,
           0,
           3,
           2,
           4,
           0,
           4,
           4,
           1,
           0,
           0,
           1,
           2,
           4,
           0,
           2,
           4,
           4,
           0,
           2,
           0,
           4,
           0,
           0,
           0,
           2,
           4,
           4,
           4,
           0,
           0,
           0,
           4,
           0,
           3,
           0,
           3,
           2,
           1,
           3,
           0,
           2,
           1,
           4,
           3,
           0,
           1,
           4,
           2,
           2,
           2,
           3,
           1,
           2,
           4,
           0,
           0,
           4,
           4,
           4,
           4,
           1,
           2,
           3,
           3,
           4,
           4,
           3,
           2,
           4,
           0,
           3,
           2,
           2,
           1,
           1,
           2,
           1,
           0,
           4,
           1,
           4,
           0,
           2,
           3,
           0,
           3,
           3,
           0,
           0,
           0,
           0,
           0,
           0,
           4,
           2,
           2,
           3,
           4,
           2,
           0,
           4,
           0,
           2,
           3,
           4,
           0,
           4,
           4,
           1,
           1,
           1,
           1,
           2,
           2,
           0,
           4,
           2,
           2,
           2,
           2,
           4,
           1,
           1,
           4,
           4,
           4,
           1,
           2,
           2,
           4,
           4,
           0,
           3,
           4,
           2,
           2,
           2,
           3,
           3,
           4,
           3,
           3,
           1,
           0,
           0,
           4,
           2,
           2,
           0,
           1,
           0,
           1,
           3,
           3,
           2,
           4,
           0,
           4,
           4,
           3,
           0,
           1,
           4,
           0,
           0,
           0,
           4,
           0,
           2,
           1,
           4,
           4,
           0,
           0,
           1,
           4,
           4,
           4,
           4,
           0,
           0,
           4,
           2,
           4,
           0,
           2,
           4,
           0,
           2,
           0,
           0,
           4,
           1,
           3,
           0,
           0,
           4,
           4,
           0,
           2,
           0,
           2,
           0,
           4,
           0,
           2,
           2,
           4,
           2,
           0,
           3,
           3,
           3,
           2,
           4,
           0,
           0,
           4,
           4,
           3,
           1,
           0,
           0,
           3,
           3,
           4,
           4,
           4,
           0,
           4,
           3,
           0,
           3,
           3,
           3,
           0,
           0,
           0,
           4,
           4,
           1,
           1,
           0,
           4,
           0,
           0,
           2,
           4,
           0,
           0,
           0,
           4,
           4,
           0,
           2,
           1,
           1,
           1,
           2,
           4,
           1,
           2,
           0,
           2,
           0,
           4,
           4,
           0,
           0,
           2,
           0,
           0,
           4,
           4,
           0,
           1,
           3,
           1,
           1,
           0,
           3,
           1,
           1,
           3,
           4,
           0,
           2,
           0,
           4,
           0,
           0,
           4,
           4,
           4,
           4,
           0,
           0,
           1,
           2,
           1,
           3,
           1,
           1,
           1,
           3,
           0,
           1,
           1,
           2,
           1,
           4,
           4,
           4,
           3,
           2,
           4,
           3,
           0,
           0,
           1,
           2,
           0,
           4,
           0,
           4,
           0,
           0,
           0,
           4,
           1,
           1,
           1,
           3,
           3,
           3,
           3,
           1,
           4,
           4,
           3,
           4,
           4,
           4,
           2,
           4,
           3,
           3,
           1,
           4,
           4,
           4,
           4,
           4,
           3,
           3,
           3,
           3,
           3,
           3,
           3,
           1,
           2,
           2,
           4,
           2,
           2,
           1,
           1,
           4,
           0,
           3,
           4,
           4,
           4,
           4,
           4,
           1,
           4,
           3,
           3,
           3,
           3,
           2,
           1,
           1,
           1,
           2,
           2,
           4,
           4,
           3,
           0,
           3,
           2,
           2,
           2,
           2,
           2,
           2,
           2,
           0,
           2,
           1,
           3,
           1,
           4,
           4,
           3,
           4,
           1,
           1,
           4,
           2,
           2,
           1,
           2,
           3,
           4,
           2,
           2,
           2,
           4,
           2,
           2,
           4,
           4,
           2,
           0,
           2,
           4,
           2,
           0,
           4,
           0,
           2,
           2,
           0,
           1,
           2,
           0,
           4,
           0,
           2,
           4,
           3,
           2,
           2,
           4,
           0,
           0,
           2,
           1,
           1,
           2,
           4,
           0,
           0,
           0,
           0,
           2,
           0,
           2,
           2,
           4,
           4,
           1,
           2,
           3,
           2,
           2,
           1,
           1,
           4,
           3,
           0,
           2,
           1,
           0,
           1,
           4,
           1,
           1,
           3,
           3,
           1,
           4,
           0,
           4,
           2,
           2,
           2,
           2,
           3,
           3,
           3,
           3,
           0,
           3,
           3,
           2,
           4,
           0,
           0,
           4,
           3,
           2,
           3,
           0,
           3,
           0,
           3,
           3,
           2,
           0,
           2,
           0,
           3,
           3,
           3,
           3,
           2,
           1,
           1,
           4,
           4,
           0,
           3,
           2,
           0,
           4,
           0,
           0,
           0,
           4,
           0,
           0,
           4,
           0,
           0,
           2,
           2,
           4,
           4,
           0,
           1,
           4,
           3,
           3,
           3,
           3,
           0,
           3,
           4,
           0,
           2,
           2,
           4,
           0,
           0,
           3,
           1,
           4,
           2,
           1,
           2,
           0,
           0,
           2,
           0,
           0,
           0,
           0,
           2,
           0,
           0,
           4,
           4,
           0,
           2,
           3,
           2,
           2,
           4,
           1,
           1,
           1,
           4,
           1,
           1,
           1,
           2,
           1,
           3,
           1,
           1,
           2,
           2,
           1,
           1,
           0,
           3,
           1,
           2,
           1,
           2,
           1,
           4,
           2,
           1,
           3,
           1,
           1,
           1,
           1,
           1,
           1,
           2,
           3,
           4,
           2,
           4,
           4,
           2,
           1,
           4,
           1,
           0,
           4,
           4,
           4,
           4,
           4,
           1,
           1,
           4,
           1,
           4,
           1,
           0,
           0,
           2,
           0,
           2,
           4,
           2,
           4,
           1,
           4,
           4,
           1,
           3,
           4,
           4,
           1,
           4,
           3,
           2,
           2,
           1,
           1,
           4,
           3,
           3,
           3,
           2,
           1,
           3,
           3,
           0,
           4,
           4,
           4,
           4,
           3,
           3,
           1,
           4,
           0,
           3,
           4,
           1,
           2,
           2,
           3,
           4,
           4,
           4,
           3,
           4,
           2,
           1,
           4,
           4,
           4,
           4,
           0,
           4,
           4,
           4,
           1,
           4,
           4,
           4,
           2,
           4,
           4,
           4,
           4,
           1,
           3,
           2,
           2,
           0,
           4,
           4,
           1,
           2,
           3,
           2,
           0,
           2,
           2,
           0,
           1,
           4,
           2,
           1,
           4,
           1,
           2,
           2,
           1,
           2,
           2,
           4,
           1,
           0,
           0,
           0,
           1,
           2,
           4,
           3,
           2,
           1,
           2,
           0,
           3,
           1,
           4,
           2,
           2,
           4,
           2,
           0,
           2,
           3,
           0,
           1,
           4,
           0,
           2,
           2,
           2,
           4,
           1,
           2,
           1,
           4,
           1,
           1,
           2,
           2,
           4,
           2,
           4,
           2,
           0,
           2,
           3,
           2,
           0,
           3,
           2,
           4,
           4,
           0,
           2,
           0,
           0,
           0,
           0,
           0,
           0,
           0,
           0,
           0,
           4,
           0,
           4,
           2,
           1,
           4,
           0,
           2,
           1,
           4,
           4,
           2,
           1,
           0,
           0,
           0,
           0,
           0,
           2,
           3,
           4,
           0,
           4,
           0,
           4,
           1,
           4,
           4,
           4,
           4,
           4,
           0,
           4,
           2,
           3,
           3,
           2,
           3,
           2,
           0,
           1,
           4,
           2,
           3,
           2,
           0,
           4,
           2,
           0,
           3,
           2,
           0,
           0,
           4,
           4,
           4,
           2,
           3,
           0,
           2,
           0,
           2,
           2,
           0,
           4,
           4,
           0,
           2,
           2,
           4,
           2,
           3,
           3,
           4,
           3,
           0,
           4,
           4,
           0,
           4,
           4,
           4,
           3,
           0,
           0,
           3,
           4,
           1,
           1,
           1,
           2,
           4,
           3,
           4,
           1,
           1,
           2,
           1,
           1,
           2,
           1,
           1,
           4,
           2,
           2,
           4,
           3,
           0,
           4,
           4,
           2,
           4,
           2,
           3,
           1,
           4,
           1,
           1,
           4,
           4,
           1,
           4,
           1,
           1,
           1,
           4,
           2,
           4,
           4,
           1,
           1,
           1,
           4,
           2,
           1,
           0,
           0,
           4,
           3,
           2,
           1,
           1,
           0,
           0,
           2,
           2,
           4,
           0,
           2,
           1,
           3,
           4,
           3,
           4,
           3,
           1,
           0,
           2,
           0,
           1,
           2,
           4,
           4,
           3,
           2,
           1,
           2,
           0,
           4,
           2,
           0,
           0,
           2,
           2,
           2,
           3,
           2,
           4,
           2,
           1,
           1,
           2,
           0,
           0,
           4,
           0,
           3,
           3,
           2,
           4,
           4,
           2,
           0,
           2,
           3,
           4,
           0,
           2,
           0,
           4,
           1,
           1,
           4,
           4,
           1,
           4,
           0,
           4,
           2,
           4,
           0,
           4,
           2,
           0,
           4,
           3,
           0,
           0,
           4,
           4,
           0,
           0,
           2,
           0,
           1,
           4,
           2,
           0,
           0,
           0,
           3,
           3,
           2,
           4,
           3,
           2,
           3,
           1,
           0,
           4,
           4,
           0,
           4,
           2,
           0,
           2,
           0,
           4,
           0,
           4,
           0,
           3,
           3,
           3,
           0,
           3,
           4,
           2,
           3,
           0,
           0,
           0,
           0,
           0,
           2,
           0,
           2,
           4,
           2,
           2,
           4,
           4,
           3,
           4,
           0,
           2,
           0,
           0,
           4,
           0,
           1,
           2,
           2,
           2,
           2,
           1,
           4,
           1,
           1,
           0,
           0,
           4,
           4,
           4,
           0,
           3,
           2,
           4,
           2,
           4,
           4,
           0,
           2,
           4,
           4,
           0,
           4,
           3,
           4,
           2,
           0,
           4,
           2,
           4,
           2,
           4,
           4,
           4,
           0,
           4,
           2,
           1,
           1,
           2,
           0,
           4,
           2,
           3,
           3,
           0,
           3,
           3,
           2,
           3,
           3,
           3,
           0,
           3,
           0,
           2,
           0,
           3,
           3,
           1,
           1,
           3,
           4,
           0,
           4,
           4,
           4,
           1,
           4,
           2,
           2,
           3,
           3,
           0,
           4,
           0,
           4,
           4,
           0,
           1,
           4,
           1,
           2,
           2,
           4,
           4,
           3,
           2,
           4,
           4,
           4,
           1,
           2,
           4,
           2,
           1,
           0,
           4,
           4,
           1,
           0,
           4,
           2,
           4,
           4,
           4,
           1,
           3,
           2,
           2,
           3,
           1,
           4,
           0,
           0,
           0,
           1,
           2,
           0,
           2,
           4,
           4,
           4,
           4,
           4,
           0,
           0,
           1,
           3,
           4,
           3,
           3,
           3,
           3,
           3,
           1,
           0,
           1,
           4,
           4,
           1,
           4,
           4,
           3,
           4,
           4,
           4,
           2,
           4,
           0,
           4,
           0,
           4,
           2,
           4,
           4,
           2,
           4,
           0,
           2,
           4,
           4,
           4,
           4,
           0,
           2,
           2,
           4,
           2,
           4,
           4,
           3,
           0,
           1,
           4,
           2,
           2,
           0,
           2,
           3,
           4,
           4,
           0,
           0,
           0,
           0,
           3,
           0,
           2,
           2,
           3,
           3,
           0,
           4,
           0,
           4,
           0,
           0,
           2,
           3,
           4,
           2,
           2,
           2,
           0,
           0,
           0,
           0,
           0,
           0,
           0,
           0,
           0,
           0,
           2,
           0,
           0,
           2,
           0,
           1,
           0,
           2,
           1,
           2,
           0,
           2,
           0,
           1,
           2,
           4,
           2,
           0,
           2,
           2,
           0,
           0,
           0,
           4,
           1,
           2,
           4,
           1,
           4,
           4,
           0,
           0,
           0,
           4,
           0,
           4,
           4,
           1,
           3,
           3,
           0,
           2,
           4,
           4,
           4,
           2,
           1,
           4,
           4,
           1,
           3,
           1,
           2,
           2,
           4,
           4,
           4,
           4,
           2,
           4,
           4,
           4,
           0,
           4,
           3,
           0,
           4,
           2,
           0,
           0,
           1,
           0,
           4,
           1,
           1,
           0,
           4,
           4,
           4,
           4,
           4,
           4,
           4,
           0,
           4,
           4,
           4,
           1,
           3,
           4,
           0,
           4,
           2,
           4,
           1,
           4,
           2,
           0,
           4,
           0,
           4,
           0,
           4,
           4,
           4,
           4,
           2,
           0,
           0,
           2,
           4,
           0,
           0,
           4,
           2,
           2,
           4,
           1,
           2,
           4,
           0,
           2,
           4,
           4,
           1,
           3,
           2,
           3,
           4,
           1,
           2,
           2,
           4,
           2,
           2,
           1,
           2,
           2,
           2,
           0,
           0,
           1,
           3,
           3,
           0,
           0,
           1,
           2,
           1,
           0,
           0,
           3,
           3,
           4,
           0,
           2,
           2,
           3,
           2,
           0,
           4,
           3,
           1,
           4,
           0,
           4,
           4,
           4,
           4,
           4,
           4,
           4,
           4,
           4,
           2,
           1,
           1,
           4,
           4,
           1,
           4,
           4,
           0,
           4,
           2,
           1,
           3,
           1,
           4,
           2,
           4,
           2,
           3,
           4,
           3,
           2,
           4,
           2,
           1,
           4,
           4,
           4,
           4,
           4,
           4,
           0,
           4,
           2,
           4,
           4,
           2,
           3,
           2,
           1,
           1,
           4,
           2,
           2,
           4,
           1,
           3,
           3,
           1,
           0,
           2,
           0,
           2,
           2,
           0,
           2,
           0,
           3,
           4,
           2,
           2,
           0,
           2,
           3,
           3,
           4,
           4,
           4,
           2,
           4,
           4,
           4,
           0,
           1,
           1,
           0,
           1,
           0,
           0,
           0,
           0,
           2,
           0,
           3,
           2,
           4,
           0,
           4,
           2,
           0,
           2,
           2,
           2,
           2,
           4,
           0,
           4,
           1,
           2,
           4,
           2,
           1,
           4,
           4,
           4,
           1,
           2,
           2,
           4,
           1,
           2,
           3,
           3,
           3,
           4,
           3,
           4,
           1,
           4,
           4,
           4,
           1,
           4,
           4,
           0,
           4,
           2,
           0,
           0,
           2,
           4,
           2,
           4,
           0,
           2,
           2,
           4,
           4,
           0,
           3,
           1,
           3,
           2,
           3,
           3,
           3,
           0,
           4,
           2,
           4,
           0,
           2,
           4,
           2,
           4,
           4,
           3,
           4,
           4,
           2,
           4,
           0,
           2,
           4,
           2,
           1,
           2,
           1,
           4,
           4,
           1,
           1,
           4,
           1,
           2,
           1,
           4,
           0,
           0,
           0,
           3,
           4,
           0,
           3,
           1,
           1,
           3,
           3,
           3,
           4,
           0,
           2,
           2,
           2,
           2,
           2,
           2,
           0,
           0,
           4,
           4,
           4,
           0,
           0,
           2,
           0,
           3,
           4,
           4,
           0,
           0,
           2,
           0,
           0,
           4,
           0,
           0,
           2,
           2,
           0,
           2,
           0,
           0,
           3,
           1,
           2,
           0,
           0,
           4,
           0,
           0,
           0,
           0,
           4,
           2,
           2,
           2,
           3,
           2,
           0,
           4,
           1,
           1,
           2,
           0,
           3,
           3,
           0,
           4,
           2,
           3,
           1,
           0,
           0,
           2,
           4,
           4,
           0,
           1,
           1,
           4,
           2,
           2,
           3,
           1,
           2,
           2,
           2,
           1,
           4,
           4,
           4,
           4,
           1,
           1,
           1,
           0,
           1,
           1,
           2,
           2,
           0,
           2,
           0,
           0,
           0,
           2,
           2,
           4,
           4,
           4,
           4,
           4,
           0,
           4,
           2,
           2,
           4,
           4,
           4,
           4,
           4,
           2,
           1,
           4,
           0,
           1,
           3,
           0,
           0,
           4,
           1,
           2,
           2,
           1,
           3,
           1,
           2,
           4,
           1,
           2,
           1,
           2,
           1,
           1,
           2,
           4,
           4,
           4,
           0,
           0,
           0,
           4,
           4,
           4,
           0,
           2,
           4,
           4,
           4,
           4,
           4,
           4,
           0,
           0,
           0,
           4,
           1,
           1,
           2,
           4,
           4,
           4,
           2,
           2,
           1,
           1,
           2,
           4,
           2,
           4,
           4,
           4,
           1,
           3,
           0,
           0,
           1,
           1,
           1,
           2,
           1,
           0,
           2,
           4,
           2,
           1,
           3,
           2,
           1,
           4,
           4,
           2,
           2,
           4,
           4,
           4,
           0,
           0,
           0,
           4,
           2,
           4,
           4,
           4,
           4,
           0,
           4,
           4,
           4,
           0,
           2,
           4,
           4,
           0,
           2,
           0,
           3,
           3,
           3,
           0,
           4,
           1,
           4,
           4,
           4,
           4,
           3,
           0,
           0,
           4,
           4,
           0,
           2,
           1,
           1,
           4,
           4,
           4,
           2,
           0,
           0,
           2,
           2,
           4,
           2,
           0,
           2,
           1,
           4,
           1,
           0,
           0,
           1,
           4,
           4,
           4,
           4,
           2,
           3,
           0,
           4,
           3,
           2,
           2,
           4,
           4,
           0,
           2,
           0,
           1,
           1,
           1,
           3,
           1,
           1,
           2,
           1,
           1,
           1,
           3,
           1,
           1,
           4,
           1,
           1,
           1,
           1,
           1,
           3,
           1,
           1,
           3,
           2,
           4,
           4,
           4,
           4,
           0,
           0,
           1,
           0,
           3,
           1,
           4,
           1,
           0,
           0,
           4,
           1,
           3,
           1,
           4,
           2,
           3,
           4,
           3,
           0,
           0,
           0,
           2,
           4,
           4,
           4,
           4,
           1,
           4,
           2,
           4,
           2,
           1,
           3,
           3,
           3,
           3,
           2,
           0,
           2,
           2,
           4,
           2,
           2,
           3,
           0,
           2,
           0,
           4,
           0,
           2,
           2,
           0,
           2,
           2,
           3,
           1,
           3,
           3,
           1,
           2,
           4,
           4,
           4,
           0,
           4,
           4,
           2,
           4,
           4,
           1,
           4
          ],
          "coloraxis": "coloraxis",
          "symbol": "circle"
         },
         "mode": "markers",
         "name": "",
         "showlegend": false,
         "type": "scattergl",
         "x": [
          5.910268108221796,
          2.787093152808597,
          -0.7575375383744644,
          1.0205214866168164,
          0.7539105142791427,
          1.7971062652419432,
          -0.46204960544893675,
          -1.3116722595637278,
          0.5984179553898566,
          0.5982012013950387,
          -1.1656525385277163,
          -0.07118124655696008,
          -2.1717115858284033,
          3.673296663029773,
          0.8327855889826036,
          0.0014059392111352368,
          -0.9273057420077763,
          0.6796203745139373,
          -1.4878005371777197,
          -0.2501697630725653,
          0.9541894103960772,
          0.8894938464845359,
          -0.9349244756981571,
          2.435242216702913,
          -0.5794096848078708,
          -1.6872704870086705,
          -1.0665290759030304,
          3.7433087585819376,
          -2.154301657445697,
          -1.0808503055522531,
          -0.9549632645218945,
          -3.2358726515928047,
          -1.7119755341735599,
          -0.4336563737020204,
          -0.6062336832001031,
          -0.9441629326199642,
          -0.21897352791237,
          -1.561766720905517,
          -1.3458348880477153,
          -0.6937048482628622,
          -1.6190405446647023,
          -1.5333276858350362,
          -1.6988335792571179,
          -1.809396508350611,
          1.0018621405554724,
          -1.5505557919539072,
          -2.616201799535106,
          -0.7218561265706743,
          -0.9358284356998543,
          -2.321719004377391,
          -2.169859771706422,
          -0.11704076484140126,
          -0.17798254163413843,
          -1.3770978627884987,
          -1.2775706484489133,
          -1.6689082229336616,
          -1.4330066722916905,
          -0.8812940272849354,
          -1.933727851085026,
          -0.991956176952392,
          -0.8554408012501146,
          -0.4500486285925352,
          -1.0642892702634448,
          3.4626062715850803,
          0.6998427652454094,
          1.02469792293124,
          -0.8535513919608642,
          0.6504792609298533,
          -0.47748776932747167,
          3.654736858516909,
          -0.568028449381515,
          1.2275685578826758,
          6.3081845443020494,
          3.3947572178066805,
          4.909954292792237,
          4.521497311111673,
          3.4368402266794464,
          1.7065111212663087,
          -1.9949213104070938,
          2.8835226719022287,
          -0.04924041576369437,
          4.251881907817704,
          1.5205339090003154,
          2.7578274763525545,
          3.818868841818889,
          0.5222233385124366,
          0.6640664570007114,
          -1.8377265384972319,
          4.307369932725619,
          -0.9793272008623104,
          -1.7532546732907166,
          -2.255179190561469,
          -2.290441566421831,
          -0.28007894163165425,
          0.22291185347269302,
          -1.510182195528754,
          -0.6192845089796348,
          -0.07420986987072395,
          1.6728243374303775,
          -1.9433530146570515,
          1.0149766128732867,
          2.7195576686454275,
          0.9057166961074983,
          -0.21837300691801131,
          -0.2625665565621547,
          0.844908045381964,
          2.8327794759317704,
          1.4614957709996301,
          -1.5842602988284031,
          -1.8856176787118513,
          -2.3938664259095868,
          -0.008422928392726467,
          -3.0786420856227763,
          -1.6438199733026315,
          -2.039372984415573,
          -0.9968674357840727,
          -1.9809887425444201,
          -1.9736099706764765,
          -0.21426030082170974,
          -2.3201588880940083,
          0.6288114935083478,
          5.26271854464112,
          -0.12166536408823822,
          -1.012105475461397,
          0.03526096300568458,
          3.492610514342792,
          -1.275371044901419,
          0.3282646881366828,
          -1.6951789119860834,
          3.728617793312959,
          -0.6107015592017132,
          -1.9032893260849424,
          -1.8874273931826764,
          -1.4787588103471294,
          -1.6879273436441142,
          -2.160665941591212,
          4.658088207506922,
          0.6998427652454094,
          -1.809447455313154,
          0.6443884999442757,
          -2.818281416913889,
          0.6443884999442757,
          -1.4716926838801565,
          1.8781753016297529,
          -1.1338434847768157,
          -0.770251667088677,
          -0.5221138504004779,
          -0.9270989547196365,
          0.5931378934821808,
          -1.384325162668836,
          5.271177784407824,
          -0.9642170705834142,
          3.7543195842804704,
          2.992652708073432,
          4.167831601809081,
          -0.38962807933174654,
          -1.6424751435576153,
          -1.1675433931298085,
          -1.7381524969306463,
          -1.9383384408051363,
          -1.675752945490252,
          -1.1873372651487168,
          -0.354192746975477,
          -1.9748930162104523,
          -1.4332166640427941,
          -1.8599621279939214,
          -1.628508125210333,
          -1.2616275422044294,
          -1.2397362810749417,
          0.18868288124372679,
          -1.20180297916883,
          0.07754390698956962,
          -0.4360699705802092,
          -1.2727953385235424,
          -1.0274090397486306,
          -1.8617821657705755,
          -0.8788683358223206,
          -2.6221998744781327,
          -1.6576596345415082,
          4.075563099476098,
          4.894322340584225,
          4.158854712674681,
          0.3441558565252692,
          3.2529655317034636,
          -2.0146663246069774,
          0.19335161691421646,
          0.5398747178532823,
          4.407656001383203,
          2.3595535652176167,
          -1.0134812826832025,
          -1.477559825349807,
          1.7516550987332948,
          -1.9813204401207771,
          -1.592114847773863,
          -1.8603543986322129,
          -1.6438683942628756,
          4.743511527342345,
          2.1646111991229064,
          1.9271058748133276,
          0.24867553257171157,
          0.26404958881534496,
          -3.106214577644641,
          1.0069292318079601,
          0.7363487998666433,
          0.013770393933029085,
          -0.9862592055897749,
          -0.010758925244006156,
          5.381249937095065,
          3.0311340782567413,
          2.1219579799750288,
          5.376825054885021,
          -1.8715344938197191,
          -0.825704450018687,
          -1.8050999520940798,
          -1.5965747063171418,
          -1.390362051849044,
          2.3817849882339295,
          0.3267105421940253,
          1.1855448365432086,
          2.2307952333073517,
          0.18273407852012655,
          4.8198133861135934,
          -1.8931190472758415,
          1.0877277036361295,
          1.2390028548321221,
          2.394036667746408,
          2.5765941967237236,
          3.7581250644676385,
          3.603387921723097,
          3.089296631764704,
          -0.2978414883711012,
          4.1384570456582574,
          2.6839649557379306,
          0.9951124914788209,
          -1.6409269228190309,
          -0.10733653159368241,
          -1.7242942774158063,
          -2.2972037194660837,
          -2.1511737708624032,
          -1.575918141576342,
          -1.3487051914956154,
          -2.026548482080461,
          -2.120690474768991,
          -1.9307654535976828,
          -0.9234066530601985,
          -1.2516471860681762,
          -1.911351662006333,
          0.7812550919890985,
          -0.5237497338668545,
          1.5258122967139605,
          -1.4815229037775175,
          -0.8608015003990196,
          2.066445088869666,
          -0.3918110027355385,
          -0.8627420859305038,
          -1.7244851503949108,
          -2.4519764221514806,
          -2.4519764221514806,
          4.911094086350669,
          2.1284228776298395,
          -2.0262276800530064,
          -1.725968840092767,
          -1.7612462995881795,
          -0.32942484453738186,
          -0.7167812722224344,
          2.359912655797253,
          -0.4109516244751065,
          -2.0724990678317314,
          0.49415125488177775,
          0.39473675784610646,
          0.5011147455994408,
          -0.15019477310741186,
          2.2643665658299263,
          -1.3540154536804478,
          -1.4700532554453178,
          -0.3914865896117505,
          2.928686830844198,
          1.562734494181794,
          -1.8046533953228476,
          4.421919934709002,
          1.6666341252458163,
          -0.8630069468661097,
          -1.8240161816083955,
          6.202329832453555,
          2.7007297571142255,
          -1.9219988731601132,
          -3.8853351569825403,
          -0.3237352337227917,
          -1.4830437992216363,
          -0.6661581305866565,
          -0.8975313027897451,
          -0.27150010958598886,
          -2.0260074964118413,
          0.030668548225326397,
          -0.6661581305866565,
          1.6679376175634029,
          -0.9628431990032479,
          0.05229047058608241,
          1.434242837067082,
          -0.07440927214208816,
          0.31619568972430295,
          -1.6854348307187546,
          -1.3783735498215965,
          -0.5302811239602097,
          -1.9482834157370152,
          0.43768166538024394,
          0.4611651127096495,
          -0.6169217471719339,
          -1.1400256377059395,
          1.253322043592563,
          -1.80650114236213,
          -2.1058975606514707,
          0.5834156893519923,
          0.6150431813346553,
          0.8314068380244779,
          -1.16774983309472,
          -1.8797451580250872,
          -1.57373138286668,
          -1.7148709729100622,
          -1.2187163240425563,
          -0.9081075934919391,
          -2.407638506198658,
          -2.6312477371308924,
          1.5673168136376308,
          1.26067613747644,
          -1.2731362784415345,
          -1.9933897451720641,
          6.07839256833135,
          6.202329832453555,
          1.880647197466101,
          0.4855038489729517,
          3.7247868746474677,
          4.999022851023023,
          -0.6507019188068329,
          2.831754032108113,
          5.157224121091326,
          3.8192902746508133,
          -1.8812815325483487,
          -1.0170415780895805,
          -2.343114277873316,
          -0.06139419459486139,
          1.1244973226335102,
          -1.0170415780895805,
          1.5499874451851456,
          -0.2388043987908902,
          -2.0548948833262504,
          -1.460853691933291,
          -1.2511268482027658,
          -1.432623136909021,
          -0.832205004089302,
          -1.0170415780895805,
          -1.4771002595731544,
          -2.6286065993341627,
          -0.2103525565903904,
          3.7220411064919334,
          -0.660193772766153,
          -0.08898081277070466,
          -1.379642428763031,
          0.8934594009314079,
          -0.6029963198787514,
          -0.7120551860400124,
          -0.776983937946849,
          -0.6805758573158152,
          -0.24279844901403602,
          -1.9562315383510172,
          4.118042026063588,
          5.713741031844162,
          -0.7417411626392657,
          4.4240950991477765,
          2.32731824062954,
          0.01776347120644865,
          0.3014939930849978,
          0.9650215283895124,
          0.022468392622497547,
          -1.2199650459691427,
          0.3417751159053108,
          -0.5378912868672489,
          0.8644678960471956,
          4.004696577326857,
          4.008320181774839,
          1.382966313126258,
          -2.057429789142765,
          1.3094774137593321,
          -1.2244223547667659,
          3.301387747874776,
          -1.1107604184765907,
          0.5360702750732721,
          -0.24744053697254817,
          -1.9441899850782955,
          -2.133057653760355,
          -1.089118791860402,
          -1.8302469752259658,
          -0.15516416449344048,
          -0.9951653539849217,
          -1.359606053701547,
          -0.6110809564064197,
          -2.549815498266095,
          -0.6067753052647109,
          -0.728887274846932,
          -0.642756120234147,
          -0.8384661829154185,
          7.048160534198858,
          3.086299510078866,
          1.6499160539143831,
          0.5039626516959591,
          -0.7628234779254307,
          1.9098861430974072,
          -0.7381554703584149,
          -1.210505037533961,
          -1.6165006411449994,
          2.915285284524167,
          0.7875315395435429,
          -1.471306650865295,
          3.8405366544879813,
          0.818010580992293,
          -1.5363920461225542,
          1.5017010248753808,
          -0.8269573928584245,
          -1.236553798486351,
          -1.1213910396496651,
          0.35325357571309435,
          4.156988672470465,
          4.181143915852832,
          5.874241617946343,
          0.7726737970500196,
          -1.238465158422996,
          0.17391144426442515,
          -0.2910191568213264,
          -1.3643289196729795,
          -1.0013576229512064,
          2.8143610849320857,
          1.0152267748235702,
          -0.8997096472317095,
          -1.8161225830951824,
          -0.40691985636643013,
          -0.6222506022041562,
          0.9298554236724583,
          -0.031158874814143547,
          -1.8953253854100023,
          -2.0864594737726603,
          -1.0330740365002853,
          -1.648478835334429,
          -0.07688967377256148,
          -0.9626729037514551,
          -2.014035053021468,
          -1.3293413005641421,
          2.960200102558327,
          0.3366612973343736,
          -1.7136150221763624,
          -1.4322797629514956,
          -0.992972414669235,
          0.3710468481112417,
          2.6387134059669615,
          -0.02807780164997967,
          -1.6676648655046546,
          -0.6079060289417971,
          0.022377474382159604,
          0.964520377690715,
          1.2387761280336036,
          0.3211546567581574,
          0.39931016340159886,
          1.448049386029835,
          2.279897641894936,
          -0.22663402010361794,
          0.25316511117440293,
          -0.21480126217786208,
          -2.462853233747325,
          1.3697801765358,
          1.7508953452310574,
          1.386329849583343,
          -1.2538737101450241,
          5.133050169971332,
          3.5265151258837033,
          6.346033202222229,
          -0.6161373499207318,
          -2.3748289472525212,
          2.2533078147803636,
          0.8167571253489772,
          3.6537653788133917,
          -1.8047421918261308,
          -1.8627951125034818,
          -0.9242152643491618,
          0.7066524688936524,
          4.94259805397587,
          1.125233612783273,
          4.795289250255232,
          2.4635678490115023,
          -0.09446247231001562,
          4.2473064828726885,
          0.24903576136687045,
          -0.11019294017436526,
          -1.8060319312706914,
          -1.4690797127486268,
          -0.025425946360965904,
          0.33700374221790086,
          -1.027211372597085,
          -1.18066016104435,
          -0.0846238341474118,
          -1.2131974145350373,
          -1.5289774319052674,
          -1.337808685779718,
          0.9015460755941914,
          0.34704130353341267,
          -1.8391030814300071,
          -1.2105926310370028,
          -1.3843046322401937,
          -1.1745523891881098,
          -0.8900534710795275,
          -1.7792525918076767,
          -1.762901531375016,
          -0.22626369877920632,
          -1.359674374010853,
          -1.4373298042223694,
          -1.0505476390009743,
          -1.232690715418207,
          1.3565283499092404,
          -0.3174215584679019,
          -0.8073456954282051,
          0.6294753135461072,
          -2.017437359162995,
          -0.11454795107119022,
          -0.579736723683012,
          -1.818890510165643,
          -0.2170509895157007,
          4.529430260517022,
          0.33318971537504777,
          0.9708797436014698,
          -0.17127054263204278,
          -0.7941852500264397,
          0.15892132499726597,
          -1.1876432241511585,
          -0.6402858806840851,
          0.8750838457096453,
          3.608731581729163,
          5.022988638057474,
          5.805832447701816,
          -2.4845855869545885,
          -0.06723872685756628,
          -1.8199456802868206,
          -0.16463751050254655,
          -0.9373426065815237,
          3.695987464448699,
          -0.11499063549310332,
          -0.31191194974263736,
          3.608731581729163,
          2.9628211173285997,
          1.974525554328065,
          -1.8693347569376917,
          3.926583529422469,
          0.8514655969973881,
          0.2516548733824608,
          1.5069037952476547,
          0.8765073635953349,
          -0.8493286256975383,
          -2.7670422182850585,
          -1.9426782361716541,
          -1.9404583741889683,
          -2.3277141531057537,
          -0.4893008855169202,
          -1.2448085534620572,
          -1.4681887969761533,
          -0.4197705078970213,
          -1.1794041820554682,
          -0.7316519448921269,
          -1.9934477924940717,
          2.6589574687484174,
          -1.8424902425655343,
          -1.975203754135941,
          0.4973821345345376,
          2.803014248045931,
          0.8898853897758207,
          -1.699721623048426,
          -1.118965770026398,
          -2.2297276153308547,
          -0.7369155743144535,
          -2.88605797276724,
          -0.04773120798274681,
          -1.2455077589325854,
          1.5812933821637352,
          0.3862402573486099,
          -1.3826420603119798,
          -2.4775829776870526,
          1.1497627661579257,
          -1.0859697564578694,
          0.620709962094117,
          -0.07313623450419075,
          0.0026958861477237236,
          2.170027229768548,
          0.36718627717097735,
          -0.9314426872002078,
          2.3532485455974843,
          -1.0597890934720624,
          -2.2761098556941275,
          -0.7031780913867135,
          -0.29266338241288775,
          1.0280402330301834,
          -1.1648221376777204,
          0.45116045775254926,
          -0.5491172599185642,
          -0.6751459147216371,
          0.2997968815429107,
          2.6834129126268174,
          0.5984074638508646,
          -0.5498879058004911,
          1.5305789710549693,
          1.6719273733102393,
          2.3650341880945853,
          0.5073760258805263,
          -1.353909825927528,
          0.5151319213344545,
          1.0608289232294803,
          0.5729789672192863,
          -0.7152407495550094,
          -0.043178192952211265,
          1.621725874645387,
          0.3675158568404518,
          -0.7640261804664333,
          -0.5419837729171587,
          1.0156004276682962,
          -1.0104901039718694,
          0.3474543065382506,
          -0.2807461940428696,
          3.1877031348523173,
          -0.5452603790317775,
          -1.6326205624300472,
          -1.1815682360615931,
          0.48316178858881303,
          -0.4662482753257247,
          -0.6461748391001956,
          4.245475571774248,
          -0.17032794041760121,
          3.4798674918083163,
          3.8409758809403733,
          4.9639387819470056,
          4.408080150824805,
          4.139496296933866,
          4.031285308102282,
          3.9363214242194,
          4.187078489713529,
          4.917808163601024,
          4.959531607032037,
          5.491363812178905,
          1.5324624690552513,
          3.7860049701944325,
          4.224405197605617,
          3.8134457247031857,
          4.269047290947434,
          5.355886276386328,
          5.634525317250323,
          5.131366024213478,
          1.5778734844665694,
          3.628399804806302,
          3.374867958400431,
          3.136640936473181,
          1.546461664099165,
          1.7734555001668173,
          -0.5736981384083435,
          -1.3474769379185083,
          -1.4095676969430257,
          -1.7902349574504652,
          -0.9599392716314987,
          -2.337850209070729,
          -1.9219232563386335,
          -1.4554683365959484,
          -1.9072262876723387,
          -0.6716795002770616,
          -2.004656223155102,
          0.32515666255138126,
          -1.1523860720717645,
          -1.4557044571067252,
          0.1805907136268431,
          -1.9079350595148405,
          3.523659061137908,
          -2.0491186934792074,
          3.6180834062291574,
          -1.7374845146577123,
          -1.4392948516572375,
          -1.5714083380161576,
          6.3081845443020494,
          5.008294840003466,
          5.403265664257096,
          -1.485371002996555,
          0.3311437672951784,
          -0.4641995131727802,
          2.7937786280697074,
          2.2293271459533797,
          1.3893334009215694,
          4.2692235101105975,
          2.147444725142786,
          0.7629686163768574,
          0.531388064953961,
          -1.1115207404332903,
          -1.820420933387243,
          -2.19213764556915,
          -1.6730626775637136,
          -0.5625611286937763,
          0.4519180457487405,
          1.9195738575431953,
          -0.870217070825728,
          1.0741748437686005,
          -0.22718136569597833,
          -0.8526204872249917,
          0.4309833958102203,
          -1.5594414900234008,
          -1.788385764949039,
          -1.284369082803471,
          -0.32892936146030227,
          1.0518143755809586,
          0.5340816012176944,
          -1.1097151949345363,
          -1.9685741228713425,
          1.3526971314440277,
          -1.1080951590932855,
          -1.1080951590932855,
          -0.786258132344949,
          -2.1866569882184597,
          -0.7966028054395357,
          -1.8418411545862157,
          -0.7800250543797588,
          -2.4784838201281785,
          0.25976035564036415,
          -1.3550297693817055,
          -1.6177557993272036,
          -1.826077210356714,
          -2.3046905029491978,
          -1.7235553968485782,
          -1.376194964792646,
          -1.0218757432852519,
          -1.7791379054828058,
          -2.6566225729098765,
          1.0291146255100543,
          -3.0946663512600643,
          0.2724699225082943,
          -1.790007185391617,
          -2.4793830877712453,
          -1.8871690235505936,
          -2.6430738121785384,
          -0.3573801366614923,
          -2.5671936495562444,
          1.3794835128663618,
          4.525123553936602,
          4.71688518669975,
          2.595025591971072,
          -1.1366165372990915,
          1.9842254319975163,
          -2.428139142503913,
          -1.3561754011404563,
          -1.6507557002712356,
          -0.9916773688297726,
          -1.4614838432330994,
          -2.1097261247542565,
          -0.5491172599185642,
          -1.985274255033779,
          4.386572613899498,
          -1.1101722919442198,
          3.3776002947938055,
          -2.4344247833985992,
          3.593493867103379,
          -0.4964313208292131,
          -2.4420108168095624,
          1.0393967728352198,
          0.02417263635028242,
          -2.5360436014647685,
          -1.4224961761214614,
          0.02417263635028242,
          -0.2612995615269703,
          -0.9108428135470139,
          2.0940424856091573,
          -2.5645649137076556,
          -1.2386221853149904,
          -0.30842192358759607,
          -1.5155895125722465,
          -2.031298614678039,
          3.863104889734332,
          -0.10838299594407673,
          -0.6022552644160737,
          0.5177509655213368,
          -1.7090697231493617,
          -0.2761452223050105,
          -0.7551372548019913,
          -1.3763064760423576,
          -0.5312260392016581,
          0.23717195172482522,
          -0.30260817294212106,
          -0.5065280021147454,
          -1.2055895512885546,
          -0.8204348260187281,
          0.2660650637100625,
          -0.2988442146153758,
          -0.8728012554034774,
          -1.7175667292646424,
          -1.5155528888804235,
          0.8864093485671766,
          -1.6766468747459689,
          -0.46943459661423353,
          0.8710775895722584,
          -0.8644705676615143,
          -0.7144561741353841,
          -0.44068855694914855,
          -2.790270900922429,
          2.89041461765467,
          -1.1507276718314732,
          -0.8031773216691002,
          -1.9473824019540271,
          -2.1629636170947384,
          -1.4723654985500982,
          -2.68931214028442,
          0.9240011933509127,
          -1.7474528809598442,
          -0.1457665336864971,
          -1.8983586902445297,
          -2.669347847935739,
          -0.522169374449333,
          -1.454843494941697,
          -1.028309638166624,
          2.3622397711804517,
          0.5436395862813672,
          -1.8689304368530792,
          1.171003621255903,
          0.6999040042938866,
          -1.7044471429551558,
          -0.5920546990026885,
          0.4498649728207422,
          -0.329574514808915,
          -1.6376693914418623,
          -1.4572609901665485,
          2.4660708696178233,
          -1.209595367594975,
          0.5254555899481629,
          0.0754714748481075,
          -1.58471343936437,
          -2.908061928223544,
          -1.176508440804873,
          -1.9119343526634294,
          0.9356036829290554,
          -0.36086600256967344,
          0.9679635861196798,
          4.69981667536884,
          -0.47233140556173453,
          -2.0056305322142793,
          1.5727472398500448,
          -0.9464089318334722,
          1.4686267276229223,
          0.5011147455994408,
          -1.3537495043623888,
          -1.843412047612339,
          -0.6537657414667497,
          0.8902655962892361,
          -2.8162591250589326,
          -1.22350958863517,
          -1.5127849605175312,
          -0.9684779368006291,
          1.1487058582651961,
          -1.0984469249325672,
          0.5022377972137848,
          -1.4812543999863002,
          -0.5435665341609954,
          -1.2909649366086222,
          -2.1628333074786084,
          -0.8354743294354073,
          -0.0331485624612465,
          -2.0149265692493215,
          1.796033242084349,
          0.7846163460118235,
          0.3211437615970804,
          -2.1901371392226108,
          2.597137364064701,
          -1.612796711737504,
          3.0260530289477527,
          -2.065705645766964,
          -1.521099337417588,
          -0.9258655178346523,
          -2.0743795323201746,
          0.7511849781136251,
          -1.7164833605229055,
          1.3199455730608438,
          -0.2996749088548954,
          -1.0601592783170943,
          -1.5793861632167507,
          -1.6924656514757936,
          -3.133177732795543,
          -0.03724623286297084,
          -0.08421121464130013,
          -0.7467746719958058,
          -0.16470824566879225,
          1.4022482201741095,
          0.46779897642367363,
          -1.3373216840889648,
          0.08110278845448585,
          -1.3779265458413692,
          5.031107844903644,
          -1.8983922147789358,
          0.5995552083481104,
          3.525204639447457,
          2.2683191496362345,
          0.9096299592015589,
          -1.0264189143478981,
          -1.0690904627080797,
          0.6556631320797388,
          -2.0237690194122613,
          2.1959209999050615,
          -1.9202674340983554,
          0.65212688293358,
          5.26271854464112,
          -0.6974112188432167,
          0.7820338260369201,
          -0.20904323278860876,
          0.6998427652454094,
          -2.022433523975873,
          0.4712071639952831,
          -1.2604802866831233,
          1.827145455088547,
          6.083318328609314,
          -0.8508696332442799,
          -2.082504837264758,
          -2.224336625502375,
          1.4014298850676425,
          -2.7228295299586813,
          -1.6085417664418034,
          1.6013054390496702,
          3.317048515490678,
          -0.8936287712527988,
          -1.0459539727090406,
          -0.7263218841933008,
          -2.9436481698922834,
          0.06221403756445196,
          -1.1663865563967557,
          -0.5132483562854903,
          0.6525178740460731,
          2.2136234284814904,
          4.157689233042859,
          3.9952644486572786,
          3.744144134343592,
          3.3340361292652174,
          -0.6706922862361617,
          3.721083602469273,
          -0.7220199150774425,
          -1.5037488884709553,
          -1.8208063443174334,
          -1.3092499530556874,
          -0.5828274996029225,
          1.876743018100115,
          -2.3135721971896457,
          0.7099128201293115,
          -0.7812682277707916,
          3.3949279818682645,
          0.9032880273730494,
          -1.536580454217273,
          -1.6283452043117548,
          -1.7022684814942106,
          -2.435285435228313,
          2.018654282616748,
          -0.31661555156393456,
          -0.8941954290264572,
          1.1047609784727368,
          -0.19612740703368478,
          -1.3280200419065087,
          -1.8704463127127662,
          -0.7325588346573662,
          -2.43221045563251,
          -1.0631051517428252,
          -0.9018458559798223,
          -0.5690495861384959,
          -1.7303866732825899,
          -2.1007718092553684,
          0.12062405251041679,
          -1.5280973319537656,
          -1.9108022973619925,
          -0.21031089609908846,
          -1.7943548127338866,
          -1.5361213058279384,
          -2.21600013672797,
          -1.4955985695299734,
          -2.5500589751698035,
          -1.098226216720646,
          -1.2393277340386923,
          -0.8577092210584608,
          3.6603956645131968,
          -2.6601514416636056,
          4.225043041397311,
          0.4150807814857096,
          1.188059738799602,
          2.7531891075881956,
          -0.29049845972909016,
          0.5136929486352005,
          1.879218880668548,
          -1.6657745499794459,
          4.166293634806012,
          -0.522169374449333,
          1.0434337104662192,
          -1.8730996534974451,
          0.8500285353730027,
          -0.3318503843828148,
          0.27442997513218703,
          3.481276240454132,
          2.331775500646687,
          -0.07084590733890425,
          -1.2092837434063104,
          -1.3631427295039156,
          -2.4502227813858077,
          -2.08847699347886,
          -1.8057549808143714,
          -3.3995837310824433,
          -1.6998225891375307,
          1.5209018222443886,
          0.7646308800896887,
          4.478609512834527,
          2.466113319803972,
          -2.2354904599284455,
          -0.8246614851720219,
          3.43245064507633,
          -0.48823623226826857,
          -2.081322355130965,
          0.14989400405551778,
          1.8973889528910997,
          -0.13683775308019488,
          0.45025923423541914,
          2.095768666277787,
          0.9153914685653918,
          0.5857264273779652,
          2.233359533306139,
          -3.0450765877715447,
          -2.3291508714311795,
          0.45432202704512537,
          -1.630120735089729,
          -1.4143229884606345,
          0.24435456870028263,
          3.2107996485644135,
          -0.9304532954544286,
          5.150035753984851,
          5.004281707388853,
          -1.3148675759101847,
          -0.7597385878813321,
          -1.662837548741968,
          -1.8902303297831162,
          -1.53284673525227,
          -1.2536233695640093,
          -1.230235225523597,
          0.10461162581345575,
          0.5222047642496486,
          4.431045401922309,
          -1.1896884868417072,
          0.38265151072862436,
          -0.7773625634585382,
          -1.4952959189875181,
          1.6675267223984012,
          1.4852428780681377,
          4.356729544123444,
          -0.9108592533331872,
          0.18164272293418615,
          -1.8732582454237807,
          -1.6946786996734715,
          0.4358314317588755,
          0.48799101985832494,
          2.7658581502204433,
          1.9540876681797315,
          -0.1761359959909162,
          0.42279312293853283,
          -1.6117359369821918,
          -1.0419915528465544,
          -0.12021237473150621,
          -0.11140233801850603,
          -0.3443427862674369,
          0.6672750904822249,
          -1.2131974145350373,
          2.5136903101093666,
          1.1845545043666204,
          -1.7553890311473133,
          -0.6992418306210518,
          -1.0580195579562384,
          2.3119403786115758,
          -0.13688948178293034,
          -0.8741749815567257,
          -0.9304422088236284,
          -0.9840382097343741,
          -1.3564305630785596,
          3.396628728792953,
          -1.7688160662074732,
          0.2532494653975698,
          -0.5625432966733267,
          0.13894980838009274,
          2.9951823246963136,
          2.321929694779632,
          -1.4964895263633495,
          3.274369314931623,
          5.335536638163788,
          1.1970948667173502,
          -0.9325106706495231,
          -1.034809835802781,
          -2.025148199151577,
          1.0657747825801045,
          -0.3857410564931714,
          -0.6253799907794831,
          1.5479900682861587,
          -0.9325106706495231,
          1.1810200528402168,
          3.6809276424008925,
          3.757014733272659,
          0.012415187357943747,
          -3.03056971903183,
          -0.9098410453161855,
          -1.5191912139342907,
          -0.9195814288618515,
          3.8284561838288984,
          -1.1117133103932155,
          2.2673373620579844,
          -1.5150721309734048,
          -1.3925033257613093,
          -1.2995846666732842,
          -0.12266151502753594,
          -1.8668753039071264,
          -1.5018729408205718,
          -0.5700160017381595,
          3.0398822705104624,
          -1.8005405433301183,
          -3.6632315599681724,
          -1.467945509235146,
          -1.0800614696303612,
          0.8055109936842512,
          -2.820267239135906,
          -3.4529710337762136,
          -1.111063517255606,
          -2.791897090464665,
          -0.6542529218710768,
          -1.2316328350265477,
          -1.3092383176769793,
          -0.4469941032014107,
          -2.114793859435533,
          -0.8486770478305623,
          -0.9409778444685297,
          -1.8320832439959573,
          -1.4789288509342498,
          -0.2603117476767209,
          0.7062856706652363,
          -0.9472312383775647,
          -1.8280677033103945,
          2.896886985755477,
          4.209593201660842,
          -2.754870819905934,
          -1.545945924038414,
          -1.8925052109960376,
          -1.706778425524511,
          -1.6774539508660657,
          -0.4563518583717418,
          -1.3346043453735323,
          -0.3216295003543693,
          -1.5006475935961943,
          -1.4595938170239817,
          -0.8243341544860175,
          -0.6580875903276754,
          0.2864270143471929,
          -1.2796134458978519,
          -0.37049705875550176,
          -1.2343513887207478,
          3.996300547145882,
          3.339577915855539,
          5.384016484346956,
          0.21837706806185936,
          -2.3067688482910267,
          -0.5021981388206951,
          -1.0068978534182291,
          -2.147694443940264,
          -2.396863743557697,
          2.709606964693458,
          1.7560435745437564,
          -0.9443973872998482,
          -1.1396430988151276,
          3.5578638142965198,
          3.8535198201214214,
          -0.8855858941782234,
          -0.9829651653205781,
          -2.320125421270593,
          -1.2569492976214984,
          -1.7231498462043995,
          5.961074281238085,
          -0.930430681783759,
          3.7923096640832377,
          2.5338939245783862,
          2.400346932906479,
          -1.7878372257776933,
          -0.2335289532416369,
          -1.8863702813551435,
          -3.000784722314576,
          -2.0888534256576956,
          1.0430639994862425,
          1.4753691607777781,
          -0.7167812722224344,
          -1.8241639760866653,
          -1.0939818264875394,
          -1.4173759806756037,
          -0.9227672156589182,
          -1.1044280464120821,
          0.06735268474735917,
          -0.7895365930463443,
          -0.07072149456798801,
          -1.851763021318621,
          -1.860127146773633,
          -0.08828355973957647,
          -0.25544103116343164,
          1.8793807339843205,
          0.911685387880506,
          0.10012379315177683,
          -0.6039439779725398,
          -2.929817585496706,
          0.19839714092277583,
          -0.4491867303360422,
          -0.7937960986538566,
          -0.6206510300666297,
          -1.4459240490094973,
          -2.336906125358008,
          -1.4633820680402203,
          -1.220884751098553,
          -1.1296546207459426,
          -0.17787330371714719,
          -0.6960752028433908,
          -1.3678339527436498,
          -2.3446882446890323,
          -1.5994355501742894,
          -0.6953135901672178,
          1.6229388520328978,
          2.7823998445336775,
          2.2858744287363884,
          2.1555507987969493,
          -0.2647829444104699,
          2.827606248898017,
          0.610065685045062,
          1.3174805042783135,
          2.746800775169636,
          -2.252375407578724,
          0.7036343124900785,
          -0.0011837602491462109,
          -1.4829619080699736,
          -1.107523205851833,
          -0.6971997960267924,
          -1.956862020873561,
          -1.1054970278095264,
          -1.3264831935701518,
          -1.7849025600389359,
          -1.2811371791205048,
          -2.88605797276724,
          -1.24183485681529,
          -0.15427203546753546,
          0.566830228379573,
          3.1638738295315716,
          5.047031224564763,
          1.248707545291637,
          0.6273736799906449,
          0.07539853780510498,
          4.046423353988651,
          -2.0948414895359466,
          1.7704705061504296,
          1.342805348548645,
          -0.6281159028604073,
          2.700757100788002,
          -2.896459582461676,
          -0.4890714865795579,
          -2.4153603716354737,
          3.3505970687397997,
          0.1178583818857711,
          -2.081831504077909,
          3.383381376861089,
          -2.0288683703444144,
          -1.9296895864420245,
          1.9624352875108149,
          -0.11473781767402409,
          -0.8976185323361078,
          -0.6162589382614431,
          -1.3398506344220291,
          -1.8605094581925605,
          -1.125616515157265,
          -1.347190512721417,
          -1.6634667301389168,
          -1.7937172212243668,
          1.7116070792188425,
          0.6875307868210209,
          2.359912655797253,
          3.407745586371,
          3.4201634173555164,
          3.170408043356186,
          4.189709436743144,
          0.886188302372355,
          -1.2041336806401515,
          -2.4332660384220017,
          4.396257729264012,
          -0.9943458450544893,
          -1.6640786009656197,
          -0.6530120732992521,
          -0.7024160963306586,
          -1.6162721975406005,
          2.7000671233999953,
          3.1332303142138094,
          2.623033645020913,
          -1.7234064226917916,
          -2.880024558039394,
          -1.8011679111545584,
          -1.6369871043498498,
          -1.891480966064499,
          4.618935780161168,
          4.050843042184686,
          4.352663051268992,
          5.122067061563878,
          3.9068164100335854,
          3.9866789809149923,
          2.785223409389511,
          0.9999800069643601,
          0.6799719491218117,
          0.014298306941483823,
          -3.1561527611479923,
          0.022755347441269117,
          0.022755347441269117,
          0.16215521835046529,
          1.8848249364406575,
          -1.6357883699260125,
          -1.4405368092396216,
          1.959586255259377,
          -1.9643963626404664,
          -1.597373864650286,
          -2.089446314970426,
          -1.8026658189060827,
          -1.2917710621025646,
          1.612295797796426,
          -1.0597890934720624,
          4.601631831528849,
          4.450568176559055,
          5.210196579660409,
          5.777399769903295,
          0.20076562572775764,
          2.132612098958046,
          1.7459968094343299,
          1.7459968094343299,
          0.20076562572775764,
          0.3454668439277419,
          -1.5154226810918998,
          -1.6922378597241037,
          4.310681878249163,
          0.4692689472391086,
          2.3242082313809878,
          0.9381121233998037,
          1.1841252442734744,
          -0.3743066976564631,
          1.013309893505801,
          1.0103085340590103,
          0.7875315203113398,
          -0.5858043284252911,
          -2.6432273139517304,
          0.745467864964596,
          1.0437438961384293,
          4.839564142521279,
          2.289658143604801,
          -1.302533341046245,
          -1.3212499387413414,
          4.033258007856052,
          -0.9054653279761951,
          1.4077154542863608,
          1.819776761863795,
          -2.02668014129887,
          0.4069739919366762,
          -0.1789885307304621,
          0.48476181187359557,
          0.2637378078660122,
          1.9490472897705746,
          -1.2617841821502733,
          0.14921514800553606,
          -0.21755040086465138,
          -0.7624724066787736,
          -0.938702995396908,
          0.27949977926882497,
          -0.7588630483770616,
          -2.152795985798637,
          -1.5357814618078713,
          0.8290154285889062,
          -0.9817137056298622,
          0.000732046353818924,
          -1.059070178230984,
          -0.7529011708788537,
          -2.5175145217551655,
          -2.3199405171221934,
          -0.2347149166477521,
          -0.22120729624415505,
          -0.6810305719934212,
          -1.342391133420063,
          0.9329099433229766,
          -0.33138598600913244,
          -1.3663419235685068,
          -1.0192775239661647,
          -0.5491172599185642,
          0.05306629499184367,
          -1.2567107324055806,
          5.259661506974294,
          -0.2965634305110333,
          -0.2019259178707013,
          -2.024602339850488,
          -1.4443686593542018,
          -0.9751839182365101,
          0.05452714640812005,
          1.4523524534217271,
          0.8192739231873558,
          0.0769826168403746,
          -2.4241133476805654,
          -1.049939683603635,
          1.3593481661758244,
          -0.8437018248035704,
          -0.4054386474312047,
          0.6101227140817007,
          0.12017397103911974,
          -1.0084097097668367,
          1.2229974720456431,
          -1.1031682937994691,
          -1.4083418571679778,
          2.5756303060219783,
          -0.158648345454835,
          2.915458923587589,
          0.014968192928109749,
          1.4088806725999041,
          0.8082967149746664,
          0.4464945802762561,
          -1.2795600059785803,
          2.8272600811544897,
          -0.427713363797599,
          -0.8837451046928401,
          -0.23093094143364612,
          -0.5371447045574775,
          1.388078437052671,
          -1.0597890934720624,
          0.8795324448096484,
          1.476414729824297,
          2.7650016272370364,
          5.637075618753224,
          3.5002357640189095,
          -1.5104184002125955,
          -1.2334843591545106,
          -0.7529405029218762,
          0.08511187324309098,
          0.3205109851451511,
          -0.9120762581936739,
          -0.27858070029414145,
          3.088433624767483,
          4.143247777999701,
          2.399716316397863,
          3.176957929846902,
          -0.6044283440694078,
          5.574219688203979,
          5.333727896640732,
          -0.17032794041760121,
          -1.4427210612478694,
          -1.3399879370214887,
          -1.3399879370214887,
          -1.0802458985701944,
          3.9166593931872056,
          1.1333539879918566,
          3.131924063360546,
          -1.3399879370214887,
          3.1351717246654656,
          0.052961063614169246,
          3.824228685300258,
          3.3139603610314228,
          0.6376433975357707,
          -1.3678276494516488,
          1.4795949689527164,
          0.5075398114106476,
          4.025163763893032,
          3.3976341754496975,
          3.3025291157013488,
          2.8311288224741116,
          0.4298703987209267,
          2.652603820099902,
          1.9894395187425367,
          -2.4451348377062523,
          -1.9828992824413256,
          -2.908813880378371,
          4.910713009747104,
          -0.6498036654322976,
          -1.5303444494938,
          -2.7153897454154547,
          -2.0687544157967652,
          -2.2542542997003845,
          -2.0100526796115563,
          -2.109909957315347,
          -2.2236326075156025,
          -2.3132103064829797,
          -0.9502346814249353,
          -2.1364027095393268,
          -1.0065335489460208,
          -0.5635117535932608,
          -0.545243711459094,
          -2.2698090988609736,
          -1.2016336137926904,
          -1.3117714960738556,
          0.11607867116484702,
          -1.1573319711835903,
          2.844261208468642,
          4.816971047050106,
          5.388502137886457,
          4.90223402147826,
          0.17804007974110805,
          3.1296296239009442,
          -2.671565344475636,
          -1.4732881003033536,
          1.2109456547170139,
          -0.6283268472049912,
          -1.823215985258661,
          -2.761626719266497,
          -0.8038412941572954,
          3.1296296239009442,
          1.277535589956933,
          -3.499987153766304,
          1.3589483043899597,
          1.7385554462803208,
          -0.22573449118776925,
          -2.2740673463887164,
          -2.7222920271687405,
          -0.5665714728194748,
          -0.724554743333295,
          -1.8992419894110686,
          -2.8397395979008904,
          -2.0779173370881705,
          -0.8771721526876293,
          -0.40668386778986687,
          -2.462682444077485,
          -0.9502346814249353,
          -0.8848052512508232,
          -1.475971563051595,
          1.0340563390737694,
          3.9266530882283917,
          1.3504189491626413,
          0.4022811443833139,
          -0.7883433217568951,
          2.0279654140200667,
          2.040217954687529,
          0.8979910073856019,
          -1.3703622819832775,
          2.195947876785935,
          -0.3257151107438956,
          2.1667905160060257,
          -0.10849963879625227,
          0.5555801926793544,
          2.6855272350918464,
          2.062971850274053,
          1.932778973012089,
          0.5823874663723919,
          1.428007669470055,
          2.227950207798836,
          2.0141117237244632,
          -1.7548260472472816,
          3.1452711577365084,
          1.885187831139477,
          0.5461741363291334,
          2.3563966282033206,
          0.8590333940405688,
          1.5750036225782404,
          -1.4254079176047527,
          0.13229505704734978,
          1.6585341861753573,
          2.633080100731387,
          1.2919858967101814,
          1.5307731412375463,
          1.8030112846657096,
          0.06706942676045868,
          1.8045403505981719,
          1.3745874347744316,
          -0.08395614302769272,
          4.049749172711462,
          -2.1275500290304183,
          0.5273523375187058,
          -3.0914737893276962,
          -0.9291176379098613,
          -0.40155489571023445,
          1.1987811941730064,
          -1.4489486989802924,
          0.4216419583783449,
          -1.034809835802781,
          -0.6337420572126491,
          -2.1834965098510493,
          -2.1758672952105034,
          -2.8243568560471224,
          -1.5657851439064712,
          2.4888524869873843,
          1.7069952938522652,
          -1.7699525413624668,
          2.0944287535894537,
          -2.538940561074891,
          1.7757562576013015,
          -1.3673813815784817,
          -2.321719004377391,
          -0.07145510003716161,
          -0.1295351565608196,
          0.0170565205773681,
          -1.6918615662065621,
          0.24788898634041984,
          -3.3719490056920605,
          1.8109439725347152,
          -2.95631671028041,
          -0.9326576513945374,
          1.5453563721904255,
          2.0175676302543057,
          -0.9777384825203544,
          -1.8088045851480525,
          -0.19764938933701573,
          -1.736004535079578,
          3.6842201989297254,
          -0.6847094485509619,
          -0.2603117476767209,
          1.5422988888047637,
          0.593002664612163,
          -1.7912959670136803,
          3.118021498922635,
          3.3580144918752346,
          3.5099309650882855,
          -0.19461924016161972,
          2.480527963790228,
          4.517776810914012,
          6.0918671373371795,
          -1.3864258127587985,
          -1.6590894291934812,
          -0.8451615089399586,
          -1.0417192548785021,
          -2.2126328441140086,
          3.9047624185662886,
          2.3576582971520206,
          0.03992601661587256,
          -1.1004953247578728,
          -1.3293394373721152,
          2.4179234417138895,
          -1.8494158071698905,
          0.6194589894389154,
          0.7007141496868085,
          -0.2213109957661936,
          4.069805840259914,
          -1.6915198589429612,
          -1.6480326701342525,
          -1.626675726240951,
          5.070598490109723,
          -1.2012069430765242,
          -0.20161483159628796,
          2.212377949900129,
          -2.464924839700891,
          -1.9249814682117192,
          -2.4080164096721792,
          -0.3981606546944909,
          -1.1481127843950478,
          -1.237330464390969,
          -1.4628181365509465,
          -2.6429915346372583,
          1.9533017033003983,
          -2.1195725580612335,
          -1.0140421857817667,
          -1.843089415576859,
          -0.17434341580478238,
          -1.8079063743752277,
          -1.0770098667738885,
          -1.4905481769240287,
          -1.2980784897176683,
          2.3650341880945853,
          2.805690268078534,
          0.48472351061886315,
          0.8549288236322984,
          -1.5013922149508796,
          -1.367356561588802,
          -1.5786623309290868,
          1.9460913874910197,
          0.031744030736048943,
          3.5189870964878125,
          -0.12194207361813167,
          -0.8643826427197117,
          -0.34316401580846123,
          0.1487995698285166,
          -0.7021345155769471,
          2.526890730193048,
          -1.5907428957012475,
          -0.040819221845631824,
          0.7899298288307443,
          -0.9108592533331872,
          0.534549296006676,
          1.7118640514247783,
          0.32913723878694934,
          1.193120225310697,
          1.095868990708862,
          1.2545681987114252,
          -1.6454912421714358,
          0.06998303323160394,
          -0.6562708849308355,
          -0.8025844842561625,
          1.0288670632622714,
          1.55031481495979,
          0.7522544149888797,
          -1.3594752795046892,
          3.018000391387949,
          1.0712957412947148,
          3.221728737298459,
          -0.09309152149855306,
          -1.29857799734676,
          3.218628062553707,
          2.132612098958046,
          -2.344673001682558,
          0.40529331240226674,
          -0.5726023021440043,
          -0.883165124042147,
          0.28649928790184,
          -1.1602891468274361,
          0.7158496154657078,
          3.5107534356200034,
          -0.2064659721466558,
          0.1389363915921855,
          -1.805818815917159,
          -1.7690512660095583,
          0.8116576480875333,
          0.337524691906273,
          -0.010394775910613148,
          -0.8944573785036695,
          0.21387473617623098,
          0.23100452434814084,
          2.030878227187985,
          -2.299520470423306,
          2.4641111195466694,
          2.1192178617213595,
          0.03900046465196479,
          -0.6538759240822308,
          -2.508627218880722,
          0.8123565472634453,
          -1.5787530557618972,
          0.21465726009403852,
          -1.8370165087569912,
          0.922956531959854,
          5.656350818133167,
          1.275879610994449,
          -0.5087977010750426,
          4.278428722085266,
          0.699210007876525,
          -2.3841364242986858,
          -1.7777308426945033,
          -1.7803898860126586,
          -0.4167539682681082,
          -1.1894418289754782,
          -1.3168814365839538,
          -1.3415980593024461,
          -1.9057076077566915,
          -0.9399967293329504,
          -1.6808685152004805,
          -1.1904065555534995,
          -1.411905562019509,
          -1.919022355587362,
          -1.6818203902001214,
          -1.435902700417144,
          -2.0112309024792463,
          0.09121406890156479,
          0.5055869622129665,
          -2.399124947771618,
          -1.4878005371777197,
          0.09012877718788209,
          0.3101465274982125,
          -1.4468211063157428,
          -1.8879364766330269,
          -0.4308099759040477,
          1.9127398992549034,
          -0.9340739420096689,
          -0.09245424702742966,
          -1.0170415780895805,
          -1.4337106390703664,
          -1.1513085587600582,
          -0.3505327260134431,
          4.891728612485047,
          -2.2620354657009707,
          -1.1646239535239478,
          -1.419487651844679,
          -2.178982674772516,
          -1.7048467653411066,
          0.0872351630348974,
          -1.5513713971895944,
          -1.1305919329747043,
          -2.0086014603024758,
          -1.9719849087291332,
          -0.7603552441700446,
          -1.7081845936205517,
          -1.452644788376458,
          1.0936536290838432,
          4.707297316935383,
          4.0664165516618525,
          0.844908045381964,
          2.0175676302543057,
          -0.5221029502555896,
          -1.0819030183511789,
          0.9363603495410887,
          -1.6901930633720723,
          -0.06734437755377397,
          3.1284096100847703,
          -0.01337292489036203,
          0.9315488370480707,
          -1.107898841368993,
          0.9836845171357775,
          -0.6216384167307972,
          4.176384153224836,
          -0.8174650647916112,
          -0.9844049327521108,
          -1.934020852138308,
          -0.9150586306583658,
          -1.9024375077661253,
          -1.5991191899978705,
          -0.3979122673442816,
          3.189010773438729,
          -1.3604505665769029,
          -0.7141034047337285,
          -1.591493898603846,
          -0.26981790114743404,
          -0.32057160195909273,
          -0.9748467556979405,
          -0.634611242395278,
          -1.4852467869909078,
          -0.6488361413093124,
          -0.6875208972982049,
          -0.523521052252448,
          -1.2997644179330263,
          -0.39374742517973893,
          3.492407798994577,
          2.5763577232711805,
          -1.2550502056471349,
          3.8527580670263863,
          -1.3963654042352847,
          -1.5970419948490968,
          -1.688632875815765,
          -1.3774550293604106,
          -1.3690729524620995,
          -2.0826181995813413,
          -1.1954018276570275,
          3.402751152566498,
          -1.9587229941745257,
          -2.6463148412916944,
          2.335312795097442,
          -2.345824751081747,
          1.3957426239486532,
          0.3091765784289805,
          0.3091765784289805,
          0.04825874689567866,
          -1.0823520722647515,
          3.0490881810417663,
          -2.097576909584196,
          0.25316511117440293,
          -0.15427203546753546,
          -0.41240181977992574,
          2.8948856676427694,
          0.9925700176837303,
          -0.10380387445274497,
          1.8938195243268834,
          0.9398182903443831,
          -2.219007000192062,
          -0.40289995088326624,
          0.4855598419464206,
          -1.6946786996734715,
          4.453263833371461,
          -1.7698042251005008,
          -1.2917710621025646,
          -1.8456441547473599,
          0.09262464006245322,
          -1.8537718049763519,
          -0.3241240622174616,
          5.699030304877435,
          2.3817849882339295,
          -1.5609102360473264,
          -0.2799174074815643,
          -0.5542550572699038,
          -0.6637454999146567,
          -0.329269830609653,
          0.6663435469489157,
          -0.814572054315037,
          0.6939265197491388,
          1.4162075885952468,
          0.5778186477553661,
          -1.2584741789017178,
          -0.18772365879072367,
          -0.8836013757068103,
          -1.687550678598698,
          1.521134032798552,
          0.21959081948294953,
          0.28850205362560966,
          -1.4926217671802826,
          -0.21175692447558025,
          -0.17581020496163333,
          -0.887562580171764,
          -1.2556219866206983,
          -1.2269361604283762,
          4.618935780161168,
          1.3552239026426238,
          1.9336164093535586,
          0.3436840728473255,
          -0.5690376399407602,
          -1.8919920103002272,
          -0.5841890549176639,
          0.33276996189999675,
          -1.917555081893608,
          -1.2392356281844938,
          -0.09546520325791734,
          0.5577786585832487,
          3.002801573904524,
          -0.5753522125886542,
          4.161022525837936,
          -1.9988770057703396,
          3.7468909865289746,
          2.22447826033341,
          -2.0601769600585014,
          -0.7651747940113196,
          -0.881823375298756,
          2.200828587032448,
          -0.5335105742105527,
          -0.5913765417068714,
          -0.8686121365386258,
          3.126929191169633,
          1.5727472398500448,
          1.824178863093158,
          0.9487631695800606,
          -0.7979632686424228,
          -1.5274385093734069,
          -0.04031006817489348,
          -1.4688940844932514,
          -1.5189484652220913,
          -0.3336390303841251,
          -0.28741846532537496,
          1.9173914860919676,
          4.217793257754895,
          0.8123565472634453,
          -2.0268228760359763,
          -0.9888603025879972,
          1.3505978175446585,
          1.3505978175446585,
          -0.22448253695649234,
          -1.5599823753878856,
          -0.9445110188851541,
          -0.9687374941369988,
          -1.9473824019540271,
          3.2626195808960117,
          3.3357502012362787,
          -0.0840010454867702,
          -1.8353016618474376,
          -1.0147768860330924,
          0.6805879787852328,
          -0.9288952404986116,
          -0.9673631567290882,
          4.168363339147138,
          -0.8950461905575416,
          -1.6554978350332155,
          -0.673670545707554,
          -1.5694794034452277,
          -1.6619836307825173,
          -0.1588995810750426,
          0.663750848338296,
          -0.8307561706234655,
          -2.2833156359466398,
          0.8752453390642234,
          -2.427740105884189,
          -1.422406598148056,
          -1.1037662140332825,
          1.5650671095135908,
          -1.0895612371376302,
          -1.168714792577953,
          -0.9946974720841754,
          0.7352426388393163,
          0.056850559292936545,
          -2.3649098795794257,
          4.904751130878145,
          -2.803040390957149,
          -2.252562080818785,
          -1.895924573075729,
          -2.0917516052011536,
          -2.508317131163249,
          -1.0932669094952776,
          0.23002712834864827,
          -1.7664024000158325,
          0.6845546448708266,
          -0.9024606571237719,
          -0.4794045361365284,
          -0.7455458630228243,
          -0.9013326790547915,
          -0.7150579071819961,
          5.521484025398489,
          4.3307807583817235,
          1.0507517772310706,
          -1.6734809168327218,
          4.236594177348258,
          -0.2745021491914584,
          4.05581804965648,
          2.135766913281722,
          -0.8330021081673912,
          -1.8279298926842629,
          -1.7462095781463192,
          -1.429274801673931,
          -1.8043356480433586,
          -0.038926072238980695,
          -1.3609492642096965,
          0.4479854069546511,
          -1.6881966197421547,
          -2.26055549808226,
          -1.603295866528965,
          -0.5719868279724872,
          0.2268062184392579,
          3.000746418246714,
          5.262058618140636,
          2.8858699481600545,
          -0.6661581305866565,
          4.6474168508135065,
          -2.3259805083008893,
          -0.8749418351069354,
          3.4358447536432477,
          -0.1859205699604809,
          -1.32525779614195,
          -1.6454826504708162,
          -2.274363772769269,
          -1.137548985445838,
          -0.30594649082110376,
          -0.2632103614648374,
          0.36823439087847737,
          -0.774991959841608,
          -0.17119199961990778,
          -0.06981557094042536,
          -1.207258832602027,
          -0.6241021127308292,
          5.419874741023527,
          -1.597222245578427,
          -0.3638951753809371,
          -0.3445021725092963,
          -1.6165697131635028,
          -1.102159409796176,
          -1.227351666022264,
          -2.0452140986874663,
          2.018654282616748,
          0.429828992716726,
          0.6052682794470802,
          -0.4423537865870972,
          0.022947141944436627,
          0.0015944771473530453,
          -1.8238846076569728,
          2.2317541681982713,
          0.7642748141635719,
          -0.8433282919666296,
          -1.3230875790813406,
          -1.3298929349932984,
          -1.2267220894847894,
          -2.149994931085679,
          -1.2163920877132461,
          3.463484711466786,
          0.4539412166357164,
          -3.0613383031984163,
          0.22729614518138547,
          -1.1344768325631749,
          -3.0613383031984163,
          -0.7072963438992373,
          0.3418433804143052,
          -1.5671182591234918,
          -0.869666690061238,
          -1.5795590761486489,
          -0.8772502462786008,
          3.5825006834571207,
          -2.226834278061473,
          -0.20126115331103792,
          -1.667521519112386,
          -1.167686938641091,
          -0.09594405636152731,
          -2.382066424984604,
          -0.12872264422547527,
          -1.582249851962996,
          -1.6387434617760301,
          -2.025148199151577,
          -0.6993509873931997,
          -1.876467093307656,
          0.354432560896812,
          0.5717167306430495,
          3.101964714448182,
          -0.5188294035461437,
          -1.0126741219338122,
          -0.7097641046725921,
          -0.7276269751785641,
          3.363462492417517,
          2.9752226817107976,
          -0.8219366599034384,
          2.2089628716223135,
          2.785064005343369,
          0.29814635203571505,
          1.866488474163869,
          4.140411488353793,
          4.133048817017735,
          0.528283827298756,
          2.605572101764565,
          -0.2647829444104699,
          -0.17832420764440762,
          -1.9380303715726266,
          2.9039050390292243,
          3.649677021506467,
          -0.01292992374435365,
          0.9703843368446691,
          4.840030364876467,
          -2.382120428766229,
          -1.5441689772345781,
          -1.38886978098041,
          -1.9542613765865027,
          -1.5849819030822287,
          2.4466955357895843,
          -1.36664804837464,
          -0.26762453170465017,
          0.4023034180521384,
          2.3745705662041603,
          5.050054496026237,
          -0.9053180429942439,
          -1.2698419846443334,
          0.5398747178532823,
          -0.9479576954954896,
          -3.03244998139229,
          -1.1121517547583095,
          1.0543642222548273,
          -2.1748260590504636,
          0.8783391882405466,
          0.844908045381964,
          -0.28380427510568884,
          -1.8083647450254496,
          -3.202470459196676,
          3.3215521054488244,
          0.8539122759964455,
          -1.052707983543191,
          -1.6233526075106737,
          -1.4951842716237853,
          1.751945377775932,
          -0.8298967446281698,
          -2.187333543701749,
          -0.24944080664634877,
          1.1074723601112297,
          -2.085935541408213,
          -2.4125115180318644,
          -1.249999058369914,
          1.291866958177364,
          -1.480860486175659,
          -2.0144429700235027,
          -0.5413481296670045,
          -1.6534058002388434,
          -1.431791700304574,
          -0.9871359024336316,
          1.1655411567729197,
          3.000235685866885,
          0.15000872558748996,
          -0.5219177664341921,
          3.047428758666206,
          0.8524577565344759,
          -1.8419708771379122,
          -1.421250538743619,
          -1.5990912760966662,
          -0.09245231702928318,
          0.7589239174389392,
          -0.38861753676292676,
          -0.48869129923344345,
          0.18601744652391816,
          -0.5767423202391151,
          -1.044525985652121,
          -1.4103425017750715,
          -0.9467174638564455,
          -1.5570907577492836,
          -2.0316565223762764,
          -1.5050207141774004,
          2.0330414338414133,
          2.9972411903138947,
          -1.1131903712057187,
          3.4143457476927663,
          5.320867729182732,
          4.085991435509488,
          2.1274425358348865,
          4.9472697542847275,
          0.4726197924305071,
          -2.201686825571933,
          0.43167185305864136,
          -1.1131903712057187,
          -1.6057702396471842,
          0.8312197050104071,
          -1.7642479233188504,
          -1.1590732070276364,
          4.081447099437765,
          -1.1266837590924172,
          -1.2919547680535055,
          -1.7723311723076092,
          0.021900563903480802,
          -1.8333368443589533,
          -1.7602758888628427,
          -1.8693460615922204,
          -2.046542277096347,
          -1.0561390468606329,
          1.177051678970373,
          -1.8762990960288115,
          -2.4252240322564096,
          -0.12210277573933605,
          -1.6260066325783,
          -1.8445494912080078,
          -0.3033082971030345,
          -1.204876458797518,
          -1.8182765975060056,
          -1.4422094887527561,
          -1.094700997664762,
          -1.9236465210710907,
          0.06349215750229678,
          -0.7967643032374759,
          -1.308960039356972,
          0.5354649061742406,
          -1.1538421770428817,
          -1.1326586912829255,
          3.1056989824074237,
          -0.5655314564562379,
          1.6711847582607389,
          -1.6903592808965617,
          -0.17282411226062375,
          -0.1534234424262186,
          -1.1213935734132479,
          -0.35601148920323955,
          4.264393263445871,
          -0.9702087331231138,
          -1.479520701140312,
          -0.01916393802213697,
          -1.6262673095858835,
          -1.0729349066364677,
          0.6594213427915597,
          4.06699538598566,
          -1.7593947139165325,
          -0.6148631774543121,
          -0.5328443733186656,
          2.1951310166489795,
          4.211073384228151,
          -2.0951936831935876,
          -1.7126773122191747,
          -1.317622605279383,
          -1.2398389440352928,
          -0.6365159443123245,
          -1.868071836587031,
          -0.20774898984439635,
          4.6631581902132,
          -0.7172902492876061,
          1.4126375362115116,
          -0.05348159629165095,
          0.12258449104649279,
          -0.693008274763068,
          -1.6842462616801221,
          -0.9997143462304265,
          -0.9925277416519362,
          -0.40554552468515115,
          -0.794330703085563,
          -1.4179766882023699,
          -1.5077618691738794,
          -0.11864752625193925,
          0.0651325151433007,
          0.4479061806002196,
          -0.5905352698295553,
          -0.6656940772015782,
          -0.12568353651020575,
          -0.2968239783275778,
          -0.302085036950331,
          -0.4431538767660773,
          -0.8497568273164458,
          1.5069037952476547,
          0.4803661333128787,
          -0.697080464613875,
          -0.10347402499997149,
          0.4261184411829128,
          1.7181988956708993,
          -0.14880872420562757,
          -0.8608961760184053,
          -0.21186655948989566,
          -1.2074405624776159,
          -0.24447286527723097,
          -0.11108361445809417,
          0.4331828913071642,
          -0.4666659930456579,
          -1.8413507629642523,
          -1.0214066744382946,
          -0.49758848808652123,
          -0.6844849178178248,
          -1.6697028500088265,
          1.9435278334052584,
          -2.590401210503969,
          -0.9832888022778727,
          -1.5102450456487515,
          -1.5772672834448849,
          -1.374754747944521,
          -1.2001953198664053,
          -2.5500589751698035,
          -1.5609102360473264,
          -1.8902776392732579,
          1.658754391001418,
          2.7931435870373362,
          3.3936697303588197,
          -0.3078197169386814,
          -0.5170085720229928,
          -1.9380674914976461,
          -0.8915763547993787,
          -0.9886668262046718,
          -0.5696178874425268,
          0.8795324448096484,
          -1.1447334158703664,
          -2.006545406729144,
          2.8205742097621758,
          4.028986191210218,
          1.7372253796499788,
          1.5655853810053784,
          0.07802122878736976,
          -1.8274876886852294,
          -1.9502075389529878,
          -1.7354065296445798,
          -1.8699631356031994,
          -0.5644354650111927,
          -2.006112138560554,
          -1.7634140784138816,
          -1.8723008941323527,
          -1.8639932204222447,
          -2.1058975606514707,
          2.957539714316922,
          -1.9232812200626492,
          -1.729194502848709,
          -0.3394603933605108,
          -1.4817947434057155,
          -1.364827290068009,
          1.6184380633196098,
          0.6731669759445246,
          -1.3981525797114402,
          1.4897707598582155,
          1.0157432689846015,
          -1.0568509529743566,
          -1.751824963493272,
          -1.2421958404602678,
          -1.9336938727708395,
          -1.7598217040333763,
          -1.4555523482943349,
          -2.1082944798688477,
          -2.0606660439063953,
          -1.4904194189397022,
          -2.0734945064138426,
          -3.993754718462854,
          -1.7804503009224821,
          0.4188013767860371,
          4.074252866889355,
          -1.654099602100138,
          -0.8706935586305735,
          -1.2311045301288575,
          -0.07788453537429894,
          -2.4434013956713967,
          -0.07625660353628262,
          -2.1318590249117175,
          -0.16461671372417522,
          -1.7771222855258446,
          -2.2929023354570397,
          -1.2277075421191317,
          -2.4270031251580013,
          -1.019878194683749,
          -0.6385744256983868,
          -0.6162589382614431,
          -1.5903114999670285,
          -1.1226867924008357,
          -0.7780117610925489,
          -1.24183485681529,
          -0.41877224870219854,
          -0.5887610453578074,
          -1.4255157505699638,
          -1.9236465210710907,
          -0.8321122702871252,
          -0.7103155395647781,
          -0.45457897450550955,
          -0.5006469673618135,
          -1.3433860165170106,
          -0.5586881735072371,
          0.718367059671959,
          -0.8757146430848208,
          -1.0684891129569076,
          -0.379190720634589,
          -0.5255270518176567,
          -0.4899308370179333,
          -0.15972671026188598,
          4.813777021504079,
          -0.8690009426865867,
          3.3215521054488244,
          -2.5792042125307093,
          1.5603981597326744,
          0.8888968989143615,
          -0.4769077058258348,
          -1.3173980164012031,
          -0.4962570470088793,
          0.3375764127658357,
          2.1487550179202075,
          0.5205896223390918,
          0.0023903786712637003,
          1.443854370222981,
          -1.7722920756714402,
          -0.21138765775075338,
          0.9097158032319778,
          4.844601565033678,
          5.666384156661322,
          -1.9417108967056635,
          -2.1065509824092183,
          1.140796258083533,
          0.23103463786948497,
          0.4256175781974644,
          -1.5657114923930826,
          -1.5657114923930826,
          4.244480994355998,
          5.176708744973619,
          -0.8596027093370094,
          -1.0270738870476326,
          0.37512427692022654,
          0.051811371512324414,
          4.582553845204491,
          0.5168944033678448,
          0.06057426972990524,
          -1.7784927255694216,
          5.408174041012422,
          2.5327757019918757,
          -1.5302866131478023,
          -1.0610339222842124,
          -1.0947736380529207,
          -0.9227741339323364,
          -0.9605533109182796,
          -2.132240077056639,
          -1.6689001793002793,
          -1.4351673016485877,
          -0.7169772246162478,
          -0.956826496341667,
          -0.9416875707315001,
          -0.4133385047052848,
          0.16883070258110064,
          1.43224934201698,
          -0.7813213297476473,
          -1.1271281147595331,
          0.652459590839005,
          -0.6927403014042208,
          -0.6732878229230728,
          -1.1414799926170125,
          -1.4892770702646916,
          -0.35535854852106796,
          1.829448716580517,
          3.6560772718222325,
          0.7261799401622578,
          -1.8969714198549832,
          -0.41939395144300956,
          -1.273066331883837,
          0.10397499296520918,
          2.096483641589663,
          -0.8776788935290596,
          2.5299097893625864,
          1.0082003519061762,
          -1.8902776392732579,
          -0.42207825344761224,
          2.109005714349951,
          -2.3715612187519337,
          -1.0444388347634859,
          -1.231131615579879,
          -1.177697080054639,
          -1.0345327312064312,
          -2.7234666403161047,
          -1.7104420113557306,
          -1.9914059300228182,
          -0.6226927475906404,
          -1.0468527623234303,
          -1.2900248382332753,
          0.12309112973266126,
          4.652403689691265,
          -0.40462364134067386,
          0.4430017973536214,
          0.7869224265474067,
          -0.5605651851159856,
          -0.1284380924329546,
          -0.5314028806277058,
          -1.023829088862142,
          3.174879734132038,
          3.8595387667647443,
          2.6026231331657756,
          0.15833263461928207,
          -0.7710403655798269,
          -0.4995419530279305,
          -1.2938074605601024,
          -0.35805426889126474,
          -0.8371847600040484,
          0.23327622655162344,
          -0.08852138585591851,
          -0.6084691009396401,
          3.879862859303179,
          -1.6480835900823732,
          -0.07920628817761141,
          0.18122554674263538,
          -0.7235894288501382,
          0.3806768139362984,
          7.22654460901493,
          3.4015397135220806,
          -1.415927909145329,
          -1.9127960305645086,
          -2.017437359162995,
          -0.8956325749527951,
          -2.2603496043111906,
          -1.940733736119527,
          -1.4539395308420235,
          -1.9899331345222517,
          0.5563608894958334,
          1.3655741274589235,
          -0.6778354788931391,
          1.487258627957038,
          -1.4237008451336224,
          -1.2748104198497445,
          -2.552461167194016,
          -1.7375662708101367,
          0.8903585804759303,
          -1.3514066895790275,
          3.6734951616390235,
          0.23893979548550584,
          -1.8009380597154072,
          -0.693008274763068,
          -1.1302346153383867,
          1.0424609969554555,
          -0.38549302852157896,
          0.4808026898470227,
          0.3696015150662238,
          -0.24312431299061207,
          -0.3142989666133035,
          -2.122990542540931,
          -1.7729246995643386,
          -1.6173696754713027,
          0.2381084538749676,
          -0.4833916699937422,
          -1.7273711551849706,
          -0.10198804553304779,
          0.5055144803084028,
          -0.7131430817527242,
          -0.8951228201123653,
          -1.0597890934720624,
          0.3674321547116663,
          -0.32755247999582104,
          -0.15392290335129158,
          -1.0079751959068288,
          1.331226750839262,
          0.14879178398842133,
          2.593757649392422,
          5.280198100270841,
          2.6125401236234,
          -1.2429187294667836,
          2.883460748025336,
          -0.8454958932986625,
          2.125563179636892,
          -1.2848447129983003,
          -2.333529043949486,
          -2.3874608455512827,
          0.4708102218623848,
          -1.8703654091300117,
          -2.6048645631439293,
          -1.5249585479981829,
          -1.93113521304616,
          0.15925914311312825,
          -0.33685427467472745,
          -1.7238132206500631,
          -0.14523173932935912,
          -1.1513324744387923,
          0.5329054203221866,
          -1.9612249102027297,
          -1.2399292163761029,
          -0.9213520425348987,
          -0.2934493481289045,
          -0.7878251517409007,
          -1.9817641589624027,
          -1.7244851503949103,
          3.9255172860697396,
          1.5942931299634606,
          3.186335317997051,
          0.9775969311537858,
          3.5867432508255246,
          2.647745049799364,
          5.270217759644977,
          -1.708248597738553,
          -2.1998039804602216,
          -0.06578081779005372,
          -0.8368706284559657,
          -0.785467717505085,
          -0.20916402742117776,
          -1.708575458599483,
          -0.20916402742117776,
          -1.3997320777127076,
          -1.090959055413607,
          4.169466471505725,
          -1.3684630603624222,
          -1.932428367187305,
          0.11061706995923522,
          -1.8318071541194507,
          -0.9598571387641519,
          -0.2019259178707013,
          -2.322482104084649,
          1.295624263858963,
          2.439938968042471,
          -0.0034299770508509856,
          1.968987870792327,
          -1.8110394558681615,
          -1.2760228016973998,
          1.7512646091908486,
          0.0473548425080283,
          -1.4262864308855536,
          0.8119245867926483,
          -0.3351614731377258,
          -0.28854191440586063,
          -1.9135217129716575,
          -0.44506574689565637,
          -0.3898013592395593,
          -1.0965604946490637,
          2.8632445586955493,
          -1.0064366536641483,
          -1.667995626555784,
          5.037072097193795,
          2.307251668789423,
          0.9817234747421214,
          3.023290887104784,
          4.117010734472987,
          4.113361444554919,
          -1.7640887933065463,
          0.15200397301154703,
          1.010057474777607,
          -0.0982682591865978,
          0.745467864964596,
          -0.07912913968776636,
          -0.5869929672815056,
          0.061376567586416166,
          -1.2493185544417877,
          -1.162532956966599,
          -0.5446464357178721,
          -0.5257359411169938,
          -0.6973969041449745,
          -0.971960047766899,
          -1.7113924337417719,
          0.6626099536052523,
          0.37990667046115534,
          4.35317276238684,
          -1.750511188321824,
          -2.6082819147952416,
          -0.7744430956484724,
          -0.29049845972909016,
          0.19347918400083863,
          -1.500564841771933,
          -1.3802231760043524,
          -2.5201491133096114,
          -0.6742590697690071,
          -1.2280633296074603,
          0.4229742125954444,
          0.19347918400083863,
          -1.6139893679672441,
          0.24592070134157143,
          -0.9320241203449575,
          -2.0291882153646825,
          3.086164823529949,
          3.28963023562895,
          -0.8430280926050708,
          -1.0191080260121514,
          -1.2581311719443327,
          -1.4293847145323813,
          -1.2280633296074603,
          -0.8918518314853033,
          -1.162532956966599,
          0.3320094024663953,
          -1.400615775117923,
          0.47495516260105514,
          -0.3285383111216562,
          1.2317234135229216,
          1.898235146478138,
          -0.8272044736771348,
          -1.1182953375910354,
          -1.2140979999974277,
          1.4102809155728935,
          1.116255824414094,
          -0.9625261685035069,
          -0.22774342883917228,
          4.82048367144701,
          2.8066726781677933,
          -0.8910597762575785,
          -1.4197100225439558,
          -0.6373053624231066,
          2.667811075962949,
          1.370964755084283,
          -0.8509927620370418,
          -1.1349369532310432,
          0.30831398576217506,
          -1.4183221756409612,
          -1.109325273601509,
          -0.7858824490959343,
          2.143356564904714,
          1.699803481395568,
          -0.576742320239115,
          1.1753290502837002,
          0.7683249437917393,
          3.0672479686245713,
          2.171382773188072,
          0.09109228763953184,
          0.17424196049511964,
          0.3190799364008101,
          0.5277083757468615,
          -1.5891418340117451,
          -1.8079063743752277,
          -3.0009494117128015,
          -1.5683430554100042,
          1.2531320966526072,
          0.48007880695773414,
          1.1470176346512189,
          -1.3095170917389254,
          1.5929388159834168,
          1.0710420132491294,
          -0.6277790692076228,
          -0.7049891902633267,
          -0.366099490434093,
          -0.4871764094606713,
          -0.762159857132351,
          -0.09005428008473049,
          -0.1486852055596891,
          -0.2507783494082107,
          -0.7043224955062212,
          -2.109018269583261,
          -1.879334070811123,
          -1.4483273104314538,
          -1.6855200932596475,
          -1.881481368255225,
          -1.4090316369170128,
          -1.8761815210993238,
          -0.4113534767140598,
          -0.8662032598582591,
          -1.5843624105760077,
          -2.4428347518126103,
          -1.0024189493957558,
          -0.7470110613107924,
          -1.2099907754251218,
          0.8179688501593771,
          -0.32126428074581176,
          -1.1398522347318456,
          -0.8437018248035704,
          2.04225288520613,
          4.763938610263665,
          -0.8284168584098442,
          -0.6352570447275029,
          -0.851505985634521,
          2.2461767341646808,
          -0.39823929265682934,
          0.6404987805565768,
          1.2643075804942299,
          5.1993546278107985,
          1.858382900436076,
          0.7197917125418749,
          -1.8100918480866655,
          -0.05143589477032414,
          0.373892101955117,
          0.7611727109350754,
          0.8241113127768875,
          0.5550844565870731,
          0.7400410988074472,
          0.4304758860098785,
          -1.1913376013534498,
          -2.019629083892073,
          -1.036229851950724,
          -0.6266858975965722,
          -1.76174355781123,
          -1.9484506333422857,
          -1.0008080358122458,
          -1.9465609399407129,
          -2.476175635292687,
          -2.657580092427619,
          -0.798817718608317,
          -2.132364305711081,
          -2.56416865567044,
          -2.1305638358695576,
          -1.0271095058981736,
          -2.2711827620735567,
          -2.9955679707193252,
          -2.013777147378139,
          -1.543760062900464,
          -0.5641657478210662,
          -1.9539615900671448,
          0.13531177462093877,
          1.5240830508841001,
          -0.38979132753570045,
          -2.1472490541110085,
          -1.716576723065333,
          -1.7102416567782466,
          -0.29456810914750325,
          0.618320016727501,
          1.105052316821269,
          0.01347708914945614,
          1.3552239026426238,
          -1.4987842085344676,
          -0.8367365709615115,
          -1.0892869241340013,
          -1.1815682360615931,
          -0.8359986265401657,
          1.8064229455207204,
          4.573522285535855,
          -2.389547203958502,
          -0.887562580171764,
          1.5623932472527693,
          1.6129921406346905,
          2.378287010706775,
          0.2481472564120749,
          0.8731453432239895,
          -1.764764526742545,
          -0.13139150759423363,
          -1.612977308128735,
          -0.5758965096135346,
          0.07342012773008642,
          5.948310252700201,
          -0.2603117476767209,
          2.3439529774231596,
          -2.031774874687598,
          -1.3422308343188232,
          0.5257049943117356,
          0.2204243997714508,
          -1.4231533307505315,
          -1.9680325183749663,
          -2.490004187789634,
          -3.6403170139945327,
          -0.7100689834528806,
          0.18037744575466538,
          -2.7307792390101326,
          0.6051493269356295,
          -2.0122268085743866,
          -2.9882377865906755,
          -1.9881226567087906,
          -1.1001811056752329,
          -1.6322560102481398,
          -1.5585212785368754,
          -1.2003769056176095,
          -1.1518035655172463,
          -1.5626575408762549,
          -0.7030185679656783,
          -1.510987856425025,
          -2.0949762564053716,
          0.2182080372711204,
          0.2810209256473471,
          -1.5999015985109137,
          3.636437671895399,
          4.377634569812749,
          5.517832620777451,
          -0.15593220469833233,
          -2.7823545006812185,
          1.7058186045512957,
          -0.33256344644116304,
          -1.5606335978828196,
          -1.466616672945467,
          -1.6720377493956844,
          5.050054496026237,
          -0.42113023519586945,
          -1.4156805781784698,
          -1.0310175317531451,
          -2.0594619338254354,
          -1.199312100251359,
          0.841839116749829,
          0.5277083757468615,
          3.2000540604664502,
          -1.0918956593169205,
          -1.6640321370290712,
          -1.794037951933163,
          0.2675915444468304,
          -1.176146161674233,
          -0.9236608800933445,
          -0.7383878592737929,
          -0.7370115676562273,
          -1.7260061487881735,
          -0.8276749826467559,
          -1.098188925827514,
          -0.06860373314219186,
          -0.19842300499808752,
          -1.7252882884251959,
          1.902704125064271,
          -1.204137746932,
          -2.1467615740377144,
          0.5675226390225949,
          -2.737860585635959,
          -2.3646735229993068,
          -1.5159051852544088,
          -1.1991820155424178,
          -0.23901879110390253,
          3.7555101009976455,
          -0.9172187524603739,
          -0.6027578678703449,
          4.365128553031853,
          1.357052659263264,
          1.061080500188176,
          -1.0918956593169205,
          -1.0918956593169205,
          0.37990667046115534,
          1.0507517772310706,
          -0.8347222062998001,
          -0.4362902449973955,
          1.8393460147500844,
          0.9749323262388517,
          3.59984746035953,
          1.3878500421641171,
          1.8808998932641383,
          -0.24102161445379267,
          2.5242881418413696,
          1.8226454879784886,
          2.3824054687967275,
          2.7160711465674647,
          1.3400521098127438,
          2.0675085711906007,
          -1.3774147805614507,
          2.1169017128094145,
          0.4725370812856808,
          1.7005090330279207,
          1.0124138734776416,
          1.4638489861406863,
          4.51741528577057,
          1.6062390664664286,
          1.5090985483914165,
          3.328173071321646,
          -0.7586867391814034,
          -1.9710893785207468,
          -2.627945347818508,
          -1.0959217221133764,
          -1.7330340393361585,
          -1.5509421569582758,
          -1.9153264230825688,
          3.286543067630072,
          -1.8853012598366496,
          4.0319294463834385,
          1.0917032949632042,
          -2.0995891751226243,
          1.6077515138179563,
          -0.7338996331495042,
          -2.3299231668522884,
          -1.6714994013804223,
          1.3227936929233726,
          3.224578804871142,
          0.8493078136160146,
          -0.899105004116,
          -0.2596369783110564,
          2.487845989688524,
          -1.0057381074581448,
          3.782652702099693,
          -1.9157679231230478,
          -2.0026233957398762,
          -1.669644827233122,
          0.3515054625690083,
          -2.4460483692044006,
          -1.761901935635352,
          -1.6517774567678405,
          -1.6237547621234052,
          0.8957766323986629,
          -1.8642286743270606,
          0.05337344824099857,
          -1.6425344618411415,
          1.3552239026426238,
          0.1462460887456522,
          5.8582097216168725,
          3.7180312609607915,
          4.993793590175098,
          1.8999455539621695,
          -0.8127854597663111,
          -0.9882751706880358,
          0.6321516301100986,
          0.013416667960795606,
          -1.2772504087424383,
          0.5751095293838526,
          1.8650579113699,
          4.5105685931221515,
          -0.08449905553375503,
          -0.24164638031297828,
          -1.9830682310610883,
          -1.8494850568377148,
          -2.50724927694252,
          -0.3120875385222836,
          -0.19799516276387966,
          -1.9132406824951966,
          -0.46675708557075973,
          0.5301321114835894,
          2.8059892371366995,
          0.6503978876248567,
          4.008015267389638,
          3.000746418246714,
          0.30328525020158453,
          0.7826398955578471,
          -1.4792219052824127,
          -1.356382774233702,
          -0.9660709260830584,
          -0.052599324175078295,
          -1.377652309174927,
          -3.0725256635991207,
          -0.47513563176003243,
          -3.0267560599545105,
          -0.8325111872744729,
          1.7747900310136349,
          -1.028069158806707
         ],
         "xaxis": "x",
         "y": [
          -0.011146290126816429,
          4.498483040491571,
          -1.2584950530912455,
          -0.9316902391794364,
          -0.9998605575699326,
          1.449198795216131,
          -0.1534910566635195,
          -1.0976948285917048,
          -1.2029511963611896,
          -1.6720710185825907,
          0.6245816077119482,
          0.3542795183340963,
          0.6218862595041162,
          -0.7257260770647121,
          -1.7533744258913744,
          0.09456002264657533,
          -0.7607765416859098,
          0.09023324070522758,
          0.6354891072036882,
          0.9549247299482809,
          -0.8173396601849993,
          -1.2470979651002132,
          -1.0384504583107188,
          -1.8477530524364005,
          0.3664056587919295,
          -1.0939423326821653,
          -0.513072591470396,
          0.19285191038163252,
          -0.40850583478902286,
          -0.4019127768691356,
          -0.5390360868356452,
          -0.5093297116411072,
          -1.5551823065201946,
          -0.3275202482615805,
          -0.11881659332814377,
          0.6359085300784633,
          -0.5876810821821727,
          -1.623481310123374,
          0.9261554472362575,
          -0.002583714634444479,
          0.9482384115361046,
          -0.43252723603061055,
          -1.0477234546789902,
          -0.5884127949167783,
          0.10962376719394962,
          -0.17631562638303283,
          -2.2313108525205188,
          0.3421759568804066,
          -0.13393724871445709,
          1.8282937839211082,
          -1.5586608599510337,
          0.39413770702294515,
          -0.16899555980659325,
          0.6402870848131604,
          0.7535261568595862,
          -1.0071979202008516,
          1.251381544732154,
          0.7283795254050486,
          -0.3155870920706921,
          -0.3743084277381313,
          0.6971582660739037,
          0.4907815022846547,
          -1.449631329393616,
          1.402223715478253,
          3.1825154078065814,
          -0.13343620635138356,
          0.72314128439079,
          2.435673232412769,
          -0.6624452959667981,
          0.8828610649268497,
          -0.4539974243368542,
          1.2895652026945388,
          0.7021569500086016,
          -0.032120349417954296,
          0.15589311833334923,
          0.04483740558801545,
          0.7644853720457648,
          -1.8700830086717888,
          1.9424014130733982,
          -0.5355532328520188,
          -0.7101916522494056,
          0.6821340814378521,
          1.5096042889137333,
          1.0677125248492445,
          -0.20319345565050473,
          1.9000703759917135,
          -0.9569272319374206,
          1.7957948181498606,
          -0.5045512816835354,
          -3.0351142354928884,
          1.1858743295178071,
          0.876020615890888,
          1.0658710831443403,
          0.8982598530428664,
          -0.10984688935739667,
          0.7719022721632367,
          1.1990816803218638,
          -0.05275616015040433,
          -1.8569894900465969,
          -0.3264355253289215,
          -1.693948184066831,
          -0.10438796376461941,
          -0.14531043781235417,
          -0.4996968944645955,
          0.32606478883571466,
          0.5077876996619001,
          -0.050481471812174286,
          0.4746966598255509,
          -0.387973552480597,
          0.9981145621078836,
          -0.0645886857741169,
          -0.1668060796051404,
          0.6183612930258755,
          0.34667897728901603,
          -0.8498816694047566,
          0.028285354530939822,
          -0.4309880876226716,
          0.9716433758065672,
          -1.0005494442087892,
          0.566529012538568,
          1.1465811195268023,
          1.3964744337563022,
          0.43319264302379473,
          0.09286868670805472,
          0.2827170296635818,
          -0.467511954643544,
          0.30059066562798986,
          -0.256831219263917,
          -0.7082299299146102,
          1.9653556872423263,
          0.5402660920588389,
          -0.47330522451280627,
          -0.4590570749385386,
          0.17712840735323765,
          1.3226057430132472,
          -0.18364572119185746,
          0.5715418725763847,
          3.1825154078065814,
          -0.22520769265871318,
          3.3372777729058747,
          -1.1787016560533612,
          3.3372777729058747,
          0.8919286352285145,
          -1.6621229341015193,
          0.9126518916872715,
          0.045442205047156264,
          0.15799090914534858,
          -0.3881116746652956,
          0.7693841067862278,
          0.31652003537511203,
          1.5899977353431303,
          -1.904786800046841,
          -0.9570850389300177,
          0.22303451284726203,
          2.105384987244772,
          -0.6995465461225098,
          0.7111076327776112,
          1.0092401714194617,
          0.32381188266964545,
          -0.16319434873237992,
          1.0404375904923153,
          0.6564793989659158,
          0.3951741514894214,
          1.2410104338213028,
          0.3769590932264083,
          2.4618886452370785,
          1.2357005578886258,
          0.2634743406935094,
          -0.3149803062308441,
          0.5105081730241842,
          1.1597876950391839,
          -0.1586470540727893,
          0.29605844599103537,
          0.08484118937578798,
          -0.7467089182464858,
          2.2114132179374693,
          0.08320541248182188,
          -1.0443441784920713,
          0.1912344681748904,
          0.6089226265344317,
          0.7789952619638916,
          0.9523723915944734,
          1.0296391405424694,
          -0.3626701596053852,
          -0.9711390263760913,
          -2.642486423345222,
          3.103331962225941,
          0.21619308773179394,
          0.014957619740980798,
          3.919038472857371,
          -0.572314827397025,
          -0.9986452552999888,
          -0.9516486023188406,
          -0.6906988660514809,
          -1.184084181842629,
          -1.3006189908905776,
          0.5947979963623213,
          0.08054162638613584,
          -1.879038751232319,
          -0.3388521257419345,
          -1.630949174398555,
          -1.094171516568639,
          -2.446461747927906,
          -1.1407059930266439,
          -1.8453286786660505,
          0.6507379346285558,
          -0.47118087570081957,
          1.0197325913084652,
          -0.27336515637365444,
          0.017367780195283754,
          0.7744178910726935,
          -1.1653490752846152,
          1.582927537076042,
          -1.2845530401926484,
          -1.3462327707720696,
          -1.192458691217084,
          -2.3552209829195108,
          -1.6350920282524661,
          -0.7943134394819905,
          -1.5948015187911322,
          -1.0367744163767705,
          0.23834202586569025,
          -0.9150329918104084,
          -1.6791143643828963,
          -1.1140081837787834,
          -0.4264153508845747,
          0.1972031517006983,
          -0.7675781583836286,
          -0.6634064026910864,
          0.018494863427137104,
          0.03239395742923403,
          0.5429849610833245,
          -0.5502293308844984,
          -2.5877559470825395,
          0.07003755588593087,
          0.7387646468178278,
          0.8517448089595115,
          -1.00453921235597,
          0.022744918930618387,
          1.1028840070236048,
          -0.9711482695074364,
          -0.5747759434969193,
          -0.7041665708533725,
          -1.2590290776964816,
          0.5110837248386946,
          -0.4473929302746718,
          -0.7770987572885047,
          -1.512809806131732,
          -0.010119072281300974,
          -2.6565170442836523,
          -1.857853765349955,
          0.02967834875154165,
          -0.4881176600840507,
          -0.46263501008077423,
          -0.6323213193002102,
          0.8689648267049012,
          3.2404775080304886,
          3.2404775080304886,
          0.023892287317247414,
          0.6703963948146877,
          0.799662743159949,
          0.5833737164149416,
          -0.11689578549234428,
          0.7123683209024153,
          1.5310948073312352,
          -1.6069800221607187,
          1.8559942570662107,
          0.04437539980395516,
          1.2105451052359504,
          -0.613312176503244,
          1.0809283795560034,
          -0.2120533698888627,
          -1.181891002333824,
          -0.7775444494726176,
          -0.6234088227383897,
          0.5694778943370118,
          1.7175189370213626,
          -1.0189490622171715,
          -1.1180976339575945,
          0.5457794249420169,
          -1.2203204394225375,
          0.8906898331423568,
          0.9608276029309022,
          -1.267261303422765,
          1.6835784222939167,
          -0.7047166607825174,
          -0.6445389710374194,
          1.711806720312137,
          2.070033591790966,
          3.774095350032428,
          -2.52640204388234,
          3.027705154585714,
          0.7863022708009556,
          2.8536627519810125,
          3.774095350032428,
          2.051357055763085,
          1.4012277428553175,
          -0.9266969511957196,
          -0.6326476919953292,
          -1.127956307161738,
          -1.181038381027572,
          1.9575377687744189,
          1.997968362379849,
          0.06784792539787188,
          0.5362425827548244,
          -1.477741525020388,
          -1.9777901671232014,
          -1.1096645491064134,
          -0.7895282956595112,
          -1.4068333771286499,
          -0.8359585182991213,
          -1.5475653090428998,
          -1.2046762480700843,
          -1.6143833336086222,
          -0.5314998546403866,
          0.18027712010472413,
          -0.7320794166920237,
          -0.03506686939659764,
          1.9807742361710312,
          0.42232942329204626,
          0.283606760728673,
          -0.6255932639365421,
          0.7112353207108746,
          -1.1077101885611733,
          0.4882490801131057,
          -0.22795730447657733,
          0.1971782497767424,
          0.3150319980462683,
          -1.267261303422765,
          1.1177165541627045,
          -0.44571727774836317,
          -0.8138693535483441,
          0.31786427908998266,
          -1.1464663024558057,
          -0.17714161009328053,
          0.3484442111053193,
          2.4064049724463192,
          -0.0003525217776421185,
          1.8873203415832436,
          -1.3725204164548293,
          -1.2657688377536713,
          -0.6949733179444165,
          1.8873203415832436,
          -0.8101213187323153,
          -2.918341516468284,
          -0.9151402576715326,
          -0.9894869373615405,
          -0.29923272082724,
          0.476019871863114,
          -1.5094498562717884,
          1.8873203415832436,
          1.1113603909961742,
          -0.37497601475159126,
          -1.2545771481814105,
          0.9048464943468996,
          0.14491983213610393,
          -1.079841356015365,
          0.8958070512138067,
          2.0607557633872737,
          1.338069490666647,
          -0.7927850799344985,
          0.780123940294787,
          2.3890026316786606,
          0.010923878415342416,
          -2.70116288109141,
          0.3071600666562851,
          0.4060177721073538,
          -1.7931461706698182,
          0.6582528726690438,
          -1.5634644260717665,
          2.4150542414887313,
          0.584333602925985,
          -0.6038418556220887,
          2.282537677712436,
          0.5348228328720835,
          0.4434997849539603,
          -0.6515118089357852,
          1.0533504658934283,
          -0.05684593511018278,
          0.7667072369066987,
          1.9924299245585113,
          1.6650019235103046,
          0.09891338575271647,
          -0.21030445971978054,
          1.4049591878689243,
          0.6572987131801556,
          -0.757260988809986,
          -0.4289788550163662,
          -1.166382725543873,
          -1.0375737857811498,
          0.3177602599695211,
          1.1770272825990273,
          2.522013302298849,
          -0.3556569717547148,
          1.2739159471111903,
          0.12552664107296083,
          -0.04443688853521357,
          -0.9598826795695866,
          -0.9994617694103671,
          -0.17192238560156742,
          2.082504766964758,
          9.80861566527575,
          -1.9109995363880072,
          -1.5953448853504684,
          -0.20772046078352774,
          0.3837984365774658,
          -1.6622338726879482,
          -0.5449138158015014,
          0.3926042114015611,
          -1.0816366373679887,
          0.2533103235365408,
          -2.3938747210539613,
          -0.47150127593609636,
          -0.17561167281722645,
          0.7451440430086244,
          -1.6873495018786002,
          -0.2038045167524351,
          -0.6772495315786091,
          0.4515441159027948,
          -0.472748606466056,
          -2.6124788945229924,
          -0.5263262266185574,
          0.8079535533547778,
          0.11383168486562556,
          -0.8406691236039688,
          -0.07662975110137579,
          -0.5132639481080149,
          -0.582058132828677,
          1.4966189151479763,
          0.2159129418191723,
          0.8749333087385129,
          -0.4958347243325973,
          1.2667969389178981,
          -0.63522149686177,
          1.7116862484490973,
          -0.05981311705813941,
          -0.6497724736162357,
          -0.6584021042342959,
          -0.11984531532774587,
          -0.6498927216938711,
          1.6583247694069492,
          2.0021393264062333,
          0.10467094944932928,
          0.125930712395305,
          0.921184280850529,
          1.1566985880876268,
          4.137971827721913,
          0.45103399100912683,
          0.7392753979079755,
          0.7802223761612859,
          -2.0010115300907714,
          -0.5462424385825628,
          1.2886913072683859,
          -0.41389348527970904,
          0.5142060333389618,
          -0.19834002790450128,
          -1.1325191168425952,
          1.0888335146592387,
          -0.8852774981108753,
          -0.2595736667103285,
          -0.3365596012460411,
          -1.4383020605948795,
          -0.8553689297851279,
          2.037415663490337,
          -1.084980509930827,
          -2.62497251042955,
          -0.29118493718810795,
          -0.9406771827196871,
          -0.8619638727305505,
          -0.744655243334683,
          -1.5806404300447319,
          -0.2454019965262059,
          0.1661323479809519,
          0.2552234665149216,
          0.8974807722274425,
          0.6208671719375569,
          0.28059253069265977,
          -0.6340873085014096,
          1.0661851762831869,
          1.550396487126642,
          -0.7612398420860175,
          -0.06922749235527367,
          -2.1577156365998045,
          2.1872713095153977,
          -1.3215548520622293,
          0.7356238326523733,
          0.7673642510824689,
          -0.0697992924477624,
          0.488667665043321,
          0.2669812198875659,
          0.7328123563979602,
          0.5861214875061433,
          -0.995385815139617,
          -0.17759522520564164,
          -0.6764116893753365,
          -1.29892132241174,
          0.8921496309187907,
          -2.26753647973629,
          -0.6406026434243642,
          0.08160718107044539,
          0.7976536903440753,
          -2.5319163057702405,
          -1.079901417635556,
          -0.1961558696932129,
          1.1384170320766456,
          0.28707549080251393,
          0.4226851034531933,
          1.5804058973004476,
          0.7663364597659555,
          -0.6146786963745633,
          -1.1175193421862735,
          0.6785761172927801,
          -1.1806363394390684,
          -1.2359788765089346,
          -0.3195532424962482,
          -0.37440710690790246,
          -1.8640708749147734,
          -1.7773287436540255,
          -1.9813608548146202,
          0.2570733598340704,
          -0.6155426574374914,
          0.24292559938267907,
          -1.1616324224085057,
          1.8958622798558837,
          -0.33566063651686046,
          -1.0694624857178228,
          1.7513158520768215,
          -2.4367945237996897,
          -0.7722764505011083,
          -1.1810989500449764,
          1.9317052289038243,
          0.5716358610330152,
          -0.4666957497791061,
          0.7085487574433703,
          0.2816180026787557,
          0.3907796891399539,
          1.866457264485951,
          1.2570515395744706,
          -0.025989927797272393,
          0.0829236931600069,
          2.2125582507039643,
          0.32506176456087177,
          -1.1703087112108916,
          0.27426832099094817,
          0.7085487574433703,
          1.1437392895821439,
          1.3752645944313224,
          -0.5836498678916411,
          0.19823214236746015,
          -1.6148947810199716,
          1.0620864810567916,
          -0.9361637998069989,
          -0.02286677611898844,
          0.6613537913076042,
          0.3853063184308253,
          1.2299781646381986,
          -0.07782348751576995,
          -0.1592364575513636,
          0.46279131029195536,
          0.8672704536836486,
          1.5854835718191633,
          0.7367549070529659,
          0.7140682739125949,
          0.9688369678118377,
          0.2512680239153449,
          0.5132039117659926,
          0.837222220350174,
          -0.3573670748157753,
          0.7717816493277013,
          -0.607450298641601,
          -0.269461179789524,
          -0.8556227790287781,
          -1.1068158657389366,
          0.18685711887944695,
          0.681627795419913,
          0.9788842536594313,
          0.45208387285022533,
          -0.7983021441809097,
          -0.13385525664812853,
          -1.3796314186286893,
          -0.210781386402844,
          -0.9811799170595036,
          -1.3319948163180737,
          -0.19328093980775177,
          -0.27708365578956345,
          -1.9783775271564643,
          -1.373892753389271,
          -1.202444736179623,
          -1.3080694576617196,
          1.7650475397544323,
          -1.1229156368814168,
          -2.730925832158358,
          -0.8706224842112554,
          -0.5243173469086184,
          -1.1097479863616238,
          -1.2308039831949487,
          1.1494624022273887,
          1.964197765747781,
          2.1785293823189753,
          -2.8135610607731647,
          -0.4446860762774566,
          -1.363471634841044,
          -0.6220149462494275,
          1.0416800370699901,
          -0.3952177166580219,
          -0.1944946955358403,
          -0.38526083549147166,
          -0.06318642030527005,
          -0.06793988912861305,
          0.047525272443749815,
          -1.288014937405108,
          -0.4742245086831737,
          -1.3815311599721711,
          -1.499128273457783,
          0.10597497457687864,
          1.2977230389711807,
          -1.4864565185645977,
          -0.043092712418068224,
          -2.3328311797700825,
          0.9425352116267066,
          -0.9782852103707481,
          -0.8375933378434289,
          0.2418211945751756,
          -0.8490077081291295,
          0.06737530831032129,
          -1.1745357862551762,
          -0.6271315392818458,
          -0.5770669957486699,
          -1.344871269746924,
          0.2319654410246668,
          0.8445197390903204,
          -0.40290098978721,
          -0.00573621436111481,
          0.44991433403587217,
          0.6750056141422714,
          0.28269214284247285,
          1.269607218037025,
          -0.4871801805221621,
          0.6108104896236369,
          -0.4948587314914135,
          0.1181781723823422,
          0.7334875142917895,
          -0.5180917961506779,
          0.1810641604085792,
          0.714623091720873,
          0.7428997971628273,
          0.5593656303835147,
          0.4849053310827816,
          -1.0171259983707703,
          0.3878104905547091,
          1.622637784339551,
          -0.17809704794334927,
          -0.12476503646774227,
          -0.29617796041093836,
          -0.27379892263627476,
          -0.9268841480713088,
          -2.038010112230425,
          1.4506337137912302,
          -2.0579085201675213,
          0.033027310562339506,
          -0.6887356962529679,
          -0.5190815328898652,
          -0.7472663186110962,
          -0.8682390206907916,
          -0.23433916561783202,
          -1.4053392824479365,
          -1.2981861098400005,
          -1.112746750628705,
          -0.9768526143068089,
          0.6741636247927305,
          -0.9814765781246847,
          1.0934127148953354,
          1.1383910108144217,
          0.06965396958828012,
          1.9959801067556255,
          0.9755122541602347,
          0.6623848700199346,
          -0.8861233320777754,
          0.7021569500086016,
          0.7363870858767155,
          0.23300896490671752,
          0.15532837478584383,
          -0.7151335683911908,
          0.45346230447626273,
          0.5953873912830417,
          -0.12083862405770208,
          -0.7904677532104021,
          0.7442943549477111,
          -0.5173945461923842,
          -1.3671815537397152,
          -2.1647606862810456,
          2.4065757701891557,
          -1.249114229575506,
          -1.7138057454863642,
          -1.1199854719256788,
          1.6019710557732265,
          -0.729805234506005,
          2.696272599035891,
          -0.3514964395317289,
          -1.7024709074298883,
          -2.6028083441033285,
          -0.0018618573810409197,
          -1.6785787472575269,
          0.1710084301558385,
          -0.2664486511200102,
          0.07288441826828197,
          -0.5148061391081231,
          -3.6521473312229347,
          -1.5229955970088507,
          -0.36150444423669525,
          0.33209914601970586,
          0.06386128061298241,
          -0.06798773550581542,
          -0.06798773550581542,
          1.6600878927881189,
          -0.5499230709138863,
          1.1657589760111946,
          -0.5731714708818129,
          -1.6661836834923525,
          -1.416562462785048,
          -1.430832818093605,
          -1.1943971753589027,
          -1.4274095208739366,
          -1.1511209970770384,
          -1.4869190971071593,
          -1.5228713473950601,
          -1.4516382091534192,
          0.17590165038654884,
          -1.2007541057312032,
          -1.1574513304114862,
          -0.8775905383634296,
          -0.575377726746667,
          -2.047746694373266,
          -1.261201967711882,
          -1.6578915972040766,
          -0.9738377876979724,
          -1.3021828325620177,
          2.030428652041033,
          0.7354293886633636,
          -1.415090518826001,
          0.5545644883197929,
          0.4961085640844219,
          -1.4305639637987235,
          1.6075802808416442,
          -0.801228479828744,
          0.6747351899313608,
          0.12194654885889764,
          -0.09902124256603806,
          -0.06924925887923128,
          0.6715536596689557,
          -1.1968649079150144,
          2.1785293823189753,
          0.7120396547541881,
          1.0719117293829015,
          1.1478520740596871,
          0.6481283190597511,
          -0.5960966025054181,
          0.22109387579757742,
          1.976686632862609,
          0.06676449711305202,
          0.9143713972798181,
          2.8467708265343084,
          0.14701877091225868,
          1.2816469698098139,
          2.8467708265343084,
          -1.940794020637524,
          0.0459402785604271,
          -2.1062436150146966,
          -0.7473077818496987,
          0.38133053707087183,
          1.1563480223931897,
          0.09832857235023963,
          1.3195450645550837,
          0.683850221106295,
          0.9286327150239294,
          1.2197449477602855,
          1.1812618877138947,
          -0.24626779839356905,
          1.0543507232367992,
          1.634624948268463,
          1.1208526375187813,
          1.1665004006106976,
          0.3592048896803262,
          2.936844439574083,
          2.359411015343152,
          1.5909270645632732,
          -0.2191057186528516,
          2.278056968755227,
          2.621518835986782,
          1.5149446421866535,
          2.1521154668475524,
          0.3527371550411675,
          -1.5239595469807001,
          0.828312593415226,
          1.451635892343003,
          -0.07205021415422937,
          -1.1760735761202974,
          -3.1982178651250694,
          -0.8201818438122851,
          0.6486029919662087,
          -1.8391905524002912,
          -0.2958332784407955,
          -0.08593625358313235,
          2.161647716158941,
          -1.5566511731330406,
          -0.19148102107685866,
          -0.729987043100445,
          -0.7726676252422106,
          -0.8789815373159131,
          2.5965949403301285,
          -0.9684721849669099,
          -0.012415922773763736,
          2.7776317992507433,
          0.008146240049376058,
          -0.12915323542917892,
          0.6678652880289527,
          -1.5107021703796677,
          3.0731493555380673,
          -1.4438610416065334,
          -0.5025097048772139,
          1.3242077355585746,
          0.5827095805282658,
          -2.1973568753736155,
          -0.14753873569748677,
          -0.48809535255463854,
          -1.3450083943612783,
          0.32685326130838266,
          0.8459249238174416,
          2.2524644820304123,
          3.304993154608966,
          0.038395247395703165,
          0.9816545686601068,
          -1.7461053753967264,
          -1.4139744288995448,
          0.10598670322736138,
          -1.1229631780375935,
          1.384410689220141,
          -0.1616719729889404,
          -2.254469623879284,
          -0.6869253409334282,
          0.7902407593582275,
          -0.14973732308851037,
          2.0284456703648415,
          1.0809283795560034,
          0.2532824348560143,
          -0.13986980407637475,
          1.519353251808013,
          -1.5507576235702554,
          -0.8088935101256465,
          0.1504467045846732,
          -0.04500234018913846,
          0.1872013257608098,
          1.2968594264079611,
          -0.46262401581710516,
          1.0988180711853741,
          -0.4246271861727916,
          -0.8185606053174727,
          1.1197926281004664,
          -0.6119842950529527,
          0.2947456189667926,
          1.45510387111619,
          -0.41001794748550086,
          0.5691942254362433,
          -2.590599150048016,
          -0.18202951374809384,
          -0.8607013036745826,
          -2.2960756072603274,
          1.3167076465878869,
          -0.27251690398117595,
          -0.5566738862995987,
          -0.7152170885868784,
          -0.7028362760612357,
          0.06303033231618457,
          -0.9902208730061545,
          0.019724106704529232,
          -1.5601392302159758,
          1.2645522348952982,
          1.738302222935587,
          -0.24957322851933708,
          -1.0702528843505696,
          -1.2844295150086953,
          -1.2464356433071104,
          2.299329986298235,
          1.1641245992756348,
          0.7015448503931612,
          -1.5291054878331354,
          1.2451125043197098,
          1.2631399169680357,
          2.2103714360060223,
          0.8690317957680921,
          1.7953295321679021,
          -0.22799795098332046,
          1.035496693630142,
          1.74718501686229,
          0.6393512413680975,
          2.732274605758201,
          1.9385695616987788,
          -1.479781136508335,
          2.626893231713913,
          -0.987133970886941,
          1.5030130287038042,
          1.0529794513877166,
          1.2377964378668722,
          1.3964744337563022,
          -0.4050203930043915,
          -0.9982484808587213,
          -1.546883743976747,
          3.1825154078065814,
          -1.5412634785360102,
          0.800140731536108,
          1.626295835384949,
          -3.4389885917616096,
          0.5753938621894701,
          2.2122163894790092,
          2.4836772733523023,
          0.588593894544172,
          -4.121183392702433,
          -1.3940325838598728,
          0.7540240214844243,
          -0.9321725445352367,
          3.028110069143334,
          2.288113163027973,
          -0.4078631192511283,
          1.1182369660441578,
          -1.3045923139922624,
          -1.0114715054304493,
          1.4550998217037556,
          -0.11640318223675931,
          -2.416110659060033,
          -1.9796288927708403,
          0.16213361299954002,
          -0.468287527262571,
          0.5913167294180816,
          -0.3108898220591177,
          -2.520090736976858,
          -0.09431542449179788,
          -0.1378307211658035,
          0.6444051988424145,
          -1.1620644660524426,
          -0.5610637779327752,
          0.2316888902685797,
          -0.5581193468046426,
          0.2153890923015161,
          0.3865471295851902,
          0.9889416595795424,
          0.7515095953074539,
          -0.23329405373395795,
          -1.2297478871028993,
          0.8201643769410971,
          -0.15882043442039218,
          -0.7565388853115707,
          -2.112028615171624,
          1.840536966980794,
          0.5764743024800898,
          -0.691496947799174,
          -0.3157707058674238,
          -0.8810996699177824,
          0.8021470798848596,
          0.19347997695700675,
          -0.42601966535244057,
          -0.5943416563048249,
          1.4291872876100462,
          -0.1640924591100459,
          0.8120993643015324,
          -1.5026498422538648,
          2.5987795097546726,
          0.5293587436794365,
          0.778360832625932,
          0.623813669058094,
          -0.12191949193504689,
          0.2679161610638075,
          0.4237906487477507,
          1.068640816938227,
          1.4026574288018099,
          1.3879816561431075,
          -0.21462188479536487,
          1.5320826718596199,
          -0.6503647631977214,
          1.3022033030346307,
          -1.3393116405859742,
          0.09681015173227746,
          -1.3155880062177105,
          3.2836447682990095,
          2.7994210517958273,
          1.3470804164822872,
          -0.18101845690861407,
          -0.1754369017855196,
          0.6064345226532641,
          2.7776317992507433,
          -1.8230617493286447,
          0.13057729102599233,
          1.231384500869601,
          0.3466045216035886,
          -0.0983293899949604,
          -0.09436777659232745,
          -1.8418970721984367,
          0.5570265612360722,
          0.3387411601865381,
          1.0151455031556156,
          0.7643506416929164,
          0.08291424450270433,
          -0.10603512351487274,
          -0.049998715508898346,
          -0.8471965335775009,
          -0.7625426989529598,
          0.44949717893278457,
          1.1125741175253236,
          0.6084618967296065,
          -1.254127843863856,
          -0.63140351292613,
          1.2962849057650516,
          0.24621207217738186,
          0.05394140392632288,
          1.4956554144984215,
          1.7899910019342062,
          0.4706658161331809,
          0.519657362120605,
          -0.09702344877198694,
          -1.6289827036759483,
          -0.14762103535583282,
          -1.0538483392871971,
          2.575473897310147,
          0.32698270084520786,
          -1.0584835530918624,
          0.28102921468649306,
          1.4795346263809055,
          0.8726252657977528,
          0.019121467791142047,
          0.8287698711128364,
          1.1378368096175697,
          0.2635445790927011,
          2.2707965426279677,
          1.307720619909264,
          0.8185767880870033,
          0.6650768549335058,
          1.7874380723812995,
          2.0664051307236857,
          -0.34639268363053305,
          -0.8577415633782194,
          -0.34664296939333744,
          -1.0922817043651107,
          -1.3118166173906018,
          0.8976326080505255,
          2.5385277673135622,
          -1.1870387717949173,
          2.786982618493672,
          0.2545143723187331,
          0.38936147667519955,
          -1.1071412055199392,
          1.610770507487831,
          -1.1739525088554206,
          -2.0616820132566858,
          -2.8053945963871176,
          -0.883166337168552,
          -2.0633678994235924,
          -1.7987616717190258,
          -0.42073147532698024,
          -0.6148024213290794,
          2.274393449922067,
          0.1859934865096027,
          -0.589859390419155,
          -1.2018199465962724,
          -0.11050871698377085,
          -0.5749320975573814,
          -0.6406026434243642,
          -1.3543005202399974,
          -1.5725660924039015,
          -0.6421207488010818,
          -1.7657936503406642,
          -1.400959628516294,
          -0.5103533356941578,
          0.3136669597306119,
          0.10148720546280662,
          -2.2277616611461637,
          -2.1663989305907436,
          0.9798370766144233,
          1.2933397156417659,
          -0.18737478514681258,
          0.35437199497886857,
          -0.49404574101390536,
          0.4082024146126578,
          0.07545889725107958,
          -0.02009748944254609,
          -0.5232755081075597,
          -1.1151845701111462,
          -0.03524547218808855,
          -1.7256356053318593,
          2.5653555509713533,
          3.785598078144565,
          -0.5196969124319126,
          2.022522949103086,
          -0.32733611209997515,
          0.9020944113643284,
          -0.9310219539819904,
          2.5653555509713533,
          -0.9971014093097121,
          -0.29762929933797205,
          0.3241034095638712,
          -0.3972965827435339,
          -0.29185280304219835,
          1.2589704060075464,
          -1.1152716845022308,
          -0.6068327709989885,
          -0.01960871852509152,
          1.8576890270533746,
          -0.44601320040822745,
          -0.08888667464901628,
          1.2226267391788166,
          1.3180419447934744,
          2.8347796606319866,
          -1.6881739103057376,
          0.8702582499121735,
          -0.6016329590871639,
          -1.6520216682288382,
          -0.6742172913753642,
          -0.16801077379186888,
          0.6829368856864021,
          1.0166141420885224,
          -1.1573513700831812,
          -0.9920311725425537,
          -0.30940759541017737,
          0.2731435477189473,
          0.015838701558657728,
          0.7240235934694058,
          0.8707080592041289,
          0.21601977979558318,
          0.4183086601789267,
          -0.7748456390260197,
          1.6700907754335657,
          0.21471234273482326,
          -1.1733447838065578,
          1.0707460862605078,
          -0.5757347764161688,
          2.791480637215216,
          0.8073484220482446,
          -1.0511858033337018,
          -1.163890600220107,
          -0.9323783000383259,
          1.4338452229528613,
          1.5482517667523994,
          -0.8243053696849093,
          -0.2172776174893349,
          0.7408819707686036,
          0.7766444874755666,
          1.2466074522256285,
          0.7996077501042843,
          0.7098984500909359,
          0.15738238233608853,
          0.8291981600164924,
          0.4115211848400108,
          0.1850701219470116,
          -1.0699889202336423,
          0.5477835991559187,
          1.0667926679701107,
          -0.8775491680441393,
          -0.4112771774398268,
          0.09562702241928404,
          0.07627133581846146,
          -0.41211540420469006,
          1.2651376595429629,
          1.1350518360935897,
          -0.06337771493283832,
          -0.4354620140625741,
          0.7196787549342648,
          -4.402578912524445,
          1.968720868368262,
          0.6555126013851416,
          -0.05604008805531259,
          0.3601484392440354,
          -0.33933105305157224,
          -0.05618864061894902,
          -0.7620360756541406,
          2.276584436476024,
          -0.18097852487374988,
          0.04741030706685194,
          0.9977781862139045,
          -0.10368604875802677,
          0.0847765192555831,
          0.8612425944740142,
          0.7906107892066147,
          2.2221531688980316,
          0.9271137572827839,
          -0.933076573827793,
          -0.8988029806520115,
          -2.313794695898902,
          -1.2620312997889225,
          1.5310948073312352,
          -0.46980024727535497,
          0.8215286852076038,
          0.7262953082237082,
          0.3474608869182152,
          0.1933160140725187,
          1.4030209257013297,
          1.413647275085949,
          1.4846899884981624,
          -0.3107178863439603,
          -0.10512270723039051,
          2.788588196063792,
          0.6942665279067907,
          -1.6221205168196717,
          -1.5358891258969771,
          -5.390230091324019,
          -0.053827145838085094,
          -0.28986654175932275,
          -1.2603822989769298,
          -0.7803224545641408,
          1.5051495770311585,
          0.5803112501175961,
          2.086664936649376,
          -0.1816100174064425,
          -0.6501600677716763,
          2.800508129550583,
          2.010684631814509,
          1.0261929757046153,
          0.8826209995591442,
          1.401886188573255,
          -0.16219622891775787,
          0.2559954609722761,
          0.8691497060902629,
          -1.5011848488732102,
          -0.32005972773275476,
          -1.2944994042026126,
          -0.5456178840144871,
          1.888824320869703,
          -0.5729396178889076,
          -1.490837162666299,
          -2.1898217107727236,
          -0.6979816378653626,
          -0.2390529547481157,
          2.409294352998542,
          0.9257675849876738,
          1.5566745603483803,
          -1.0069374967242797,
          1.0084966732206213,
          0.9323963957092484,
          -1.0527303276752822,
          -1.237306474288758,
          -1.061956511129075,
          -0.5555449222733333,
          0.9788842536594313,
          1.040825929876667,
          -2.8428263971497487,
          0.5180488529611261,
          -1.6905110652741544,
          -0.32628851114170476,
          -2.1300316136128123,
          -1.1278168907275765,
          -1.2815634859617282,
          2.468497036072902,
          1.0838583358054044,
          -3.134978290334297,
          -1.6413306810627157,
          -0.45250278470661304,
          -1.9522743211029687,
          0.48362291075191244,
          -1.4563425687414262,
          -0.1098731438504182,
          0.6158576137099436,
          -0.5868950184257317,
          0.5769079407121157,
          0.9088328834540077,
          0.9740543609654397,
          1.4055402227803473,
          -0.4515041144129983,
          0.8918181728173384,
          0.8975360796648473,
          -0.662199997903762,
          0.9635875557456005,
          -1.22520051692406,
          0.8707039875644657,
          0.8253771930222144,
          1.0561426926150952,
          -0.9405407931339534,
          -1.8287828386842513,
          -1.354012449305035,
          -1.6069800221607187,
          0.346011767746723,
          -0.48224370036170483,
          -1.079742157652025,
          2.049442378801732,
          -0.6863589864441062,
          -1.2312058155561363,
          -0.4408077734631778,
          1.910392882739904,
          0.032705837403535366,
          -0.20996796039133644,
          -0.6289580764774872,
          0.5105359440905783,
          -0.9591936739663632,
          -0.6258817633061429,
          0.0652014234646753,
          -1.782299884598341,
          -0.840575561513407,
          -0.6824369774306157,
          -0.3050667357507051,
          -0.6683855409374183,
          -1.2952094103434557,
          4.826559931350418,
          -0.3360372733285954,
          0.5404265351754709,
          -0.12259444631687272,
          0.40405031095811117,
          -0.43068633033445325,
          -0.24231908854981465,
          -3.7463039154987925,
          0.3903540292108657,
          -0.35595835639309037,
          0.060018862612229516,
          -0.8933600247286182,
          -0.8933600247286182,
          -2.0865163953577066,
          -1.7010795872307385,
          0.2606769403008008,
          1.0922593933929907,
          1.234550675135649,
          -0.48824078778516594,
          0.4524186313225976,
          -0.8399721363552338,
          -1.5610763688475269,
          -0.5750562636036359,
          -0.8381301731828618,
          -2.730925832158358,
          0.7874939756284255,
          0.4911950927440065,
          0.37744873752101427,
          -0.996782744117446,
          1.2010413815187768,
          -1.6818591537753613,
          -1.4601155094272091,
          -1.4601155094272091,
          1.2010413815187768,
          1.0670428479199028,
          -0.45679465998486063,
          -1.2245378851001354,
          0.6475400473459311,
          1.7194337387580414,
          0.47215205017965406,
          0.1351467155885506,
          -0.2806337788637934,
          -0.35412608462657663,
          1.031857393080046,
          1.720845674353053,
          1.3009344093014226,
          0.47899759126323493,
          1.86973489811416,
          -0.5914828614287038,
          -2.0590376645165547,
          0.2675743062137765,
          -0.9853266239471633,
          -0.4604816004754529,
          -0.5391510807840092,
          0.9443175429761808,
          -0.2599530298696156,
          -1.0649853089125993,
          -0.23905742054502518,
          -0.7345811253619405,
          -0.08720400421957995,
          -0.04894204937688833,
          -2.8657596347127194,
          0.6414594616910234,
          0.6520037893508139,
          0.27478687873120494,
          -0.08784013708631265,
          0.6768356895737332,
          0.35920674858526896,
          -1.3101377947307822,
          -0.06956410118681484,
          0.21875627038952897,
          -0.10658644268281123,
          0.32576837086843985,
          -0.2924354141491218,
          0.6336547576565382,
          0.3133456930887125,
          -0.5032505939465274,
          0.537122045632541,
          2.374337714272006,
          0.2790429935717435,
          3.1922750681240486,
          0.08380126477325434,
          -0.3451750248005214,
          0.6167098993104878,
          -1.0792900548148594,
          0.14936143468670035,
          0.4447099327029957,
          -0.5114790901334066,
          2.1785293823189753,
          0.4572206020731491,
          -0.25556123260532776,
          -0.8074208670098916,
          0.9472386308757974,
          -1.2426905814373934,
          -0.3364176185262609,
          1.0736651373184196,
          1.190478221257063,
          0.7623681292410844,
          -0.6732696472195195,
          -0.6440393410699312,
          -0.4569795729109617,
          -0.9355214742832682,
          2.9929437226692412,
          2.7260040104125687,
          0.5718932501658409,
          1.5889260213849863,
          -0.20647348498483037,
          2.50383474895769,
          0.29615014757154834,
          1.0846189796399628,
          -2.202209531135043,
          -1.4404515406505776,
          -1.2821572583643783,
          -1.0392645050027816,
          -0.8359784282430524,
          -0.3047987156006022,
          2.072970576974865,
          -1.858685903553431,
          -1.20494756345331,
          -0.5032153485091937,
          0.3362431205690425,
          2.5649619811228264,
          0.3017574318526974,
          -1.7667927291437817,
          0.823543541008873,
          -0.2255132979823919,
          -2.730925832158358,
          -1.6613392304245802,
          -0.5014512201902226,
          -0.6092820716180193,
          0.8458223801724125,
          -1.977398517839235,
          -1.0538519726242692,
          1.860797620854678,
          -0.3395686494139349,
          -0.917498483470471,
          -0.8125754547368489,
          0.1430170152730158,
          -0.43627379330685806,
          -0.9044991715514366,
          -0.2767892181150558,
          -0.24579307422651028,
          -0.8244011946355031,
          0.9298124473763075,
          -0.5950664354754096,
          0.4412507041863294,
          0.8445197390903204,
          -0.4650701320324816,
          2.1319338498127407,
          2.1319338498127407,
          -0.3313983578893616,
          0.44153230211221317,
          0.07998978375631868,
          -0.3963211426076443,
          2.1319338498127407,
          -0.8155413081291483,
          3.171873475784778,
          -0.5190281872867484,
          -0.04992336453818281,
          -0.5719527809990379,
          1.4382986039502876,
          1.09006696847388,
          1.784362690675147,
          0.10095590734267901,
          -0.6444052078607335,
          -0.6061843984291297,
          0.555088337446726,
          1.5481209530840552,
          -0.7817051706674066,
          -0.6388486423779071,
          -0.1709022340110751,
          -0.3261121819132943,
          2.3012225966724302,
          1.7357442769118523,
          0.0469256316392888,
          1.3344903152923,
          -0.3115125472162552,
          1.540760346052996,
          1.5085799273169225,
          0.8075604130275321,
          -0.4410685895903909,
          1.1461892091104096,
          1.0750781640158062,
          -0.02528769687673634,
          1.0359956773490941,
          0.7940371917879289,
          0.01029807997203112,
          -0.23136664446222274,
          -1.1263578380899044,
          0.3482735683073866,
          0.7188007759804212,
          -1.200668586601679,
          -0.4887491938537948,
          1.0511329441517372,
          0.7337050641208369,
          0.5801340207770178,
          1.7465185489496893,
          1.5845399675575018,
          1.2293627570567156,
          -0.06943785397606683,
          1.3142245990799333,
          0.34668779921771564,
          -0.3224727914058876,
          0.2900924021945477,
          1.2744631039301602,
          1.950146889917617,
          1.2293627570567156,
          -2.374200815105655,
          0.8097924046763026,
          0.32574938288037725,
          -0.11367229774894526,
          0.5239443339764678,
          1.6637469576513093,
          1.74534717478266,
          0.19832259823787046,
          1.7258681710226311,
          1.4745753880275598,
          1.6228113586987172,
          2.1264928384127195,
          0.30837059075439766,
          1.1642030880653815,
          1.1415398106539247,
          -0.02528769687673634,
          -0.6942782995410646,
          0.6062441505324682,
          0.8056575915427343,
          -0.9718696038331143,
          1.1846475025888183,
          0.22260393120987704,
          -1.1380333885721872,
          -0.42294171070277053,
          -0.9603842841299491,
          -1.2655864882816013,
          -1.6743094682762152,
          -0.9592325696676619,
          -2.2082757823500154,
          -0.7614311127461276,
          -0.9283602915772434,
          -1.0003872778034193,
          0.33305942804359623,
          -0.1997866147933721,
          -0.09779050727088567,
          -0.3273231663866192,
          0.32999149224547925,
          -0.1732878731515439,
          -0.21810390747021455,
          2.077877064765504,
          0.02548911291235639,
          -0.9418507803283753,
          -0.4804940299306698,
          -0.4777960559294732,
          -0.5236326235491925,
          -0.9163671842424644,
          -1.2884126387002173,
          0.7256755059981295,
          -0.5361754770471587,
          -0.20004831834695302,
          -1.5613522001109874,
          -0.61421212038373,
          -1.194131190809026,
          -2.1123758191296784,
          -0.7475462109839744,
          -1.086255009417536,
          0.607292177975293,
          -0.3597777472887271,
          -1.5821085055818633,
          -0.13876869479146023,
          -0.00398216353960887,
          -1.772100454225186,
          -0.10800633824616088,
          -1.718455148244298,
          -0.7220600773571368,
          -2.00849813117269,
          3.785598078144565,
          -0.6245323153977064,
          -0.1811411093788341,
          -0.02280029214200389,
          -0.15263025560776433,
          -0.18879500559028287,
          -2.323447975853467,
          -1.6129585756299811,
          -1.925973818653644,
          -1.4099877285403841,
          0.10661860207796933,
          -3.205538486710097,
          0.5323072652927354,
          1.8282937839211082,
          -0.6155007542491481,
          1.312255095015001,
          0.6822192108782613,
          -1.0354897180880462,
          -0.4567652894288661,
          -0.8453131010072403,
          -1.9210975153315757,
          -0.6527180829080158,
          0.024262505451435948,
          -1.1247553043951952,
          0.4014556948454128,
          0.05346625837849266,
          -1.7065805207387768,
          -1.9235702921852256,
          -0.681065857722394,
          1.6164448236652178,
          0.09441690780118833,
          -0.5757347764161688,
          -5.324849710991162,
          -1.807005782716966,
          -0.021224692335780733,
          -0.8179812815431756,
          -1.3805997531516443,
          -0.4252552251575281,
          -1.1523424561828004,
          -0.6194712237286736,
          0.2735411475255186,
          -1.2756162640421782,
          1.777061965927174,
          -0.45488241736513546,
          -0.42176108068622603,
          -0.638431370514771,
          0.3983427053701486,
          -0.18775644327673516,
          1.6973069926470359,
          -1.549598120569178,
          0.19379976247852018,
          0.4813935019603197,
          -0.20512310302811246,
          -1.0982469509351978,
          -1.5081390298152706,
          1.4235176038388102,
          0.8841847068181835,
          0.209329511380737,
          -0.5197990686970078,
          -0.7780011535498254,
          -0.08477339014202832,
          0.714339398301587,
          0.13736835214689694,
          0.7007718477066587,
          -1.0091976515141272,
          -1.0020222624106274,
          -0.7434581785609009,
          -0.7805593020332098,
          -1.3122341658827266,
          1.0170344495471035,
          -0.3040733125345667,
          0.08946315030054423,
          -0.31230681270171623,
          -0.16456801441916,
          -0.20494956985883112,
          -0.07991557811551853,
          -0.48004023356821107,
          1.0418746296709664,
          0.418323762862805,
          -1.0277443701394056,
          -0.6611049658549444,
          -0.6489680497255789,
          -0.385260835491472,
          0.17448410537177705,
          0.5248339009637614,
          -0.4352913993616489,
          1.1609463777718736,
          0.2589852009041756,
          -0.42691453943558416,
          -0.6464046362867756,
          0.4281503175252146,
          0.4327388460338226,
          -0.10281476747520264,
          1.74091988647274,
          0.5389720184815614,
          0.202137558987325,
          0.7995084254451728,
          -2.223335855145662,
          -0.2981841698859294,
          0.41034709323556134,
          -1.183936702847159,
          -1.1071412055199392,
          -1.1559737393615053,
          0.44715157638806885,
          0.7108677100843076,
          -0.48733428196600287,
          0.607859482731234,
          0.14936260868723786,
          -0.5306247834551353,
          -1.4600986525329214,
          2.158879972144935,
          1.4175724059415633,
          2.3234746462337377,
          -0.7264340924704074,
          0.5380051620704815,
          -1.5551401795197868,
          -0.23681909680485905,
          0.4830988146821088,
          -1.6654053221269087,
          -0.771483360804543,
          0.4358784205841089,
          -0.9528768477392698,
          -1.6818591537753613,
          -1.1853532984892723,
          0.03981564058481024,
          0.4276802732664078,
          -1.1439320101672579,
          0.4881200392686812,
          1.066662585650464,
          0.01162612404727727,
          0.5060631780243187,
          1.4863001605179282,
          -1.2844967685177486,
          -0.3713389048807122,
          1.9640017001666545,
          -0.16778180715887314,
          -0.6040355782456622,
          0.2917830774540985,
          -1.4741218575235389,
          -1.1120222115701344,
          0.30596236372108265,
          -0.4379365403909998,
          -0.5672204471636616,
          -1.4898328117949906,
          -0.4367731715365516,
          -0.9923148417845841,
          -0.2090243774305255,
          -1.0654567706274052,
          0.7770097252992118,
          0.33401701714383053,
          0.5252445248516961,
          1.8155609678787505,
          0.5081082583965707,
          -1.7117626410225608,
          0.4959448449737468,
          1.7418772023653082,
          1.4017740558582368,
          0.2819221874301149,
          0.1353671250446782,
          0.07841349962985686,
          0.6245229490939129,
          -0.35942637089814494,
          1.740676276274567,
          1.7810790132391303,
          1.6140113589621876,
          1.682690829544559,
          1.2215784649122436,
          0.9220277790772242,
          1.7617395286963522,
          1.5690767467252917,
          2.7233564576301768,
          -0.47763708031993785,
          2.1233022870016143,
          -1.1063612328204997,
          0.10993501322157898,
          -1.6569223971159355,
          -0.7710263136821053,
          0.6354891072036882,
          -0.9350760961442336,
          -3.154052361357527,
          -1.2137938729879867,
          -0.84389814818391,
          -0.9125375098004533,
          0.23681176346469918,
          1.7845842030479513,
          1.987928065450013,
          1.8873203415832436,
          1.389082085230541,
          0.5250577760428056,
          -0.6949754865209067,
          -1.6187760969086662,
          -1.0019065974555317,
          0.46327213127598,
          -0.16280340377950647,
          0.9104905958323074,
          0.4298723392551117,
          -1.1802309291515354,
          -1.1011781151568325,
          -2.4095640228892607,
          -1.1367904663450688,
          -0.48103855836933773,
          -1.242917765011493,
          0.6135342320569073,
          0.06955499887095208,
          0.8825057082452495,
          5.661064469750129,
          -0.16173252619485562,
          0.5077876996619001,
          0.4014556948454128,
          0.6099267306357667,
          0.7221971732916755,
          -1.148249704227905,
          -0.3069504230571485,
          -0.7545499809956954,
          2.3277517381735158,
          0.24686911448379814,
          2.436830025160063,
          0.3434852089598278,
          0.5893342154021551,
          1.017508286688115,
          0.6428230485845224,
          0.08601275154033158,
          1.3216325337985873,
          1.7160008601508714,
          -0.5715956896217789,
          -0.8386394424269152,
          -0.37632737319680004,
          -0.004324987100124652,
          0.8203433536037075,
          0.9161667510871492,
          -0.1494127167046758,
          0.6042109943935774,
          1.0137097562146584,
          0.13603763028618568,
          0.5283163487891253,
          -0.754992895260779,
          0.166004542553534,
          0.9505098176612292,
          -0.12126743768402173,
          -0.2766010244296386,
          0.28234405241929134,
          -0.650534021633639,
          0.5842145967287778,
          0.559804326679188,
          -0.4591874361420253,
          1.1835659275212278,
          0.7476109366159936,
          0.09042435986383364,
          -1.164191397218854,
          0.5884791515413877,
          -0.9406279038400537,
          0.18524942989997684,
          0.19004799950629886,
          0.8947453894033408,
          1.5051506536341899,
          0.8918238940497769,
          2.913545690631488,
          0.19535040548850907,
          -2.134704275267388,
          -1.0963441427170513,
          -1.0963441427170513,
          -0.17984935525889353,
          -0.8950542673028733,
          0.42475557998044755,
          0.5831053065264443,
          -1.084980509930827,
          -2.8428263971497487,
          -0.9306059402806296,
          -1.2361284238426493,
          -0.9994364223214968,
          -0.8532624380946285,
          -1.205206337878958,
          -3.0064137891182576,
          -0.7091852339985283,
          -1.0871716684012853,
          -0.5411080761057527,
          -2.0616820132566858,
          -1.8606143982219367,
          1.0730684436328808,
          -0.5750562636036359,
          -1.4422160971020876,
          0.1886789586010883,
          -1.3758920059641708,
          -0.5901899611195267,
          0.9140536000059549,
          -2.3552209829195108,
          -1.1982458217628005,
          -1.4354924459885996,
          -2.282372401763113,
          -1.4495411317022127,
          -1.3961646106574388,
          -1.2322459853919887,
          -0.6873446047620487,
          -1.3331003309856098,
          -0.3457065151016609,
          -1.6510206389647364,
          -1.2550499258583427,
          -0.6079438902660642,
          -1.3761751048259712,
          -1.5947288333897762,
          -2.756815146103761,
          -2.0975174481531957,
          -1.7890453009986362,
          0.26938140551560874,
          0.6810389452681571,
          -1.4846548825159867,
          0.7411803149126445,
          1.9235878436744336,
          -3.1653627866074703,
          4.826559931350418,
          -0.08741851902060384,
          -2.0674106916733943,
          -2.9687344407540324,
          0.906465802070677,
          0.7987656364710437,
          -0.5571382455449458,
          -0.2985993159826256,
          -1.1430498587646853,
          0.4817104725042959,
          0.24316610774922595,
          -1.2805711408949874,
          -0.5518033813859774,
          -1.140613241176296,
          -0.6281451448687299,
          -1.865098767014206,
          -0.07153712703738482,
          -1.594756060854448,
          1.4829391941009944,
          -0.030417443991498885,
          1.902544692499397,
          -0.6947868184198254,
          0.14542983433201323,
          -0.7902420934319351,
          -0.49582170715308477,
          0.4233905789931023,
          0.7902407593582275,
          -0.32635118487361386,
          1.1445857085486664,
          0.8799311581112476,
          -0.943943834061546,
          -0.42960764079662767,
          0.6670912404694661,
          2.2933766544371132,
          -0.48544282290059104,
          -0.7261160220215045,
          0.6223149471238159,
          0.16143317928932344,
          0.7770097252992118,
          0.4494073239760205,
          0.2917261998932708,
          -2.8559660325114815,
          -2.8559660325114815,
          0.655923053381953,
          1.406293735881838,
          1.0147877716635734,
          -0.25782567626502206,
          2.161647716158941,
          0.9725077360054141,
          0.5566877659983639,
          -0.1245162295931013,
          0.38684109384886767,
          -2.2742671474040845,
          -0.5032745309280627,
          0.46325743828393223,
          0.24131108774216167,
          0.4347306693747576,
          -0.48608191553884983,
          1.3493684929291612,
          0.5291162113167043,
          1.36888323831357,
          -0.744512082873625,
          -1.487337348536497,
          -1.4723501299578954,
          -0.5094951483576838,
          -0.6626360277993769,
          -1.0397485474220638,
          -0.5147913976645229,
          0.6622361023624537,
          -0.12984942660822246,
          2.5095452655965,
          0.03438825382887604,
          1.6820118145061886,
          -0.22151898410253915,
          -0.41545765369234644,
          1.8643364588341336,
          -0.6931916182715582,
          3.389284322513322,
          1.6888125651475747,
          0.7724804102748105,
          -0.027114204062824016,
          -0.44158173588628935,
          0.8066569243264333,
          1.3009605925765597,
          0.8036905200841323,
          1.455185427801067,
          -0.9668417120819935,
          -1.6011254016144791,
          0.4239634544031929,
          0.9768693414114819,
          1.664326299210449,
          0.6616282733623569,
          -0.07493749940943056,
          -0.053419150523241,
          1.5817331684268623,
          0.25080378322681557,
          1.4150167553021773,
          0.9464624614115388,
          1.7854208091586639,
          -1.8986513450642608,
          1.660281990069679,
          -1.2797034194713324,
          -1.2278698439781446,
          1.5382079251100926,
          -0.9416686159264943,
          0.25954218045523364,
          1.0825135388044314,
          -0.47956502032335663,
          2.5234170447632365,
          0.5799128089869475,
          0.8994140052267782,
          -1.1652508706177418,
          3.5410661345301566,
          -0.615160306456335,
          1.203779723677567,
          -0.19189490558534017,
          3.774095350032428,
          1.4190247050955016,
          0.46052362278154224,
          0.19506465400557838,
          0.8894868952712847,
          3.492340918964337,
          0.5095306889194512,
          2.5580337274539597,
          2.9413296035633705,
          2.9585376283879445,
          0.6664854167602073,
          1.2751122185381962,
          1.0858549905634798,
          -1.0223874893828704,
          -0.4896122311522367,
          -0.8883453305418886,
          -1.0527146426813934,
          -1.5979672130884703,
          2.420543579808561,
          -0.0184098086944628,
          1.3150039075834306,
          0.05034428153885914,
          1.2175238766675414,
          1.451318897447088,
          -0.7764384500968172,
          1.4989831502198456,
          -2.112028615171624,
          -0.8242950319505041,
          -0.7193176773642321,
          -0.5324102979469517,
          -0.7377570441587163,
          -1.7549264883420501,
          -1.1175832891565363,
          -0.8167610018597068,
          -1.4246076648562263,
          1.9210094918522997,
          2.5107890898612357,
          -1.0983810149208886,
          -0.3190782424130782,
          -0.7018982279762417,
          1.1118432949722463,
          -0.43925124042932584,
          0.2240357822135663,
          0.6909457256744242,
          0.13117975779423077,
          0.17250022808780519,
          0.6909457256744242,
          0.8801445212944209,
          -0.17264943240538322,
          -0.9571843923901052,
          -0.34187442727366396,
          1.2354223195199199,
          -0.4772773599784334,
          0.674417509712884,
          -0.4013353354818038,
          0.024502695165668636,
          1.0114888345052575,
          -0.8582289768525563,
          0.9394174796720552,
          0.41812138172327357,
          -0.8914675871467141,
          -1.543030931424463,
          -1.047886453613887,
          -0.5196969124319126,
          2.093378912735368,
          0.040953024526695574,
          0.9543876770247629,
          -1.2613527108263565,
          -1.3497698875032422,
          0.1015521522094888,
          1.1395224978776397,
          -0.6224926824437775,
          -0.2996109399795996,
          -0.038761203351086244,
          -0.33284134816921307,
          2.194871046268543,
          0.3926654752334077,
          -0.7082917138338347,
          0.2902319832740664,
          1.3922680305446158,
          0.6626605141152948,
          0.6693446790274966,
          3.826832140878458,
          1.0358556804491106,
          1.888824320869703,
          0.9430672461585821,
          1.2597163972076542,
          -0.8635581785887442,
          -1.623692972127175,
          -1.2939500198084324,
          -1.6971954084152072,
          1.9663728384182082,
          0.5163649992285014,
          0.5004206553924497,
          0.14092098116822585,
          -1.386496535851082,
          -0.02516930509482894,
          -1.1102871922238353,
          -0.7901974202446439,
          -0.8316780531167179,
          -0.667052655989865,
          1.4554367646834028,
          0.9890710951795659,
          0.9287715899499621,
          -0.5819582864843337,
          3.103331962225941,
          -1.254708459737222,
          -0.5922012386467996,
          0.4435955306112877,
          -1.1720025427993523,
          0.13010784025672398,
          -0.8263097141400582,
          0.5077876996619001,
          0.9391439233166053,
          -0.836120236946265,
          -0.4171044591698222,
          0.7424716521704852,
          0.6133935006749376,
          -0.6458383516302345,
          -1.7510201157210288,
          -0.3198383314567164,
          -1.459640795466038,
          0.3245641073323009,
          -0.43057562980432595,
          -1.1280657628897421,
          -0.46563576744897656,
          1.2702245745656193,
          -0.21965273572097907,
          -0.6328920510936806,
          -0.6988975412606994,
          0.7686819591582692,
          -0.8578855206836885,
          -0.6751035437408789,
          -0.48605547778189573,
          -0.6387093576147171,
          -2.3003554276697593,
          -1.408986963739953,
          0.5329524166170272,
          -0.5503229283988353,
          0.2649669251071376,
          0.16553005113670038,
          -1.729406726271487,
          -1.55773475178462,
          0.7672821803529759,
          1.2004658861734103,
          1.4061401453545939,
          -2.3501932035980517,
          -0.08627299783939876,
          0.8446557092574345,
          -0.6487851809748315,
          -1.7149594650926834,
          0.0013927407355490088,
          -0.6547324029555956,
          -0.6716498259605339,
          -0.23597623740894388,
          0.90641879717299,
          0.8189954933017434,
          -3.965753596410915,
          -0.11703497197782914,
          -2.256751542779663,
          -0.09410452304932444,
          0.38125867172018,
          2.697646336612399,
          0.5131120537669293,
          0.9959213711304596,
          -1.2402689930457111,
          1.5628972442440006,
          -1.0607416100157363,
          -2.256751542779663,
          -0.9567877399978011,
          -1.7290648744164658,
          0.20449305184851516,
          -1.4239004176118466,
          0.24505719072753163,
          -0.25033575125748797,
          -0.0568728029059743,
          -0.06143591839480642,
          0.7385669494015942,
          0.21719128364850063,
          0.7781800659952604,
          -0.6563513629989101,
          0.6651735153459151,
          -0.8660248605849113,
          0.10023142404119258,
          0.4355569975397271,
          -0.204162794448056,
          -0.2306611770102474,
          -0.8316304566337286,
          0.7676614983898069,
          -0.24079201735998507,
          -0.261521588605598,
          -0.41122320695675946,
          -0.8988800994715405,
          0.33369412234070495,
          0.6860578631441866,
          -0.4951214050625933,
          -0.05956019009529996,
          0.12075812107373506,
          0.4444178437987886,
          -0.6616514069680512,
          -1.4117539522982117,
          0.27815757325230583,
          1.2439293597589174,
          -0.2352310758254068,
          -1.2922767646910298,
          0.13248114283798035,
          -0.5926544520710955,
          3.1162867697322647,
          0.23782341079723987,
          -0.6096458997580976,
          -0.6930003232440005,
          -1.132313622158647,
          2.1986968196259054,
          1.1580810480104036,
          1.2457790474239911,
          2.3900983846499244,
          0.2437348166896663,
          1.0924350472163014,
          0.2903542953149221,
          -0.22221128725045897,
          1.8975682273569172,
          0.02128656045971249,
          1.3744385074292989,
          0.01571081049753159,
          1.929084592899793,
          0.19741899494320103,
          2.316189655961485,
          0.8430468316977231,
          0.7314162765751065,
          -0.7154802731599036,
          -2.2004649250143324,
          0.7920409187021252,
          -0.5335446105803934,
          -0.6116306323663977,
          3.603182112776724,
          1.016272321782739,
          2.597830637319541,
          1.0108598689274604,
          1.093851232172893,
          2.2513235929449404,
          1.5770042098068657,
          1.3467527027553352,
          4.185024132169874,
          2.0897495005941056,
          1.0383832443919572,
          2.350845883738036,
          1.25837167213024,
          0.7401609265457816,
          2.160228863385685,
          -1.7852850671989038,
          1.0456398874007062,
          0.028154177287873887,
          -0.9361637998069989,
          -0.5220718237448781,
          3.513969831465884,
          1.1131804574029132,
          2.5375564571759504,
          -0.29017001406721965,
          -0.5300761897294448,
          -0.25693064754724615,
          -0.3142662177413455,
          2.5566765197541947,
          -0.032935202369641495,
          -0.1988579587147526,
          2.4016454281870874,
          1.0351778267918195,
          0.644484987615551,
          0.02830607493314332,
          -2.116290243984476,
          0.002363599937539316,
          0.11962982789439862,
          -2.3475492425405355,
          -0.9201381858244992,
          -0.9743563680480026,
          0.6855028852755773,
          1.1370901144624275,
          0.5578793427893983,
          0.2654487617243392,
          1.4026574288018099,
          -1.1982458217628005,
          -0.45983998099859696,
          0.004144946964962385,
          -0.12385926837783612,
          0.9074993270322155,
          2.966117634830435,
          0.23373058553335366,
          -1.0639389150223282,
          -0.46220981259857036,
          -0.2980526711510956,
          -0.5943153326486948,
          -1.6613392304245802,
          -0.3679066722953546,
          -1.049713460456138,
          -1.349401683239455,
          0.7991499058784404,
          -1.632591314862935,
          1.6707445011481457,
          -0.9660544362186677,
          -0.6556564907066474,
          -2.0606593454143654,
          -0.9655688502559305,
          -0.6386814446471737,
          0.392235977088105,
          -0.8850916940287169,
          -0.37443829851878885,
          -0.8776851115060564,
          1.0174448376284808,
          -1.5475653090428998,
          -0.3476754195333739,
          0.7476935362147732,
          -1.7158149473483104,
          -0.10726619418296307,
          1.137100599423476,
          1.125271489256977,
          -3.3937229407621667,
          2.00800196001427,
          0.34064027018072496,
          -1.9378358956816648,
          -1.6406240108949208,
          0.361137962816495,
          -0.11848794556724257,
          -1.38597759721093,
          -0.8010825313436064,
          -0.6575570841874514,
          -0.8394366975160794,
          -0.5271531372802951,
          -0.6114212774880574,
          1.5845151521137248,
          -0.464376053753592,
          -1.3018832532958398,
          -1.1516668256705387,
          -0.8751633821228629,
          -0.8847666158004633,
          -1.1693233863795705,
          1.7741759054637458,
          -0.08797624049417714,
          0.0031216044997818826,
          -0.21948269271775617,
          -1.4655689988816696,
          -1.5463730166337197,
          0.4032761766150059,
          0.7755578306120947,
          -0.7059657906162865,
          0.550389866529952,
          -1.1182317836598288,
          0.5624036751698472,
          -1.4549911125915869,
          -0.662199997903762,
          -0.46814956413727854,
          -0.4870410138232014,
          0.3301093954190282,
          1.040825929876667,
          1.4738730430602955,
          0.5156531889061454,
          -0.015715671755880407,
          0.6860578631441866,
          1.2872874286237435,
          -1.7328518095993393,
          0.6959769757292263,
          -0.007669339267967005,
          -0.026276856447329966,
          -2.3639641186732727,
          1.1631494108116502,
          -1.9638694381659394,
          0.5622885515036897,
          -1.1870319739345865,
          -1.2154061426403076,
          -1.4566505898126183,
          -2.265914905684875,
          0.17948450776703556,
          0.09855330331148796,
          0.7424716521704852,
          -0.0821938135215956,
          -0.8236358611214706,
          -0.48352969560008985,
          -0.16310794825620198,
          -1.3903335627467297,
          -0.2523900390177835,
          0.4873161663950986,
          -0.4786048260815313,
          -0.3195944017333607,
          -0.42283836051147666,
          0.4615724899439214,
          1.3345949133414945,
          2.135338854279268,
          -1.2603689420633672,
          0.6396464239450931,
          0.7174376136046096,
          2.345272967063736,
          1.3733289406188711,
          -0.5966630580451419,
          -0.8228496570941339,
          -2.4169422454436016,
          0.9336350514741301,
          0.9336350514741301,
          0.2366487328086509,
          1.2386911146487682,
          -0.5418841654097454,
          0.8575279188846305,
          -0.7605992017394526,
          -0.2304010678168755,
          0.5411367955330907,
          1.3618413519709764,
          2.4571862199258616,
          -1.489821630377479,
          -1.0689235689502827,
          -2.0465134097188797,
          -0.9547823761436193,
          0.8758128302585275,
          -0.5020453808359138,
          -0.8450034896699775,
          -1.1505866051408824,
          -1.0162719172752,
          -0.6633142881216207,
          -1.6697928510711908,
          -1.3533738902887809,
          -0.9919352561058719,
          -1.080393402317559,
          -0.6401416299877926,
          -1.3024094498395529,
          -1.5274633223822724,
          -1.8816369915962374,
          -0.6241541934765774,
          -1.1087513872616195,
          -1.0937437785451856,
          -0.5769655569107648,
          1.350116593760213,
          -0.6835707776461971,
          -0.21333495891230794,
          -1.7208881667392983,
          0.6069933473401383,
          -0.948557890908823,
          0.3406380049689816,
          -0.672802487510473,
          0.009588568549990057,
          -0.3318682072964203,
          1.2099337331859235,
          -0.04351653889015219,
          0.47249730841774756,
          0.16670061782509826,
          -0.45983998099859696,
          0.8379678502770379,
          -1.866808391639634,
          0.39134901070350553,
          0.030032344428860856,
          0.3334601091239051,
          -0.41099462855907826,
          -0.7476281108276691,
          -0.5327999702766588,
          1.4165753877023475,
          -0.9778755269931464,
          0.5343302360287062,
          -1.1023076661037063,
          -0.8610990263499416,
          -0.774771198397558,
          -0.14363907758537345,
          -0.9146586648127383,
          -0.9765413938527058,
          -1.7663661393860082,
          -1.130728960818978,
          -0.7087335536763929,
          -0.594738347218476,
          0.0730675537047987,
          -1.515879694964564,
          0.6613108686606771,
          1.1286274880828167,
          -2.058197767187703,
          1.067705210326924,
          -0.3012459235234409,
          0.4257801498878069,
          -0.402639335712662,
          0.29896759070688067,
          1.6285636697961776,
          -0.6663501829263655,
          1.866433468373991,
          2.4203579302843865,
          -1.1092347492996713,
          0.3200841475174357,
          0.03169189012697925,
          1.116077645714543,
          -0.43945652058233337,
          2.0898309796232186,
          -0.7570751399473812,
          -0.7746598120563288,
          -0.3865389189137326,
          0.2570733598340704,
          0.06329890129218443,
          0.3373619817345919,
          0.22643180698531176,
          -1.354610726080657,
          0.8002025039600897,
          -0.8889081107644095,
          -0.7286812887095827,
          1.3078694865346496,
          -0.6114302591907739,
          0.5466667600703211,
          1.823484071908328,
          2.2518211503014935,
          1.532745181088449,
          1.6920378828976903,
          0.7022921431888605,
          1.9109285289174902,
          0.2804484614653254,
          -1.049841788790344,
          3.603182112776724,
          -0.5242582112536085,
          0.7861182653546217,
          2.040327191221805,
          0.16893016132376204,
          -0.08526345403740597,
          -0.011024140739628105,
          -0.7916755386423825,
          -1.214727083640507,
          0.7724463413233453,
          -0.30374574130359283,
          -2.333542719980753,
          -0.3562168495073646,
          0.12430303586946796,
          -1.1706210899866971,
          -2.360627446467739,
          -1.636781917549561,
          -0.5023576395671441,
          -2.730925832158358,
          -1.2423446127955204,
          -0.8386470327706343,
          -1.0079198521398594,
          -0.227618935273926,
          -0.42160553228633413,
          -0.9631389674046107,
          2.4898319782499634,
          0.7343740197596863,
          2.1153640634076174,
          0.13724873880508456,
          1.01252131528964,
          -0.370052915749455,
          -1.781530089631287,
          -1.1887304827614926,
          -0.24042744331689392,
          -0.6167239342012022,
          -0.9734476761826613,
          -0.568890647744473,
          -0.486167220621794,
          1.0076600514519947,
          -0.30150576336683305,
          0.12897294715117788,
          2.5309300185056207,
          0.9337858603263678,
          0.8418091510500225,
          -0.9333434321358256,
          -0.19397496311706594,
          -0.5671126380023017,
          1.5106561492724946,
          0.18074855667507594,
          -1.0463627822229717,
          -0.7333067303892988,
          -1.0246191375816276,
          0.8689648267049012,
          2.413138762792479,
          -1.0475814842246294,
          0.9736919192976657,
          1.721239293474561,
          -1.3429003712914254,
          -0.5792383396463384,
          1.347415742963581,
          1.2378265189856161,
          -0.6277344905438655,
          -0.46693744531297604,
          -0.6195438014522864,
          1.4249282490014104,
          0.9643381077505925,
          0.11165727459267989,
          0.9643381077505925,
          -0.12094841593244934,
          -0.4345154977397182,
          -0.8717228134320297,
          0.1507974647085962,
          0.27797908953691886,
          1.1894891272965953,
          0.13692337593368575,
          2.2951298743783086,
          -1.2426905814373934,
          -0.3485694162350373,
          0.30276431226281103,
          -0.9565041870588205,
          -0.03455778115238042,
          -0.2352821550030325,
          -0.2877116065230731,
          0.33490144838208785,
          -0.5519801147930524,
          -1.6671675160620296,
          0.3483655714328135,
          -0.6829322826912647,
          0.10279951612119849,
          -1.9959511402427093,
          0.26851184677195383,
          1.9946169248668233,
          1.848306082259273,
          1.0554925588676245,
          0.21879040449048173,
          -0.13570197581660778,
          0.9851968861900019,
          1.0680519747125814,
          -0.9423944222871251,
          -1.326736589554594,
          0.23792831775974035,
          1.0906730354380931,
          0.8260360840052865,
          -0.1146172395106158,
          1.8404077114195656,
          1.0823540919940724,
          -0.8687738626484469,
          -0.5914828614287038,
          -0.8089063660175059,
          0.617044954914741,
          -0.035800722938186876,
          1.5913428281037125,
          1.3560670015995693,
          -1.6287481707392595,
          -1.2933490428322207,
          -0.6763485851962386,
          1.1830106693009685,
          0.6030493268732684,
          0.3823904837157759,
          3.0241485166453006,
          1.4320445004928843,
          0.3422829734150217,
          -1.4187000715910474,
          1.6814999864821392,
          2.7994210517958273,
          -0.045492387639222434,
          0.4657414169487377,
          1.4198239456029433,
          0.5888953615807223,
          1.044438693320434,
          0.5964434905315039,
          0.08844995393029544,
          -0.045492387639222434,
          0.8977977758332214,
          -0.16885058170458164,
          0.5983088128366482,
          0.666744174813956,
          0.11485247399156,
          -2.576925205301683,
          0.23909640755806028,
          2.2487561906623967,
          2.538734024943246,
          -0.05632591154783204,
          0.5964434905315039,
          1.9783020811682754,
          1.3560670015995693,
          2.9160689759183804,
          -0.6225797561996652,
          0.25594206718460344,
          -0.29072442076003746,
          0.3757386950204447,
          1.555630945672216,
          0.45063092760922574,
          0.7757854374142316,
          0.0743194198726391,
          -1.3080925230982432,
          -1.3524345982935735,
          0.29360917681999776,
          3.309915508156946,
          -0.5551636406866747,
          0.5675987166081063,
          2.6461398776378897,
          0.03399799833089977,
          0.6786040056615541,
          0.14923360423841225,
          -0.4559136008402387,
          2.9465579423623605,
          1.9486015356312565,
          0.6937156146030242,
          -0.6479161411275287,
          -0.16832643560406624,
          0.9206331889506512,
          -0.45076135107728216,
          -1.6238548107932478,
          -1.7149594650926834,
          0.8246937348674264,
          -0.6046810983191567,
          0.9951455987502066,
          -0.4943961431689741,
          -0.19789301436615503,
          -0.1776336120395279,
          -0.08113594162833242,
          -3.5919281845082573,
          0.01519289863717745,
          0.418323762862805,
          -1.3430396251065226,
          -1.1533387805480804,
          -1.5144988077562611,
          -1.5909581557697066,
          -2.345699961945221,
          0.5187929455099811,
          -2.00688784311654,
          -1.56107447858875,
          0.4027243215517697,
          0.3885717411713836,
          2.47119076193706,
          -0.21414035832918013,
          3.0020429581390826,
          2.4311389903409264,
          2.882281167231524,
          0.9642980521378586,
          0.00799528737618357,
          -1.4448575644382053,
          -0.2155865258574751,
          -1.0494337432873835,
          -0.1688143132993548,
          -0.7392065333258849,
          2.1790993577352396,
          -1.0820263567320576,
          -0.5618613817516014,
          0.05919103367562565,
          -1.0420534653157871,
          0.12324047273321447,
          -0.06624184533439097,
          -1.563289476917088,
          -0.20455517338153043,
          -0.2825690317516747,
          -1.7373472894249395,
          -1.046587089328853,
          0.5718932501658409,
          0.03184445897223589,
          -0.012659131268621495,
          1.0406554362647793,
          2.0807189773265082,
          -2.2215790057935045,
          -1.2942306228088374,
          -0.923267197308515,
          1.664850022650485,
          -2.2517164433175356,
          2.2279199793837776,
          -1.4934305722339856,
          0.06759763053874035,
          -0.42200852490748525,
          -1.622499456596277,
          -0.8568498421627433,
          -1.7156119083516985,
          -0.4018140005258524,
          -1.9183111465675253,
          -1.0284176661154851,
          0.5662509076481909,
          -1.9360921290485094,
          -1.3661970267771621,
          -0.4790532667477223,
          1.5323961175618501,
          0.6372584903149908,
          1.3733798976383909,
          -0.5126351469976395,
          -0.47065776417615274,
          0.0005851604650558287,
          0.8136001906911928,
          0.38997026358277415,
          -0.3954610481119675,
          -1.5825523645928827,
          -0.9178690058179511,
          -0.3820309089909224,
          0.15708317010829786,
          -0.980660431436618,
          1.2573912397734035,
          0.563158211333385,
          1.1114556668423168,
          0.19309430754008078,
          -3.0573576367230824,
          -2.7964050900954374,
          0.44419319813298985,
          -0.5425621727635143,
          -0.8201583062849644,
          0.3751431940363834,
          -1.0223780840942394,
          -0.6070712876472291,
          -0.9624492068779574,
          -2.02374713560147,
          -0.08741851902060384,
          -0.20462864179538767,
          -0.08910926007141595,
          -2.059162839252315,
          -1.1745357862551762,
          -0.6346088648189893,
          -0.5491745735455956,
          0.5095716897531223,
          0.8065406104992443,
          0.7411803149126445,
          -0.855882162906126,
          -0.3657681542279316,
          -0.5309994855824142,
          -0.5213994519208949,
          -0.8095689157079917,
          1.1265825463110501,
          -0.20982947444075278,
          -1.1323946066926882,
          0.22119401719295204,
          -1.1950493627964531,
          1.4025390812695409,
          -0.5757347764161688,
          -0.726486910637439,
          -0.7415878471844202,
          0.06951336384573335,
          -0.20446565868521013,
          -0.018790314063139364,
          0.03139289071179088,
          0.3506700562360762,
          -1.112895632869605,
          1.8195868927959138,
          1.8713013951568793,
          1.9181525956534948,
          -1.7186688480437664,
          0.8757893106119162,
          0.17563027053701374,
          -0.6929183840508938,
          -0.2872600209762617,
          0.2080940661331731,
          1.7764954026041335,
          -0.40857318509327284,
          0.029405535122963417,
          0.3028902959496639,
          0.9923583707665781,
          0.43377995483685916,
          -1.3564329550862637,
          0.5863758368736283,
          2.9239327364249355,
          1.0230580147774815,
          0.8397768146241364,
          2.5716091789550584,
          -0.39274683629951285,
          0.31036458933882644,
          1.2122221199360665,
          -0.9105271986614444,
          -0.4231354934946343,
          -1.5022933704705304,
          -0.395811403854004,
          0.11057980583580482,
          -1.1364627595215078,
          0.9890710951795659,
          1.6893322614019712,
          0.9299479085907862,
          -0.45259687761377637,
          -0.7448746955627203,
          1.8574219818393174,
          0.31621132843280814,
          -3.5919281845082573,
          -2.7715699519860677,
          -1.0936649608603832,
          -0.8987367758535391,
          -0.7144851932041166,
          0.08471793830475394,
          3.4023252585367234,
          0.5915376393811431,
          0.19594602619168347,
          0.035965084981219496,
          -0.7572787491134725,
          0.48004216049067827,
          0.5277834265150199,
          -0.07029951988053597,
          -2.6459203144839694,
          -1.398374351634161,
          -1.7875077633778909,
          0.8485646204971761,
          1.2059329792106628,
          -1.7241610708089148,
          -0.472156236178934,
          -0.8206980878304464,
          -0.9083842640904402,
          -0.7454847813329041,
          -0.7426614340923878,
          -0.5761116798393038,
          1.2630604906993135,
          -0.9648409921390932,
          0.19368622313439882,
          0.9996039142658506,
          1.1575246422378063,
          -1.0936649608603832,
          -1.0936649608603832,
          3.0241485166453006,
          1.5817331684268625,
          1.64525827617145,
          -2.4045788380748374,
          -2.457424990644713,
          -0.5475715725911351,
          -1.309837370956774,
          -2.012652192581362,
          -2.4620510303808496,
          0.48391822240133225,
          -1.4091483830778604,
          -1.5557878439244361,
          -1.7104659017896575,
          -0.14939377576964938,
          -2.002703398075286,
          -2.2204584178167086,
          -0.9119564427723764,
          -2.220903123314177,
          -1.7536558307851107,
          -1.3764437205042692,
          -2.539680899330997,
          -1.9288195091233993,
          0.4586528028759585,
          -0.7370750659682068,
          -1.4238717798777556,
          0.31313785015723156,
          0.03164626132905576,
          -0.9437787672942007,
          0.4220331476734194,
          -0.19189119093840634,
          -0.5211679048184907,
          1.8836076923570386,
          1.2546259176505108,
          -1.7980071100359765,
          1.6046581333958085,
          0.530824400776374,
          -1.467705069239336,
          -0.07553356999426454,
          -0.937130006178035,
          0.9744129361419308,
          1.0808327860734241,
          -1.349883894052111,
          -2.6382976097380926,
          1.1075741810946937,
          -1.1968544636420668,
          -0.04985157001773331,
          -1.336858623691952,
          3.3802062358742107,
          -0.9362765548657913,
          -0.8512302225203654,
          0.8312994793303612,
          1.147415931777524,
          0.8692814620397314,
          -0.06373150398819726,
          -0.45242591189057324,
          -1.0487895677819883,
          -0.9786629053950855,
          -1.1203219593181069,
          -0.600901821381093,
          0.4186241486931193,
          -0.3053760309640838,
          0.18024535423151347,
          -0.08741851902060384,
          -2.14469150460047,
          0.861442034614355,
          0.13071407897492132,
          -0.2277504589672805,
          1.109391917455326,
          0.5061696894655054,
          2.511450929046462,
          -0.3562583850385018,
          0.26395567276692444,
          0.27161526261914465,
          -0.3396231129337284,
          0.8138121170061813,
          1.645211439989891,
          1.2386818562700996,
          0.8050649466533386,
          0.5777097466141751,
          -0.7454513238920504,
          0.7691464789300273,
          -0.2300995333427976,
          -1.162522550315382,
          1.0967477999866961,
          -0.776287862465596,
          -0.5844671710446089,
          -0.6061979063641814,
          -1.4869471807666181,
          1.7503448743454828,
          -0.615160306456335,
          -1.6531344263407717,
          0.7427151707507369,
          -0.7054157806980511,
          -0.03251912330296376,
          -2.341444922488865,
          1.8408479769371717,
          0.4150643762265145,
          -0.5229064046857319,
          -0.01712586072171462,
          -1.3049828462456516,
          -1.0897255704646893,
          -3.6952327527777595,
          -1.390708546476351
         ],
         "yaxis": "y"
        }
       ],
       "layout": {
        "coloraxis": {
         "colorbar": {
          "title": {
           "text": "cluster_pca"
          }
         },
         "colorscale": [
          [
           0,
           "#0d0887"
          ],
          [
           0.1111111111111111,
           "#46039f"
          ],
          [
           0.2222222222222222,
           "#7201a8"
          ],
          [
           0.3333333333333333,
           "#9c179e"
          ],
          [
           0.4444444444444444,
           "#bd3786"
          ],
          [
           0.5555555555555556,
           "#d8576b"
          ],
          [
           0.6666666666666666,
           "#ed7953"
          ],
          [
           0.7777777777777778,
           "#fb9f3a"
          ],
          [
           0.8888888888888888,
           "#fdca26"
          ],
          [
           1,
           "#f0f921"
          ]
         ]
        },
        "legend": {
         "tracegroupgap": 0
        },
        "margin": {
         "t": 60
        },
        "template": {
         "data": {
          "bar": [
           {
            "error_x": {
             "color": "#2a3f5f"
            },
            "error_y": {
             "color": "#2a3f5f"
            },
            "marker": {
             "line": {
              "color": "#E5ECF6",
              "width": 0.5
             },
             "pattern": {
              "fillmode": "overlay",
              "size": 10,
              "solidity": 0.2
             }
            },
            "type": "bar"
           }
          ],
          "barpolar": [
           {
            "marker": {
             "line": {
              "color": "#E5ECF6",
              "width": 0.5
             },
             "pattern": {
              "fillmode": "overlay",
              "size": 10,
              "solidity": 0.2
             }
            },
            "type": "barpolar"
           }
          ],
          "carpet": [
           {
            "aaxis": {
             "endlinecolor": "#2a3f5f",
             "gridcolor": "white",
             "linecolor": "white",
             "minorgridcolor": "white",
             "startlinecolor": "#2a3f5f"
            },
            "baxis": {
             "endlinecolor": "#2a3f5f",
             "gridcolor": "white",
             "linecolor": "white",
             "minorgridcolor": "white",
             "startlinecolor": "#2a3f5f"
            },
            "type": "carpet"
           }
          ],
          "choropleth": [
           {
            "colorbar": {
             "outlinewidth": 0,
             "ticks": ""
            },
            "type": "choropleth"
           }
          ],
          "contour": [
           {
            "colorbar": {
             "outlinewidth": 0,
             "ticks": ""
            },
            "colorscale": [
             [
              0,
              "#0d0887"
             ],
             [
              0.1111111111111111,
              "#46039f"
             ],
             [
              0.2222222222222222,
              "#7201a8"
             ],
             [
              0.3333333333333333,
              "#9c179e"
             ],
             [
              0.4444444444444444,
              "#bd3786"
             ],
             [
              0.5555555555555556,
              "#d8576b"
             ],
             [
              0.6666666666666666,
              "#ed7953"
             ],
             [
              0.7777777777777778,
              "#fb9f3a"
             ],
             [
              0.8888888888888888,
              "#fdca26"
             ],
             [
              1,
              "#f0f921"
             ]
            ],
            "type": "contour"
           }
          ],
          "contourcarpet": [
           {
            "colorbar": {
             "outlinewidth": 0,
             "ticks": ""
            },
            "type": "contourcarpet"
           }
          ],
          "heatmap": [
           {
            "colorbar": {
             "outlinewidth": 0,
             "ticks": ""
            },
            "colorscale": [
             [
              0,
              "#0d0887"
             ],
             [
              0.1111111111111111,
              "#46039f"
             ],
             [
              0.2222222222222222,
              "#7201a8"
             ],
             [
              0.3333333333333333,
              "#9c179e"
             ],
             [
              0.4444444444444444,
              "#bd3786"
             ],
             [
              0.5555555555555556,
              "#d8576b"
             ],
             [
              0.6666666666666666,
              "#ed7953"
             ],
             [
              0.7777777777777778,
              "#fb9f3a"
             ],
             [
              0.8888888888888888,
              "#fdca26"
             ],
             [
              1,
              "#f0f921"
             ]
            ],
            "type": "heatmap"
           }
          ],
          "heatmapgl": [
           {
            "colorbar": {
             "outlinewidth": 0,
             "ticks": ""
            },
            "colorscale": [
             [
              0,
              "#0d0887"
             ],
             [
              0.1111111111111111,
              "#46039f"
             ],
             [
              0.2222222222222222,
              "#7201a8"
             ],
             [
              0.3333333333333333,
              "#9c179e"
             ],
             [
              0.4444444444444444,
              "#bd3786"
             ],
             [
              0.5555555555555556,
              "#d8576b"
             ],
             [
              0.6666666666666666,
              "#ed7953"
             ],
             [
              0.7777777777777778,
              "#fb9f3a"
             ],
             [
              0.8888888888888888,
              "#fdca26"
             ],
             [
              1,
              "#f0f921"
             ]
            ],
            "type": "heatmapgl"
           }
          ],
          "histogram": [
           {
            "marker": {
             "pattern": {
              "fillmode": "overlay",
              "size": 10,
              "solidity": 0.2
             }
            },
            "type": "histogram"
           }
          ],
          "histogram2d": [
           {
            "colorbar": {
             "outlinewidth": 0,
             "ticks": ""
            },
            "colorscale": [
             [
              0,
              "#0d0887"
             ],
             [
              0.1111111111111111,
              "#46039f"
             ],
             [
              0.2222222222222222,
              "#7201a8"
             ],
             [
              0.3333333333333333,
              "#9c179e"
             ],
             [
              0.4444444444444444,
              "#bd3786"
             ],
             [
              0.5555555555555556,
              "#d8576b"
             ],
             [
              0.6666666666666666,
              "#ed7953"
             ],
             [
              0.7777777777777778,
              "#fb9f3a"
             ],
             [
              0.8888888888888888,
              "#fdca26"
             ],
             [
              1,
              "#f0f921"
             ]
            ],
            "type": "histogram2d"
           }
          ],
          "histogram2dcontour": [
           {
            "colorbar": {
             "outlinewidth": 0,
             "ticks": ""
            },
            "colorscale": [
             [
              0,
              "#0d0887"
             ],
             [
              0.1111111111111111,
              "#46039f"
             ],
             [
              0.2222222222222222,
              "#7201a8"
             ],
             [
              0.3333333333333333,
              "#9c179e"
             ],
             [
              0.4444444444444444,
              "#bd3786"
             ],
             [
              0.5555555555555556,
              "#d8576b"
             ],
             [
              0.6666666666666666,
              "#ed7953"
             ],
             [
              0.7777777777777778,
              "#fb9f3a"
             ],
             [
              0.8888888888888888,
              "#fdca26"
             ],
             [
              1,
              "#f0f921"
             ]
            ],
            "type": "histogram2dcontour"
           }
          ],
          "mesh3d": [
           {
            "colorbar": {
             "outlinewidth": 0,
             "ticks": ""
            },
            "type": "mesh3d"
           }
          ],
          "parcoords": [
           {
            "line": {
             "colorbar": {
              "outlinewidth": 0,
              "ticks": ""
             }
            },
            "type": "parcoords"
           }
          ],
          "pie": [
           {
            "automargin": true,
            "type": "pie"
           }
          ],
          "scatter": [
           {
            "fillpattern": {
             "fillmode": "overlay",
             "size": 10,
             "solidity": 0.2
            },
            "type": "scatter"
           }
          ],
          "scatter3d": [
           {
            "line": {
             "colorbar": {
              "outlinewidth": 0,
              "ticks": ""
             }
            },
            "marker": {
             "colorbar": {
              "outlinewidth": 0,
              "ticks": ""
             }
            },
            "type": "scatter3d"
           }
          ],
          "scattercarpet": [
           {
            "marker": {
             "colorbar": {
              "outlinewidth": 0,
              "ticks": ""
             }
            },
            "type": "scattercarpet"
           }
          ],
          "scattergeo": [
           {
            "marker": {
             "colorbar": {
              "outlinewidth": 0,
              "ticks": ""
             }
            },
            "type": "scattergeo"
           }
          ],
          "scattergl": [
           {
            "marker": {
             "colorbar": {
              "outlinewidth": 0,
              "ticks": ""
             }
            },
            "type": "scattergl"
           }
          ],
          "scattermapbox": [
           {
            "marker": {
             "colorbar": {
              "outlinewidth": 0,
              "ticks": ""
             }
            },
            "type": "scattermapbox"
           }
          ],
          "scatterpolar": [
           {
            "marker": {
             "colorbar": {
              "outlinewidth": 0,
              "ticks": ""
             }
            },
            "type": "scatterpolar"
           }
          ],
          "scatterpolargl": [
           {
            "marker": {
             "colorbar": {
              "outlinewidth": 0,
              "ticks": ""
             }
            },
            "type": "scatterpolargl"
           }
          ],
          "scatterternary": [
           {
            "marker": {
             "colorbar": {
              "outlinewidth": 0,
              "ticks": ""
             }
            },
            "type": "scatterternary"
           }
          ],
          "surface": [
           {
            "colorbar": {
             "outlinewidth": 0,
             "ticks": ""
            },
            "colorscale": [
             [
              0,
              "#0d0887"
             ],
             [
              0.1111111111111111,
              "#46039f"
             ],
             [
              0.2222222222222222,
              "#7201a8"
             ],
             [
              0.3333333333333333,
              "#9c179e"
             ],
             [
              0.4444444444444444,
              "#bd3786"
             ],
             [
              0.5555555555555556,
              "#d8576b"
             ],
             [
              0.6666666666666666,
              "#ed7953"
             ],
             [
              0.7777777777777778,
              "#fb9f3a"
             ],
             [
              0.8888888888888888,
              "#fdca26"
             ],
             [
              1,
              "#f0f921"
             ]
            ],
            "type": "surface"
           }
          ],
          "table": [
           {
            "cells": {
             "fill": {
              "color": "#EBF0F8"
             },
             "line": {
              "color": "white"
             }
            },
            "header": {
             "fill": {
              "color": "#C8D4E3"
             },
             "line": {
              "color": "white"
             }
            },
            "type": "table"
           }
          ]
         },
         "layout": {
          "annotationdefaults": {
           "arrowcolor": "#2a3f5f",
           "arrowhead": 0,
           "arrowwidth": 1
          },
          "autotypenumbers": "strict",
          "coloraxis": {
           "colorbar": {
            "outlinewidth": 0,
            "ticks": ""
           }
          },
          "colorscale": {
           "diverging": [
            [
             0,
             "#8e0152"
            ],
            [
             0.1,
             "#c51b7d"
            ],
            [
             0.2,
             "#de77ae"
            ],
            [
             0.3,
             "#f1b6da"
            ],
            [
             0.4,
             "#fde0ef"
            ],
            [
             0.5,
             "#f7f7f7"
            ],
            [
             0.6,
             "#e6f5d0"
            ],
            [
             0.7,
             "#b8e186"
            ],
            [
             0.8,
             "#7fbc41"
            ],
            [
             0.9,
             "#4d9221"
            ],
            [
             1,
             "#276419"
            ]
           ],
           "sequential": [
            [
             0,
             "#0d0887"
            ],
            [
             0.1111111111111111,
             "#46039f"
            ],
            [
             0.2222222222222222,
             "#7201a8"
            ],
            [
             0.3333333333333333,
             "#9c179e"
            ],
            [
             0.4444444444444444,
             "#bd3786"
            ],
            [
             0.5555555555555556,
             "#d8576b"
            ],
            [
             0.6666666666666666,
             "#ed7953"
            ],
            [
             0.7777777777777778,
             "#fb9f3a"
            ],
            [
             0.8888888888888888,
             "#fdca26"
            ],
            [
             1,
             "#f0f921"
            ]
           ],
           "sequentialminus": [
            [
             0,
             "#0d0887"
            ],
            [
             0.1111111111111111,
             "#46039f"
            ],
            [
             0.2222222222222222,
             "#7201a8"
            ],
            [
             0.3333333333333333,
             "#9c179e"
            ],
            [
             0.4444444444444444,
             "#bd3786"
            ],
            [
             0.5555555555555556,
             "#d8576b"
            ],
            [
             0.6666666666666666,
             "#ed7953"
            ],
            [
             0.7777777777777778,
             "#fb9f3a"
            ],
            [
             0.8888888888888888,
             "#fdca26"
            ],
            [
             1,
             "#f0f921"
            ]
           ]
          },
          "colorway": [
           "#636efa",
           "#EF553B",
           "#00cc96",
           "#ab63fa",
           "#FFA15A",
           "#19d3f3",
           "#FF6692",
           "#B6E880",
           "#FF97FF",
           "#FECB52"
          ],
          "font": {
           "color": "#2a3f5f"
          },
          "geo": {
           "bgcolor": "white",
           "lakecolor": "white",
           "landcolor": "#E5ECF6",
           "showlakes": true,
           "showland": true,
           "subunitcolor": "white"
          },
          "hoverlabel": {
           "align": "left"
          },
          "hovermode": "closest",
          "mapbox": {
           "style": "light"
          },
          "paper_bgcolor": "white",
          "plot_bgcolor": "#E5ECF6",
          "polar": {
           "angularaxis": {
            "gridcolor": "white",
            "linecolor": "white",
            "ticks": ""
           },
           "bgcolor": "#E5ECF6",
           "radialaxis": {
            "gridcolor": "white",
            "linecolor": "white",
            "ticks": ""
           }
          },
          "scene": {
           "xaxis": {
            "backgroundcolor": "#E5ECF6",
            "gridcolor": "white",
            "gridwidth": 2,
            "linecolor": "white",
            "showbackground": true,
            "ticks": "",
            "zerolinecolor": "white"
           },
           "yaxis": {
            "backgroundcolor": "#E5ECF6",
            "gridcolor": "white",
            "gridwidth": 2,
            "linecolor": "white",
            "showbackground": true,
            "ticks": "",
            "zerolinecolor": "white"
           },
           "zaxis": {
            "backgroundcolor": "#E5ECF6",
            "gridcolor": "white",
            "gridwidth": 2,
            "linecolor": "white",
            "showbackground": true,
            "ticks": "",
            "zerolinecolor": "white"
           }
          },
          "shapedefaults": {
           "line": {
            "color": "#2a3f5f"
           }
          },
          "ternary": {
           "aaxis": {
            "gridcolor": "white",
            "linecolor": "white",
            "ticks": ""
           },
           "baxis": {
            "gridcolor": "white",
            "linecolor": "white",
            "ticks": ""
           },
           "bgcolor": "#E5ECF6",
           "caxis": {
            "gridcolor": "white",
            "linecolor": "white",
            "ticks": ""
           }
          },
          "title": {
           "x": 0.05
          },
          "xaxis": {
           "automargin": true,
           "gridcolor": "white",
           "linecolor": "white",
           "ticks": "",
           "title": {
            "standoff": 15
           },
           "zerolinecolor": "white",
           "zerolinewidth": 2
          },
          "yaxis": {
           "automargin": true,
           "gridcolor": "white",
           "linecolor": "white",
           "ticks": "",
           "title": {
            "standoff": 15
           },
           "zerolinecolor": "white",
           "zerolinewidth": 2
          }
         }
        },
        "xaxis": {
         "anchor": "y",
         "domain": [
          0,
          1
         ],
         "title": {
          "text": "x"
         }
        },
        "yaxis": {
         "anchor": "x",
         "domain": [
          0,
          1
         ],
         "title": {
          "text": "y"
         }
        }
       }
      }
     },
     "metadata": {},
     "output_type": "display_data"
    }
   ],
   "source": [
    "fig = px.scatter(projection, x='x', y='y', color='cluster_pca', hover_data=['x', 'y', 'genres'])\n",
    "fig.show()"
   ]
  },
  {
   "cell_type": "code",
   "execution_count": 44,
   "metadata": {},
   "outputs": [
    {
     "data": {
      "text/plain": [
       "0.4927066994726645"
      ]
     },
     "execution_count": 44,
     "metadata": {},
     "output_type": "execute_result"
    }
   ],
   "source": [
    "pca_pipeline[1].explained_variance_ratio_.sum()"
   ]
  },
  {
   "cell_type": "code",
   "execution_count": 45,
   "metadata": {},
   "outputs": [
    {
     "data": {
      "text/plain": [
       "array([3.84976644, 1.57183087])"
      ]
     },
     "execution_count": 45,
     "metadata": {},
     "output_type": "execute_result"
    }
   ],
   "source": [
    "pca_pipeline[1].explained_variance_"
   ]
  },
  {
   "cell_type": "markdown",
   "metadata": {},
   "source": [
    "# Realizando clusterização por música"
   ]
  },
  {
   "cell_type": "code",
   "execution_count": 46,
   "metadata": {},
   "outputs": [
    {
     "data": {
      "text/html": [
       "<div>\n",
       "<style scoped>\n",
       "    .dataframe tbody tr th:only-of-type {\n",
       "        vertical-align: middle;\n",
       "    }\n",
       "\n",
       "    .dataframe tbody tr th {\n",
       "        vertical-align: top;\n",
       "    }\n",
       "\n",
       "    .dataframe thead th {\n",
       "        text-align: right;\n",
       "    }\n",
       "</style>\n",
       "<table border=\"1\" class=\"dataframe\">\n",
       "  <thead>\n",
       "    <tr style=\"text-align: right;\">\n",
       "      <th></th>\n",
       "      <th>valence</th>\n",
       "      <th>year</th>\n",
       "      <th>acousticness</th>\n",
       "      <th>artists</th>\n",
       "      <th>danceability</th>\n",
       "      <th>duration_ms</th>\n",
       "      <th>energy</th>\n",
       "      <th>id</th>\n",
       "      <th>instrumentalness</th>\n",
       "      <th>liveness</th>\n",
       "      <th>loudness</th>\n",
       "      <th>name</th>\n",
       "      <th>popularity</th>\n",
       "      <th>speechiness</th>\n",
       "      <th>tempo</th>\n",
       "      <th>artists_song</th>\n",
       "    </tr>\n",
       "  </thead>\n",
       "  <tbody>\n",
       "    <tr>\n",
       "      <th>0</th>\n",
       "      <td>0.285</td>\n",
       "      <td>2000</td>\n",
       "      <td>0.00239</td>\n",
       "      <td>Coldplay</td>\n",
       "      <td>0.429</td>\n",
       "      <td>266773</td>\n",
       "      <td>0.661</td>\n",
       "      <td>3AJwUDP919kvQ9QcozQPxg</td>\n",
       "      <td>0.000121</td>\n",
       "      <td>0.2340</td>\n",
       "      <td>-7.227</td>\n",
       "      <td>Yellow</td>\n",
       "      <td>84</td>\n",
       "      <td>0.0281</td>\n",
       "      <td>173.372</td>\n",
       "      <td>Coldplay - Yellow</td>\n",
       "    </tr>\n",
       "    <tr>\n",
       "      <th>1</th>\n",
       "      <td>0.613</td>\n",
       "      <td>2000</td>\n",
       "      <td>0.14300</td>\n",
       "      <td>OutKast</td>\n",
       "      <td>0.843</td>\n",
       "      <td>270507</td>\n",
       "      <td>0.806</td>\n",
       "      <td>0I3q5fE6wg7LIfHGngUTnV</td>\n",
       "      <td>0.000000</td>\n",
       "      <td>0.0771</td>\n",
       "      <td>-5.946</td>\n",
       "      <td>Ms. Jackson</td>\n",
       "      <td>80</td>\n",
       "      <td>0.2690</td>\n",
       "      <td>94.948</td>\n",
       "      <td>OutKast - Ms. Jackson</td>\n",
       "    </tr>\n",
       "    <tr>\n",
       "      <th>2</th>\n",
       "      <td>0.400</td>\n",
       "      <td>2000</td>\n",
       "      <td>0.00958</td>\n",
       "      <td>Linkin Park</td>\n",
       "      <td>0.556</td>\n",
       "      <td>216880</td>\n",
       "      <td>0.864</td>\n",
       "      <td>60a0Rd6pjrkxjPbaKzXjfq</td>\n",
       "      <td>0.000000</td>\n",
       "      <td>0.2090</td>\n",
       "      <td>-5.870</td>\n",
       "      <td>In the End</td>\n",
       "      <td>84</td>\n",
       "      <td>0.0584</td>\n",
       "      <td>105.143</td>\n",
       "      <td>Linkin Park - In the End</td>\n",
       "    </tr>\n",
       "    <tr>\n",
       "      <th>3</th>\n",
       "      <td>0.543</td>\n",
       "      <td>2000</td>\n",
       "      <td>0.00664</td>\n",
       "      <td>3 Doors Down</td>\n",
       "      <td>0.545</td>\n",
       "      <td>233933</td>\n",
       "      <td>0.865</td>\n",
       "      <td>6ZOBP3NvffbU4SZcrnt1k6</td>\n",
       "      <td>0.000011</td>\n",
       "      <td>0.1680</td>\n",
       "      <td>-5.708</td>\n",
       "      <td>Kryptonite</td>\n",
       "      <td>78</td>\n",
       "      <td>0.0286</td>\n",
       "      <td>99.009</td>\n",
       "      <td>3 Doors Down - Kryptonite</td>\n",
       "    </tr>\n",
       "    <tr>\n",
       "      <th>4</th>\n",
       "      <td>0.760</td>\n",
       "      <td>2000</td>\n",
       "      <td>0.03020</td>\n",
       "      <td>Eminem</td>\n",
       "      <td>0.949</td>\n",
       "      <td>284200</td>\n",
       "      <td>0.661</td>\n",
       "      <td>3yfqSUWxFvZELEM4PmlwIR</td>\n",
       "      <td>0.000000</td>\n",
       "      <td>0.0454</td>\n",
       "      <td>-4.244</td>\n",
       "      <td>The Real Slim Shady</td>\n",
       "      <td>80</td>\n",
       "      <td>0.0572</td>\n",
       "      <td>104.504</td>\n",
       "      <td>Eminem - The Real Slim Shady</td>\n",
       "    </tr>\n",
       "  </tbody>\n",
       "</table>\n",
       "</div>"
      ],
      "text/plain": [
       "   valence  year  acousticness       artists  danceability  duration_ms  \\\n",
       "0    0.285  2000       0.00239      Coldplay         0.429       266773   \n",
       "1    0.613  2000       0.14300       OutKast         0.843       270507   \n",
       "2    0.400  2000       0.00958   Linkin Park         0.556       216880   \n",
       "3    0.543  2000       0.00664  3 Doors Down         0.545       233933   \n",
       "4    0.760  2000       0.03020        Eminem         0.949       284200   \n",
       "\n",
       "   energy                      id  instrumentalness  liveness  loudness  \\\n",
       "0   0.661  3AJwUDP919kvQ9QcozQPxg          0.000121    0.2340    -7.227   \n",
       "1   0.806  0I3q5fE6wg7LIfHGngUTnV          0.000000    0.0771    -5.946   \n",
       "2   0.864  60a0Rd6pjrkxjPbaKzXjfq          0.000000    0.2090    -5.870   \n",
       "3   0.865  6ZOBP3NvffbU4SZcrnt1k6          0.000011    0.1680    -5.708   \n",
       "4   0.661  3yfqSUWxFvZELEM4PmlwIR          0.000000    0.0454    -4.244   \n",
       "\n",
       "                  name  popularity  speechiness    tempo  \\\n",
       "0               Yellow          84       0.0281  173.372   \n",
       "1          Ms. Jackson          80       0.2690   94.948   \n",
       "2           In the End          84       0.0584  105.143   \n",
       "3           Kryptonite          78       0.0286   99.009   \n",
       "4  The Real Slim Shady          80       0.0572  104.504   \n",
       "\n",
       "                   artists_song  \n",
       "0             Coldplay - Yellow  \n",
       "1         OutKast - Ms. Jackson  \n",
       "2      Linkin Park - In the End  \n",
       "3     3 Doors Down - Kryptonite  \n",
       "4  Eminem - The Real Slim Shady  "
      ]
     },
     "execution_count": 46,
     "metadata": {},
     "output_type": "execute_result"
    }
   ],
   "source": [
    "dados.head()"
   ]
  },
  {
   "cell_type": "code",
   "execution_count": 47,
   "metadata": {},
   "outputs": [
    {
     "data": {
      "text/html": [
       "<div>\n",
       "<style scoped>\n",
       "    .dataframe tbody tr th:only-of-type {\n",
       "        vertical-align: middle;\n",
       "    }\n",
       "\n",
       "    .dataframe tbody tr th {\n",
       "        vertical-align: top;\n",
       "    }\n",
       "\n",
       "    .dataframe thead th {\n",
       "        text-align: right;\n",
       "    }\n",
       "</style>\n",
       "<table border=\"1\" class=\"dataframe\">\n",
       "  <thead>\n",
       "    <tr style=\"text-align: right;\">\n",
       "      <th></th>\n",
       "      <th>valence</th>\n",
       "      <th>year</th>\n",
       "      <th>acousticness</th>\n",
       "      <th>danceability</th>\n",
       "      <th>duration_ms</th>\n",
       "      <th>energy</th>\n",
       "      <th>id</th>\n",
       "      <th>instrumentalness</th>\n",
       "      <th>liveness</th>\n",
       "      <th>loudness</th>\n",
       "      <th>...</th>\n",
       "      <th>artists_Zara Larsson</th>\n",
       "      <th>artists_Zedd</th>\n",
       "      <th>artists_alt-J</th>\n",
       "      <th>artists_blackbear</th>\n",
       "      <th>artists_blink-182</th>\n",
       "      <th>artists_deadmau5</th>\n",
       "      <th>artists_for KING &amp; COUNTRY</th>\n",
       "      <th>artists_fun.</th>\n",
       "      <th>artists_girl in red</th>\n",
       "      <th>artists_iann dior</th>\n",
       "    </tr>\n",
       "  </thead>\n",
       "  <tbody>\n",
       "    <tr>\n",
       "      <th>0</th>\n",
       "      <td>0.285</td>\n",
       "      <td>2000</td>\n",
       "      <td>0.00239</td>\n",
       "      <td>0.429</td>\n",
       "      <td>266773</td>\n",
       "      <td>0.661</td>\n",
       "      <td>3AJwUDP919kvQ9QcozQPxg</td>\n",
       "      <td>0.000121</td>\n",
       "      <td>0.2340</td>\n",
       "      <td>-7.227</td>\n",
       "      <td>...</td>\n",
       "      <td>0</td>\n",
       "      <td>0</td>\n",
       "      <td>0</td>\n",
       "      <td>0</td>\n",
       "      <td>0</td>\n",
       "      <td>0</td>\n",
       "      <td>0</td>\n",
       "      <td>0</td>\n",
       "      <td>0</td>\n",
       "      <td>0</td>\n",
       "    </tr>\n",
       "    <tr>\n",
       "      <th>1</th>\n",
       "      <td>0.613</td>\n",
       "      <td>2000</td>\n",
       "      <td>0.14300</td>\n",
       "      <td>0.843</td>\n",
       "      <td>270507</td>\n",
       "      <td>0.806</td>\n",
       "      <td>0I3q5fE6wg7LIfHGngUTnV</td>\n",
       "      <td>0.000000</td>\n",
       "      <td>0.0771</td>\n",
       "      <td>-5.946</td>\n",
       "      <td>...</td>\n",
       "      <td>0</td>\n",
       "      <td>0</td>\n",
       "      <td>0</td>\n",
       "      <td>0</td>\n",
       "      <td>0</td>\n",
       "      <td>0</td>\n",
       "      <td>0</td>\n",
       "      <td>0</td>\n",
       "      <td>0</td>\n",
       "      <td>0</td>\n",
       "    </tr>\n",
       "    <tr>\n",
       "      <th>2</th>\n",
       "      <td>0.400</td>\n",
       "      <td>2000</td>\n",
       "      <td>0.00958</td>\n",
       "      <td>0.556</td>\n",
       "      <td>216880</td>\n",
       "      <td>0.864</td>\n",
       "      <td>60a0Rd6pjrkxjPbaKzXjfq</td>\n",
       "      <td>0.000000</td>\n",
       "      <td>0.2090</td>\n",
       "      <td>-5.870</td>\n",
       "      <td>...</td>\n",
       "      <td>0</td>\n",
       "      <td>0</td>\n",
       "      <td>0</td>\n",
       "      <td>0</td>\n",
       "      <td>0</td>\n",
       "      <td>0</td>\n",
       "      <td>0</td>\n",
       "      <td>0</td>\n",
       "      <td>0</td>\n",
       "      <td>0</td>\n",
       "    </tr>\n",
       "    <tr>\n",
       "      <th>3</th>\n",
       "      <td>0.543</td>\n",
       "      <td>2000</td>\n",
       "      <td>0.00664</td>\n",
       "      <td>0.545</td>\n",
       "      <td>233933</td>\n",
       "      <td>0.865</td>\n",
       "      <td>6ZOBP3NvffbU4SZcrnt1k6</td>\n",
       "      <td>0.000011</td>\n",
       "      <td>0.1680</td>\n",
       "      <td>-5.708</td>\n",
       "      <td>...</td>\n",
       "      <td>0</td>\n",
       "      <td>0</td>\n",
       "      <td>0</td>\n",
       "      <td>0</td>\n",
       "      <td>0</td>\n",
       "      <td>0</td>\n",
       "      <td>0</td>\n",
       "      <td>0</td>\n",
       "      <td>0</td>\n",
       "      <td>0</td>\n",
       "    </tr>\n",
       "    <tr>\n",
       "      <th>4</th>\n",
       "      <td>0.760</td>\n",
       "      <td>2000</td>\n",
       "      <td>0.03020</td>\n",
       "      <td>0.949</td>\n",
       "      <td>284200</td>\n",
       "      <td>0.661</td>\n",
       "      <td>3yfqSUWxFvZELEM4PmlwIR</td>\n",
       "      <td>0.000000</td>\n",
       "      <td>0.0454</td>\n",
       "      <td>-4.244</td>\n",
       "      <td>...</td>\n",
       "      <td>0</td>\n",
       "      <td>0</td>\n",
       "      <td>0</td>\n",
       "      <td>0</td>\n",
       "      <td>0</td>\n",
       "      <td>0</td>\n",
       "      <td>0</td>\n",
       "      <td>0</td>\n",
       "      <td>0</td>\n",
       "      <td>0</td>\n",
       "    </tr>\n",
       "    <tr>\n",
       "      <th>...</th>\n",
       "      <td>...</td>\n",
       "      <td>...</td>\n",
       "      <td>...</td>\n",
       "      <td>...</td>\n",
       "      <td>...</td>\n",
       "      <td>...</td>\n",
       "      <td>...</td>\n",
       "      <td>...</td>\n",
       "      <td>...</td>\n",
       "      <td>...</td>\n",
       "      <td>...</td>\n",
       "      <td>...</td>\n",
       "      <td>...</td>\n",
       "      <td>...</td>\n",
       "      <td>...</td>\n",
       "      <td>...</td>\n",
       "      <td>...</td>\n",
       "      <td>...</td>\n",
       "      <td>...</td>\n",
       "      <td>...</td>\n",
       "      <td>...</td>\n",
       "    </tr>\n",
       "    <tr>\n",
       "      <th>20306</th>\n",
       "      <td>0.187</td>\n",
       "      <td>2020</td>\n",
       "      <td>0.57400</td>\n",
       "      <td>0.445</td>\n",
       "      <td>176250</td>\n",
       "      <td>0.330</td>\n",
       "      <td>0PUkanqCGTb6qseXPKOw1F</td>\n",
       "      <td>0.000000</td>\n",
       "      <td>0.1020</td>\n",
       "      <td>-8.121</td>\n",
       "      <td>...</td>\n",
       "      <td>0</td>\n",
       "      <td>0</td>\n",
       "      <td>0</td>\n",
       "      <td>0</td>\n",
       "      <td>0</td>\n",
       "      <td>0</td>\n",
       "      <td>0</td>\n",
       "      <td>0</td>\n",
       "      <td>0</td>\n",
       "      <td>0</td>\n",
       "    </tr>\n",
       "    <tr>\n",
       "      <th>20307</th>\n",
       "      <td>0.240</td>\n",
       "      <td>2020</td>\n",
       "      <td>0.81500</td>\n",
       "      <td>0.467</td>\n",
       "      <td>179188</td>\n",
       "      <td>0.429</td>\n",
       "      <td>6Iw6fQVKZi0fWtEQBrTFcP</td>\n",
       "      <td>0.000052</td>\n",
       "      <td>0.1770</td>\n",
       "      <td>-8.689</td>\n",
       "      <td>...</td>\n",
       "      <td>0</td>\n",
       "      <td>0</td>\n",
       "      <td>0</td>\n",
       "      <td>0</td>\n",
       "      <td>0</td>\n",
       "      <td>0</td>\n",
       "      <td>0</td>\n",
       "      <td>0</td>\n",
       "      <td>0</td>\n",
       "      <td>0</td>\n",
       "    </tr>\n",
       "    <tr>\n",
       "      <th>20308</th>\n",
       "      <td>0.466</td>\n",
       "      <td>2020</td>\n",
       "      <td>0.31000</td>\n",
       "      <td>0.562</td>\n",
       "      <td>253613</td>\n",
       "      <td>0.686</td>\n",
       "      <td>308prODCCD0O660tIktbUi</td>\n",
       "      <td>0.022500</td>\n",
       "      <td>0.1250</td>\n",
       "      <td>-8.480</td>\n",
       "      <td>...</td>\n",
       "      <td>0</td>\n",
       "      <td>0</td>\n",
       "      <td>0</td>\n",
       "      <td>0</td>\n",
       "      <td>0</td>\n",
       "      <td>0</td>\n",
       "      <td>0</td>\n",
       "      <td>0</td>\n",
       "      <td>0</td>\n",
       "      <td>0</td>\n",
       "    </tr>\n",
       "    <tr>\n",
       "      <th>20309</th>\n",
       "      <td>0.522</td>\n",
       "      <td>2020</td>\n",
       "      <td>0.20400</td>\n",
       "      <td>0.598</td>\n",
       "      <td>230600</td>\n",
       "      <td>0.472</td>\n",
       "      <td>2f8y4CuG57UJEmkG3ujd0D</td>\n",
       "      <td>0.000015</td>\n",
       "      <td>0.1080</td>\n",
       "      <td>-10.991</td>\n",
       "      <td>...</td>\n",
       "      <td>0</td>\n",
       "      <td>0</td>\n",
       "      <td>0</td>\n",
       "      <td>0</td>\n",
       "      <td>0</td>\n",
       "      <td>0</td>\n",
       "      <td>0</td>\n",
       "      <td>0</td>\n",
       "      <td>0</td>\n",
       "      <td>0</td>\n",
       "    </tr>\n",
       "    <tr>\n",
       "      <th>20310</th>\n",
       "      <td>0.195</td>\n",
       "      <td>2020</td>\n",
       "      <td>0.00998</td>\n",
       "      <td>0.671</td>\n",
       "      <td>337147</td>\n",
       "      <td>0.623</td>\n",
       "      <td>5SiZJoLXp3WOl3J4C8IK0d</td>\n",
       "      <td>0.000008</td>\n",
       "      <td>0.6430</td>\n",
       "      <td>-7.161</td>\n",
       "      <td>...</td>\n",
       "      <td>0</td>\n",
       "      <td>0</td>\n",
       "      <td>0</td>\n",
       "      <td>0</td>\n",
       "      <td>0</td>\n",
       "      <td>0</td>\n",
       "      <td>0</td>\n",
       "      <td>0</td>\n",
       "      <td>0</td>\n",
       "      <td>0</td>\n",
       "    </tr>\n",
       "  </tbody>\n",
       "</table>\n",
       "<p>20311 rows × 890 columns</p>\n",
       "</div>"
      ],
      "text/plain": [
       "       valence  year  acousticness  danceability  duration_ms  energy  \\\n",
       "0        0.285  2000       0.00239         0.429       266773   0.661   \n",
       "1        0.613  2000       0.14300         0.843       270507   0.806   \n",
       "2        0.400  2000       0.00958         0.556       216880   0.864   \n",
       "3        0.543  2000       0.00664         0.545       233933   0.865   \n",
       "4        0.760  2000       0.03020         0.949       284200   0.661   \n",
       "...        ...   ...           ...           ...          ...     ...   \n",
       "20306    0.187  2020       0.57400         0.445       176250   0.330   \n",
       "20307    0.240  2020       0.81500         0.467       179188   0.429   \n",
       "20308    0.466  2020       0.31000         0.562       253613   0.686   \n",
       "20309    0.522  2020       0.20400         0.598       230600   0.472   \n",
       "20310    0.195  2020       0.00998         0.671       337147   0.623   \n",
       "\n",
       "                           id  instrumentalness  liveness  loudness  ...  \\\n",
       "0      3AJwUDP919kvQ9QcozQPxg          0.000121    0.2340    -7.227  ...   \n",
       "1      0I3q5fE6wg7LIfHGngUTnV          0.000000    0.0771    -5.946  ...   \n",
       "2      60a0Rd6pjrkxjPbaKzXjfq          0.000000    0.2090    -5.870  ...   \n",
       "3      6ZOBP3NvffbU4SZcrnt1k6          0.000011    0.1680    -5.708  ...   \n",
       "4      3yfqSUWxFvZELEM4PmlwIR          0.000000    0.0454    -4.244  ...   \n",
       "...                       ...               ...       ...       ...  ...   \n",
       "20306  0PUkanqCGTb6qseXPKOw1F          0.000000    0.1020    -8.121  ...   \n",
       "20307  6Iw6fQVKZi0fWtEQBrTFcP          0.000052    0.1770    -8.689  ...   \n",
       "20308  308prODCCD0O660tIktbUi          0.022500    0.1250    -8.480  ...   \n",
       "20309  2f8y4CuG57UJEmkG3ujd0D          0.000015    0.1080   -10.991  ...   \n",
       "20310  5SiZJoLXp3WOl3J4C8IK0d          0.000008    0.6430    -7.161  ...   \n",
       "\n",
       "      artists_Zara Larsson  artists_Zedd  artists_alt-J  artists_blackbear  \\\n",
       "0                        0             0              0                  0   \n",
       "1                        0             0              0                  0   \n",
       "2                        0             0              0                  0   \n",
       "3                        0             0              0                  0   \n",
       "4                        0             0              0                  0   \n",
       "...                    ...           ...            ...                ...   \n",
       "20306                    0             0              0                  0   \n",
       "20307                    0             0              0                  0   \n",
       "20308                    0             0              0                  0   \n",
       "20309                    0             0              0                  0   \n",
       "20310                    0             0              0                  0   \n",
       "\n",
       "      artists_blink-182  artists_deadmau5  artists_for KING & COUNTRY  \\\n",
       "0                     0                 0                           0   \n",
       "1                     0                 0                           0   \n",
       "2                     0                 0                           0   \n",
       "3                     0                 0                           0   \n",
       "4                     0                 0                           0   \n",
       "...                 ...               ...                         ...   \n",
       "20306                 0                 0                           0   \n",
       "20307                 0                 0                           0   \n",
       "20308                 0                 0                           0   \n",
       "20309                 0                 0                           0   \n",
       "20310                 0                 0                           0   \n",
       "\n",
       "       artists_fun.  artists_girl in red  artists_iann dior  \n",
       "0                 0                    0                  0  \n",
       "1                 0                    0                  0  \n",
       "2                 0                    0                  0  \n",
       "3                 0                    0                  0  \n",
       "4                 0                    0                  0  \n",
       "...             ...                  ...                ...  \n",
       "20306             0                    0                  0  \n",
       "20307             0                    0                  0  \n",
       "20308             0                    0                  0  \n",
       "20309             0                    0                  0  \n",
       "20310             0                    0                  0  \n",
       "\n",
       "[20311 rows x 890 columns]"
      ]
     },
     "execution_count": 47,
     "metadata": {},
     "output_type": "execute_result"
    }
   ],
   "source": [
    "from sklearn.preprocessing import OneHotEncoder\n",
    "\n",
    "ohe = OneHotEncoder(dtype=int)\n",
    "colunas_ohe = ohe.fit_transform(dados[['artists']]).toarray()\n",
    "dados2 = dados.drop('artists', axis=1)\n",
    "\n",
    "\n",
    "dados_musicas_dummies = pd.concat([dados2, pd.DataFrame(colunas_ohe, columns=ohe.get_feature_names_out(['artists']))], axis=1)\n",
    "dados_musicas_dummies"
   ]
  },
  {
   "cell_type": "code",
   "execution_count": 49,
   "metadata": {},
   "outputs": [],
   "source": [
    "pca_pipeline = Pipeline([('scaler', StandardScaler()), ('PCA', PCA(n_components=0.7, random_state=1224))])\n",
    "\n",
    "music_embedding_pca = pca_pipeline.fit_transform(dados_musicas_dummies.drop(['id', 'name', 'artists_song'], axis=1))\n",
    "projection_m = pd.DataFrame(data=music_embedding_pca)"
   ]
  },
  {
   "cell_type": "code",
   "execution_count": null,
   "metadata": {},
   "outputs": [],
   "source": []
  }
 ],
 "metadata": {
  "kernelspec": {
   "display_name": "Python 3.10.6 64-bit",
   "language": "python",
   "name": "python3"
  },
  "language_info": {
   "codemirror_mode": {
    "name": "ipython",
    "version": 3
   },
   "file_extension": ".py",
   "mimetype": "text/x-python",
   "name": "python",
   "nbconvert_exporter": "python",
   "pygments_lexer": "ipython3",
   "version": "3.10.6"
  },
  "orig_nbformat": 4,
  "vscode": {
   "interpreter": {
    "hash": "916dbcbb3f70747c44a77c7bcd40155683ae19c65e1c03b4aa3499c5328201f1"
   }
  }
 },
 "nbformat": 4,
 "nbformat_minor": 2
}
